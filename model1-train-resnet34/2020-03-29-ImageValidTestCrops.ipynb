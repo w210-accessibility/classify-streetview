{
 "cells": [
  {
   "cell_type": "markdown",
   "metadata": {},
   "source": [
    "# Copy \"Smart Crop Images\" into Train\n",
    "\n",
    "Based on the Train Assignment\n",
    "\n",
    "Adaptation of `2020-03-28-TestResults.ipynb` notebook"
   ]
  },
  {
   "cell_type": "code",
   "execution_count": 19,
   "metadata": {},
   "outputs": [],
   "source": [
    "import numpy as np\n",
    "import pandas as pd\n",
    "import os\n",
    "import s3fs\n",
    "import boto3\n",
    "import json\n",
    "from datetime import datetime\n",
    "import shutil"
   ]
  },
  {
   "cell_type": "code",
   "execution_count": 9,
   "metadata": {},
   "outputs": [],
   "source": [
    "pd.set_option('max_colwidth', -1)"
   ]
  },
  {
   "cell_type": "markdown",
   "metadata": {},
   "source": [
    "# Read Train Reference"
   ]
  },
  {
   "cell_type": "code",
   "execution_count": 5,
   "metadata": {},
   "outputs": [
    {
     "data": {
      "text/html": [
       "<div>\n",
       "<style scoped>\n",
       "    .dataframe tbody tr th:only-of-type {\n",
       "        vertical-align: middle;\n",
       "    }\n",
       "\n",
       "    .dataframe tbody tr th {\n",
       "        vertical-align: top;\n",
       "    }\n",
       "\n",
       "    .dataframe thead th {\n",
       "        text-align: right;\n",
       "    }\n",
       "</style>\n",
       "<table border=\"1\" class=\"dataframe\">\n",
       "  <thead>\n",
       "    <tr style=\"text-align: right;\">\n",
       "      <th></th>\n",
       "      <th>image_name</th>\n",
       "      <th>img_id</th>\n",
       "      <th>ground_truth</th>\n",
       "      <th>is_valid_set</th>\n",
       "    </tr>\n",
       "  </thead>\n",
       "  <tbody>\n",
       "    <tr>\n",
       "      <th>0</th>\n",
       "      <td>8475_135_1.jpg</td>\n",
       "      <td>8475</td>\n",
       "      <td>1_null</td>\n",
       "      <td>True</td>\n",
       "    </tr>\n",
       "    <tr>\n",
       "      <th>1</th>\n",
       "      <td>8475_135_2.jpg</td>\n",
       "      <td>8475</td>\n",
       "      <td>2_obstacle</td>\n",
       "      <td>True</td>\n",
       "    </tr>\n",
       "    <tr>\n",
       "      <th>2</th>\n",
       "      <td>8475_135_3.jpg</td>\n",
       "      <td>8475</td>\n",
       "      <td>1_null</td>\n",
       "      <td>True</td>\n",
       "    </tr>\n",
       "    <tr>\n",
       "      <th>3</th>\n",
       "      <td>8475_135_5.jpg</td>\n",
       "      <td>8475</td>\n",
       "      <td>2_obstacle</td>\n",
       "      <td>True</td>\n",
       "    </tr>\n",
       "    <tr>\n",
       "      <th>4</th>\n",
       "      <td>8475_135_6.jpg</td>\n",
       "      <td>8475</td>\n",
       "      <td>2_obstacle</td>\n",
       "      <td>True</td>\n",
       "    </tr>\n",
       "  </tbody>\n",
       "</table>\n",
       "</div>"
      ],
      "text/plain": [
       "       image_name  img_id ground_truth  is_valid_set\n",
       "0  8475_135_1.jpg    8475       1_null          True\n",
       "1  8475_135_2.jpg    8475   2_obstacle          True\n",
       "2  8475_135_3.jpg    8475       1_null          True\n",
       "3  8475_135_5.jpg    8475   2_obstacle          True\n",
       "4  8475_135_6.jpg    8475   2_obstacle          True"
      ]
     },
     "execution_count": 5,
     "metadata": {},
     "output_type": "execute_result"
    }
   ],
   "source": [
    "SAGEMAKER_REPO_PATH = r'/home/ec2-user/SageMaker/classify-streetview'\n",
    "df_val_test = pd.read_csv(os.path.join(SAGEMAKER_REPO_PATH, 'label-crops/validation_test_final.csv'))\n",
    "df_val_test.head()"
   ]
  },
  {
   "cell_type": "code",
   "execution_count": 14,
   "metadata": {},
   "outputs": [
    {
     "data": {
      "text/plain": [
       "test     958\n",
       "valid    942\n",
       "Name: split_folder, dtype: int64"
      ]
     },
     "execution_count": 14,
     "metadata": {},
     "output_type": "execute_result"
    }
   ],
   "source": [
    "df_val_test['split_folder'] = np.where(df_val_test['is_valid_set'], 'valid', 'test')\n",
    "df_val_test['split_folder'].value_counts()"
   ]
  },
  {
   "cell_type": "markdown",
   "metadata": {},
   "source": [
    "## Create columns for the existing JPG Names and New Names"
   ]
  },
  {
   "cell_type": "code",
   "execution_count": 15,
   "metadata": {},
   "outputs": [
    {
     "data": {
      "text/html": [
       "<div>\n",
       "<style scoped>\n",
       "    .dataframe tbody tr th:only-of-type {\n",
       "        vertical-align: middle;\n",
       "    }\n",
       "\n",
       "    .dataframe tbody tr th {\n",
       "        vertical-align: top;\n",
       "    }\n",
       "\n",
       "    .dataframe thead th {\n",
       "        text-align: right;\n",
       "    }\n",
       "</style>\n",
       "<table border=\"1\" class=\"dataframe\">\n",
       "  <thead>\n",
       "    <tr style=\"text-align: right;\">\n",
       "      <th></th>\n",
       "      <th>image_name</th>\n",
       "      <th>img_id</th>\n",
       "      <th>ground_truth</th>\n",
       "      <th>is_valid_set</th>\n",
       "      <th>original_image_path</th>\n",
       "      <th>new_image_path</th>\n",
       "      <th>split_folder</th>\n",
       "    </tr>\n",
       "  </thead>\n",
       "  <tbody>\n",
       "    <tr>\n",
       "      <th>0</th>\n",
       "      <td>8475_135_1.jpg</td>\n",
       "      <td>8475</td>\n",
       "      <td>1_null</td>\n",
       "      <td>True</td>\n",
       "      <td>/home/ec2-user/SageMaker/classify-streetview/all-original-test/8475_135_1.jpg</td>\n",
       "      <td>/home/ec2-user/SageMaker/classify-streetview/images/valid/1_null/8475_135_1.jpg</td>\n",
       "      <td>valid</td>\n",
       "    </tr>\n",
       "    <tr>\n",
       "      <th>1</th>\n",
       "      <td>8475_135_2.jpg</td>\n",
       "      <td>8475</td>\n",
       "      <td>2_obstacle</td>\n",
       "      <td>True</td>\n",
       "      <td>/home/ec2-user/SageMaker/classify-streetview/all-original-test/8475_135_2.jpg</td>\n",
       "      <td>/home/ec2-user/SageMaker/classify-streetview/images/valid/2_obstacle/8475_135_2.jpg</td>\n",
       "      <td>valid</td>\n",
       "    </tr>\n",
       "    <tr>\n",
       "      <th>2</th>\n",
       "      <td>8475_135_3.jpg</td>\n",
       "      <td>8475</td>\n",
       "      <td>1_null</td>\n",
       "      <td>True</td>\n",
       "      <td>/home/ec2-user/SageMaker/classify-streetview/all-original-test/8475_135_3.jpg</td>\n",
       "      <td>/home/ec2-user/SageMaker/classify-streetview/images/valid/1_null/8475_135_3.jpg</td>\n",
       "      <td>valid</td>\n",
       "    </tr>\n",
       "    <tr>\n",
       "      <th>3</th>\n",
       "      <td>8475_135_5.jpg</td>\n",
       "      <td>8475</td>\n",
       "      <td>2_obstacle</td>\n",
       "      <td>True</td>\n",
       "      <td>/home/ec2-user/SageMaker/classify-streetview/all-original-test/8475_135_5.jpg</td>\n",
       "      <td>/home/ec2-user/SageMaker/classify-streetview/images/valid/2_obstacle/8475_135_5.jpg</td>\n",
       "      <td>valid</td>\n",
       "    </tr>\n",
       "    <tr>\n",
       "      <th>4</th>\n",
       "      <td>8475_135_6.jpg</td>\n",
       "      <td>8475</td>\n",
       "      <td>2_obstacle</td>\n",
       "      <td>True</td>\n",
       "      <td>/home/ec2-user/SageMaker/classify-streetview/all-original-test/8475_135_6.jpg</td>\n",
       "      <td>/home/ec2-user/SageMaker/classify-streetview/images/valid/2_obstacle/8475_135_6.jpg</td>\n",
       "      <td>valid</td>\n",
       "    </tr>\n",
       "  </tbody>\n",
       "</table>\n",
       "</div>"
      ],
      "text/plain": [
       "       image_name  img_id ground_truth  is_valid_set  \\\n",
       "0  8475_135_1.jpg  8475    1_null       True           \n",
       "1  8475_135_2.jpg  8475    2_obstacle   True           \n",
       "2  8475_135_3.jpg  8475    1_null       True           \n",
       "3  8475_135_5.jpg  8475    2_obstacle   True           \n",
       "4  8475_135_6.jpg  8475    2_obstacle   True           \n",
       "\n",
       "                                                             original_image_path  \\\n",
       "0  /home/ec2-user/SageMaker/classify-streetview/all-original-test/8475_135_1.jpg   \n",
       "1  /home/ec2-user/SageMaker/classify-streetview/all-original-test/8475_135_2.jpg   \n",
       "2  /home/ec2-user/SageMaker/classify-streetview/all-original-test/8475_135_3.jpg   \n",
       "3  /home/ec2-user/SageMaker/classify-streetview/all-original-test/8475_135_5.jpg   \n",
       "4  /home/ec2-user/SageMaker/classify-streetview/all-original-test/8475_135_6.jpg   \n",
       "\n",
       "                                                                        new_image_path  \\\n",
       "0  /home/ec2-user/SageMaker/classify-streetview/images/valid/1_null/8475_135_1.jpg       \n",
       "1  /home/ec2-user/SageMaker/classify-streetview/images/valid/2_obstacle/8475_135_2.jpg   \n",
       "2  /home/ec2-user/SageMaker/classify-streetview/images/valid/1_null/8475_135_3.jpg       \n",
       "3  /home/ec2-user/SageMaker/classify-streetview/images/valid/2_obstacle/8475_135_5.jpg   \n",
       "4  /home/ec2-user/SageMaker/classify-streetview/images/valid/2_obstacle/8475_135_6.jpg   \n",
       "\n",
       "  split_folder  \n",
       "0  valid        \n",
       "1  valid        \n",
       "2  valid        \n",
       "3  valid        \n",
       "4  valid        "
      ]
     },
     "execution_count": 15,
     "metadata": {},
     "output_type": "execute_result"
    }
   ],
   "source": [
    "# New jpg name\n",
    "df_val_test['original_image_path'] = SAGEMAKER_REPO_PATH +'/all-original-test/' + df_val_test['image_name']\n",
    "df_val_test['new_image_path'] = SAGEMAKER_REPO_PATH + '/images/' + df_val_test['split_folder'] + '/' + df_val_test['ground_truth'] + '/'+ df_val_test['image_name']\n",
    "df_val_test.head()"
   ]
  },
  {
   "cell_type": "code",
   "execution_count": 16,
   "metadata": {},
   "outputs": [],
   "source": [
    "df_val_test.to_csv('valid_test_crop_filename.csv')"
   ]
  },
  {
   "cell_type": "code",
   "execution_count": 22,
   "metadata": {},
   "outputs": [],
   "source": [
    "# Grab a sample of images \n",
    "#df_val_test_sample = df_val_test.iloc[1288:1315]"
   ]
  },
  {
   "cell_type": "code",
   "execution_count": 17,
   "metadata": {},
   "outputs": [
    {
     "data": {
      "text/html": [
       "<div>\n",
       "<style scoped>\n",
       "    .dataframe tbody tr th:only-of-type {\n",
       "        vertical-align: middle;\n",
       "    }\n",
       "\n",
       "    .dataframe tbody tr th {\n",
       "        vertical-align: top;\n",
       "    }\n",
       "\n",
       "    .dataframe thead th {\n",
       "        text-align: right;\n",
       "    }\n",
       "</style>\n",
       "<table border=\"1\" class=\"dataframe\">\n",
       "  <thead>\n",
       "    <tr style=\"text-align: right;\">\n",
       "      <th></th>\n",
       "      <th>image_name</th>\n",
       "      <th>img_id</th>\n",
       "      <th>ground_truth</th>\n",
       "      <th>is_valid_set</th>\n",
       "      <th>original_image_path</th>\n",
       "      <th>new_image_path</th>\n",
       "      <th>split_folder</th>\n",
       "    </tr>\n",
       "  </thead>\n",
       "  <tbody>\n",
       "    <tr>\n",
       "      <th>0</th>\n",
       "      <td>8475_135_1.jpg</td>\n",
       "      <td>8475</td>\n",
       "      <td>1_null</td>\n",
       "      <td>True</td>\n",
       "      <td>/home/ec2-user/SageMaker/classify-streetview/all-original-test/8475_135_1.jpg</td>\n",
       "      <td>/home/ec2-user/SageMaker/classify-streetview/images/valid/1_null/8475_135_1.jpg</td>\n",
       "      <td>valid</td>\n",
       "    </tr>\n",
       "    <tr>\n",
       "      <th>1</th>\n",
       "      <td>8475_135_2.jpg</td>\n",
       "      <td>8475</td>\n",
       "      <td>2_obstacle</td>\n",
       "      <td>True</td>\n",
       "      <td>/home/ec2-user/SageMaker/classify-streetview/all-original-test/8475_135_2.jpg</td>\n",
       "      <td>/home/ec2-user/SageMaker/classify-streetview/images/valid/2_obstacle/8475_135_2.jpg</td>\n",
       "      <td>valid</td>\n",
       "    </tr>\n",
       "    <tr>\n",
       "      <th>2</th>\n",
       "      <td>8475_135_3.jpg</td>\n",
       "      <td>8475</td>\n",
       "      <td>1_null</td>\n",
       "      <td>True</td>\n",
       "      <td>/home/ec2-user/SageMaker/classify-streetview/all-original-test/8475_135_3.jpg</td>\n",
       "      <td>/home/ec2-user/SageMaker/classify-streetview/images/valid/1_null/8475_135_3.jpg</td>\n",
       "      <td>valid</td>\n",
       "    </tr>\n",
       "    <tr>\n",
       "      <th>3</th>\n",
       "      <td>8475_135_5.jpg</td>\n",
       "      <td>8475</td>\n",
       "      <td>2_obstacle</td>\n",
       "      <td>True</td>\n",
       "      <td>/home/ec2-user/SageMaker/classify-streetview/all-original-test/8475_135_5.jpg</td>\n",
       "      <td>/home/ec2-user/SageMaker/classify-streetview/images/valid/2_obstacle/8475_135_5.jpg</td>\n",
       "      <td>valid</td>\n",
       "    </tr>\n",
       "    <tr>\n",
       "      <th>4</th>\n",
       "      <td>8475_135_6.jpg</td>\n",
       "      <td>8475</td>\n",
       "      <td>2_obstacle</td>\n",
       "      <td>True</td>\n",
       "      <td>/home/ec2-user/SageMaker/classify-streetview/all-original-test/8475_135_6.jpg</td>\n",
       "      <td>/home/ec2-user/SageMaker/classify-streetview/images/valid/2_obstacle/8475_135_6.jpg</td>\n",
       "      <td>valid</td>\n",
       "    </tr>\n",
       "  </tbody>\n",
       "</table>\n",
       "</div>"
      ],
      "text/plain": [
       "       image_name  img_id ground_truth  is_valid_set  \\\n",
       "0  8475_135_1.jpg  8475    1_null       True           \n",
       "1  8475_135_2.jpg  8475    2_obstacle   True           \n",
       "2  8475_135_3.jpg  8475    1_null       True           \n",
       "3  8475_135_5.jpg  8475    2_obstacle   True           \n",
       "4  8475_135_6.jpg  8475    2_obstacle   True           \n",
       "\n",
       "                                                             original_image_path  \\\n",
       "0  /home/ec2-user/SageMaker/classify-streetview/all-original-test/8475_135_1.jpg   \n",
       "1  /home/ec2-user/SageMaker/classify-streetview/all-original-test/8475_135_2.jpg   \n",
       "2  /home/ec2-user/SageMaker/classify-streetview/all-original-test/8475_135_3.jpg   \n",
       "3  /home/ec2-user/SageMaker/classify-streetview/all-original-test/8475_135_5.jpg   \n",
       "4  /home/ec2-user/SageMaker/classify-streetview/all-original-test/8475_135_6.jpg   \n",
       "\n",
       "                                                                        new_image_path  \\\n",
       "0  /home/ec2-user/SageMaker/classify-streetview/images/valid/1_null/8475_135_1.jpg       \n",
       "1  /home/ec2-user/SageMaker/classify-streetview/images/valid/2_obstacle/8475_135_2.jpg   \n",
       "2  /home/ec2-user/SageMaker/classify-streetview/images/valid/1_null/8475_135_3.jpg       \n",
       "3  /home/ec2-user/SageMaker/classify-streetview/images/valid/2_obstacle/8475_135_5.jpg   \n",
       "4  /home/ec2-user/SageMaker/classify-streetview/images/valid/2_obstacle/8475_135_6.jpg   \n",
       "\n",
       "  split_folder  \n",
       "0  valid        \n",
       "1  valid        \n",
       "2  valid        \n",
       "3  valid        \n",
       "4  valid        "
      ]
     },
     "execution_count": 17,
     "metadata": {},
     "output_type": "execute_result"
    }
   ],
   "source": [
    "df_sample = df_val_test[0:5]\n",
    "df_sample"
   ]
  },
  {
   "cell_type": "code",
   "execution_count": 22,
   "metadata": {},
   "outputs": [],
   "source": [
    "for index, row in df_val_test.iterrows():\n",
    "    original = row['original_image_path']\n",
    "    target = row['new_image_path']\n",
    "    try:\n",
    "        shutil.copyfile(original, target)\n",
    "    except:\n",
    "        print(f\"could not copy: {row['image_name']}\")"
   ]
  },
  {
   "cell_type": "code",
   "execution_count": null,
   "metadata": {},
   "outputs": [],
   "source": []
  }
 ],
 "metadata": {
  "kernelspec": {
   "display_name": "conda_python3",
   "language": "python",
   "name": "conda_python3"
  },
  "language_info": {
   "codemirror_mode": {
    "name": "ipython",
    "version": 3
   },
   "file_extension": ".py",
   "mimetype": "text/x-python",
   "name": "python",
   "nbconvert_exporter": "python",
   "pygments_lexer": "ipython3",
   "version": "3.6.5"
  }
 },
 "nbformat": 4,
 "nbformat_minor": 4
}
