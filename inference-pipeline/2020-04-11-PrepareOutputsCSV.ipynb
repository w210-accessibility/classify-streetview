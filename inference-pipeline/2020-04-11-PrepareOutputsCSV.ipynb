{
 "cells": [
  {
   "cell_type": "markdown",
   "metadata": {},
   "source": [
    "# Prepare Outputs CSV\n",
    "\n",
    "* Then filter to the \"downtown\" list"
   ]
  },
  {
   "cell_type": "code",
   "execution_count": 20,
   "metadata": {},
   "outputs": [],
   "source": [
    "import os\n",
    "\n",
    "import numpy as np\n",
    "import pandas as pd\n",
    "\n",
    "import matplotlib.pyplot as plt"
   ]
  },
  {
   "cell_type": "markdown",
   "metadata": {},
   "source": [
    "## Read in Pano Metadata"
   ]
  },
  {
   "cell_type": "code",
   "execution_count": 12,
   "metadata": {},
   "outputs": [
    {
     "name": "stdout",
     "output_type": "stream",
     "text": [
      "(19325, 6)\n"
     ]
    },
    {
     "data": {
      "text/html": [
       "<div>\n",
       "<style scoped>\n",
       "    .dataframe tbody tr th:only-of-type {\n",
       "        vertical-align: middle;\n",
       "    }\n",
       "\n",
       "    .dataframe tbody tr th {\n",
       "        vertical-align: top;\n",
       "    }\n",
       "\n",
       "    .dataframe thead th {\n",
       "        text-align: right;\n",
       "    }\n",
       "</style>\n",
       "<table border=\"1\" class=\"dataframe\">\n",
       "  <thead>\n",
       "    <tr style=\"text-align: right;\">\n",
       "      <th></th>\n",
       "      <th>img_id</th>\n",
       "      <th>lat</th>\n",
       "      <th>long</th>\n",
       "      <th>date</th>\n",
       "    </tr>\n",
       "  </thead>\n",
       "  <tbody>\n",
       "    <tr>\n",
       "      <th>0</th>\n",
       "      <td>1</td>\n",
       "      <td>42.957503</td>\n",
       "      <td>-87.938367</td>\n",
       "      <td>2019-06</td>\n",
       "    </tr>\n",
       "    <tr>\n",
       "      <th>1</th>\n",
       "      <td>10</td>\n",
       "      <td>42.899259</td>\n",
       "      <td>-88.047098</td>\n",
       "      <td>2016-10</td>\n",
       "    </tr>\n",
       "    <tr>\n",
       "      <th>2</th>\n",
       "      <td>100</td>\n",
       "      <td>42.921614</td>\n",
       "      <td>-87.881025</td>\n",
       "      <td>2011-08</td>\n",
       "    </tr>\n",
       "    <tr>\n",
       "      <th>3</th>\n",
       "      <td>1000</td>\n",
       "      <td>43.050123</td>\n",
       "      <td>-88.040263</td>\n",
       "      <td>2018-09</td>\n",
       "    </tr>\n",
       "    <tr>\n",
       "      <th>4</th>\n",
       "      <td>10000</td>\n",
       "      <td>42.959289</td>\n",
       "      <td>-88.026043</td>\n",
       "      <td>2019-05</td>\n",
       "    </tr>\n",
       "  </tbody>\n",
       "</table>\n",
       "</div>"
      ],
      "text/plain": [
       "  img_id        lat       long     date\n",
       "0      1  42.957503 -87.938367  2019-06\n",
       "1     10  42.899259 -88.047098  2016-10\n",
       "2    100  42.921614 -87.881025  2011-08\n",
       "3   1000  43.050123 -88.040263  2018-09\n",
       "4  10000  42.959289 -88.026043  2019-05"
      ]
     },
     "execution_count": 12,
     "metadata": {},
     "output_type": "execute_result"
    }
   ],
   "source": [
    "df_meta = pd.read_csv('gsv_metadata.csv')\n",
    "print(df_meta.shape)\n",
    "df_meta['img_id'] = df_meta['name'].str.strip('.json')\n",
    "meta_keep_cols = ['img_id', 'lat', 'long', 'date']\n",
    "df_meta = df_meta[meta_keep_cols]\n",
    "df_meta.head()"
   ]
  },
  {
   "cell_type": "code",
   "execution_count": 13,
   "metadata": {},
   "outputs": [
    {
     "data": {
      "text/html": [
       "<div>\n",
       "<style scoped>\n",
       "    .dataframe tbody tr th:only-of-type {\n",
       "        vertical-align: middle;\n",
       "    }\n",
       "\n",
       "    .dataframe tbody tr th {\n",
       "        vertical-align: top;\n",
       "    }\n",
       "\n",
       "    .dataframe thead th {\n",
       "        text-align: right;\n",
       "    }\n",
       "</style>\n",
       "<table border=\"1\" class=\"dataframe\">\n",
       "  <thead>\n",
       "    <tr style=\"text-align: right;\">\n",
       "      <th></th>\n",
       "      <th>lat</th>\n",
       "      <th>long</th>\n",
       "    </tr>\n",
       "  </thead>\n",
       "  <tbody>\n",
       "    <tr>\n",
       "      <th>count</th>\n",
       "      <td>19325.000000</td>\n",
       "      <td>19325.000000</td>\n",
       "    </tr>\n",
       "    <tr>\n",
       "      <th>mean</th>\n",
       "      <td>43.028956</td>\n",
       "      <td>-87.962998</td>\n",
       "    </tr>\n",
       "    <tr>\n",
       "      <th>std</th>\n",
       "      <td>0.079913</td>\n",
       "      <td>0.055083</td>\n",
       "    </tr>\n",
       "    <tr>\n",
       "      <th>min</th>\n",
       "      <td>42.842276</td>\n",
       "      <td>-88.069904</td>\n",
       "    </tr>\n",
       "    <tr>\n",
       "      <th>25%</th>\n",
       "      <td>42.969678</td>\n",
       "      <td>-88.007414</td>\n",
       "    </tr>\n",
       "    <tr>\n",
       "      <th>50%</th>\n",
       "      <td>43.034144</td>\n",
       "      <td>-87.962417</td>\n",
       "    </tr>\n",
       "    <tr>\n",
       "      <th>75%</th>\n",
       "      <td>43.089141</td>\n",
       "      <td>-87.918310</td>\n",
       "    </tr>\n",
       "    <tr>\n",
       "      <th>max</th>\n",
       "      <td>43.192606</td>\n",
       "      <td>-87.843061</td>\n",
       "    </tr>\n",
       "  </tbody>\n",
       "</table>\n",
       "</div>"
      ],
      "text/plain": [
       "                lat          long\n",
       "count  19325.000000  19325.000000\n",
       "mean      43.028956    -87.962998\n",
       "std        0.079913      0.055083\n",
       "min       42.842276    -88.069904\n",
       "25%       42.969678    -88.007414\n",
       "50%       43.034144    -87.962417\n",
       "75%       43.089141    -87.918310\n",
       "max       43.192606    -87.843061"
      ]
     },
     "execution_count": 13,
     "metadata": {},
     "output_type": "execute_result"
    }
   ],
   "source": [
    "df_meta[['lat', 'long']].describe()"
   ]
  },
  {
   "cell_type": "markdown",
   "metadata": {},
   "source": [
    "## Images that we Still Have"
   ]
  },
  {
   "cell_type": "code",
   "execution_count": 14,
   "metadata": {},
   "outputs": [
    {
     "name": "stdout",
     "output_type": "stream",
     "text": [
      "73137\n"
     ]
    },
    {
     "data": {
      "text/plain": [
       "['10000_135',\n",
       " '10000_225',\n",
       " '10000_315',\n",
       " '10000_45',\n",
       " '10001_135',\n",
       " '10001_225',\n",
       " '10001_315',\n",
       " '10001_45',\n",
       " '10002_135',\n",
       " '10002_225']"
      ]
     },
     "execution_count": 14,
     "metadata": {},
     "output_type": "execute_result"
    }
   ],
   "source": [
    "import s3fs\n",
    "import boto3\n",
    "\n",
    "fs = s3fs.S3FileSystem()\n",
    "\n",
    "s3_image_bucket = 's3://streetview-w210'\n",
    "gsv_images_dir = os.path.join(s3_image_bucket, 'gsv')\n",
    "\n",
    "# See what is in the folder\n",
    "gsv_images_paths = [filename for filename in fs.ls(gsv_images_dir) if '.jpg' in filename] \n",
    "\n",
    "\n",
    "# Extract just the imgid and heading\n",
    "gsv_imgid_heading = [os.path.basename(filename).strip('.jpg') for filename in gsv_images_paths]\n",
    "print(len(gsv_imgid_heading))\n",
    "gsv_imgid_heading[0:10]"
   ]
  },
  {
   "cell_type": "code",
   "execution_count": 23,
   "metadata": {},
   "outputs": [
    {
     "data": {
      "text/html": [
       "<div>\n",
       "<style scoped>\n",
       "    .dataframe tbody tr th:only-of-type {\n",
       "        vertical-align: middle;\n",
       "    }\n",
       "\n",
       "    .dataframe tbody tr th {\n",
       "        vertical-align: top;\n",
       "    }\n",
       "\n",
       "    .dataframe thead th {\n",
       "        text-align: right;\n",
       "    }\n",
       "</style>\n",
       "<table border=\"1\" class=\"dataframe\">\n",
       "  <thead>\n",
       "    <tr style=\"text-align: right;\">\n",
       "      <th></th>\n",
       "      <th>imgid_heading</th>\n",
       "    </tr>\n",
       "  </thead>\n",
       "  <tbody>\n",
       "    <tr>\n",
       "      <th>0</th>\n",
       "      <td>10000_135</td>\n",
       "    </tr>\n",
       "    <tr>\n",
       "      <th>1</th>\n",
       "      <td>10000_225</td>\n",
       "    </tr>\n",
       "    <tr>\n",
       "      <th>2</th>\n",
       "      <td>10000_315</td>\n",
       "    </tr>\n",
       "    <tr>\n",
       "      <th>3</th>\n",
       "      <td>10000_45</td>\n",
       "    </tr>\n",
       "    <tr>\n",
       "      <th>4</th>\n",
       "      <td>10001_135</td>\n",
       "    </tr>\n",
       "  </tbody>\n",
       "</table>\n",
       "</div>"
      ],
      "text/plain": [
       "  imgid_heading\n",
       "0     10000_135\n",
       "1     10000_225\n",
       "2     10000_315\n",
       "3      10000_45\n",
       "4     10001_135"
      ]
     },
     "execution_count": 23,
     "metadata": {},
     "output_type": "execute_result"
    }
   ],
   "source": [
    "df_s3_img = pd.DataFrame({'imgid_heading' : gsv_imgid_heading})\n",
    "df_s3_img.head()"
   ]
  },
  {
   "cell_type": "code",
   "execution_count": 24,
   "metadata": {},
   "outputs": [
    {
     "data": {
      "text/html": [
       "<div>\n",
       "<style scoped>\n",
       "    .dataframe tbody tr th:only-of-type {\n",
       "        vertical-align: middle;\n",
       "    }\n",
       "\n",
       "    .dataframe tbody tr th {\n",
       "        vertical-align: top;\n",
       "    }\n",
       "\n",
       "    .dataframe thead th {\n",
       "        text-align: right;\n",
       "    }\n",
       "</style>\n",
       "<table border=\"1\" class=\"dataframe\">\n",
       "  <thead>\n",
       "    <tr style=\"text-align: right;\">\n",
       "      <th></th>\n",
       "      <th>imgid_heading</th>\n",
       "      <th>imgid</th>\n",
       "      <th>heading</th>\n",
       "    </tr>\n",
       "  </thead>\n",
       "  <tbody>\n",
       "    <tr>\n",
       "      <th>0</th>\n",
       "      <td>10000_135</td>\n",
       "      <td>10000</td>\n",
       "      <td>135</td>\n",
       "    </tr>\n",
       "    <tr>\n",
       "      <th>1</th>\n",
       "      <td>10000_225</td>\n",
       "      <td>10000</td>\n",
       "      <td>225</td>\n",
       "    </tr>\n",
       "    <tr>\n",
       "      <th>2</th>\n",
       "      <td>10000_315</td>\n",
       "      <td>10000</td>\n",
       "      <td>315</td>\n",
       "    </tr>\n",
       "    <tr>\n",
       "      <th>3</th>\n",
       "      <td>10000_45</td>\n",
       "      <td>10000</td>\n",
       "      <td>45</td>\n",
       "    </tr>\n",
       "    <tr>\n",
       "      <th>4</th>\n",
       "      <td>10001_135</td>\n",
       "      <td>10001</td>\n",
       "      <td>135</td>\n",
       "    </tr>\n",
       "  </tbody>\n",
       "</table>\n",
       "</div>"
      ],
      "text/plain": [
       "  imgid_heading  imgid heading\n",
       "0     10000_135  10000     135\n",
       "1     10000_225  10000     225\n",
       "2     10000_315  10000     315\n",
       "3      10000_45  10000      45\n",
       "4     10001_135  10001     135"
      ]
     },
     "execution_count": 24,
     "metadata": {},
     "output_type": "execute_result"
    }
   ],
   "source": [
    "df_s3_img[['imgid', 'heading']] = df_s3_img['imgid_heading'].str.split('_', expand = True)\n",
    "df_s3_img.head()"
   ]
  },
  {
   "cell_type": "code",
   "execution_count": 32,
   "metadata": {},
   "outputs": [
    {
     "name": "stdout",
     "output_type": "stream",
     "text": [
      "(73133, 7)\n"
     ]
    },
    {
     "data": {
      "text/html": [
       "<div>\n",
       "<style scoped>\n",
       "    .dataframe tbody tr th:only-of-type {\n",
       "        vertical-align: middle;\n",
       "    }\n",
       "\n",
       "    .dataframe tbody tr th {\n",
       "        vertical-align: top;\n",
       "    }\n",
       "\n",
       "    .dataframe thead th {\n",
       "        text-align: right;\n",
       "    }\n",
       "</style>\n",
       "<table border=\"1\" class=\"dataframe\">\n",
       "  <thead>\n",
       "    <tr style=\"text-align: right;\">\n",
       "      <th></th>\n",
       "      <th>imgid_heading</th>\n",
       "      <th>img_id</th>\n",
       "      <th>heading</th>\n",
       "      <th>lat</th>\n",
       "      <th>long</th>\n",
       "      <th>date</th>\n",
       "    </tr>\n",
       "  </thead>\n",
       "  <tbody>\n",
       "    <tr>\n",
       "      <th>0</th>\n",
       "      <td>10000_135</td>\n",
       "      <td>10000</td>\n",
       "      <td>135</td>\n",
       "      <td>42.959289</td>\n",
       "      <td>-88.026043</td>\n",
       "      <td>2019-05</td>\n",
       "    </tr>\n",
       "    <tr>\n",
       "      <th>1</th>\n",
       "      <td>10000_225</td>\n",
       "      <td>10000</td>\n",
       "      <td>225</td>\n",
       "      <td>42.959289</td>\n",
       "      <td>-88.026043</td>\n",
       "      <td>2019-05</td>\n",
       "    </tr>\n",
       "    <tr>\n",
       "      <th>2</th>\n",
       "      <td>10000_315</td>\n",
       "      <td>10000</td>\n",
       "      <td>315</td>\n",
       "      <td>42.959289</td>\n",
       "      <td>-88.026043</td>\n",
       "      <td>2019-05</td>\n",
       "    </tr>\n",
       "    <tr>\n",
       "      <th>3</th>\n",
       "      <td>10000_45</td>\n",
       "      <td>10000</td>\n",
       "      <td>45</td>\n",
       "      <td>42.959289</td>\n",
       "      <td>-88.026043</td>\n",
       "      <td>2019-05</td>\n",
       "    </tr>\n",
       "    <tr>\n",
       "      <th>4</th>\n",
       "      <td>10001_135</td>\n",
       "      <td>10001</td>\n",
       "      <td>135</td>\n",
       "      <td>42.862114</td>\n",
       "      <td>-87.936242</td>\n",
       "      <td>2011-09</td>\n",
       "    </tr>\n",
       "  </tbody>\n",
       "</table>\n",
       "</div>"
      ],
      "text/plain": [
       "  imgid_heading img_id heading        lat       long     date\n",
       "0     10000_135  10000     135  42.959289 -88.026043  2019-05\n",
       "1     10000_225  10000     225  42.959289 -88.026043  2019-05\n",
       "2     10000_315  10000     315  42.959289 -88.026043  2019-05\n",
       "3      10000_45  10000      45  42.959289 -88.026043  2019-05\n",
       "4     10001_135  10001     135  42.862114 -87.936242  2011-09"
      ]
     },
     "execution_count": 32,
     "metadata": {},
     "output_type": "execute_result"
    }
   ],
   "source": [
    "df_all_in_s3 = df_s3_img.merge(df_meta, how = 'inner', left_on = 'imgid', right_on = 'img_id')\n",
    "print(df_all_in_s3.shape)\n",
    "df_all_in_s3 = df_all_in_s3[['imgid_heading', 'img_id', 'heading', 'lat', 'long', 'date']]\n",
    "df_all_in_s3.head()"
   ]
  },
  {
   "cell_type": "code",
   "execution_count": 33,
   "metadata": {},
   "outputs": [],
   "source": [
    "df_all_in_s3.to_csv('metadata_all_imgid_ins3.csv', index = False)"
   ]
  },
  {
   "cell_type": "markdown",
   "metadata": {},
   "source": [
    "# Create a subset List of Downtown Images\n",
    "\n",
    "* Upper Left Corner = 43.053415 x -87.919210\n",
    "* Lower Right Corner = 43.025648 x -87.883629"
   ]
  },
  {
   "cell_type": "code",
   "execution_count": 18,
   "metadata": {},
   "outputs": [
    {
     "name": "stdout",
     "output_type": "stream",
     "text": [
      "(436, 4)\n"
     ]
    }
   ],
   "source": [
    "downtown_mask = ((43.025648 <= df_meta['lat']) & (df_meta['lat'] <= 43.05315) & (-87.919210 <= df_meta['long']) & (df_meta['long'] <= -87.883629))\n",
    "df_downtown = df_meta[downtown_mask]\n",
    "print(df_downtown.shape)"
   ]
  },
  {
   "cell_type": "code",
   "execution_count": 21,
   "metadata": {},
   "outputs": [
    {
     "data": {
      "text/plain": [
       "[<matplotlib.lines.Line2D at 0x7ff8433ae358>]"
      ]
     },
     "execution_count": 21,
     "metadata": {},
     "output_type": "execute_result"
    },
    {
     "data": {
      "image/png": "[encoded data removed]",
      "text/plain": [
       "<Figure size 432x288 with 1 Axes>"
      ]
     },
     "metadata": {},
     "output_type": "display_data"
    }
   ],
   "source": [
    "fig = plt.figure()\n",
    "ax = fig.add_subplot()\n",
    "x = df_downtown['long']\n",
    "y = df_downtown['lat']\n",
    "plt.plot(x, y, marker = '.', ls = 'None')"
   ]
  },
  {
   "cell_type": "code",
   "execution_count": 22,
   "metadata": {},
   "outputs": [
    {
     "data": {
      "text/html": [
       "<div>\n",
       "<style scoped>\n",
       "    .dataframe tbody tr th:only-of-type {\n",
       "        vertical-align: middle;\n",
       "    }\n",
       "\n",
       "    .dataframe tbody tr th {\n",
       "        vertical-align: top;\n",
       "    }\n",
       "\n",
       "    .dataframe thead th {\n",
       "        text-align: right;\n",
       "    }\n",
       "</style>\n",
       "<table border=\"1\" class=\"dataframe\">\n",
       "  <thead>\n",
       "    <tr style=\"text-align: right;\">\n",
       "      <th></th>\n",
       "      <th>img_id</th>\n",
       "      <th>lat</th>\n",
       "      <th>long</th>\n",
       "      <th>date</th>\n",
       "    </tr>\n",
       "  </thead>\n",
       "  <tbody>\n",
       "    <tr>\n",
       "      <th>99</th>\n",
       "      <td>1009</td>\n",
       "      <td>43.035889</td>\n",
       "      <td>-87.917520</td>\n",
       "      <td>2018-10</td>\n",
       "    </tr>\n",
       "    <tr>\n",
       "      <th>111</th>\n",
       "      <td>1010</td>\n",
       "      <td>43.035882</td>\n",
       "      <td>-87.916000</td>\n",
       "      <td>2018-10</td>\n",
       "    </tr>\n",
       "    <tr>\n",
       "      <th>120</th>\n",
       "      <td>1011</td>\n",
       "      <td>43.035929</td>\n",
       "      <td>-87.918998</td>\n",
       "      <td>2018-10</td>\n",
       "    </tr>\n",
       "    <tr>\n",
       "      <th>392</th>\n",
       "      <td>1036</td>\n",
       "      <td>43.043028</td>\n",
       "      <td>-87.896750</td>\n",
       "      <td>2017-08</td>\n",
       "    </tr>\n",
       "    <tr>\n",
       "      <th>403</th>\n",
       "      <td>1037</td>\n",
       "      <td>43.043734</td>\n",
       "      <td>-87.896744</td>\n",
       "      <td>2016-11</td>\n",
       "    </tr>\n",
       "  </tbody>\n",
       "</table>\n",
       "</div>"
      ],
      "text/plain": [
       "    img_id        lat       long     date\n",
       "99    1009  43.035889 -87.917520  2018-10\n",
       "111   1010  43.035882 -87.916000  2018-10\n",
       "120   1011  43.035929 -87.918998  2018-10\n",
       "392   1036  43.043028 -87.896750  2017-08\n",
       "403   1037  43.043734 -87.896744  2016-11"
      ]
     },
     "execution_count": 22,
     "metadata": {},
     "output_type": "execute_result"
    }
   ],
   "source": [
    "df_downtown.head()"
   ]
  },
  {
   "cell_type": "markdown",
   "metadata": {},
   "source": [
    "## Concatenate with the list of images that actually exists with an inner merge"
   ]
  },
  {
   "cell_type": "code",
   "execution_count": 26,
   "metadata": {},
   "outputs": [
    {
     "name": "stdout",
     "output_type": "stream",
     "text": [
      "(1340, 7)\n"
     ]
    },
    {
     "data": {
      "text/html": [
       "<div>\n",
       "<style scoped>\n",
       "    .dataframe tbody tr th:only-of-type {\n",
       "        vertical-align: middle;\n",
       "    }\n",
       "\n",
       "    .dataframe tbody tr th {\n",
       "        vertical-align: top;\n",
       "    }\n",
       "\n",
       "    .dataframe thead th {\n",
       "        text-align: right;\n",
       "    }\n",
       "</style>\n",
       "<table border=\"1\" class=\"dataframe\">\n",
       "  <thead>\n",
       "    <tr style=\"text-align: right;\">\n",
       "      <th></th>\n",
       "      <th>img_id</th>\n",
       "      <th>lat</th>\n",
       "      <th>long</th>\n",
       "      <th>date</th>\n",
       "      <th>imgid_heading</th>\n",
       "      <th>imgid</th>\n",
       "      <th>heading</th>\n",
       "    </tr>\n",
       "  </thead>\n",
       "  <tbody>\n",
       "    <tr>\n",
       "      <th>0</th>\n",
       "      <td>10636</td>\n",
       "      <td>43.026961</td>\n",
       "      <td>-87.917439</td>\n",
       "      <td>2018-09</td>\n",
       "      <td>10636_135</td>\n",
       "      <td>10636</td>\n",
       "      <td>135</td>\n",
       "    </tr>\n",
       "    <tr>\n",
       "      <th>1</th>\n",
       "      <td>10636</td>\n",
       "      <td>43.026961</td>\n",
       "      <td>-87.917439</td>\n",
       "      <td>2018-09</td>\n",
       "      <td>10636_225</td>\n",
       "      <td>10636</td>\n",
       "      <td>225</td>\n",
       "    </tr>\n",
       "    <tr>\n",
       "      <th>2</th>\n",
       "      <td>10636</td>\n",
       "      <td>43.026961</td>\n",
       "      <td>-87.917439</td>\n",
       "      <td>2018-09</td>\n",
       "      <td>10636_315</td>\n",
       "      <td>10636</td>\n",
       "      <td>315</td>\n",
       "    </tr>\n",
       "    <tr>\n",
       "      <th>3</th>\n",
       "      <td>10636</td>\n",
       "      <td>43.026961</td>\n",
       "      <td>-87.917439</td>\n",
       "      <td>2018-09</td>\n",
       "      <td>10636_45</td>\n",
       "      <td>10636</td>\n",
       "      <td>45</td>\n",
       "    </tr>\n",
       "    <tr>\n",
       "      <th>4</th>\n",
       "      <td>11541</td>\n",
       "      <td>43.027350</td>\n",
       "      <td>-87.915396</td>\n",
       "      <td>2017-10</td>\n",
       "      <td>11541_135</td>\n",
       "      <td>11541</td>\n",
       "      <td>135</td>\n",
       "    </tr>\n",
       "  </tbody>\n",
       "</table>\n",
       "</div>"
      ],
      "text/plain": [
       "  img_id        lat       long     date imgid_heading  imgid heading\n",
       "0  10636  43.026961 -87.917439  2018-09     10636_135  10636     135\n",
       "1  10636  43.026961 -87.917439  2018-09     10636_225  10636     225\n",
       "2  10636  43.026961 -87.917439  2018-09     10636_315  10636     315\n",
       "3  10636  43.026961 -87.917439  2018-09      10636_45  10636      45\n",
       "4  11541  43.027350 -87.915396  2017-10     11541_135  11541     135"
      ]
     },
     "execution_count": 26,
     "metadata": {},
     "output_type": "execute_result"
    }
   ],
   "source": [
    "df_downtown_img = df_downtown.merge(df_s3_img, how = 'inner', left_on = 'img_id', right_on = 'imgid')\n",
    "print(df_downtown_img.shape)\n",
    "df_downtown_img.head()"
   ]
  },
  {
   "cell_type": "code",
   "execution_count": 27,
   "metadata": {},
   "outputs": [
    {
     "data": {
      "text/plain": [
       "[<matplotlib.lines.Line2D at 0x7ff84306c160>]"
      ]
     },
     "execution_count": 27,
     "metadata": {},
     "output_type": "execute_result"
    },
    {
     "data": {
      "image/png": "[encoded data removed]",
      "text/plain": [
       "<Figure size 432x288 with 1 Axes>"
      ]
     },
     "metadata": {},
     "output_type": "display_data"
    }
   ],
   "source": [
    "fig = plt.figure()\n",
    "ax = fig.add_subplot()\n",
    "x = df_downtown_img['long']\n",
    "y = df_downtown_img['lat']\n",
    "plt.plot(x, y, marker = '.', ls = 'None')"
   ]
  },
  {
   "cell_type": "code",
   "execution_count": 28,
   "metadata": {},
   "outputs": [
    {
     "data": {
      "text/plain": [
       "Index(['img_id', 'lat', 'long', 'date', 'imgid_heading', 'imgid', 'heading'], dtype='object')"
      ]
     },
     "execution_count": 28,
     "metadata": {},
     "output_type": "execute_result"
    }
   ],
   "source": [
    "df_downtown_img.columns"
   ]
  },
  {
   "cell_type": "code",
   "execution_count": 29,
   "metadata": {},
   "outputs": [
    {
     "data": {
      "text/html": [
       "<div>\n",
       "<style scoped>\n",
       "    .dataframe tbody tr th:only-of-type {\n",
       "        vertical-align: middle;\n",
       "    }\n",
       "\n",
       "    .dataframe tbody tr th {\n",
       "        vertical-align: top;\n",
       "    }\n",
       "\n",
       "    .dataframe thead th {\n",
       "        text-align: right;\n",
       "    }\n",
       "</style>\n",
       "<table border=\"1\" class=\"dataframe\">\n",
       "  <thead>\n",
       "    <tr style=\"text-align: right;\">\n",
       "      <th></th>\n",
       "      <th>imgid_heading</th>\n",
       "      <th>img_id</th>\n",
       "      <th>heading</th>\n",
       "      <th>lat</th>\n",
       "      <th>long</th>\n",
       "      <th>date</th>\n",
       "    </tr>\n",
       "  </thead>\n",
       "  <tbody>\n",
       "    <tr>\n",
       "      <th>0</th>\n",
       "      <td>10636_135</td>\n",
       "      <td>10636</td>\n",
       "      <td>135</td>\n",
       "      <td>43.026961</td>\n",
       "      <td>-87.917439</td>\n",
       "      <td>2018-09</td>\n",
       "    </tr>\n",
       "    <tr>\n",
       "      <th>1</th>\n",
       "      <td>10636_225</td>\n",
       "      <td>10636</td>\n",
       "      <td>225</td>\n",
       "      <td>43.026961</td>\n",
       "      <td>-87.917439</td>\n",
       "      <td>2018-09</td>\n",
       "    </tr>\n",
       "    <tr>\n",
       "      <th>2</th>\n",
       "      <td>10636_315</td>\n",
       "      <td>10636</td>\n",
       "      <td>315</td>\n",
       "      <td>43.026961</td>\n",
       "      <td>-87.917439</td>\n",
       "      <td>2018-09</td>\n",
       "    </tr>\n",
       "    <tr>\n",
       "      <th>3</th>\n",
       "      <td>10636_45</td>\n",
       "      <td>10636</td>\n",
       "      <td>45</td>\n",
       "      <td>43.026961</td>\n",
       "      <td>-87.917439</td>\n",
       "      <td>2018-09</td>\n",
       "    </tr>\n",
       "    <tr>\n",
       "      <th>4</th>\n",
       "      <td>11541_135</td>\n",
       "      <td>11541</td>\n",
       "      <td>135</td>\n",
       "      <td>43.027350</td>\n",
       "      <td>-87.915396</td>\n",
       "      <td>2017-10</td>\n",
       "    </tr>\n",
       "  </tbody>\n",
       "</table>\n",
       "</div>"
      ],
      "text/plain": [
       "  imgid_heading img_id heading        lat       long     date\n",
       "0     10636_135  10636     135  43.026961 -87.917439  2018-09\n",
       "1     10636_225  10636     225  43.026961 -87.917439  2018-09\n",
       "2     10636_315  10636     315  43.026961 -87.917439  2018-09\n",
       "3      10636_45  10636      45  43.026961 -87.917439  2018-09\n",
       "4     11541_135  11541     135  43.027350 -87.915396  2017-10"
      ]
     },
     "execution_count": 29,
     "metadata": {},
     "output_type": "execute_result"
    }
   ],
   "source": [
    "df_downtown_img = df_downtown_img[['imgid_heading', 'img_id', 'heading', 'lat', 'long', 'date']]\n",
    "df_downtown_img.head()"
   ]
  },
  {
   "cell_type": "code",
   "execution_count": 30,
   "metadata": {},
   "outputs": [],
   "source": [
    "df_downtown_img.to_csv('downtown_imgid_heading_ins3.csv', index = False)"
   ]
  },
  {
   "cell_type": "code",
   "execution_count": null,
   "metadata": {},
   "outputs": [],
   "source": []
  }
 ],
 "metadata": {
  "kernelspec": {
   "display_name": "conda_python3",
   "language": "python",
   "name": "conda_python3"
  },
  "language_info": {
   "codemirror_mode": {
    "name": "ipython",
    "version": 3
   },
   "file_extension": ".py",
   "mimetype": "text/x-python",
   "name": "python",
   "nbconvert_exporter": "python",
   "pygments_lexer": "ipython3",
   "version": "3.6.5"
  }
 },
 "nbformat": 4,
 "nbformat_minor": 4
}
