{
 "cells": [
  {
   "cell_type": "markdown",
   "metadata": {},
   "source": [
    "# Create necessary Images on S3 "
   ]
  },
  {
   "cell_type": "code",
   "execution_count": 21,
   "metadata": {},
   "outputs": [
    {
     "data": {
      "text/plain": [
       "'/home/ec2-user/SageMaker/classify-streetview/inference-pipeline'"
      ]
     },
     "execution_count": 21,
     "metadata": {},
     "output_type": "execute_result"
    }
   ],
   "source": [
    "import os\n",
    "from PIL import Image\n",
    "from io import BytesIO\n",
    "\n",
    "import numpy as np\n",
    "import pandas as pd\n",
    "import s3fs\n",
    "import boto3\n",
    "\n",
    "os.getcwd()"
   ]
  },
  {
   "cell_type": "code",
   "execution_count": 22,
   "metadata": {},
   "outputs": [],
   "source": [
    "import sys\n",
    "\n",
    "sys.path.append(\"/home/ec2-user/SageMaker/classify-streetview/mini-crops\")\n",
    "import mini_utils"
   ]
  },
  {
   "cell_type": "markdown",
   "metadata": {},
   "source": [
    "# Generate a list of Images from S3 "
   ]
  },
  {
   "cell_type": "code",
   "execution_count": 23,
   "metadata": {},
   "outputs": [],
   "source": [
    "fs = s3fs.S3FileSystem()\n"
   ]
  },
  {
   "cell_type": "code",
   "execution_count": 24,
   "metadata": {},
   "outputs": [],
   "source": [
    "s3_image_bucket = 's3://streetview-w210'\n",
    "gsv_images_dir = os.path.join(s3_image_bucket, 'gsv')\n",
    "\n",
    "# See what is in the folder\n",
    "gsv_images_paths = [filename for filename in fs.ls(gsv_images_dir) if '.jpg' in filename] \n"
   ]
  },
  {
   "cell_type": "code",
   "execution_count": 25,
   "metadata": {},
   "outputs": [
    {
     "data": {
      "text/plain": [
       "73137"
      ]
     },
     "execution_count": 25,
     "metadata": {},
     "output_type": "execute_result"
    }
   ],
   "source": [
    "len(gsv_images_paths)"
   ]
  },
  {
   "cell_type": "code",
   "execution_count": 26,
   "metadata": {},
   "outputs": [
    {
     "data": {
      "text/plain": [
       "['streetview-w210/gsv/10000_135.jpg',\n",
       " 'streetview-w210/gsv/10000_225.jpg',\n",
       " 'streetview-w210/gsv/10000_315.jpg',\n",
       " 'streetview-w210/gsv/10000_45.jpg',\n",
       " 'streetview-w210/gsv/10001_135.jpg',\n",
       " 'streetview-w210/gsv/10001_225.jpg',\n",
       " 'streetview-w210/gsv/10001_315.jpg',\n",
       " 'streetview-w210/gsv/10001_45.jpg',\n",
       " 'streetview-w210/gsv/10002_135.jpg',\n",
       " 'streetview-w210/gsv/10002_225.jpg']"
      ]
     },
     "execution_count": 26,
     "metadata": {},
     "output_type": "execute_result"
    }
   ],
   "source": [
    "gsv_images_paths[0:10]"
   ]
  },
  {
   "cell_type": "code",
   "execution_count": 27,
   "metadata": {},
   "outputs": [
    {
     "data": {
      "text/plain": [
       "['10000_135',\n",
       " '10000_225',\n",
       " '10000_315',\n",
       " '10000_45',\n",
       " '10001_135',\n",
       " '10001_225',\n",
       " '10001_315',\n",
       " '10001_45',\n",
       " '10002_135',\n",
       " '10002_225']"
      ]
     },
     "execution_count": 27,
     "metadata": {},
     "output_type": "execute_result"
    }
   ],
   "source": [
    "# Extract just the imgid and heading\n",
    "gsv_imgid_heading = [os.path.basename(filename).strip('.jpg') for filename in gsv_images_paths]\n",
    "gsv_imgid_heading[0:10]"
   ]
  },
  {
   "cell_type": "markdown",
   "metadata": {},
   "source": [
    "# Execute Cropping script on 70K images"
   ]
  },
  {
   "cell_type": "code",
   "execution_count": null,
   "metadata": {},
   "outputs": [],
   "source": [
    "mini_utils.make_sliding_window_crops(gsv_imgid_heading_next)"
   ]
  },
  {
   "cell_type": "markdown",
   "metadata": {},
   "source": [
    "# Find which images have already been made"
   ]
  },
  {
   "cell_type": "code",
   "execution_count": 28,
   "metadata": {},
   "outputs": [],
   "source": [
    "s3_image_bucket = 's3://gsv-crops2'\n",
    "mini_crops_dir = os.path.join(s3_image_bucket, 'mini-crops')\n",
    "\n",
    "# See what is in the folder\n",
    "mini_crops_paths = [filename for filename in fs.ls(mini_crops_dir) if '.jpg' in filename] "
   ]
  },
  {
   "cell_type": "code",
   "execution_count": 31,
   "metadata": {},
   "outputs": [
    {
     "data": {
      "text/plain": [
       "438822"
      ]
     },
     "execution_count": 31,
     "metadata": {},
     "output_type": "execute_result"
    }
   ],
   "source": [
    "len(mini_crops_paths)"
   ]
  },
  {
   "cell_type": "code",
   "execution_count": null,
   "metadata": {},
   "outputs": [],
   "source": []
  }
 ],
 "metadata": {
  "kernelspec": {
   "display_name": "conda_python3",
   "language": "python",
   "name": "conda_python3"
  },
  "language_info": {
   "codemirror_mode": {
    "name": "ipython",
    "version": 3
   },
   "file_extension": ".py",
   "mimetype": "text/x-python",
   "name": "python",
   "nbconvert_exporter": "python",
   "pygments_lexer": "ipython3",
   "version": "3.6.5"
  }
 },
 "nbformat": 4,
 "nbformat_minor": 4
}
