{
 "cells": [
  {
   "cell_type": "markdown",
   "metadata": {},
   "source": [
    "# Create a list of the Data Directories for each folder"
   ]
  },
  {
   "cell_type": "code",
   "execution_count": 17,
   "metadata": {},
   "outputs": [],
   "source": [
    "import path\n",
    "import os\n",
    "import glob\n",
    "import pandas as pd\n",
    "\n",
    "pd.set_option('max_colwidth', -1)"
   ]
  },
  {
   "cell_type": "code",
   "execution_count": 12,
   "metadata": {},
   "outputs": [],
   "source": [
    "# PATHS\n",
    "SAGEMAKER_REPO_PATH = r'/home/ec2-user/SageMaker/classify-streetview/'\n",
    "\n",
    "# Data\n",
    "data_model5_path = os.path.join(SAGEMAKER_REPO_PATH, 'images-cross-null')\n",
    "data_model6_path = os.path.join(SAGEMAKER_REPO_PATH, 'images-missing-present-2split')\n",
    "data_project_sidewalk_path = os.path.join(SAGEMAKER_REPO_PATH, 'images-eval-project-sidewalk')"
   ]
  },
  {
   "cell_type": "markdown",
   "metadata": {},
   "source": [
    "# Write out Data to TXT files"
   ]
  },
  {
   "cell_type": "code",
   "execution_count": 13,
   "metadata": {},
   "outputs": [
    {
     "name": "stdout",
     "output_type": "stream",
     "text": [
      "3312\n"
     ]
    }
   ],
   "source": [
    "list_filename = []\n",
    "for filename in glob.iglob(str(data_project_sidewalk_path) + '**/**/*.jpg', recursive=True):\n",
    "     list_filename.append(filename)\n",
    "print(len(list_filename))\n",
    "\n",
    "images_list_path = os.path.join(data_model6_path, 'images_list.txt')\n",
    "with open(images_list_path, 'w') as out_file:\n",
    "    for filename in list_filename:\n",
    "        out_file.write(f'{filename}\\n')"
   ]
  },
  {
   "cell_type": "code",
   "execution_count": 32,
   "metadata": {},
   "outputs": [
    {
     "data": {
      "text/html": [
       "<div>\n",
       "<style scoped>\n",
       "    .dataframe tbody tr th:only-of-type {\n",
       "        vertical-align: middle;\n",
       "    }\n",
       "\n",
       "    .dataframe tbody tr th {\n",
       "        vertical-align: top;\n",
       "    }\n",
       "\n",
       "    .dataframe thead th {\n",
       "        text-align: right;\n",
       "    }\n",
       "</style>\n",
       "<table border=\"1\" class=\"dataframe\">\n",
       "  <thead>\n",
       "    <tr style=\"text-align: right;\">\n",
       "      <th></th>\n",
       "      <th>filenames</th>\n",
       "    </tr>\n",
       "  </thead>\n",
       "  <tbody>\n",
       "    <tr>\n",
       "      <th>0</th>\n",
       "      <td>/home/ec2-user/SageMaker/classify-streetview/images-eval-project-sidewalk/2_present/4550_225_D.jpg</td>\n",
       "    </tr>\n",
       "    <tr>\n",
       "      <th>1</th>\n",
       "      <td>/home/ec2-user/SageMaker/classify-streetview/images-eval-project-sidewalk/2_present/17033_225_E.jpg</td>\n",
       "    </tr>\n",
       "    <tr>\n",
       "      <th>2</th>\n",
       "      <td>/home/ec2-user/SageMaker/classify-streetview/images-eval-project-sidewalk/2_present/18150_225_E.jpg</td>\n",
       "    </tr>\n",
       "    <tr>\n",
       "      <th>3</th>\n",
       "      <td>/home/ec2-user/SageMaker/classify-streetview/images-eval-project-sidewalk/2_present/18256_135_B.jpg</td>\n",
       "    </tr>\n",
       "    <tr>\n",
       "      <th>4</th>\n",
       "      <td>/home/ec2-user/SageMaker/classify-streetview/images-eval-project-sidewalk/2_present/8650_315_F.jpg</td>\n",
       "    </tr>\n",
       "  </tbody>\n",
       "</table>\n",
       "</div>"
      ],
      "text/plain": [
       "                                                                                             filenames\n",
       "0  /home/ec2-user/SageMaker/classify-streetview/images-eval-project-sidewalk/2_present/4550_225_D.jpg \n",
       "1  /home/ec2-user/SageMaker/classify-streetview/images-eval-project-sidewalk/2_present/17033_225_E.jpg\n",
       "2  /home/ec2-user/SageMaker/classify-streetview/images-eval-project-sidewalk/2_present/18150_225_E.jpg\n",
       "3  /home/ec2-user/SageMaker/classify-streetview/images-eval-project-sidewalk/2_present/18256_135_B.jpg\n",
       "4  /home/ec2-user/SageMaker/classify-streetview/images-eval-project-sidewalk/2_present/8650_315_F.jpg "
      ]
     },
     "execution_count": 32,
     "metadata": {},
     "output_type": "execute_result"
    }
   ],
   "source": [
    "df_list = pd.DataFrame({'filenames' : list_filename})\n",
    "df_list.head()"
   ]
  },
  {
   "cell_type": "code",
   "execution_count": 33,
   "metadata": {},
   "outputs": [
    {
     "data": {
      "text/html": [
       "<div>\n",
       "<style scoped>\n",
       "    .dataframe tbody tr th:only-of-type {\n",
       "        vertical-align: middle;\n",
       "    }\n",
       "\n",
       "    .dataframe tbody tr th {\n",
       "        vertical-align: top;\n",
       "    }\n",
       "\n",
       "    .dataframe thead th {\n",
       "        text-align: right;\n",
       "    }\n",
       "</style>\n",
       "<table border=\"1\" class=\"dataframe\">\n",
       "  <thead>\n",
       "    <tr style=\"text-align: right;\">\n",
       "      <th></th>\n",
       "      <th>0</th>\n",
       "      <th>1</th>\n",
       "      <th>2</th>\n",
       "      <th>3</th>\n",
       "      <th>4</th>\n",
       "      <th>5</th>\n",
       "      <th>6</th>\n",
       "      <th>7</th>\n",
       "    </tr>\n",
       "  </thead>\n",
       "  <tbody>\n",
       "    <tr>\n",
       "      <th>0</th>\n",
       "      <td></td>\n",
       "      <td>home</td>\n",
       "      <td>ec2-user</td>\n",
       "      <td>SageMaker</td>\n",
       "      <td>classify-streetview</td>\n",
       "      <td>images-eval-project-sidewalk</td>\n",
       "      <td>2_present</td>\n",
       "      <td>4550_225_D.jpg</td>\n",
       "    </tr>\n",
       "    <tr>\n",
       "      <th>1</th>\n",
       "      <td></td>\n",
       "      <td>home</td>\n",
       "      <td>ec2-user</td>\n",
       "      <td>SageMaker</td>\n",
       "      <td>classify-streetview</td>\n",
       "      <td>images-eval-project-sidewalk</td>\n",
       "      <td>2_present</td>\n",
       "      <td>17033_225_E.jpg</td>\n",
       "    </tr>\n",
       "    <tr>\n",
       "      <th>2</th>\n",
       "      <td></td>\n",
       "      <td>home</td>\n",
       "      <td>ec2-user</td>\n",
       "      <td>SageMaker</td>\n",
       "      <td>classify-streetview</td>\n",
       "      <td>images-eval-project-sidewalk</td>\n",
       "      <td>2_present</td>\n",
       "      <td>18150_225_E.jpg</td>\n",
       "    </tr>\n",
       "    <tr>\n",
       "      <th>3</th>\n",
       "      <td></td>\n",
       "      <td>home</td>\n",
       "      <td>ec2-user</td>\n",
       "      <td>SageMaker</td>\n",
       "      <td>classify-streetview</td>\n",
       "      <td>images-eval-project-sidewalk</td>\n",
       "      <td>2_present</td>\n",
       "      <td>18256_135_B.jpg</td>\n",
       "    </tr>\n",
       "    <tr>\n",
       "      <th>4</th>\n",
       "      <td></td>\n",
       "      <td>home</td>\n",
       "      <td>ec2-user</td>\n",
       "      <td>SageMaker</td>\n",
       "      <td>classify-streetview</td>\n",
       "      <td>images-eval-project-sidewalk</td>\n",
       "      <td>2_present</td>\n",
       "      <td>8650_315_F.jpg</td>\n",
       "    </tr>\n",
       "  </tbody>\n",
       "</table>\n",
       "</div>"
      ],
      "text/plain": [
       "  0     1         2          3                    4  \\\n",
       "0    home  ec2-user  SageMaker  classify-streetview   \n",
       "1    home  ec2-user  SageMaker  classify-streetview   \n",
       "2    home  ec2-user  SageMaker  classify-streetview   \n",
       "3    home  ec2-user  SageMaker  classify-streetview   \n",
       "4    home  ec2-user  SageMaker  classify-streetview   \n",
       "\n",
       "                              5          6                7  \n",
       "0  images-eval-project-sidewalk  2_present  4550_225_D.jpg   \n",
       "1  images-eval-project-sidewalk  2_present  17033_225_E.jpg  \n",
       "2  images-eval-project-sidewalk  2_present  18150_225_E.jpg  \n",
       "3  images-eval-project-sidewalk  2_present  18256_135_B.jpg  \n",
       "4  images-eval-project-sidewalk  2_present  8650_315_F.jpg   "
      ]
     },
     "execution_count": 33,
     "metadata": {},
     "output_type": "execute_result"
    }
   ],
   "source": [
    "df_list_cols = df_list['filenames'].str.split('/', expand = True)\n",
    "df_list_cols.head()"
   ]
  },
  {
   "cell_type": "code",
   "execution_count": 34,
   "metadata": {},
   "outputs": [
    {
     "data": {
      "text/html": [
       "<div>\n",
       "<style scoped>\n",
       "    .dataframe tbody tr th:only-of-type {\n",
       "        vertical-align: middle;\n",
       "    }\n",
       "\n",
       "    .dataframe tbody tr th {\n",
       "        vertical-align: top;\n",
       "    }\n",
       "\n",
       "    .dataframe thead th {\n",
       "        text-align: right;\n",
       "    }\n",
       "</style>\n",
       "<table border=\"1\" class=\"dataframe\">\n",
       "  <thead>\n",
       "    <tr style=\"text-align: right;\">\n",
       "      <th></th>\n",
       "      <th>empty_col</th>\n",
       "      <th>home</th>\n",
       "      <th>ec2-user</th>\n",
       "      <th>SageMaker</th>\n",
       "      <th>repo</th>\n",
       "      <th>image-dir</th>\n",
       "      <th>ground_truth</th>\n",
       "      <th>jpg_name</th>\n",
       "    </tr>\n",
       "  </thead>\n",
       "  <tbody>\n",
       "    <tr>\n",
       "      <th>0</th>\n",
       "      <td></td>\n",
       "      <td>home</td>\n",
       "      <td>ec2-user</td>\n",
       "      <td>SageMaker</td>\n",
       "      <td>classify-streetview</td>\n",
       "      <td>images-eval-project-sidewalk</td>\n",
       "      <td>2_present</td>\n",
       "      <td>4550_225_D.jpg</td>\n",
       "    </tr>\n",
       "    <tr>\n",
       "      <th>1</th>\n",
       "      <td></td>\n",
       "      <td>home</td>\n",
       "      <td>ec2-user</td>\n",
       "      <td>SageMaker</td>\n",
       "      <td>classify-streetview</td>\n",
       "      <td>images-eval-project-sidewalk</td>\n",
       "      <td>2_present</td>\n",
       "      <td>17033_225_E.jpg</td>\n",
       "    </tr>\n",
       "    <tr>\n",
       "      <th>2</th>\n",
       "      <td></td>\n",
       "      <td>home</td>\n",
       "      <td>ec2-user</td>\n",
       "      <td>SageMaker</td>\n",
       "      <td>classify-streetview</td>\n",
       "      <td>images-eval-project-sidewalk</td>\n",
       "      <td>2_present</td>\n",
       "      <td>18150_225_E.jpg</td>\n",
       "    </tr>\n",
       "    <tr>\n",
       "      <th>3</th>\n",
       "      <td></td>\n",
       "      <td>home</td>\n",
       "      <td>ec2-user</td>\n",
       "      <td>SageMaker</td>\n",
       "      <td>classify-streetview</td>\n",
       "      <td>images-eval-project-sidewalk</td>\n",
       "      <td>2_present</td>\n",
       "      <td>18256_135_B.jpg</td>\n",
       "    </tr>\n",
       "    <tr>\n",
       "      <th>4</th>\n",
       "      <td></td>\n",
       "      <td>home</td>\n",
       "      <td>ec2-user</td>\n",
       "      <td>SageMaker</td>\n",
       "      <td>classify-streetview</td>\n",
       "      <td>images-eval-project-sidewalk</td>\n",
       "      <td>2_present</td>\n",
       "      <td>8650_315_F.jpg</td>\n",
       "    </tr>\n",
       "  </tbody>\n",
       "</table>\n",
       "</div>"
      ],
      "text/plain": [
       "  empty_col  home  ec2-user  SageMaker                 repo  \\\n",
       "0            home  ec2-user  SageMaker  classify-streetview   \n",
       "1            home  ec2-user  SageMaker  classify-streetview   \n",
       "2            home  ec2-user  SageMaker  classify-streetview   \n",
       "3            home  ec2-user  SageMaker  classify-streetview   \n",
       "4            home  ec2-user  SageMaker  classify-streetview   \n",
       "\n",
       "                      image-dir ground_truth         jpg_name  \n",
       "0  images-eval-project-sidewalk  2_present    4550_225_D.jpg   \n",
       "1  images-eval-project-sidewalk  2_present    17033_225_E.jpg  \n",
       "2  images-eval-project-sidewalk  2_present    18150_225_E.jpg  \n",
       "3  images-eval-project-sidewalk  2_present    18256_135_B.jpg  \n",
       "4  images-eval-project-sidewalk  2_present    8650_315_F.jpg   "
      ]
     },
     "execution_count": 34,
     "metadata": {},
     "output_type": "execute_result"
    }
   ],
   "source": [
    "df_list_cols.columns = ['empty_col', 'home', 'ec2-user', 'SageMaker', 'repo', 'image-dir', 'ground_truth', 'jpg_name']\n",
    "df_list_cols.head()"
   ]
  },
  {
   "cell_type": "code",
   "execution_count": 35,
   "metadata": {},
   "outputs": [
    {
     "data": {
      "text/html": [
       "<div>\n",
       "<style scoped>\n",
       "    .dataframe tbody tr th:only-of-type {\n",
       "        vertical-align: middle;\n",
       "    }\n",
       "\n",
       "    .dataframe tbody tr th {\n",
       "        vertical-align: top;\n",
       "    }\n",
       "\n",
       "    .dataframe thead th {\n",
       "        text-align: right;\n",
       "    }\n",
       "</style>\n",
       "<table border=\"1\" class=\"dataframe\">\n",
       "  <thead>\n",
       "    <tr style=\"text-align: right;\">\n",
       "      <th></th>\n",
       "      <th>filenames</th>\n",
       "      <th>ground_truth</th>\n",
       "      <th>jpg_name</th>\n",
       "    </tr>\n",
       "  </thead>\n",
       "  <tbody>\n",
       "    <tr>\n",
       "      <th>681</th>\n",
       "      <td>/home/ec2-user/SageMaker/classify-streetview/images-eval-project-sidewalk/0_missing/12251_135_E.jpg</td>\n",
       "      <td>0_missing</td>\n",
       "      <td>12251_135_E.jpg</td>\n",
       "    </tr>\n",
       "    <tr>\n",
       "      <th>687</th>\n",
       "      <td>/home/ec2-user/SageMaker/classify-streetview/images-eval-project-sidewalk/0_missing/12251_135_F.jpg</td>\n",
       "      <td>0_missing</td>\n",
       "      <td>12251_135_F.jpg</td>\n",
       "    </tr>\n",
       "    <tr>\n",
       "      <th>673</th>\n",
       "      <td>/home/ec2-user/SageMaker/classify-streetview/images-eval-project-sidewalk/0_missing/12270_135_D.jpg</td>\n",
       "      <td>0_missing</td>\n",
       "      <td>12270_135_D.jpg</td>\n",
       "    </tr>\n",
       "    <tr>\n",
       "      <th>666</th>\n",
       "      <td>/home/ec2-user/SageMaker/classify-streetview/images-eval-project-sidewalk/0_missing/1297_135_A.jpg</td>\n",
       "      <td>0_missing</td>\n",
       "      <td>1297_135_A.jpg</td>\n",
       "    </tr>\n",
       "    <tr>\n",
       "      <th>669</th>\n",
       "      <td>/home/ec2-user/SageMaker/classify-streetview/images-eval-project-sidewalk/0_missing/16125_45_E.jpg</td>\n",
       "      <td>0_missing</td>\n",
       "      <td>16125_45_E.jpg</td>\n",
       "    </tr>\n",
       "  </tbody>\n",
       "</table>\n",
       "</div>"
      ],
      "text/plain": [
       "                                                                                               filenames  \\\n",
       "681  /home/ec2-user/SageMaker/classify-streetview/images-eval-project-sidewalk/0_missing/12251_135_E.jpg   \n",
       "687  /home/ec2-user/SageMaker/classify-streetview/images-eval-project-sidewalk/0_missing/12251_135_F.jpg   \n",
       "673  /home/ec2-user/SageMaker/classify-streetview/images-eval-project-sidewalk/0_missing/12270_135_D.jpg   \n",
       "666  /home/ec2-user/SageMaker/classify-streetview/images-eval-project-sidewalk/0_missing/1297_135_A.jpg    \n",
       "669  /home/ec2-user/SageMaker/classify-streetview/images-eval-project-sidewalk/0_missing/16125_45_E.jpg    \n",
       "\n",
       "    ground_truth         jpg_name  \n",
       "681  0_missing    12251_135_E.jpg  \n",
       "687  0_missing    12251_135_F.jpg  \n",
       "673  0_missing    12270_135_D.jpg  \n",
       "666  0_missing    1297_135_A.jpg   \n",
       "669  0_missing    16125_45_E.jpg   "
      ]
     },
     "execution_count": 35,
     "metadata": {},
     "output_type": "execute_result"
    }
   ],
   "source": [
    "new_cols = ['ground_truth', 'jpg_name']\n",
    "df_list[new_cols] = df_list_cols[new_cols]\n",
    "df_list = df_list.sort_values(['filenames'])\n",
    "df_list.head()"
   ]
  },
  {
   "cell_type": "code",
   "execution_count": 36,
   "metadata": {},
   "outputs": [],
   "source": [
    "df_list.to_csv('projectsidewalks-crops-class-path.csv', index = False)"
   ]
  },
  {
   "cell_type": "code",
   "execution_count": 23,
   "metadata": {},
   "outputs": [
    {
     "data": {
      "text/plain": [
       "(3312, 3)"
      ]
     },
     "execution_count": 23,
     "metadata": {},
     "output_type": "execute_result"
    }
   ],
   "source": [
    "df_list.shape"
   ]
  },
  {
   "cell_type": "code",
   "execution_count": null,
   "metadata": {},
   "outputs": [],
   "source": [
    "def "
   ]
  },
  {
   "cell_type": "code",
   "execution_count": 6,
   "metadata": {},
   "outputs": [
    {
     "name": "stdout",
     "output_type": "stream",
     "text": [
      "5484\n"
     ]
    }
   ],
   "source": [
    "list_filename = []\n",
    "for filename in glob.iglob(str(data_model5_path) + '**/**/*.jpg', recursive=True):\n",
    "     list_filename.append(filename)\n",
    "print(len(list_filename))\n",
    "\n",
    "images_list_path = os.path.join(data_model5_path , 'images_list.txt')\n",
    "with open(images_list_path, 'w') as out_file:\n",
    "    for filename in list_filename:\n",
    "        out_file.write(f'{filename}\\n')"
   ]
  },
  {
   "cell_type": "code",
   "execution_count": 7,
   "metadata": {},
   "outputs": [
    {
     "name": "stdout",
     "output_type": "stream",
     "text": [
      "924\n"
     ]
    }
   ],
   "source": [
    "list_filename = []\n",
    "for filename in glob.iglob(str(data_model6_path) + '**/**/*.jpg', recursive=True):\n",
    "     list_filename.append(filename)\n",
    "print(len(list_filename))\n",
    "\n",
    "images_list_path = os.path.join(data_model6_path, 'images_list.txt')\n",
    "with open(images_list_path, 'w') as out_file:\n",
    "    for filename in list_filename:\n",
    "        out_file.write(f'{filename}\\n')\n"
   ]
  }
 ],
 "metadata": {
  "kernelspec": {
   "display_name": "conda_python3",
   "language": "python",
   "name": "conda_python3"
  },
  "language_info": {
   "codemirror_mode": {
    "name": "ipython",
    "version": 3
   },
   "file_extension": ".py",
   "mimetype": "text/x-python",
   "name": "python",
   "nbconvert_exporter": "python",
   "pygments_lexer": "ipython3",
   "version": "3.6.5"
  }
 },
 "nbformat": 4,
 "nbformat_minor": 4
}
