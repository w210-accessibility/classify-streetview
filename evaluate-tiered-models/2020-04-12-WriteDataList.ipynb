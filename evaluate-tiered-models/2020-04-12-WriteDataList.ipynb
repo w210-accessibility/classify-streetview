{
 "cells": [
  {
   "cell_type": "markdown",
   "metadata": {},
   "source": [
    "# Create a list of the Data Directories for each folder"
   ]
  },
  {
   "cell_type": "code",
   "execution_count": 3,
   "metadata": {},
   "outputs": [],
   "source": [
    "import path\n",
    "import os\n",
    "import glob"
   ]
  },
  {
   "cell_type": "code",
   "execution_count": 5,
   "metadata": {},
   "outputs": [],
   "source": [
    "# PATHS\n",
    "SAGEMAKER_REPO_PATH = r'/home/ec2-user/SageMaker/classify-streetview/'\n",
    "\n",
    "# Data\n",
    "data_model5_path = os.path.join(SAGEMAKER_REPO_PATH, 'images-cross-null')\n",
    "data_model6_path = os.path.join(SAGEMAKER_REPO_PATH, 'images-missing-present-2split')\n"
   ]
  },
  {
   "cell_type": "markdown",
   "metadata": {},
   "source": [
    "# Write out Data to TXT files"
   ]
  },
  {
   "cell_type": "code",
   "execution_count": null,
   "metadata": {},
   "outputs": [],
   "source": [
    "def "
   ]
  },
  {
   "cell_type": "code",
   "execution_count": 6,
   "metadata": {},
   "outputs": [
    {
     "name": "stdout",
     "output_type": "stream",
     "text": [
      "5484\n"
     ]
    }
   ],
   "source": [
    "list_filename = []\n",
    "for filename in glob.iglob(str(data_model5_path) + '**/**/*.jpg', recursive=True):\n",
    "     list_filename.append(filename)\n",
    "print(len(list_filename))\n",
    "\n",
    "images_list_path = os.path.join(data_model5_path , 'images_list.txt')\n",
    "with open(images_list_path, 'w') as out_file:\n",
    "    for filename in list_filename:\n",
    "        out_file.write(f'{filename}\\n')"
   ]
  },
  {
   "cell_type": "code",
   "execution_count": 7,
   "metadata": {},
   "outputs": [
    {
     "name": "stdout",
     "output_type": "stream",
     "text": [
      "924\n"
     ]
    }
   ],
   "source": [
    "list_filename = []\n",
    "for filename in glob.iglob(str(data_model6_path) + '**/**/*.jpg', recursive=True):\n",
    "     list_filename.append(filename)\n",
    "print(len(list_filename))\n",
    "\n",
    "images_list_path = os.path.join(data_model6_path, 'images_list.txt')\n",
    "with open(images_list_path, 'w') as out_file:\n",
    "    for filename in list_filename:\n",
    "        out_file.write(f'{filename}\\n')\n"
   ]
  },
  {
   "cell_type": "code",
   "execution_count": null,
   "metadata": {},
   "outputs": [],
   "source": []
  }
 ],
 "metadata": {
  "kernelspec": {
   "display_name": "conda_python3",
   "language": "python",
   "name": "conda_python3"
  },
  "language_info": {
   "codemirror_mode": {
    "name": "ipython",
    "version": 3
   },
   "file_extension": ".py",
   "mimetype": "text/x-python",
   "name": "python",
   "nbconvert_exporter": "python",
   "pygments_lexer": "ipython3",
   "version": "3.6.5"
  }
 },
 "nbformat": 4,
 "nbformat_minor": 4
}
