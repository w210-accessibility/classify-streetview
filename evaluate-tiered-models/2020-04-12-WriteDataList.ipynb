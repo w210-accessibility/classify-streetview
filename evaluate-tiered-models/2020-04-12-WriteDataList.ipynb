{
 "cells": [
  {
   "cell_type": "markdown",
   "metadata": {},
   "source": [
    "# Create a list of the Data Directories for each folder"
   ]
  },
  {
   "cell_type": "code",
   "execution_count": 1,
   "metadata": {},
   "outputs": [],
   "source": [
    "import path\n",
    "import os\n",
    "import glob\n",
    "import pandas as pd\n",
    "\n",
    "pd.set_option('max_colwidth', -1)"
   ]
  },
  {
   "cell_type": "code",
   "execution_count": 4,
   "metadata": {},
   "outputs": [],
   "source": [
    "# PATHS\n",
    "SAGEMAKER_REPO_PATH = r'/home/ec2-user/SageMaker/classify-streetview/'\n",
    "\n",
    "# Data\n",
    "data_model5_path = os.path.join(SAGEMAKER_REPO_PATH, 'images-cross-null')\n",
    "data_model6_path = os.path.join(SAGEMAKER_REPO_PATH, 'images-missing-present-2split')\n",
    "data_project_sidewalk_path = os.path.join(SAGEMAKER_REPO_PATH, 'images-eval-project-sidewalk')\n",
    "data_eval_model5_path = os.path.join(SAGEMAKER_REPO_PATH, 'images-eval-crossing-null')"
   ]
  },
  {
   "cell_type": "markdown",
   "metadata": {},
   "source": [
    "# Write out Data to TXT files"
   ]
  },
  {
   "cell_type": "code",
   "execution_count": 5,
   "metadata": {},
   "outputs": [
    {
     "name": "stdout",
     "output_type": "stream",
     "text": [
      "9242\n"
     ]
    }
   ],
   "source": [
    "list_filename = []\n",
    "CURR_PATH = data_eval_model5_path\n",
    "for filename in glob.iglob(str(CURR_PATH) + '**/**/*.jpg', recursive=True):\n",
    "     list_filename.append(filename)\n",
    "print(len(list_filename))\n",
    "\n",
    "images_list_path = os.path.join(CURR_PATH, 'images_list.txt')\n",
    "with open(images_list_path, 'w') as out_file:\n",
    "    for filename in list_filename:\n",
    "        out_file.write(f'{filename}\\n')"
   ]
  },
  {
   "cell_type": "code",
   "execution_count": 6,
   "metadata": {},
   "outputs": [
    {
     "data": {
      "text/html": [
       "<div>\n",
       "<style scoped>\n",
       "    .dataframe tbody tr th:only-of-type {\n",
       "        vertical-align: middle;\n",
       "    }\n",
       "\n",
       "    .dataframe tbody tr th {\n",
       "        vertical-align: top;\n",
       "    }\n",
       "\n",
       "    .dataframe thead th {\n",
       "        text-align: right;\n",
       "    }\n",
       "</style>\n",
       "<table border=\"1\" class=\"dataframe\">\n",
       "  <thead>\n",
       "    <tr style=\"text-align: right;\">\n",
       "      <th></th>\n",
       "      <th>filenames</th>\n",
       "    </tr>\n",
       "  </thead>\n",
       "  <tbody>\n",
       "    <tr>\n",
       "      <th>0</th>\n",
       "      <td>/home/ec2-user/SageMaker/classify-streetview/images-eval-crossing-null/train/0_crossing/14619_45_D.jpg</td>\n",
       "    </tr>\n",
       "    <tr>\n",
       "      <th>1</th>\n",
       "      <td>/home/ec2-user/SageMaker/classify-streetview/images-eval-crossing-null/train/0_crossing/12578_225_D.jpg</td>\n",
       "    </tr>\n",
       "    <tr>\n",
       "      <th>2</th>\n",
       "      <td>/home/ec2-user/SageMaker/classify-streetview/images-eval-crossing-null/train/0_crossing/14627_315_E.jpg</td>\n",
       "    </tr>\n",
       "    <tr>\n",
       "      <th>3</th>\n",
       "      <td>/home/ec2-user/SageMaker/classify-streetview/images-eval-crossing-null/train/0_crossing/3524_45_D.jpg</td>\n",
       "    </tr>\n",
       "    <tr>\n",
       "      <th>4</th>\n",
       "      <td>/home/ec2-user/SageMaker/classify-streetview/images-eval-crossing-null/train/0_crossing/14185_45_F.jpg</td>\n",
       "    </tr>\n",
       "  </tbody>\n",
       "</table>\n",
       "</div>"
      ],
      "text/plain": [
       "                                                                                                 filenames\n",
       "0  /home/ec2-user/SageMaker/classify-streetview/images-eval-crossing-null/train/0_crossing/14619_45_D.jpg \n",
       "1  /home/ec2-user/SageMaker/classify-streetview/images-eval-crossing-null/train/0_crossing/12578_225_D.jpg\n",
       "2  /home/ec2-user/SageMaker/classify-streetview/images-eval-crossing-null/train/0_crossing/14627_315_E.jpg\n",
       "3  /home/ec2-user/SageMaker/classify-streetview/images-eval-crossing-null/train/0_crossing/3524_45_D.jpg  \n",
       "4  /home/ec2-user/SageMaker/classify-streetview/images-eval-crossing-null/train/0_crossing/14185_45_F.jpg "
      ]
     },
     "execution_count": 6,
     "metadata": {},
     "output_type": "execute_result"
    }
   ],
   "source": [
    "df_list = pd.DataFrame({'filenames' : list_filename})\n",
    "df_list.head()"
   ]
  },
  {
   "cell_type": "code",
   "execution_count": 7,
   "metadata": {},
   "outputs": [
    {
     "data": {
      "text/html": [
       "<div>\n",
       "<style scoped>\n",
       "    .dataframe tbody tr th:only-of-type {\n",
       "        vertical-align: middle;\n",
       "    }\n",
       "\n",
       "    .dataframe tbody tr th {\n",
       "        vertical-align: top;\n",
       "    }\n",
       "\n",
       "    .dataframe thead th {\n",
       "        text-align: right;\n",
       "    }\n",
       "</style>\n",
       "<table border=\"1\" class=\"dataframe\">\n",
       "  <thead>\n",
       "    <tr style=\"text-align: right;\">\n",
       "      <th></th>\n",
       "      <th>0</th>\n",
       "      <th>1</th>\n",
       "      <th>2</th>\n",
       "      <th>3</th>\n",
       "      <th>4</th>\n",
       "      <th>5</th>\n",
       "      <th>6</th>\n",
       "      <th>7</th>\n",
       "      <th>8</th>\n",
       "    </tr>\n",
       "  </thead>\n",
       "  <tbody>\n",
       "    <tr>\n",
       "      <th>0</th>\n",
       "      <td></td>\n",
       "      <td>home</td>\n",
       "      <td>ec2-user</td>\n",
       "      <td>SageMaker</td>\n",
       "      <td>classify-streetview</td>\n",
       "      <td>images-eval-crossing-null</td>\n",
       "      <td>train</td>\n",
       "      <td>0_crossing</td>\n",
       "      <td>14619_45_D.jpg</td>\n",
       "    </tr>\n",
       "    <tr>\n",
       "      <th>1</th>\n",
       "      <td></td>\n",
       "      <td>home</td>\n",
       "      <td>ec2-user</td>\n",
       "      <td>SageMaker</td>\n",
       "      <td>classify-streetview</td>\n",
       "      <td>images-eval-crossing-null</td>\n",
       "      <td>train</td>\n",
       "      <td>0_crossing</td>\n",
       "      <td>12578_225_D.jpg</td>\n",
       "    </tr>\n",
       "    <tr>\n",
       "      <th>2</th>\n",
       "      <td></td>\n",
       "      <td>home</td>\n",
       "      <td>ec2-user</td>\n",
       "      <td>SageMaker</td>\n",
       "      <td>classify-streetview</td>\n",
       "      <td>images-eval-crossing-null</td>\n",
       "      <td>train</td>\n",
       "      <td>0_crossing</td>\n",
       "      <td>14627_315_E.jpg</td>\n",
       "    </tr>\n",
       "    <tr>\n",
       "      <th>3</th>\n",
       "      <td></td>\n",
       "      <td>home</td>\n",
       "      <td>ec2-user</td>\n",
       "      <td>SageMaker</td>\n",
       "      <td>classify-streetview</td>\n",
       "      <td>images-eval-crossing-null</td>\n",
       "      <td>train</td>\n",
       "      <td>0_crossing</td>\n",
       "      <td>3524_45_D.jpg</td>\n",
       "    </tr>\n",
       "    <tr>\n",
       "      <th>4</th>\n",
       "      <td></td>\n",
       "      <td>home</td>\n",
       "      <td>ec2-user</td>\n",
       "      <td>SageMaker</td>\n",
       "      <td>classify-streetview</td>\n",
       "      <td>images-eval-crossing-null</td>\n",
       "      <td>train</td>\n",
       "      <td>0_crossing</td>\n",
       "      <td>14185_45_F.jpg</td>\n",
       "    </tr>\n",
       "  </tbody>\n",
       "</table>\n",
       "</div>"
      ],
      "text/plain": [
       "  0     1         2          3                    4  \\\n",
       "0    home  ec2-user  SageMaker  classify-streetview   \n",
       "1    home  ec2-user  SageMaker  classify-streetview   \n",
       "2    home  ec2-user  SageMaker  classify-streetview   \n",
       "3    home  ec2-user  SageMaker  classify-streetview   \n",
       "4    home  ec2-user  SageMaker  classify-streetview   \n",
       "\n",
       "                           5      6           7                8  \n",
       "0  images-eval-crossing-null  train  0_crossing  14619_45_D.jpg   \n",
       "1  images-eval-crossing-null  train  0_crossing  12578_225_D.jpg  \n",
       "2  images-eval-crossing-null  train  0_crossing  14627_315_E.jpg  \n",
       "3  images-eval-crossing-null  train  0_crossing  3524_45_D.jpg    \n",
       "4  images-eval-crossing-null  train  0_crossing  14185_45_F.jpg   "
      ]
     },
     "execution_count": 7,
     "metadata": {},
     "output_type": "execute_result"
    }
   ],
   "source": [
    "df_list_cols = df_list['filenames'].str.split('/', expand = True)\n",
    "df_list_cols.head()"
   ]
  },
  {
   "cell_type": "code",
   "execution_count": 9,
   "metadata": {},
   "outputs": [
    {
     "data": {
      "text/html": [
       "<div>\n",
       "<style scoped>\n",
       "    .dataframe tbody tr th:only-of-type {\n",
       "        vertical-align: middle;\n",
       "    }\n",
       "\n",
       "    .dataframe tbody tr th {\n",
       "        vertical-align: top;\n",
       "    }\n",
       "\n",
       "    .dataframe thead th {\n",
       "        text-align: right;\n",
       "    }\n",
       "</style>\n",
       "<table border=\"1\" class=\"dataframe\">\n",
       "  <thead>\n",
       "    <tr style=\"text-align: right;\">\n",
       "      <th></th>\n",
       "      <th>empty_col</th>\n",
       "      <th>home</th>\n",
       "      <th>ec2-user</th>\n",
       "      <th>SageMaker</th>\n",
       "      <th>repo</th>\n",
       "      <th>image-dir</th>\n",
       "      <th>split</th>\n",
       "      <th>ground_truth</th>\n",
       "      <th>jpg_name</th>\n",
       "    </tr>\n",
       "  </thead>\n",
       "  <tbody>\n",
       "    <tr>\n",
       "      <th>0</th>\n",
       "      <td></td>\n",
       "      <td>home</td>\n",
       "      <td>ec2-user</td>\n",
       "      <td>SageMaker</td>\n",
       "      <td>classify-streetview</td>\n",
       "      <td>images-eval-crossing-null</td>\n",
       "      <td>train</td>\n",
       "      <td>0_crossing</td>\n",
       "      <td>14619_45_D.jpg</td>\n",
       "    </tr>\n",
       "    <tr>\n",
       "      <th>1</th>\n",
       "      <td></td>\n",
       "      <td>home</td>\n",
       "      <td>ec2-user</td>\n",
       "      <td>SageMaker</td>\n",
       "      <td>classify-streetview</td>\n",
       "      <td>images-eval-crossing-null</td>\n",
       "      <td>train</td>\n",
       "      <td>0_crossing</td>\n",
       "      <td>12578_225_D.jpg</td>\n",
       "    </tr>\n",
       "    <tr>\n",
       "      <th>2</th>\n",
       "      <td></td>\n",
       "      <td>home</td>\n",
       "      <td>ec2-user</td>\n",
       "      <td>SageMaker</td>\n",
       "      <td>classify-streetview</td>\n",
       "      <td>images-eval-crossing-null</td>\n",
       "      <td>train</td>\n",
       "      <td>0_crossing</td>\n",
       "      <td>14627_315_E.jpg</td>\n",
       "    </tr>\n",
       "    <tr>\n",
       "      <th>3</th>\n",
       "      <td></td>\n",
       "      <td>home</td>\n",
       "      <td>ec2-user</td>\n",
       "      <td>SageMaker</td>\n",
       "      <td>classify-streetview</td>\n",
       "      <td>images-eval-crossing-null</td>\n",
       "      <td>train</td>\n",
       "      <td>0_crossing</td>\n",
       "      <td>3524_45_D.jpg</td>\n",
       "    </tr>\n",
       "    <tr>\n",
       "      <th>4</th>\n",
       "      <td></td>\n",
       "      <td>home</td>\n",
       "      <td>ec2-user</td>\n",
       "      <td>SageMaker</td>\n",
       "      <td>classify-streetview</td>\n",
       "      <td>images-eval-crossing-null</td>\n",
       "      <td>train</td>\n",
       "      <td>0_crossing</td>\n",
       "      <td>14185_45_F.jpg</td>\n",
       "    </tr>\n",
       "  </tbody>\n",
       "</table>\n",
       "</div>"
      ],
      "text/plain": [
       "  empty_col  home  ec2-user  SageMaker                 repo  \\\n",
       "0            home  ec2-user  SageMaker  classify-streetview   \n",
       "1            home  ec2-user  SageMaker  classify-streetview   \n",
       "2            home  ec2-user  SageMaker  classify-streetview   \n",
       "3            home  ec2-user  SageMaker  classify-streetview   \n",
       "4            home  ec2-user  SageMaker  classify-streetview   \n",
       "\n",
       "                   image-dir  split ground_truth         jpg_name  \n",
       "0  images-eval-crossing-null  train  0_crossing   14619_45_D.jpg   \n",
       "1  images-eval-crossing-null  train  0_crossing   12578_225_D.jpg  \n",
       "2  images-eval-crossing-null  train  0_crossing   14627_315_E.jpg  \n",
       "3  images-eval-crossing-null  train  0_crossing   3524_45_D.jpg    \n",
       "4  images-eval-crossing-null  train  0_crossing   14185_45_F.jpg   "
      ]
     },
     "execution_count": 9,
     "metadata": {},
     "output_type": "execute_result"
    }
   ],
   "source": [
    "df_list_cols.columns = ['empty_col', 'home', 'ec2-user', 'SageMaker', 'repo', 'image-dir', 'split', 'ground_truth', 'jpg_name']\n",
    "df_list_cols.head()"
   ]
  },
  {
   "cell_type": "code",
   "execution_count": 10,
   "metadata": {},
   "outputs": [
    {
     "data": {
      "text/html": [
       "<div>\n",
       "<style scoped>\n",
       "    .dataframe tbody tr th:only-of-type {\n",
       "        vertical-align: middle;\n",
       "    }\n",
       "\n",
       "    .dataframe tbody tr th {\n",
       "        vertical-align: top;\n",
       "    }\n",
       "\n",
       "    .dataframe thead th {\n",
       "        text-align: right;\n",
       "    }\n",
       "</style>\n",
       "<table border=\"1\" class=\"dataframe\">\n",
       "  <thead>\n",
       "    <tr style=\"text-align: right;\">\n",
       "      <th></th>\n",
       "      <th>filenames</th>\n",
       "      <th>split</th>\n",
       "      <th>ground_truth</th>\n",
       "      <th>jpg_name</th>\n",
       "    </tr>\n",
       "  </thead>\n",
       "  <tbody>\n",
       "    <tr>\n",
       "      <th>1507</th>\n",
       "      <td>/home/ec2-user/SageMaker/classify-streetview/images-eval-crossing-null/train/0_crossing/10007_225_C.jpg</td>\n",
       "      <td>train</td>\n",
       "      <td>0_crossing</td>\n",
       "      <td>10007_225_C.jpg</td>\n",
       "    </tr>\n",
       "    <tr>\n",
       "      <th>768</th>\n",
       "      <td>/home/ec2-user/SageMaker/classify-streetview/images-eval-crossing-null/train/0_crossing/10007_225_D.jpg</td>\n",
       "      <td>train</td>\n",
       "      <td>0_crossing</td>\n",
       "      <td>10007_225_D.jpg</td>\n",
       "    </tr>\n",
       "    <tr>\n",
       "      <th>488</th>\n",
       "      <td>/home/ec2-user/SageMaker/classify-streetview/images-eval-crossing-null/train/0_crossing/10007_315_B.jpg</td>\n",
       "      <td>train</td>\n",
       "      <td>0_crossing</td>\n",
       "      <td>10007_315_B.jpg</td>\n",
       "    </tr>\n",
       "    <tr>\n",
       "      <th>623</th>\n",
       "      <td>/home/ec2-user/SageMaker/classify-streetview/images-eval-crossing-null/train/0_crossing/10007_315_C.jpg</td>\n",
       "      <td>train</td>\n",
       "      <td>0_crossing</td>\n",
       "      <td>10007_315_C.jpg</td>\n",
       "    </tr>\n",
       "    <tr>\n",
       "      <th>912</th>\n",
       "      <td>/home/ec2-user/SageMaker/classify-streetview/images-eval-crossing-null/train/0_crossing/10007_45_E.jpg</td>\n",
       "      <td>train</td>\n",
       "      <td>0_crossing</td>\n",
       "      <td>10007_45_E.jpg</td>\n",
       "    </tr>\n",
       "  </tbody>\n",
       "</table>\n",
       "</div>"
      ],
      "text/plain": [
       "                                                                                                    filenames  \\\n",
       "1507  /home/ec2-user/SageMaker/classify-streetview/images-eval-crossing-null/train/0_crossing/10007_225_C.jpg   \n",
       "768   /home/ec2-user/SageMaker/classify-streetview/images-eval-crossing-null/train/0_crossing/10007_225_D.jpg   \n",
       "488   /home/ec2-user/SageMaker/classify-streetview/images-eval-crossing-null/train/0_crossing/10007_315_B.jpg   \n",
       "623   /home/ec2-user/SageMaker/classify-streetview/images-eval-crossing-null/train/0_crossing/10007_315_C.jpg   \n",
       "912   /home/ec2-user/SageMaker/classify-streetview/images-eval-crossing-null/train/0_crossing/10007_45_E.jpg    \n",
       "\n",
       "      split ground_truth         jpg_name  \n",
       "1507  train  0_crossing   10007_225_C.jpg  \n",
       "768   train  0_crossing   10007_225_D.jpg  \n",
       "488   train  0_crossing   10007_315_B.jpg  \n",
       "623   train  0_crossing   10007_315_C.jpg  \n",
       "912   train  0_crossing   10007_45_E.jpg   "
      ]
     },
     "execution_count": 10,
     "metadata": {},
     "output_type": "execute_result"
    }
   ],
   "source": [
    "new_cols = ['split', 'ground_truth', 'jpg_name']\n",
    "df_list[new_cols] = df_list_cols[new_cols]\n",
    "df_list = df_list.sort_values(['filenames'])\n",
    "df_list.head()"
   ]
  },
  {
   "cell_type": "code",
   "execution_count": 11,
   "metadata": {},
   "outputs": [],
   "source": [
    "df_list.loc[df_list['split'] == 'valid'].to_csv('eval-model5-crops-class-path.csv', index = False)"
   ]
  },
  {
   "cell_type": "code",
   "execution_count": 23,
   "metadata": {},
   "outputs": [
    {
     "data": {
      "text/plain": [
       "(3312, 3)"
      ]
     },
     "execution_count": 23,
     "metadata": {},
     "output_type": "execute_result"
    }
   ],
   "source": [
    "df_list.shape"
   ]
  },
  {
   "cell_type": "code",
   "execution_count": null,
   "metadata": {},
   "outputs": [],
   "source": [
    "def "
   ]
  },
  {
   "cell_type": "code",
   "execution_count": 6,
   "metadata": {},
   "outputs": [
    {
     "name": "stdout",
     "output_type": "stream",
     "text": [
      "5484\n"
     ]
    }
   ],
   "source": [
    "list_filename = []\n",
    "for filename in glob.iglob(str(data_model5_path) + '**/**/*.jpg', recursive=True):\n",
    "     list_filename.append(filename)\n",
    "print(len(list_filename))\n",
    "\n",
    "images_list_path = os.path.join(data_model5_path , 'images_list.txt')\n",
    "with open(images_list_path, 'w') as out_file:\n",
    "    for filename in list_filename:\n",
    "        out_file.write(f'{filename}\\n')"
   ]
  },
  {
   "cell_type": "code",
   "execution_count": 7,
   "metadata": {},
   "outputs": [
    {
     "name": "stdout",
     "output_type": "stream",
     "text": [
      "924\n"
     ]
    }
   ],
   "source": [
    "list_filename = []\n",
    "for filename in glob.iglob(str(data_model6_path) + '**/**/*.jpg', recursive=True):\n",
    "     list_filename.append(filename)\n",
    "print(len(list_filename))\n",
    "\n",
    "images_list_path = os.path.join(data_model6_path, 'images_list.txt')\n",
    "with open(images_list_path, 'w') as out_file:\n",
    "    for filename in list_filename:\n",
    "        out_file.write(f'{filename}\\n')\n"
   ]
  }
 ],
 "metadata": {
  "kernelspec": {
   "display_name": "conda_python3",
   "language": "python",
   "name": "conda_python3"
  },
  "language_info": {
   "codemirror_mode": {
    "name": "ipython",
    "version": 3
   },
   "file_extension": ".py",
   "mimetype": "text/x-python",
   "name": "python",
   "nbconvert_exporter": "python",
   "pygments_lexer": "ipython3",
   "version": "3.6.5"
  }
 },
 "nbformat": 4,
 "nbformat_minor": 4
}
