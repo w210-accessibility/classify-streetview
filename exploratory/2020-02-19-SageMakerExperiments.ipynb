{
 "cells": [
  {
   "cell_type": "markdown",
   "metadata": {
    "toc-hr-collapsed": true
   },
   "source": [
    "# Experimenting with AWS Sagemaker and this repo\n",
    "\n",
    "* Following the video tutorial\n",
    "* Starting with a conda_pytorch_p36 environment"
   ]
  },
  {
   "cell_type": "markdown",
   "metadata": {},
   "source": [
    "## Take a look at what is included"
   ]
  },
  {
   "cell_type": "code",
   "execution_count": 10,
   "metadata": {},
   "outputs": [
    {
     "data": {
      "text/plain": [
       "<module 'fastai.version' from '/home/ec2-user/anaconda3/envs/pytorch_p36/lib/python3.6/site-packages/fastai/version.py'>"
      ]
     },
     "execution_count": 10,
     "metadata": {},
     "output_type": "execute_result"
    }
   ],
   "source": [
    "import fastai\n",
    "import pandas as pd\n",
    "import os\n",
    "import s3fs # for reading from S3FileSystem\n",
    "import json\n",
    "\n",
    "fastai.version"
   ]
  },
  {
   "cell_type": "markdown",
   "metadata": {},
   "source": [
    "## Load a json file from S3 bucket"
   ]
  },
  {
   "cell_type": "code",
   "execution_count": 14,
   "metadata": {},
   "outputs": [
    {
     "name": "stdout",
     "output_type": "stream",
     "text": [
      "b'{\\n   \"copyright\" : \"\\xc2\\xa9 Google\",\\n   \"date\" : \"2011-09\",\\n   \"location\" : {\\n      \"lat\" : 42.8621141,\\n      \"lng\" : -87.93624149999999\\n   },\\n   \"pano_id\" : \"wSgTCviqBcxQW64xrSIKcw\",\\n   \"status\" : \"OK\"\\n}\\n'\n"
     ]
    }
   ],
   "source": [
    "fs = s3fs.S3FileSystem()\n",
    "\n",
    "s3_image_bucket = 's3://streetview-w210/gsv'\n",
    "example_json = '10001.json'\n",
    "\n",
    "with fs.open(os.path.join(s3_image_bucket, example_json)) as file:\n",
    "    sample_json = file.read()\n",
    "    \n",
    "print(sample_json)"
   ]
  },
  {
   "cell_type": "markdown",
   "metadata": {},
   "source": [
    "## Load in image file from S3 bucket"
   ]
  },
  {
   "cell_type": "code",
   "execution_count": null,
   "metadata": {},
   "outputs": [],
   "source": []
  },
  {
   "cell_type": "code",
   "execution_count": null,
   "metadata": {},
   "outputs": [],
   "source": []
  },
  {
   "cell_type": "markdown",
   "metadata": {},
   "source": [
    "# Get the model and weights"
   ]
  },
  {
   "cell_type": "code",
   "execution_count": 15,
   "metadata": {},
   "outputs": [],
   "source": [
    "import torch.nn as nn\n",
    "import torch\n",
    "import torch.utils.model_zoo as model_zoo\n",
    "import numpy as np"
   ]
  },
  {
   "cell_type": "code",
   "execution_count": 20,
   "metadata": {},
   "outputs": [
    {
     "ename": "NameError",
     "evalue": "name 'extended_resnet18' is not defined",
     "output_type": "error",
     "traceback": [
      "\u001b[0;31m---------------------------------------------------------------------------\u001b[0m",
      "\u001b[0;31mNameError\u001b[0m                                 Traceback (most recent call last)",
      "\u001b[0;32m<ipython-input-20-eb2c902796bd>\u001b[0m in \u001b[0;36m<module>\u001b[0;34m()\u001b[0m\n\u001b[1;32m      1\u001b[0m \u001b[0mlen_ex_feats\u001b[0m \u001b[0;34m=\u001b[0m \u001b[0;36m0\u001b[0m\u001b[0;34m\u001b[0m\u001b[0m\n\u001b[0;32m----> 2\u001b[0;31m \u001b[0mmodel_ft\u001b[0m \u001b[0;34m=\u001b[0m \u001b[0mextended_resnet18\u001b[0m\u001b[0;34m(\u001b[0m\u001b[0mlen_ex_feats\u001b[0m\u001b[0;34m=\u001b[0m\u001b[0mlen_ex_feats\u001b[0m\u001b[0;34m)\u001b[0m\u001b[0;34m\u001b[0m\u001b[0m\n\u001b[0m\u001b[1;32m      3\u001b[0m \u001b[0;34m\u001b[0m\u001b[0m\n\u001b[1;32m      4\u001b[0m \u001b[0mmodel_path\u001b[0m \u001b[0;34m=\u001b[0m \u001b[0;34mr'/home/ec2-user/SageMaker/sidewalk-cv-assets19/pytorch_pretrained/models/single_class_ramp.pt'\u001b[0m\u001b[0;34m\u001b[0m\u001b[0m\n\u001b[1;32m      5\u001b[0m \u001b[0;34m\u001b[0m\u001b[0m\n",
      "\u001b[0;31mNameError\u001b[0m: name 'extended_resnet18' is not defined"
     ]
    }
   ],
   "source": [
    "len_ex_feats = 0\n",
    "# Need to find and define extended_resnet18\n",
    "model_ft = extended_resnet18(len_ex_feats=len_ex_feats)\n",
    "\n",
    "model_path = r'/home/ec2-user/SageMaker/sidewalk-cv-assets19/pytorch_pretrained/models/single_class_ramp.pt'\n",
    "\n",
    "try: \n",
    "    model_ft.load_state_dic(torch.load(model_path))\n",
    "except RuntimeError as e:\n",
    "        model_ft.load_state_dict(torch.load(model_path, map_location='cpu'))"
   ]
  },
  {
   "cell_type": "code",
   "execution_count": 18,
   "metadata": {},
   "outputs": [
    {
     "data": {
      "text/plain": [
       "'/home/ec2-user/SageMaker/sidewalk-cv-assets19/w210_experiments'"
      ]
     },
     "execution_count": 18,
     "metadata": {},
     "output_type": "execute_result"
    }
   ],
   "source": [
    "os.getcwd()"
   ]
  },
  {
   "cell_type": "code",
   "execution_count": null,
   "metadata": {},
   "outputs": [],
   "source": []
  }
 ],
 "metadata": {
  "kernelspec": {
   "display_name": "conda_pytorch_p36",
   "language": "python",
   "name": "conda_pytorch_p36"
  },
  "language_info": {
   "codemirror_mode": {
    "name": "ipython",
    "version": 3
   },
   "file_extension": ".py",
   "mimetype": "text/x-python",
   "name": "python",
   "nbconvert_exporter": "python",
   "pygments_lexer": "ipython3",
   "version": "3.6.5"
  }
 },
 "nbformat": 4,
 "nbformat_minor": 4
}
