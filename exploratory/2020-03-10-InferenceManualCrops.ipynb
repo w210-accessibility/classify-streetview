{
 "cells": [
  {
   "cell_type": "code",
   "execution_count": 1,
   "metadata": {},
   "outputs": [],
   "source": [
    "import pandas as pd\n",
    "import os\n",
    "import s3fs # for reading from S3FileSystem\n",
    "import json\n",
    "\n",
    "%matplotlib inline\n",
    "import matplotlib.pyplot as plt\n",
    "\n",
    "\n",
    "import torch.nn as nn\n",
    "import torch\n",
    "import torch.utils.model_zoo as model_zoo\n",
    "import numpy as np\n",
    "\n",
    "import torchvision.models as models # To get ResNet18\n",
    "\n",
    "# From - https://github.com/cfotache/pytorch_imageclassifier/blob/master/PyTorch_Image_Inference.ipynb\n",
    "import torch\n",
    "from torch import nn\n",
    "from torch import optim\n",
    "import torch.nn.functional as F\n",
    "from torchvision import datasets, transforms\n",
    "from PIL import Image\n",
    "from torch.autograd import Variable\n",
    "\n",
    "from torch.utils.data.sampler import SubsetRandomSampler"
   ]
  },
  {
   "cell_type": "markdown",
   "metadata": {},
   "source": [
    "# Prepare the Model"
   ]
  },
  {
   "cell_type": "code",
   "execution_count": 2,
   "metadata": {},
   "outputs": [],
   "source": [
    "SAGEMAKER_PATH = r'/home/ec2-user/SageMaker'\n",
    "\n",
    "MODEL_PATH = os.path.join(SAGEMAKER_PATH, r'sidewalk-cv-assets19/pytorch_pretrained/models/20e_slid_win_no_feats_r18.pt')"
   ]
  },
  {
   "cell_type": "code",
   "execution_count": 3,
   "metadata": {},
   "outputs": [
    {
     "data": {
      "text/plain": [
       "True"
      ]
     },
     "execution_count": 3,
     "metadata": {},
     "output_type": "execute_result"
    }
   ],
   "source": [
    "os.path.exists(MODEL_PATH)"
   ]
  },
  {
   "cell_type": "code",
   "execution_count": 4,
   "metadata": {},
   "outputs": [
    {
     "data": {
      "text/plain": [
       "device(type='cuda')"
      ]
     },
     "execution_count": 4,
     "metadata": {},
     "output_type": "execute_result"
    }
   ],
   "source": [
    "device = torch.device(\"cuda\" if torch.cuda.is_available() else \"cpu\")\n",
    "device"
   ]
  },
  {
   "cell_type": "code",
   "execution_count": 5,
   "metadata": {},
   "outputs": [],
   "source": [
    "# Use PyTorch's ResNet18\n",
    "# https://stackoverflow.com/questions/53612835/size-mismatch-for-fc-bias-and-fc-weight-in-pytorch\n",
    "model = models.resnet18(num_classes=5)  "
   ]
  },
  {
   "cell_type": "code",
   "execution_count": 6,
   "metadata": {},
   "outputs": [
    {
     "data": {
      "text/plain": [
       "ResNet(\n",
       "  (conv1): Conv2d(3, 64, kernel_size=(7, 7), stride=(2, 2), padding=(3, 3), bias=False)\n",
       "  (bn1): BatchNorm2d(64, eps=1e-05, momentum=0.1, affine=True, track_running_stats=True)\n",
       "  (relu): ReLU(inplace=True)\n",
       "  (maxpool): MaxPool2d(kernel_size=3, stride=2, padding=1, dilation=1, ceil_mode=False)\n",
       "  (layer1): Sequential(\n",
       "    (0): BasicBlock(\n",
       "      (conv1): Conv2d(64, 64, kernel_size=(3, 3), stride=(1, 1), padding=(1, 1), bias=False)\n",
       "      (bn1): BatchNorm2d(64, eps=1e-05, momentum=0.1, affine=True, track_running_stats=True)\n",
       "      (relu): ReLU(inplace=True)\n",
       "      (conv2): Conv2d(64, 64, kernel_size=(3, 3), stride=(1, 1), padding=(1, 1), bias=False)\n",
       "      (bn2): BatchNorm2d(64, eps=1e-05, momentum=0.1, affine=True, track_running_stats=True)\n",
       "    )\n",
       "    (1): BasicBlock(\n",
       "      (conv1): Conv2d(64, 64, kernel_size=(3, 3), stride=(1, 1), padding=(1, 1), bias=False)\n",
       "      (bn1): BatchNorm2d(64, eps=1e-05, momentum=0.1, affine=True, track_running_stats=True)\n",
       "      (relu): ReLU(inplace=True)\n",
       "      (conv2): Conv2d(64, 64, kernel_size=(3, 3), stride=(1, 1), padding=(1, 1), bias=False)\n",
       "      (bn2): BatchNorm2d(64, eps=1e-05, momentum=0.1, affine=True, track_running_stats=True)\n",
       "    )\n",
       "  )\n",
       "  (layer2): Sequential(\n",
       "    (0): BasicBlock(\n",
       "      (conv1): Conv2d(64, 128, kernel_size=(3, 3), stride=(2, 2), padding=(1, 1), bias=False)\n",
       "      (bn1): BatchNorm2d(128, eps=1e-05, momentum=0.1, affine=True, track_running_stats=True)\n",
       "      (relu): ReLU(inplace=True)\n",
       "      (conv2): Conv2d(128, 128, kernel_size=(3, 3), stride=(1, 1), padding=(1, 1), bias=False)\n",
       "      (bn2): BatchNorm2d(128, eps=1e-05, momentum=0.1, affine=True, track_running_stats=True)\n",
       "      (downsample): Sequential(\n",
       "        (0): Conv2d(64, 128, kernel_size=(1, 1), stride=(2, 2), bias=False)\n",
       "        (1): BatchNorm2d(128, eps=1e-05, momentum=0.1, affine=True, track_running_stats=True)\n",
       "      )\n",
       "    )\n",
       "    (1): BasicBlock(\n",
       "      (conv1): Conv2d(128, 128, kernel_size=(3, 3), stride=(1, 1), padding=(1, 1), bias=False)\n",
       "      (bn1): BatchNorm2d(128, eps=1e-05, momentum=0.1, affine=True, track_running_stats=True)\n",
       "      (relu): ReLU(inplace=True)\n",
       "      (conv2): Conv2d(128, 128, kernel_size=(3, 3), stride=(1, 1), padding=(1, 1), bias=False)\n",
       "      (bn2): BatchNorm2d(128, eps=1e-05, momentum=0.1, affine=True, track_running_stats=True)\n",
       "    )\n",
       "  )\n",
       "  (layer3): Sequential(\n",
       "    (0): BasicBlock(\n",
       "      (conv1): Conv2d(128, 256, kernel_size=(3, 3), stride=(2, 2), padding=(1, 1), bias=False)\n",
       "      (bn1): BatchNorm2d(256, eps=1e-05, momentum=0.1, affine=True, track_running_stats=True)\n",
       "      (relu): ReLU(inplace=True)\n",
       "      (conv2): Conv2d(256, 256, kernel_size=(3, 3), stride=(1, 1), padding=(1, 1), bias=False)\n",
       "      (bn2): BatchNorm2d(256, eps=1e-05, momentum=0.1, affine=True, track_running_stats=True)\n",
       "      (downsample): Sequential(\n",
       "        (0): Conv2d(128, 256, kernel_size=(1, 1), stride=(2, 2), bias=False)\n",
       "        (1): BatchNorm2d(256, eps=1e-05, momentum=0.1, affine=True, track_running_stats=True)\n",
       "      )\n",
       "    )\n",
       "    (1): BasicBlock(\n",
       "      (conv1): Conv2d(256, 256, kernel_size=(3, 3), stride=(1, 1), padding=(1, 1), bias=False)\n",
       "      (bn1): BatchNorm2d(256, eps=1e-05, momentum=0.1, affine=True, track_running_stats=True)\n",
       "      (relu): ReLU(inplace=True)\n",
       "      (conv2): Conv2d(256, 256, kernel_size=(3, 3), stride=(1, 1), padding=(1, 1), bias=False)\n",
       "      (bn2): BatchNorm2d(256, eps=1e-05, momentum=0.1, affine=True, track_running_stats=True)\n",
       "    )\n",
       "  )\n",
       "  (layer4): Sequential(\n",
       "    (0): BasicBlock(\n",
       "      (conv1): Conv2d(256, 512, kernel_size=(3, 3), stride=(2, 2), padding=(1, 1), bias=False)\n",
       "      (bn1): BatchNorm2d(512, eps=1e-05, momentum=0.1, affine=True, track_running_stats=True)\n",
       "      (relu): ReLU(inplace=True)\n",
       "      (conv2): Conv2d(512, 512, kernel_size=(3, 3), stride=(1, 1), padding=(1, 1), bias=False)\n",
       "      (bn2): BatchNorm2d(512, eps=1e-05, momentum=0.1, affine=True, track_running_stats=True)\n",
       "      (downsample): Sequential(\n",
       "        (0): Conv2d(256, 512, kernel_size=(1, 1), stride=(2, 2), bias=False)\n",
       "        (1): BatchNorm2d(512, eps=1e-05, momentum=0.1, affine=True, track_running_stats=True)\n",
       "      )\n",
       "    )\n",
       "    (1): BasicBlock(\n",
       "      (conv1): Conv2d(512, 512, kernel_size=(3, 3), stride=(1, 1), padding=(1, 1), bias=False)\n",
       "      (bn1): BatchNorm2d(512, eps=1e-05, momentum=0.1, affine=True, track_running_stats=True)\n",
       "      (relu): ReLU(inplace=True)\n",
       "      (conv2): Conv2d(512, 512, kernel_size=(3, 3), stride=(1, 1), padding=(1, 1), bias=False)\n",
       "      (bn2): BatchNorm2d(512, eps=1e-05, momentum=0.1, affine=True, track_running_stats=True)\n",
       "    )\n",
       "  )\n",
       "  (avgpool): AdaptiveAvgPool2d(output_size=(1, 1))\n",
       "  (fc): Linear(in_features=512, out_features=5, bias=True)\n",
       ")"
      ]
     },
     "execution_count": 6,
     "metadata": {},
     "output_type": "execute_result"
    }
   ],
   "source": [
    "model.to(device)"
   ]
  },
  {
   "cell_type": "code",
   "execution_count": 7,
   "metadata": {},
   "outputs": [
    {
     "data": {
      "text/plain": [
       "ResNet(\n",
       "  (conv1): Conv2d(3, 64, kernel_size=(7, 7), stride=(2, 2), padding=(3, 3), bias=False)\n",
       "  (bn1): BatchNorm2d(64, eps=1e-05, momentum=0.1, affine=True, track_running_stats=True)\n",
       "  (relu): ReLU(inplace=True)\n",
       "  (maxpool): MaxPool2d(kernel_size=3, stride=2, padding=1, dilation=1, ceil_mode=False)\n",
       "  (layer1): Sequential(\n",
       "    (0): BasicBlock(\n",
       "      (conv1): Conv2d(64, 64, kernel_size=(3, 3), stride=(1, 1), padding=(1, 1), bias=False)\n",
       "      (bn1): BatchNorm2d(64, eps=1e-05, momentum=0.1, affine=True, track_running_stats=True)\n",
       "      (relu): ReLU(inplace=True)\n",
       "      (conv2): Conv2d(64, 64, kernel_size=(3, 3), stride=(1, 1), padding=(1, 1), bias=False)\n",
       "      (bn2): BatchNorm2d(64, eps=1e-05, momentum=0.1, affine=True, track_running_stats=True)\n",
       "    )\n",
       "    (1): BasicBlock(\n",
       "      (conv1): Conv2d(64, 64, kernel_size=(3, 3), stride=(1, 1), padding=(1, 1), bias=False)\n",
       "      (bn1): BatchNorm2d(64, eps=1e-05, momentum=0.1, affine=True, track_running_stats=True)\n",
       "      (relu): ReLU(inplace=True)\n",
       "      (conv2): Conv2d(64, 64, kernel_size=(3, 3), stride=(1, 1), padding=(1, 1), bias=False)\n",
       "      (bn2): BatchNorm2d(64, eps=1e-05, momentum=0.1, affine=True, track_running_stats=True)\n",
       "    )\n",
       "  )\n",
       "  (layer2): Sequential(\n",
       "    (0): BasicBlock(\n",
       "      (conv1): Conv2d(64, 128, kernel_size=(3, 3), stride=(2, 2), padding=(1, 1), bias=False)\n",
       "      (bn1): BatchNorm2d(128, eps=1e-05, momentum=0.1, affine=True, track_running_stats=True)\n",
       "      (relu): ReLU(inplace=True)\n",
       "      (conv2): Conv2d(128, 128, kernel_size=(3, 3), stride=(1, 1), padding=(1, 1), bias=False)\n",
       "      (bn2): BatchNorm2d(128, eps=1e-05, momentum=0.1, affine=True, track_running_stats=True)\n",
       "      (downsample): Sequential(\n",
       "        (0): Conv2d(64, 128, kernel_size=(1, 1), stride=(2, 2), bias=False)\n",
       "        (1): BatchNorm2d(128, eps=1e-05, momentum=0.1, affine=True, track_running_stats=True)\n",
       "      )\n",
       "    )\n",
       "    (1): BasicBlock(\n",
       "      (conv1): Conv2d(128, 128, kernel_size=(3, 3), stride=(1, 1), padding=(1, 1), bias=False)\n",
       "      (bn1): BatchNorm2d(128, eps=1e-05, momentum=0.1, affine=True, track_running_stats=True)\n",
       "      (relu): ReLU(inplace=True)\n",
       "      (conv2): Conv2d(128, 128, kernel_size=(3, 3), stride=(1, 1), padding=(1, 1), bias=False)\n",
       "      (bn2): BatchNorm2d(128, eps=1e-05, momentum=0.1, affine=True, track_running_stats=True)\n",
       "    )\n",
       "  )\n",
       "  (layer3): Sequential(\n",
       "    (0): BasicBlock(\n",
       "      (conv1): Conv2d(128, 256, kernel_size=(3, 3), stride=(2, 2), padding=(1, 1), bias=False)\n",
       "      (bn1): BatchNorm2d(256, eps=1e-05, momentum=0.1, affine=True, track_running_stats=True)\n",
       "      (relu): ReLU(inplace=True)\n",
       "      (conv2): Conv2d(256, 256, kernel_size=(3, 3), stride=(1, 1), padding=(1, 1), bias=False)\n",
       "      (bn2): BatchNorm2d(256, eps=1e-05, momentum=0.1, affine=True, track_running_stats=True)\n",
       "      (downsample): Sequential(\n",
       "        (0): Conv2d(128, 256, kernel_size=(1, 1), stride=(2, 2), bias=False)\n",
       "        (1): BatchNorm2d(256, eps=1e-05, momentum=0.1, affine=True, track_running_stats=True)\n",
       "      )\n",
       "    )\n",
       "    (1): BasicBlock(\n",
       "      (conv1): Conv2d(256, 256, kernel_size=(3, 3), stride=(1, 1), padding=(1, 1), bias=False)\n",
       "      (bn1): BatchNorm2d(256, eps=1e-05, momentum=0.1, affine=True, track_running_stats=True)\n",
       "      (relu): ReLU(inplace=True)\n",
       "      (conv2): Conv2d(256, 256, kernel_size=(3, 3), stride=(1, 1), padding=(1, 1), bias=False)\n",
       "      (bn2): BatchNorm2d(256, eps=1e-05, momentum=0.1, affine=True, track_running_stats=True)\n",
       "    )\n",
       "  )\n",
       "  (layer4): Sequential(\n",
       "    (0): BasicBlock(\n",
       "      (conv1): Conv2d(256, 512, kernel_size=(3, 3), stride=(2, 2), padding=(1, 1), bias=False)\n",
       "      (bn1): BatchNorm2d(512, eps=1e-05, momentum=0.1, affine=True, track_running_stats=True)\n",
       "      (relu): ReLU(inplace=True)\n",
       "      (conv2): Conv2d(512, 512, kernel_size=(3, 3), stride=(1, 1), padding=(1, 1), bias=False)\n",
       "      (bn2): BatchNorm2d(512, eps=1e-05, momentum=0.1, affine=True, track_running_stats=True)\n",
       "      (downsample): Sequential(\n",
       "        (0): Conv2d(256, 512, kernel_size=(1, 1), stride=(2, 2), bias=False)\n",
       "        (1): BatchNorm2d(512, eps=1e-05, momentum=0.1, affine=True, track_running_stats=True)\n",
       "      )\n",
       "    )\n",
       "    (1): BasicBlock(\n",
       "      (conv1): Conv2d(512, 512, kernel_size=(3, 3), stride=(1, 1), padding=(1, 1), bias=False)\n",
       "      (bn1): BatchNorm2d(512, eps=1e-05, momentum=0.1, affine=True, track_running_stats=True)\n",
       "      (relu): ReLU(inplace=True)\n",
       "      (conv2): Conv2d(512, 512, kernel_size=(3, 3), stride=(1, 1), padding=(1, 1), bias=False)\n",
       "      (bn2): BatchNorm2d(512, eps=1e-05, momentum=0.1, affine=True, track_running_stats=True)\n",
       "    )\n",
       "  )\n",
       "  (avgpool): AdaptiveAvgPool2d(output_size=(1, 1))\n",
       "  (fc): Linear(in_features=512, out_features=5, bias=True)\n",
       ")"
      ]
     },
     "execution_count": 7,
     "metadata": {},
     "output_type": "execute_result"
    }
   ],
   "source": [
    "model.load_state_dict(torch.load(MODEL_PATH))\n",
    "model.eval()"
   ]
  },
  {
   "cell_type": "markdown",
   "metadata": {},
   "source": [
    "# Prep Data"
   ]
  },
  {
   "cell_type": "code",
   "execution_count": 33,
   "metadata": {},
   "outputs": [],
   "source": [
    "# From Galen\n",
    "\n",
    "test_transforms = transforms.Compose([\n",
    "    transforms.Resize(256),\n",
    "    transforms.CenterCrop(224),\n",
    "    transforms.ToTensor(),\n",
    "    transforms.Normalize([0.485, 0.456, 0.406], [0.229, 0.224, 0.225])\n",
    "    ])\n",
    "\n",
    "#device = torch.device(\"cuda:0\" if torch.cuda.is_available() else \"cpu\")\n",
    "\n",
    "# the dataset loads the files into pytorch vectors\n",
    "#image_dataset = TwoFileFolder(dir_containing_crops, meta_to_tensor_version=2, transform=data_transform)\n",
    "\n",
    "# the dataloader takes these vectors and batches them together for parallelization, increasing performance\n",
    "#dataloader    = torch.utils.data.DataLoader(image_dataset, batch_size=4, shuffle=True, num_workers=4)\n",
    "\n",
    "# this is the number of additional features provided by the dataset\n",
    "#len_ex_feats = image_dataset.len_ex_feats\n",
    "#dataset_size = len(image_dataset)"
   ]
  },
  {
   "cell_type": "code",
   "execution_count": 34,
   "metadata": {},
   "outputs": [
    {
     "data": {
      "text/plain": [
       "['0_missing', '1_null', '2_obstacle', '3_present', '4_surface_prob']"
      ]
     },
     "execution_count": 34,
     "metadata": {},
     "output_type": "execute_result"
    }
   ],
   "source": [
    "# Load in the data\n",
    "data_dir = 'crops'\n",
    "\n",
    "data = datasets.ImageFolder(data_dir, transform=test_transforms)\n",
    "classes = data.classes\n",
    "classes"
   ]
  },
  {
   "cell_type": "code",
   "execution_count": 12,
   "metadata": {},
   "outputs": [
    {
     "name": "stdout",
     "output_type": "stream",
     "text": [
      ".  ..  0_missing  1_null  2_obstacle  3_present  4_surface_prob\n"
     ]
    }
   ],
   "source": [
    "!ls -a crops"
   ]
  },
  {
   "cell_type": "code",
   "execution_count": 83,
   "metadata": {},
   "outputs": [],
   "source": [
    "#!rm -f -r images/.ipynb_checkpoints/"
   ]
  },
  {
   "cell_type": "code",
   "execution_count": 13,
   "metadata": {},
   "outputs": [
    {
     "data": {
      "text/plain": [
       "['0_missing', '1_null', '2_obstacle', '3_present', '4_surface_prob']"
      ]
     },
     "execution_count": 13,
     "metadata": {},
     "output_type": "execute_result"
    }
   ],
   "source": [
    "# Examine the classes based on folders... \n",
    "# Need to make sure that we don't get a .ipynb_checkpoints as a folder\n",
    "# Discussion here - https://forums.fast.ai/t/how-to-remove-ipynb-checkpoint/8532/19\n",
    "classes"
   ]
  },
  {
   "cell_type": "code",
   "execution_count": 35,
   "metadata": {},
   "outputs": [
    {
     "name": "stdout",
     "output_type": "stream",
     "text": [
      "[0, 1, 2, 3, 4, 5, 6, 7, 8, 9, 10, 11, 12, 13, 14, 15, 16, 17, 18, 19, 20, 21]\n"
     ]
    }
   ],
   "source": [
    "num = 30\n",
    "\n",
    "indices = list(range(len(data)))\n",
    "print(indices)\n",
    "np.random.shuffle(indices)\n",
    "idx = indices[:num]\n",
    "\n",
    "test_transforms = transforms.Compose([transforms.Resize(224),\n",
    "                                      transforms.ToTensor(),\n",
    "                                     ])\n",
    "\n",
    "#sampler = SubsetRandomSampler(idx)\n",
    "loader = torch.utils.data.DataLoader(data, batch_size=num)\n",
    "dataiter = iter(loader)\n",
    "images, labels = dataiter.next()"
   ]
  },
  {
   "cell_type": "code",
   "execution_count": 36,
   "metadata": {},
   "outputs": [
    {
     "data": {
      "text/plain": [
       "22"
      ]
     },
     "execution_count": 36,
     "metadata": {},
     "output_type": "execute_result"
    }
   ],
   "source": [
    "len(images)"
   ]
  },
  {
   "cell_type": "code",
   "execution_count": 37,
   "metadata": {},
   "outputs": [
    {
     "data": {
      "text/plain": [
       "tensor([[[-1.7069, -1.7412, -1.7583,  ...,  0.0398,  0.1426,  0.3994],\n",
       "         [-1.7412, -1.7583, -1.7754,  ..., -0.0458,  0.1254,  0.3823],\n",
       "         [-1.7412, -1.7583, -1.7754,  ..., -0.1657,  0.0741,  0.3994],\n",
       "         ...,\n",
       "         [ 0.8104,  0.7591,  0.7077,  ...,  0.6049,  0.5878,  0.5707],\n",
       "         [ 0.6906,  0.6392,  0.6049,  ...,  0.5707,  0.5707,  0.5364],\n",
       "         [ 0.5707,  0.5364,  0.5193,  ...,  0.4851,  0.4851,  0.4851]],\n",
       "\n",
       "        [[-1.5630, -1.5980, -1.6155,  ...,  0.0301,  0.1352,  0.3803],\n",
       "         [-1.5980, -1.6155, -1.6331,  ..., -0.0574,  0.1176,  0.3627],\n",
       "         [-1.5980, -1.6155, -1.6331,  ..., -0.1800,  0.0651,  0.3978],\n",
       "         ...,\n",
       "         [ 0.8179,  0.7654,  0.7129,  ...,  0.5378,  0.5203,  0.5028],\n",
       "         [ 0.6954,  0.6429,  0.6078,  ...,  0.5203,  0.5028,  0.4853],\n",
       "         [ 0.5903,  0.5553,  0.5378,  ...,  0.4503,  0.4328,  0.4503]],\n",
       "\n",
       "        [[-1.4733, -1.4907, -1.5081,  ..., -0.0790,  0.0256,  0.2871],\n",
       "         [-1.5081, -1.5256, -1.5256,  ..., -0.1661,  0.0082,  0.2696],\n",
       "         [-1.5081, -1.5256, -1.5256,  ..., -0.3055, -0.0441,  0.3045],\n",
       "         ...,\n",
       "         [ 0.8099,  0.7576,  0.7054,  ...,  0.5311,  0.5136,  0.4962],\n",
       "         [ 0.6705,  0.6182,  0.5834,  ...,  0.5311,  0.5136,  0.4962],\n",
       "         [ 0.5485,  0.5136,  0.4788,  ...,  0.4614,  0.4439,  0.4614]]])"
      ]
     },
     "execution_count": 37,
     "metadata": {},
     "output_type": "execute_result"
    }
   ],
   "source": [
    "# Look at the first image\n",
    "images[0]"
   ]
  },
  {
   "cell_type": "code",
   "execution_count": 38,
   "metadata": {},
   "outputs": [
    {
     "data": {
      "text/plain": [
       "22"
      ]
     },
     "execution_count": 38,
     "metadata": {},
     "output_type": "execute_result"
    }
   ],
   "source": [
    "len(labels)"
   ]
  },
  {
   "cell_type": "code",
   "execution_count": 39,
   "metadata": {},
   "outputs": [
    {
     "data": {
      "text/plain": [
       "tensor([0, 0, 0, 0, 0, 1, 1, 1, 1, 2, 2, 2, 2, 3, 3, 3, 3, 4, 4, 4, 4, 4])"
      ]
     },
     "execution_count": 39,
     "metadata": {},
     "output_type": "execute_result"
    }
   ],
   "source": [
    "labels"
   ]
  },
  {
   "cell_type": "code",
   "execution_count": 40,
   "metadata": {},
   "outputs": [],
   "source": [
    "# Note on how to make sure the model and the input tensors are both on cuda device (gpu)\n",
    "# https://discuss.pytorch.org/t/runtimeerror-input-type-torch-cuda-floattensor-and-weight-type-torch-floattensor-should-be-the-same/21782/6"
   ]
  },
  {
   "cell_type": "code",
   "execution_count": 41,
   "metadata": {},
   "outputs": [],
   "source": [
    "def predict_image(image, model):\n",
    "    image_tensor = test_transforms(image).float()\n",
    "    image_tensor = image_tensor.unsqueeze_(0)\n",
    "    input = Variable(image_tensor)\n",
    "    input = input.to(device)\n",
    "    output = model(input)\n",
    "    index = output.data.cpu().numpy().argmax()\n",
    "    return index, output  "
   ]
  },
  {
   "cell_type": "code",
   "execution_count": 42,
   "metadata": {},
   "outputs": [
    {
     "name": "stdout",
     "output_type": "stream",
     "text": [
      "*************************\n",
      "actual class: 0_missing\n",
      "predicted class: 1_null\n",
      "output: tensor([[-1.3227,  4.9604,  0.5491, -1.0336, -3.3085]], device='cuda:0',\n",
      "       grad_fn=<AddmmBackward>)\n",
      "Result: False\n",
      "*************************\n",
      "actual class: 0_missing\n",
      "predicted class: 1_null\n",
      "output: tensor([[-1.0689,  5.0198, -2.0848,  0.6828, -2.7331]], device='cuda:0',\n",
      "       grad_fn=<AddmmBackward>)\n",
      "Result: False\n",
      "*************************\n",
      "actual class: 0_missing\n",
      "predicted class: 1_null\n",
      "output: tensor([[-1.7641,  6.1712, -2.0229, -1.1096, -1.6082]], device='cuda:0',\n",
      "       grad_fn=<AddmmBackward>)\n",
      "Result: False\n",
      "*************************\n",
      "actual class: 0_missing\n",
      "predicted class: 1_null\n",
      "output: tensor([[ 0.1227,  4.5093, -3.6574,  2.5368, -3.4724]], device='cuda:0',\n",
      "       grad_fn=<AddmmBackward>)\n",
      "Result: False\n",
      "*************************\n",
      "actual class: 0_missing\n",
      "predicted class: 1_null\n",
      "output: tensor([[-0.7428,  6.4917, -3.2734,  0.6698, -3.3447]], device='cuda:0',\n",
      "       grad_fn=<AddmmBackward>)\n",
      "Result: False\n",
      "*************************\n",
      "actual class: 1_null\n",
      "predicted class: 1_null\n",
      "output: tensor([[-1.5442,  5.5554, -1.7435,  0.1958, -2.8262]], device='cuda:0',\n",
      "       grad_fn=<AddmmBackward>)\n",
      "Result: True\n",
      "*************************\n",
      "actual class: 1_null\n",
      "predicted class: 1_null\n",
      "output: tensor([[-1.1310,  7.1689, -2.6973,  1.2785, -4.8688]], device='cuda:0',\n",
      "       grad_fn=<AddmmBackward>)\n",
      "Result: True\n",
      "*************************\n",
      "actual class: 1_null\n",
      "predicted class: 1_null\n",
      "output: tensor([[-0.9309,  4.3986, -3.3012,  1.2528, -1.5227]], device='cuda:0',\n",
      "       grad_fn=<AddmmBackward>)\n",
      "Result: True\n",
      "*************************\n",
      "actual class: 1_null\n",
      "predicted class: 1_null\n",
      "output: tensor([[-0.9706,  5.2959, -2.6768,  1.8617, -3.6557]], device='cuda:0',\n",
      "       grad_fn=<AddmmBackward>)\n",
      "Result: True\n",
      "*************************\n",
      "actual class: 2_obstacle\n",
      "predicted class: 1_null\n",
      "output: tensor([[-1.2592,  4.4817, -0.6105,  1.2151, -3.9978]], device='cuda:0',\n",
      "       grad_fn=<AddmmBackward>)\n",
      "Result: False\n",
      "*************************\n",
      "actual class: 2_obstacle\n",
      "predicted class: 2_obstacle\n",
      "output: tensor([[-2.3403,  2.2923,  3.8161,  0.2089, -3.9792]], device='cuda:0',\n",
      "       grad_fn=<AddmmBackward>)\n",
      "Result: True\n",
      "*************************\n",
      "actual class: 2_obstacle\n",
      "predicted class: 1_null\n",
      "output: tensor([[-1.1393,  5.5833, -1.1820, -0.0158, -3.4998]], device='cuda:0',\n",
      "       grad_fn=<AddmmBackward>)\n",
      "Result: False\n",
      "*************************\n",
      "actual class: 2_obstacle\n",
      "predicted class: 1_null\n",
      "output: tensor([[-1.1802,  4.7096,  0.4284, -0.1559, -4.0312]], device='cuda:0',\n",
      "       grad_fn=<AddmmBackward>)\n",
      "Result: False\n",
      "*************************\n",
      "actual class: 3_present\n",
      "predicted class: 1_null\n",
      "output: tensor([[-1.0694,  4.9677, -2.5862,  0.7246, -2.2189]], device='cuda:0',\n",
      "       grad_fn=<AddmmBackward>)\n",
      "Result: False\n",
      "*************************\n",
      "actual class: 3_present\n",
      "predicted class: 1_null\n",
      "output: tensor([[ 0.3953,  2.9675, -3.2470,  2.8960, -2.9272]], device='cuda:0',\n",
      "       grad_fn=<AddmmBackward>)\n",
      "Result: False\n",
      "*************************\n",
      "actual class: 3_present\n",
      "predicted class: 1_null\n",
      "output: tensor([[-0.8900,  7.4138, -3.6805,  1.6710, -4.6847]], device='cuda:0',\n",
      "       grad_fn=<AddmmBackward>)\n",
      "Result: False\n",
      "*************************\n",
      "actual class: 3_present\n",
      "predicted class: 1_null\n",
      "output: tensor([[-0.7376,  5.3255, -3.9096,  1.0021, -1.8025]], device='cuda:0',\n",
      "       grad_fn=<AddmmBackward>)\n",
      "Result: False\n",
      "*************************\n",
      "actual class: 4_surface_prob\n",
      "predicted class: 1_null\n",
      "output: tensor([[-1.0339,  6.5756, -1.5875,  0.2969, -4.6197]], device='cuda:0',\n",
      "       grad_fn=<AddmmBackward>)\n",
      "Result: False\n",
      "*************************\n",
      "actual class: 4_surface_prob\n",
      "predicted class: 1_null\n",
      "output: tensor([[-0.5553,  7.2526, -3.5389,  1.4754, -4.7742]], device='cuda:0',\n",
      "       grad_fn=<AddmmBackward>)\n",
      "Result: False\n",
      "*************************\n",
      "actual class: 4_surface_prob\n",
      "predicted class: 1_null\n",
      "output: tensor([[-0.6426,  4.5390, -3.1917,  1.3243, -2.1585]], device='cuda:0',\n",
      "       grad_fn=<AddmmBackward>)\n",
      "Result: False\n",
      "*************************\n",
      "actual class: 4_surface_prob\n",
      "predicted class: 1_null\n",
      "output: tensor([[-1.7892,  6.6631, -1.9649,  0.0551, -3.3440]], device='cuda:0',\n",
      "       grad_fn=<AddmmBackward>)\n",
      "Result: False\n",
      "*************************\n",
      "actual class: 4_surface_prob\n",
      "predicted class: 1_null\n",
      "output: tensor([[-3.0845,  4.5468,  0.9884,  0.2095, -3.0809]], device='cuda:0',\n",
      "       grad_fn=<AddmmBackward>)\n",
      "Result: False\n"
     ]
    },
    {
     "data": {
      "text/plain": [
       "<Figure size 432x288 with 0 Axes>"
      ]
     },
     "metadata": {},
     "output_type": "display_data"
    },
    {
     "data": {
      "image/png": "[encoded data removed]",
      "text/plain": [
       "<Figure size 720x720 with 22 Axes>"
      ]
     },
     "metadata": {},
     "output_type": "display_data"
    }
   ],
   "source": [
    "plt.cla()\n",
    "plt.clf()\n",
    "\n",
    "to_pil = transforms.ToPILImage()\n",
    "#images, labels = get_random_images(5)\n",
    "fig=plt.figure(figsize=(10,10))\n",
    "short_images = images\n",
    "for ii in range(len(short_images)):\n",
    "    image = to_pil(images[ii])\n",
    "    index, output = predict_image(image, model)\n",
    "    print('*************************')\n",
    "    print(f'actual class: {str(classes[int(labels[ii])])}')\n",
    "    print(f'predicted class: {str(classes[index])}')\n",
    "    print(f'output: {output}')\n",
    "    sub = fig.add_subplot(1, len(images), ii+1)\n",
    "    res = int(labels[ii]) == index\n",
    "    print(f'Result: {res}')\n",
    "    sub.set_title(str(classes[index]) + \":\" + str(res))\n",
    "    plt.axis('off')\n",
    "    plt.imshow(image)\n",
    "plt.show()"
   ]
  },
  {
   "cell_type": "code",
   "execution_count": 109,
   "metadata": {},
   "outputs": [
    {
     "data": {
      "text/plain": [
       "False"
      ]
     },
     "execution_count": 109,
     "metadata": {},
     "output_type": "execute_result"
    }
   ],
   "source": [
    "res"
   ]
  },
  {
   "cell_type": "markdown",
   "metadata": {},
   "source": [
    "# Comments and Questions\n",
    "\n",
    "What's the order of the labels (and how I should order the folders for the input data?) \n",
    "\n",
    "This file implies that there are different orders\n",
    "https://github.com/ProjectSidewalk/sidewalk-cv-assets19/blob/master/GSVutils/sliding_window.py\n",
    "\n",
    "```label_from_int = ('Curb Cut', 'Missing Cut', 'Obstruction', 'Sfc Problem')\n",
    "pytorch_label_from_int = ('Missing Cut', \"Null\", 'Obstruction', \"Curb Cut\", \"Sfc Problem\")```"
   ]
  },
  {
   "cell_type": "code",
   "execution_count": null,
   "metadata": {},
   "outputs": [],
   "source": []
  }
 ],
 "metadata": {
  "kernelspec": {
   "display_name": "conda_pytorch_p36",
   "language": "python",
   "name": "conda_pytorch_p36"
  },
  "language_info": {
   "codemirror_mode": {
    "name": "ipython",
    "version": 3
   },
   "file_extension": ".py",
   "mimetype": "text/x-python",
   "name": "python",
   "nbconvert_exporter": "python",
   "pygments_lexer": "ipython3",
   "version": "3.6.5"
  }
 },
 "nbformat": 4,
 "nbformat_minor": 4
}
