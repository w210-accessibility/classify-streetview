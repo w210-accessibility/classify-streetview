{
 "cells": [
  {
   "cell_type": "markdown",
   "metadata": {},
   "source": [
    "# Produce CSVs for new cities\n",
    "\n",
    "Adapted from make_train_test_sets.ipynb\n",
    "\n",
    "Use these CSVs with the CropMaker script to produce training and test sets"
   ]
  },
  {
   "cell_type": "markdown",
   "metadata": {},
   "source": [
    "## March 2020 Updates\n",
    "Modifications by Annie Lane"
   ]
  },
  {
   "cell_type": "code",
   "execution_count": 1,
   "metadata": {},
   "outputs": [
    {
     "data": {
      "text/plain": [
       "'/home/ec2-user/SageMaker/classify-streetview/crop-images'"
      ]
     },
     "execution_count": 1,
     "metadata": {},
     "output_type": "execute_result"
    }
   ],
   "source": [
    "import os\n",
    "os.getcwd()"
   ]
  },
  {
   "cell_type": "code",
   "execution_count": 5,
   "metadata": {},
   "outputs": [],
   "source": [
    "import sys\n",
    "#sys.path.append('/mnt/c/Users/gweld/sidewalk/sidewalk_ml/')\n",
    "sys.path.append('/home/ec2-user/SageMaker/sidewalk-cv-assets19')\n",
    "\n",
    "import GSVutils.utils # Had to update line 384 of utils to remove error\n",
    "from GSVutils.utils import GSV_IMAGE_WIDTH, GSV_IMAGE_HEIGHT\n",
    "from GSVutils.point import Point\n",
    "import numpy as np\n",
    "import csv\n",
    "from collections import defaultdict\n",
    "import random"
   ]
  },
  {
   "cell_type": "code",
   "execution_count": 13,
   "metadata": {},
   "outputs": [],
   "source": [
    "#path_to_db_export = 'newberg-labels.csv'\n",
    "#path_to_db_export = 'seattle-labels.csv'\n",
    "path_to_db_export = 'mke-labels.csv'"
   ]
  },
  {
   "cell_type": "code",
   "execution_count": 36,
   "metadata": {},
   "outputs": [
    {
     "name": "stdout",
     "output_type": "stream",
     "text": [
      "gsv_panorama_id,sv_image_x,sv_image_y,label_type_id,photagrapher_heading,heading,is_researcher\n",
      "\n",
      "stxXyCKAbd73DmkM2vsIHA,9676,-455,1,50.4137916565,253.375,t\n",
      "\n",
      "stxXyCKAbd73DmkM2vsIHA,8203,-355,1,50.4137916565,200,t\n",
      "\n"
     ]
    }
   ],
   "source": [
    "with open(path_to_db_export) as f:\n",
    "    print f.next()\n",
    "    print f.next()\n",
    "    print f.next()"
   ]
  },
  {
   "cell_type": "markdown",
   "metadata": {},
   "source": [
    "# We'll start by loading all features into objects associated with their parent panos"
   ]
  },
  {
   "cell_type": "code",
   "execution_count": 37,
   "metadata": {},
   "outputs": [],
   "source": [
    "class Feat(object):\n",
    "    def __init__(self, row):\n",
    "        self.pano_id = row[0]\n",
    "        self.sv_image_x = float(row[1])\n",
    "        self.sv_image_y = float(row[2])\n",
    "        self.label_type = int(row[3])\n",
    "        self.photographer_heading = float(row[4]) if row[4] is not None else None\n",
    "        self.heading = float(row[5]) if row[5] is not None else None\n",
    "        self.is_researcher = row[6] == 't'  if row[6] is not None else None\n",
    "        \n",
    "    def to_row(self):\n",
    "        row =[]\n",
    "        row.append(self.pano_id)\n",
    "        row.append(self.sv_image_x)\n",
    "        row.append(self.sv_image_y)\n",
    "        row.append(self.label_type)\n",
    "        row.append(self.photographer_heading)\n",
    "        row.append(self.heading)\n",
    "        row.append(self.label_id)\n",
    "        return row\n",
    "    \n",
    "    def point(self):\n",
    "        return Point( self.sv_image_x, self.sv_image_y )\n",
    "    \n",
    "    def __str__(self):\n",
    "        label = GSVutils.utils.label_from_int[self.label_type-1]\n",
    "        return '{} at {}'.format(label, self.point() )\n",
    "    \n",
    "    @classmethod\n",
    "    def header_row(cls):\n",
    "        row = ['Pano ID','SV_x','SV_y','Label',\n",
    "               'Photographer Heading','Heading','Label ID']\n",
    "        return row"
   ]
  },
  {
   "cell_type": "code",
   "execution_count": 38,
   "metadata": {},
   "outputs": [],
   "source": [
    "class Pano(object):\n",
    "    \n",
    "    def __init__(self):\n",
    "        self.feats = {1:[], 2:[], 3:[], 4:[]}\n",
    "        self.pano_id        = None\n",
    "        self.photog_heading = None\n",
    "\n",
    "    def add_feature(self, row):\n",
    "        feat = Feat(row)\n",
    "        if self.pano_id is None:\n",
    "            self.pano_id = feat.pano_id\n",
    "        assert self.pano_id == feat.pano_id\n",
    "        \n",
    "        if self.photog_heading is None:\n",
    "            self.photog_heading = feat.photographer_heading\n",
    "        \n",
    "        self.feats[feat.label_type].append( feat )\n",
    "            \n",
    "    def __hash__(self):\n",
    "        return hash( self.pano_id )\n",
    "    \n",
    "    def all_feats(self):\n",
    "        ''' iterate over all features, regardless of type '''\n",
    "        for label, features in self.feats.iteritems():\n",
    "            for feature in features:\n",
    "                yield feature\n",
    "    \n",
    "    def __str__(self):\n",
    "        s = 'pano{}\\n'.format(self.pano_id)\n",
    "        for feat in self.all_feats():\n",
    "            s += '{}\\n'.format(feat)\n",
    "        return s\n",
    "    \n",
    "    def __len__(self):\n",
    "        ''' return the total number of feats in this pano '''\n",
    "        c = 0\n",
    "        for _ in self.all_feats():\n",
    "            c += 1\n",
    "        return c"
   ]
  },
  {
   "cell_type": "code",
   "execution_count": 39,
   "metadata": {},
   "outputs": [
    {
     "name": "stdout",
     "output_type": "stream",
     "text": [
      "Loaded features from 1098 panos\n",
      "Curb Cut            1063\n",
      "Missing Cut         566\n",
      "Obstruction         395\n",
      "Sfc Problem         513\n"
     ]
    }
   ],
   "source": [
    "counts = defaultdict(int)\n",
    "panos = defaultdict( Pano )\n",
    "\n",
    "with open(path_to_db_export) as dbfile:\n",
    "    reader = csv.reader(dbfile)\n",
    "    reader.next() # skip header\n",
    "    \n",
    "    for row in reader:\n",
    "        pano_id = row[0]\n",
    "        sv_image_x = float(row[1])\n",
    "        sv_image_y = float(row[2])\n",
    "        label_type = int(row[3])\n",
    "        photographer_heading = float(row[4])\n",
    "        heading = float(row[5])\n",
    "        \n",
    "        if len( pano_id ) < 2:\n",
    "            continue\n",
    "        \n",
    "        if label_type in (1,2,3,4):\n",
    "            # extract only ramp, missing ramps,\n",
    "            # sfc probs, and obstructions\n",
    "            panos[pano_id].add_feature( row )\n",
    "            \n",
    "            counts[label_type] += 1\n",
    "\n",
    "print(\"Loaded features from {} panos\".format( len(panos) )\n",
    "for feature, count in counts.iteritems():\n",
    "    name = GSVutils.utils.label_from_int[feature-1]\n",
    "    print \"{:<20}{}\".format(name, count)"
   ]
  },
  {
   "cell_type": "markdown",
   "metadata": {},
   "source": [
    "# Now we'll sliding window over the panos\n",
    "\n",
    "and assign labels to them based on proximity to true features"
   ]
  },
  {
   "cell_type": "code",
   "execution_count": 40,
   "metadata": {},
   "outputs": [],
   "source": [
    "def sliding_window(pano, stride=100, bottom_space=1600, side_space=300, cor_thresh=70):\n",
    "    ''' take in a pano and produce a set of feats, ready for writing to a file\n",
    "        labels assigned if the crop is within cor_thresh of a true label\n",
    "        \n",
    "        try cor_thresh = stride/sqrt(2)\n",
    "    '''\n",
    "    x, y = side_space, 0\n",
    "    while(y > - (GSV_IMAGE_HEIGHT/2 - bottom_space)):\n",
    "        while(x < GSV_IMAGE_WIDTH - side_space):\n",
    "            # do things in one row\n",
    "            \n",
    "            # check if there's any features near this x,y point\n",
    "            p = Point(x,y)\n",
    "            \n",
    "            label = 8 # for null\n",
    "            for feat in pano.all_feats():\n",
    "                if p.dist( feat.point() ) <= cor_thresh:\n",
    "                    if label == 8:\n",
    "                        label = feat.label_type\n",
    "                    else:\n",
    "                        if label != feat.label_type:\n",
    "                            #print \"Found conflicting labels, skipping.\"\n",
    "                            continue\n",
    "            row = [pano.pano_id, x, y, label, pano.photog_heading, None,None,None]\n",
    "            yield Feat(row)\n",
    "            \n",
    "            x += stride\n",
    "        y -= stride # jump down a row\n",
    "        x = side_space"
   ]
  },
  {
   "cell_type": "markdown",
   "metadata": {},
   "source": [
    "# We've got far too many nullcrops, now.\n",
    "\n",
    "Let's throw out a bunch so we only have a few per pano"
   ]
  },
  {
   "cell_type": "code",
   "execution_count": 116,
   "metadata": {},
   "outputs": [],
   "source": [
    "def cull_dataset_and_export_to_csv(dataset, file_to_write, nulls_per_pano=3):\n",
    "    print \"Computing sliding window for {} panos\".format( len(dataset) )\n",
    "    feats = defaultdict(set)\n",
    "    \n",
    "    panocount = 0 \n",
    "    for pano in dataset:\n",
    "        nulls = []\n",
    "        for feat in sliding_window(pano):\n",
    "            if feat.label_type != 8: feats[feat.label_type].add( feat )\n",
    "            elif feat.label_type == 8:\n",
    "                nulls.append(feat)\n",
    "        nulls_to_keep = random.sample(nulls, nulls_per_pano)\n",
    "        for feat in nulls_to_keep:\n",
    "            feats[feat.label_type].add( feat )\n",
    "        panocount += 1\n",
    "                    \n",
    "    print  '{:<18}{}'.format('Feature Type', 'Count')\n",
    "    \n",
    "    with open(file_to_write, 'w') as f:\n",
    "        writer = csv.writer(f)\n",
    "        writer.writerow( Feat.header_row() )\n",
    "        for label, fs in feats.iteritems():\n",
    "            label_t = GSVutils.utils.label_from_int[label-1] if label != 8 else 'Nullcrop'\n",
    "            c = 0\n",
    "            for feat in fs:\n",
    "                writer.writerow( feat.to_row() )\n",
    "                c += 1\n",
    "            print '{:<18}{}'.format(label_t, c)\n",
    "    print \"Wrote features from {} panos to {}\".format(panocount, file_to_write)"
   ]
  },
  {
   "cell_type": "code",
   "execution_count": 117,
   "metadata": {},
   "outputs": [
    {
     "name": "stdout",
     "output_type": "stream",
     "text": [
      "Processing Test set\n",
      "Computing sliding window for 5797 panos\n",
      "Feature Type      Count\n",
      "Nullcrop          17391\n",
      "Curb Cut          19451\n",
      "Missing Cut       2616\n",
      "Obstruction       3314\n",
      "Sfc Problem       1288\n",
      "Wrote features from 5797 panos to dataset_csvs/Test.csv\n",
      "Processing Train set\n",
      "Computing sliding window for 46463 panos\n",
      "Feature Type      Count\n",
      "Nullcrop          139389\n",
      "Curb Cut          159039\n",
      "Missing Cut       21552\n",
      "Obstruction       25162\n",
      "Sfc Problem       9933\n",
      "Wrote features from 46463 panos to dataset_csvs/Train.csv\n",
      "Processing Val set\n",
      "Computing sliding window for 5774 panos\n",
      "Feature Type      Count\n",
      "Nullcrop          17322\n",
      "Curb Cut          19538\n",
      "Missing Cut       2685\n",
      "Obstruction       3153\n",
      "Sfc Problem       1205\n",
      "Wrote features from 5774 panos to dataset_csvs/Val.csv\n"
     ]
    }
   ],
   "source": [
    "\n",
    "for name, dataset in datasets.iteritems():\n",
    "    print 'Processing {} set'.format(name)\n",
    "    cull_dataset_and_export_to_csv(dataset, 'dataset_csvs/{}.csv'.format(name))"
   ]
  },
  {
   "cell_type": "markdown",
   "metadata": {},
   "source": [
    "# Now we can use set_cropper.py to write these to a directory"
   ]
  },
  {
   "cell_type": "code",
   "execution_count": null,
   "metadata": {},
   "outputs": [],
   "source": []
  }
 ],
 "metadata": {
  "kernelspec": {
   "display_name": "conda_pytorch_p36",
   "language": "python",
   "name": "conda_pytorch_p36"
  },
  "language_info": {
   "codemirror_mode": {
    "name": "ipython",
    "version": 3
   },
   "file_extension": ".py",
   "mimetype": "text/x-python",
   "name": "python",
   "nbconvert_exporter": "python",
   "pygments_lexer": "ipython3",
   "version": "3.6.5"
  }
 },
 "nbformat": 4,
 "nbformat_minor": 4
}
