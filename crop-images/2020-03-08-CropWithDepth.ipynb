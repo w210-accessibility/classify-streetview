{
 "cells": [
  {
   "cell_type": "markdown",
   "metadata": {},
   "source": [
    "# Crop Labeled Images based on Depth\n",
    "\n",
    "There are roughly 600 labeled panos with 4 images each\n",
    "\n",
    "Other context information\n",
    "* Pitch is always 0\n",
    "* Heading is 45 / 135 / 225 / 315 based on the image filename\n",
    "* photg_heading is the same as heading because our pitch is 0"
   ]
  },
  {
   "cell_type": "code",
   "execution_count": 1,
   "metadata": {},
   "outputs": [],
   "source": [
    "import pandas as pd\n",
    "import os\n",
    "import s3fs # for reading from S3FileSystem\n",
    "import json # for working with JSON files "
   ]
  },
  {
   "cell_type": "markdown",
   "metadata": {},
   "source": [
    "## Examine Depth Metadata"
   ]
  },
  {
   "cell_type": "code",
   "execution_count": 2,
   "metadata": {},
   "outputs": [
    {
     "name": "stdout",
     "output_type": "stream",
     "text": [
      "(19022, 9)\n"
     ]
    },
    {
     "data": {
      "text/html": [
       "<div>\n",
       "<style scoped>\n",
       "    .dataframe tbody tr th:only-of-type {\n",
       "        vertical-align: middle;\n",
       "    }\n",
       "\n",
       "    .dataframe tbody tr th {\n",
       "        vertical-align: top;\n",
       "    }\n",
       "\n",
       "    .dataframe thead th {\n",
       "        text-align: right;\n",
       "    }\n",
       "</style>\n",
       "<table border=\"1\" class=\"dataframe\">\n",
       "  <thead>\n",
       "    <tr style=\"text-align: right;\">\n",
       "      <th></th>\n",
       "      <th>Unnamed: 0</th>\n",
       "      <th>date</th>\n",
       "      <th>lat</th>\n",
       "      <th>long</th>\n",
       "      <th>pano_id</th>\n",
       "      <th>name</th>\n",
       "      <th>pano_yaw_deg</th>\n",
       "      <th>tilt_yaw_deg</th>\n",
       "      <th>tilt_pitch_deg</th>\n",
       "    </tr>\n",
       "  </thead>\n",
       "  <tbody>\n",
       "    <tr>\n",
       "      <th>0</th>\n",
       "      <td>0</td>\n",
       "      <td>2019-06</td>\n",
       "      <td>42.957503</td>\n",
       "      <td>-87.938367</td>\n",
       "      <td>XPRpjNDhowVo8zvqvSU1CA</td>\n",
       "      <td>1</td>\n",
       "      <td>91.979996</td>\n",
       "      <td>125.040000</td>\n",
       "      <td>0.83</td>\n",
       "    </tr>\n",
       "    <tr>\n",
       "      <th>1</th>\n",
       "      <td>1</td>\n",
       "      <td>2016-10</td>\n",
       "      <td>42.899259</td>\n",
       "      <td>-88.047098</td>\n",
       "      <td>iEyn0apLSZvl4i4alUbfcA</td>\n",
       "      <td>10</td>\n",
       "      <td>145.819990</td>\n",
       "      <td>-178.269990</td>\n",
       "      <td>1.06</td>\n",
       "    </tr>\n",
       "    <tr>\n",
       "      <th>2</th>\n",
       "      <td>2</td>\n",
       "      <td>2011-08</td>\n",
       "      <td>42.921614</td>\n",
       "      <td>-87.881025</td>\n",
       "      <td>1BzC3WoFeJ8U1aUT9Hx8mg</td>\n",
       "      <td>100</td>\n",
       "      <td>359.180000</td>\n",
       "      <td>30.769999</td>\n",
       "      <td>2.55</td>\n",
       "    </tr>\n",
       "    <tr>\n",
       "      <th>3</th>\n",
       "      <td>3</td>\n",
       "      <td>2018-09</td>\n",
       "      <td>43.050123</td>\n",
       "      <td>-88.040263</td>\n",
       "      <td>oRN5vilebPS0srDXRPylzw</td>\n",
       "      <td>1000</td>\n",
       "      <td>161.110000</td>\n",
       "      <td>67.549995</td>\n",
       "      <td>1.57</td>\n",
       "    </tr>\n",
       "    <tr>\n",
       "      <th>4</th>\n",
       "      <td>4</td>\n",
       "      <td>2019-05</td>\n",
       "      <td>42.959289</td>\n",
       "      <td>-88.026043</td>\n",
       "      <td>KimNSirhP1TzngZkSpc8UA</td>\n",
       "      <td>10000</td>\n",
       "      <td>270.060000</td>\n",
       "      <td>-114.810000</td>\n",
       "      <td>1.35</td>\n",
       "    </tr>\n",
       "  </tbody>\n",
       "</table>\n",
       "</div>"
      ],
      "text/plain": [
       "   Unnamed: 0     date        lat       long                 pano_id   name  \\\n",
       "0           0  2019-06  42.957503 -87.938367  XPRpjNDhowVo8zvqvSU1CA      1   \n",
       "1           1  2016-10  42.899259 -88.047098  iEyn0apLSZvl4i4alUbfcA     10   \n",
       "2           2  2011-08  42.921614 -87.881025  1BzC3WoFeJ8U1aUT9Hx8mg    100   \n",
       "3           3  2018-09  43.050123 -88.040263  oRN5vilebPS0srDXRPylzw   1000   \n",
       "4           4  2019-05  42.959289 -88.026043  KimNSirhP1TzngZkSpc8UA  10000   \n",
       "\n",
       "   pano_yaw_deg  tilt_yaw_deg  tilt_pitch_deg  \n",
       "0     91.979996    125.040000            0.83  \n",
       "1    145.819990   -178.269990            1.06  \n",
       "2    359.180000     30.769999            2.55  \n",
       "3    161.110000     67.549995            1.57  \n",
       "4    270.060000   -114.810000            1.35  "
      ]
     },
     "execution_count": 2,
     "metadata": {},
     "output_type": "execute_result"
    }
   ],
   "source": [
    "SAGEMAKER_PATH = r'/home/ec2-user/SageMaker'\n",
    "PATH_META = os.path.join(SAGEMAKER_PATH, r'EDA/Formatting_Data/data/meta_with_depth.csv')\n",
    "df_meta = pd.read_csv(PATH_META)\n",
    "print(df_meta.shape)\n",
    "df_meta.head()"
   ]
  },
  {
   "cell_type": "code",
   "execution_count": 3,
   "metadata": {},
   "outputs": [
    {
     "data": {
      "text/html": [
       "<div>\n",
       "<style scoped>\n",
       "    .dataframe tbody tr th:only-of-type {\n",
       "        vertical-align: middle;\n",
       "    }\n",
       "\n",
       "    .dataframe tbody tr th {\n",
       "        vertical-align: top;\n",
       "    }\n",
       "\n",
       "    .dataframe thead th {\n",
       "        text-align: right;\n",
       "    }\n",
       "</style>\n",
       "<table border=\"1\" class=\"dataframe\">\n",
       "  <thead>\n",
       "    <tr style=\"text-align: right;\">\n",
       "      <th></th>\n",
       "      <th>pano_yaw_deg</th>\n",
       "      <th>tilt_yaw_deg</th>\n",
       "      <th>tilt_pitch_deg</th>\n",
       "    </tr>\n",
       "  </thead>\n",
       "  <tbody>\n",
       "    <tr>\n",
       "      <th>count</th>\n",
       "      <td>18985.000000</td>\n",
       "      <td>18985.000000</td>\n",
       "      <td>18985.000000</td>\n",
       "    </tr>\n",
       "    <tr>\n",
       "      <th>mean</th>\n",
       "      <td>173.902204</td>\n",
       "      <td>-7.779139</td>\n",
       "      <td>1.778432</td>\n",
       "    </tr>\n",
       "    <tr>\n",
       "      <th>std</th>\n",
       "      <td>105.863417</td>\n",
       "      <td>103.346355</td>\n",
       "      <td>1.298954</td>\n",
       "    </tr>\n",
       "    <tr>\n",
       "      <th>min</th>\n",
       "      <td>0.000000</td>\n",
       "      <td>-179.970000</td>\n",
       "      <td>0.020000</td>\n",
       "    </tr>\n",
       "    <tr>\n",
       "      <th>25%</th>\n",
       "      <td>89.810000</td>\n",
       "      <td>-97.540000</td>\n",
       "      <td>0.960000</td>\n",
       "    </tr>\n",
       "    <tr>\n",
       "      <th>50%</th>\n",
       "      <td>180.060000</td>\n",
       "      <td>-12.889999</td>\n",
       "      <td>1.520000</td>\n",
       "    </tr>\n",
       "    <tr>\n",
       "      <th>75%</th>\n",
       "      <td>269.750000</td>\n",
       "      <td>79.060000</td>\n",
       "      <td>2.220000</td>\n",
       "    </tr>\n",
       "    <tr>\n",
       "      <th>max</th>\n",
       "      <td>360.000000</td>\n",
       "      <td>179.959990</td>\n",
       "      <td>11.880000</td>\n",
       "    </tr>\n",
       "  </tbody>\n",
       "</table>\n",
       "</div>"
      ],
      "text/plain": [
       "       pano_yaw_deg  tilt_yaw_deg  tilt_pitch_deg\n",
       "count  18985.000000  18985.000000    18985.000000\n",
       "mean     173.902204     -7.779139        1.778432\n",
       "std      105.863417    103.346355        1.298954\n",
       "min        0.000000   -179.970000        0.020000\n",
       "25%       89.810000    -97.540000        0.960000\n",
       "50%      180.060000    -12.889999        1.520000\n",
       "75%      269.750000     79.060000        2.220000\n",
       "max      360.000000    179.959990       11.880000"
      ]
     },
     "execution_count": 3,
     "metadata": {},
     "output_type": "execute_result"
    }
   ],
   "source": [
    "# Describe the 3 main degree measurements\n",
    "deg_cols = ['pano_yaw_deg', 'tilt_yaw_deg', 'tilt_pitch_deg']\n",
    "df_meta[deg_cols].describe()"
   ]
  },
  {
   "cell_type": "markdown",
   "metadata": {},
   "source": [
    "## Observations\n",
    "* Would expect the depth to vary based on position in the image \n",
    "\n",
    "RECALL - Depth.txt (this S3 bucket - https://s3.console.aws.amazon.com/s3/buckets/gsv-depths/depth_txt/?region=us-east-2&tab=overview) contains the relevant info"
   ]
  },
  {
   "cell_type": "markdown",
   "metadata": {},
   "source": [
    "# Looking at Txt Data\n",
    "\n",
    "Image 1908 is of interest"
   ]
  },
  {
   "cell_type": "code",
   "execution_count": 12,
   "metadata": {},
   "outputs": [
    {
     "data": {
      "text/html": [
       "<div>\n",
       "<style scoped>\n",
       "    .dataframe tbody tr th:only-of-type {\n",
       "        vertical-align: middle;\n",
       "    }\n",
       "\n",
       "    .dataframe tbody tr th {\n",
       "        vertical-align: top;\n",
       "    }\n",
       "\n",
       "    .dataframe thead th {\n",
       "        text-align: right;\n",
       "    }\n",
       "</style>\n",
       "<table border=\"1\" class=\"dataframe\">\n",
       "  <thead>\n",
       "    <tr style=\"text-align: right;\">\n",
       "      <th></th>\n",
       "      <th>Unnamed: 0</th>\n",
       "      <th>date</th>\n",
       "      <th>lat</th>\n",
       "      <th>long</th>\n",
       "      <th>pano_id</th>\n",
       "      <th>name</th>\n",
       "      <th>pano_yaw_deg</th>\n",
       "      <th>tilt_yaw_deg</th>\n",
       "      <th>tilt_pitch_deg</th>\n",
       "    </tr>\n",
       "  </thead>\n",
       "  <tbody>\n",
       "    <tr>\n",
       "      <th>9724</th>\n",
       "      <td>9983</td>\n",
       "      <td>2018-09</td>\n",
       "      <td>43.002918</td>\n",
       "      <td>-87.904091</td>\n",
       "      <td>7yGvCWd2veNF4vkmASMt9A</td>\n",
       "      <td>1908</td>\n",
       "      <td>95.689995</td>\n",
       "      <td>118.5</td>\n",
       "      <td>0.82</td>\n",
       "    </tr>\n",
       "  </tbody>\n",
       "</table>\n",
       "</div>"
      ],
      "text/plain": [
       "      Unnamed: 0     date        lat       long                 pano_id  name  \\\n",
       "9724        9983  2018-09  43.002918 -87.904091  7yGvCWd2veNF4vkmASMt9A  1908   \n",
       "\n",
       "      pano_yaw_deg  tilt_yaw_deg  tilt_pitch_deg  \n",
       "9724     95.689995         118.5            0.82  "
      ]
     },
     "execution_count": 12,
     "metadata": {},
     "output_type": "execute_result"
    }
   ],
   "source": [
    "df_1908 = df_meta.loc[df_meta['name'] == 1908]\n",
    "\n",
    "df_1908"
   ]
  },
  {
   "cell_type": "code",
   "execution_count": 6,
   "metadata": {},
   "outputs": [
    {
     "name": "stdout",
     "output_type": "stream",
     "text": [
      "19127\n"
     ]
    }
   ],
   "source": [
    "# Load and view the images\n",
    "fs = s3fs.S3FileSystem()\n",
    "\n",
    "# Docs on s3fs -https://s3fs.readthedocs.io/en/latest/\n",
    "\n",
    "s3_depth_bucket = 's3://gsv-depths'\n",
    "depth_txt_dir = os.path.join(s3_depth_bucket, 'depth_txt')\n",
    "\n",
    "# See what is in the folder\n",
    "list_txt_dir = fs.ls(depth_txt_dir)\n",
    "print(len(list_txt_dir))"
   ]
  },
  {
   "cell_type": "code",
   "execution_count": 25,
   "metadata": {},
   "outputs": [
    {
     "data": {
      "text/plain": [
       "array(['7yGvCWd2veNF4vkmASMt9A'], dtype=object)"
      ]
     },
     "execution_count": 25,
     "metadata": {},
     "output_type": "execute_result"
    }
   ],
   "source": [
    "pano_id_1908 = df_1908['pano_id'].values\n",
    "\n",
    "pano_id_1908"
   ]
  },
  {
   "cell_type": "code",
   "execution_count": 29,
   "metadata": {},
   "outputs": [
    {
     "data": {
      "text/plain": [
       "'gsv-depths/depth_txt/7yGvCWd2veNF4vkmASMt9A.txt'"
      ]
     },
     "execution_count": 29,
     "metadata": {},
     "output_type": "execute_result"
    }
   ],
   "source": [
    "pano_id_1908_str = '7yGvCWd2veNF4vkmASMt9A'\n",
    "txt_path_1908 = [filename for filename in list_txt_dir if pano_id_1908_str in filename][0]\n",
    "txt_path_1908"
   ]
  },
  {
   "cell_type": "code",
   "execution_count": 30,
   "metadata": {},
   "outputs": [
    {
     "data": {
      "text/plain": [
       "2889660"
      ]
     },
     "execution_count": 30,
     "metadata": {},
     "output_type": "execute_result"
    }
   ],
   "source": [
    "with fs.open(txt_path_1908) as file:\n",
    "    depth_txt = file.read()\n",
    "len(depth_txt)"
   ]
  },
  {
   "cell_type": "code",
   "execution_count": 31,
   "metadata": {},
   "outputs": [
    {
     "data": {
      "text/plain": [
       "b'NaN\\tNaN\\tNaN\\tNaN\\tNaN\\tNaN\\tNaN\\tNaN\\tNaN\\tNaN\\tNaN\\tNaN\\tNaN\\tNaN\\tNaN\\tNaN\\tNaN\\tNaN\\tNaN\\tNaN\\tNaN\\tNaN\\tNaN\\tNaN\\tNaN\\tNaN\\tNaN\\tNaN\\tNaN\\tNaN\\tNaN\\tNaN\\tNaN\\tNaN\\tNaN\\tNaN\\tNaN\\tNaN\\tNaN\\tNaN\\tNaN\\tNaN\\tNaN\\tNaN\\tNaN\\tNaN\\tNaN\\tNaN\\tNaN\\tNaN\\tNaN\\tNaN\\tNaN\\tNaN\\tNaN\\tNaN\\tNaN\\tNaN\\tNaN\\tNaN\\tNaN\\tNaN\\tNaN\\tNaN\\tNaN\\tNaN\\tNaN\\tNaN\\tNaN\\tNaN\\tNaN\\tNaN\\tNaN\\tNaN\\tNaN\\t'"
      ]
     },
     "execution_count": 31,
     "metadata": {},
     "output_type": "execute_result"
    }
   ],
   "source": [
    "depth_txt[0:300]"
   ]
  },
  {
   "cell_type": "code",
   "execution_count": null,
   "metadata": {},
   "outputs": [],
   "source": []
  }
 ],
 "metadata": {
  "kernelspec": {
   "display_name": "conda_pytorch_p36",
   "language": "python",
   "name": "conda_pytorch_p36"
  },
  "language_info": {
   "codemirror_mode": {
    "name": "ipython",
    "version": 3
   },
   "file_extension": ".py",
   "mimetype": "text/x-python",
   "name": "python",
   "nbconvert_exporter": "python",
   "pygments_lexer": "ipython3",
   "version": "3.6.5"
  }
 },
 "nbformat": 4,
 "nbformat_minor": 4
}
