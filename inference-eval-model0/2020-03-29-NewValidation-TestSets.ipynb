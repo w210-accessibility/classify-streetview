{
 "cells": [
  {
   "cell_type": "markdown",
   "metadata": {},
   "source": [
    "# Create new test and validation sets"
   ]
  },
  {
   "cell_type": "code",
   "execution_count": null,
   "metadata": {},
   "outputs": [],
   "source": [
    "import pandas as pd\n",
    "import s3fs\n",
    "import boto3\n",
    "import json\n",
    "from datetime import datetime\n",
    "import numpy as np"
   ]
  },
  {
   "cell_type": "code",
   "execution_count": 14,
   "metadata": {},
   "outputs": [],
   "source": [
    "SAGEMAKER_REPO_PATH = r'/home/ec2-user/SageMaker/classify-streetview'"
   ]
  },
  {
   "cell_type": "code",
   "execution_count": 2,
   "metadata": {},
   "outputs": [
    {
     "data": {
      "text/plain": [
       "(3448, 8)"
      ]
     },
     "execution_count": 2,
     "metadata": {},
     "output_type": "execute_result"
    }
   ],
   "source": [
    "df_results = pd.read_csv('all_test_crops_model0.csv')\n",
    "df_results.shape"
   ]
  },
  {
   "cell_type": "code",
   "execution_count": 3,
   "metadata": {},
   "outputs": [
    {
     "data": {
      "text/html": [
       "<div>\n",
       "<style scoped>\n",
       "    .dataframe tbody tr th:only-of-type {\n",
       "        vertical-align: middle;\n",
       "    }\n",
       "\n",
       "    .dataframe tbody tr th {\n",
       "        vertical-align: top;\n",
       "    }\n",
       "\n",
       "    .dataframe thead th {\n",
       "        text-align: right;\n",
       "    }\n",
       "</style>\n",
       "<table border=\"1\" class=\"dataframe\">\n",
       "  <thead>\n",
       "    <tr style=\"text-align: right;\">\n",
       "      <th></th>\n",
       "      <th>Unnamed: 0</th>\n",
       "      <th>image_name</th>\n",
       "      <th>prediction</th>\n",
       "      <th>0</th>\n",
       "      <th>1</th>\n",
       "      <th>2</th>\n",
       "      <th>3</th>\n",
       "      <th>4</th>\n",
       "    </tr>\n",
       "  </thead>\n",
       "  <tbody>\n",
       "    <tr>\n",
       "      <th>0</th>\n",
       "      <td>0</td>\n",
       "      <td>8475_135_1.jpg</td>\n",
       "      <td>1_null</td>\n",
       "      <td>-1.133551</td>\n",
       "      <td>4.186599</td>\n",
       "      <td>-1.984925</td>\n",
       "      <td>1.529789</td>\n",
       "      <td>-2.481364</td>\n",
       "    </tr>\n",
       "    <tr>\n",
       "      <th>1</th>\n",
       "      <td>1</td>\n",
       "      <td>8475_135_2.jpg</td>\n",
       "      <td>1_null</td>\n",
       "      <td>-0.763638</td>\n",
       "      <td>3.575558</td>\n",
       "      <td>-1.084529</td>\n",
       "      <td>1.076634</td>\n",
       "      <td>-2.774253</td>\n",
       "    </tr>\n",
       "    <tr>\n",
       "      <th>2</th>\n",
       "      <td>2</td>\n",
       "      <td>8475_135_3.jpg</td>\n",
       "      <td>1_null</td>\n",
       "      <td>-1.193419</td>\n",
       "      <td>4.510900</td>\n",
       "      <td>-2.012558</td>\n",
       "      <td>0.620944</td>\n",
       "      <td>-1.824119</td>\n",
       "    </tr>\n",
       "    <tr>\n",
       "      <th>3</th>\n",
       "      <td>3</td>\n",
       "      <td>8475_135_4.jpg</td>\n",
       "      <td>1_null</td>\n",
       "      <td>-0.106576</td>\n",
       "      <td>3.914730</td>\n",
       "      <td>-2.002850</td>\n",
       "      <td>1.609854</td>\n",
       "      <td>-3.344971</td>\n",
       "    </tr>\n",
       "    <tr>\n",
       "      <th>4</th>\n",
       "      <td>4</td>\n",
       "      <td>8475_135_5.jpg</td>\n",
       "      <td>1_null</td>\n",
       "      <td>-1.827574</td>\n",
       "      <td>4.439346</td>\n",
       "      <td>-1.939240</td>\n",
       "      <td>0.628309</td>\n",
       "      <td>-1.315913</td>\n",
       "    </tr>\n",
       "  </tbody>\n",
       "</table>\n",
       "</div>"
      ],
      "text/plain": [
       "   Unnamed: 0      image_name prediction         0         1         2  \\\n",
       "0           0  8475_135_1.jpg     1_null -1.133551  4.186599 -1.984925   \n",
       "1           1  8475_135_2.jpg     1_null -0.763638  3.575558 -1.084529   \n",
       "2           2  8475_135_3.jpg     1_null -1.193419  4.510900 -2.012558   \n",
       "3           3  8475_135_4.jpg     1_null -0.106576  3.914730 -2.002850   \n",
       "4           4  8475_135_5.jpg     1_null -1.827574  4.439346 -1.939240   \n",
       "\n",
       "          3         4  \n",
       "0  1.529789 -2.481364  \n",
       "1  1.076634 -2.774253  \n",
       "2  0.620944 -1.824119  \n",
       "3  1.609854 -3.344971  \n",
       "4  0.628309 -1.315913  "
      ]
     },
     "execution_count": 3,
     "metadata": {},
     "output_type": "execute_result"
    }
   ],
   "source": [
    "df_results = df_results.rename(columns = {'Unnamed: 0.1' : 'image_name'})\n",
    "df_results.head()\n"
   ]
  },
  {
   "cell_type": "code",
   "execution_count": 4,
   "metadata": {},
   "outputs": [
    {
     "data": {
      "text/plain": [
       "Index(['Unnamed: 0', 'image_name', 'prediction', '0', '1', '2', '3', '4'], dtype='object')"
      ]
     },
     "execution_count": 4,
     "metadata": {},
     "output_type": "execute_result"
    }
   ],
   "source": [
    "df_results.columns"
   ]
  },
  {
   "cell_type": "code",
   "execution_count": 5,
   "metadata": {},
   "outputs": [],
   "source": [
    "df_results = df_results[['image_name', 'prediction', '0', '1', '2', '3', '4']]"
   ]
  },
  {
   "cell_type": "code",
   "execution_count": 7,
   "metadata": {},
   "outputs": [
    {
     "data": {
      "text/html": [
       "<div>\n",
       "<style scoped>\n",
       "    .dataframe tbody tr th:only-of-type {\n",
       "        vertical-align: middle;\n",
       "    }\n",
       "\n",
       "    .dataframe tbody tr th {\n",
       "        vertical-align: top;\n",
       "    }\n",
       "\n",
       "    .dataframe thead th {\n",
       "        text-align: right;\n",
       "    }\n",
       "</style>\n",
       "<table border=\"1\" class=\"dataframe\">\n",
       "  <thead>\n",
       "    <tr style=\"text-align: right;\">\n",
       "      <th></th>\n",
       "      <th>Unnamed: 0</th>\n",
       "      <th>img_id</th>\n",
       "      <th>heading</th>\n",
       "      <th>crop_number</th>\n",
       "      <th>0_missing</th>\n",
       "      <th>1_null</th>\n",
       "      <th>2_obstacle</th>\n",
       "      <th>3_present</th>\n",
       "      <th>4_surface_prob</th>\n",
       "      <th>5_nosidewalk</th>\n",
       "      <th>6_occlusion</th>\n",
       "      <th>count_all</th>\n",
       "      <th>img_heading_folder</th>\n",
       "      <th>original_image_path</th>\n",
       "      <th>new_image_path</th>\n",
       "      <th>image_name</th>\n",
       "    </tr>\n",
       "  </thead>\n",
       "  <tbody>\n",
       "    <tr>\n",
       "      <th>0</th>\n",
       "      <td>0</td>\n",
       "      <td>141</td>\n",
       "      <td>45</td>\n",
       "      <td>1</td>\n",
       "      <td>0</td>\n",
       "      <td>1</td>\n",
       "      <td>0</td>\n",
       "      <td>0</td>\n",
       "      <td>0</td>\n",
       "      <td>0</td>\n",
       "      <td>0</td>\n",
       "      <td>0</td>\n",
       "      <td>141_45</td>\n",
       "      <td>crops/141_45/1.jpg</td>\n",
       "      <td>labeled-test/141_45_1.jpg</td>\n",
       "      <td>141_45_1.jpg</td>\n",
       "    </tr>\n",
       "    <tr>\n",
       "      <th>1</th>\n",
       "      <td>1</td>\n",
       "      <td>141</td>\n",
       "      <td>45</td>\n",
       "      <td>2</td>\n",
       "      <td>0</td>\n",
       "      <td>1</td>\n",
       "      <td>0</td>\n",
       "      <td>0</td>\n",
       "      <td>0</td>\n",
       "      <td>0</td>\n",
       "      <td>0</td>\n",
       "      <td>0</td>\n",
       "      <td>141_45</td>\n",
       "      <td>crops/141_45/2.jpg</td>\n",
       "      <td>labeled-test/141_45_2.jpg</td>\n",
       "      <td>141_45_2.jpg</td>\n",
       "    </tr>\n",
       "    <tr>\n",
       "      <th>2</th>\n",
       "      <td>2</td>\n",
       "      <td>141</td>\n",
       "      <td>45</td>\n",
       "      <td>3</td>\n",
       "      <td>0</td>\n",
       "      <td>1</td>\n",
       "      <td>0</td>\n",
       "      <td>0</td>\n",
       "      <td>0</td>\n",
       "      <td>0</td>\n",
       "      <td>0</td>\n",
       "      <td>0</td>\n",
       "      <td>141_45</td>\n",
       "      <td>crops/141_45/3.jpg</td>\n",
       "      <td>labeled-test/141_45_3.jpg</td>\n",
       "      <td>141_45_3.jpg</td>\n",
       "    </tr>\n",
       "    <tr>\n",
       "      <th>3</th>\n",
       "      <td>3</td>\n",
       "      <td>141</td>\n",
       "      <td>45</td>\n",
       "      <td>4</td>\n",
       "      <td>0</td>\n",
       "      <td>1</td>\n",
       "      <td>0</td>\n",
       "      <td>0</td>\n",
       "      <td>0</td>\n",
       "      <td>0</td>\n",
       "      <td>0</td>\n",
       "      <td>0</td>\n",
       "      <td>141_45</td>\n",
       "      <td>crops/141_45/4.jpg</td>\n",
       "      <td>labeled-test/141_45_4.jpg</td>\n",
       "      <td>141_45_4.jpg</td>\n",
       "    </tr>\n",
       "    <tr>\n",
       "      <th>4</th>\n",
       "      <td>4</td>\n",
       "      <td>141</td>\n",
       "      <td>45</td>\n",
       "      <td>5</td>\n",
       "      <td>0</td>\n",
       "      <td>1</td>\n",
       "      <td>0</td>\n",
       "      <td>0</td>\n",
       "      <td>0</td>\n",
       "      <td>0</td>\n",
       "      <td>0</td>\n",
       "      <td>0</td>\n",
       "      <td>141_45</td>\n",
       "      <td>crops/141_45/5.jpg</td>\n",
       "      <td>labeled-test/141_45_5.jpg</td>\n",
       "      <td>141_45_5.jpg</td>\n",
       "    </tr>\n",
       "  </tbody>\n",
       "</table>\n",
       "</div>"
      ],
      "text/plain": [
       "   Unnamed: 0  img_id  heading  crop_number  0_missing  1_null  2_obstacle  \\\n",
       "0           0     141       45            1          0       1           0   \n",
       "1           1     141       45            2          0       1           0   \n",
       "2           2     141       45            3          0       1           0   \n",
       "3           3     141       45            4          0       1           0   \n",
       "4           4     141       45            5          0       1           0   \n",
       "\n",
       "   3_present  4_surface_prob  5_nosidewalk  6_occlusion  count_all  \\\n",
       "0          0               0             0            0          0   \n",
       "1          0               0             0            0          0   \n",
       "2          0               0             0            0          0   \n",
       "3          0               0             0            0          0   \n",
       "4          0               0             0            0          0   \n",
       "\n",
       "  img_heading_folder original_image_path             new_image_path  \\\n",
       "0             141_45  crops/141_45/1.jpg  labeled-test/141_45_1.jpg   \n",
       "1             141_45  crops/141_45/2.jpg  labeled-test/141_45_2.jpg   \n",
       "2             141_45  crops/141_45/3.jpg  labeled-test/141_45_3.jpg   \n",
       "3             141_45  crops/141_45/4.jpg  labeled-test/141_45_4.jpg   \n",
       "4             141_45  crops/141_45/5.jpg  labeled-test/141_45_5.jpg   \n",
       "\n",
       "     image_name  \n",
       "0  141_45_1.jpg  \n",
       "1  141_45_2.jpg  \n",
       "2  141_45_3.jpg  \n",
       "3  141_45_4.jpg  \n",
       "4  141_45_5.jpg  "
      ]
     },
     "execution_count": 7,
     "metadata": {},
     "output_type": "execute_result"
    }
   ],
   "source": [
    "df_test = pd.read_csv(os.path.join(SAGEMAKER_REPO_PATH, 'label-crops/test_crop_filename.csv'))\n",
    "df_test.head()"
   ]
  },
  {
   "cell_type": "code",
   "execution_count": 8,
   "metadata": {},
   "outputs": [],
   "source": [
    "df_test = df_test[['img_id', 'heading', 'crop_number', '0_missing', '1_null',\n",
    "       '2_obstacle', '3_present', '4_surface_prob', '5_nosidewalk',\n",
    "       '6_occlusion', 'count_all', 'image_name']]"
   ]
  },
  {
   "cell_type": "code",
   "execution_count": 9,
   "metadata": {},
   "outputs": [
    {
     "data": {
      "text/html": [
       "<div>\n",
       "<style scoped>\n",
       "    .dataframe tbody tr th:only-of-type {\n",
       "        vertical-align: middle;\n",
       "    }\n",
       "\n",
       "    .dataframe tbody tr th {\n",
       "        vertical-align: top;\n",
       "    }\n",
       "\n",
       "    .dataframe thead th {\n",
       "        text-align: right;\n",
       "    }\n",
       "</style>\n",
       "<table border=\"1\" class=\"dataframe\">\n",
       "  <thead>\n",
       "    <tr style=\"text-align: right;\">\n",
       "      <th></th>\n",
       "      <th>image_name</th>\n",
       "      <th>prediction</th>\n",
       "      <th>0</th>\n",
       "      <th>1</th>\n",
       "      <th>2</th>\n",
       "      <th>3</th>\n",
       "      <th>4</th>\n",
       "      <th>img_id</th>\n",
       "      <th>heading</th>\n",
       "      <th>crop_number</th>\n",
       "      <th>0_missing</th>\n",
       "      <th>1_null</th>\n",
       "      <th>2_obstacle</th>\n",
       "      <th>3_present</th>\n",
       "      <th>4_surface_prob</th>\n",
       "      <th>5_nosidewalk</th>\n",
       "      <th>6_occlusion</th>\n",
       "      <th>count_all</th>\n",
       "    </tr>\n",
       "  </thead>\n",
       "  <tbody>\n",
       "    <tr>\n",
       "      <th>0</th>\n",
       "      <td>8475_135_1.jpg</td>\n",
       "      <td>1_null</td>\n",
       "      <td>-1.133551</td>\n",
       "      <td>4.186599</td>\n",
       "      <td>-1.984925</td>\n",
       "      <td>1.529789</td>\n",
       "      <td>-2.481364</td>\n",
       "      <td>8475</td>\n",
       "      <td>135</td>\n",
       "      <td>1</td>\n",
       "      <td>0</td>\n",
       "      <td>1</td>\n",
       "      <td>0</td>\n",
       "      <td>0</td>\n",
       "      <td>0</td>\n",
       "      <td>0</td>\n",
       "      <td>0</td>\n",
       "      <td>0</td>\n",
       "    </tr>\n",
       "    <tr>\n",
       "      <th>1</th>\n",
       "      <td>8475_135_2.jpg</td>\n",
       "      <td>1_null</td>\n",
       "      <td>-0.763638</td>\n",
       "      <td>3.575558</td>\n",
       "      <td>-1.084529</td>\n",
       "      <td>1.076634</td>\n",
       "      <td>-2.774253</td>\n",
       "      <td>8475</td>\n",
       "      <td>135</td>\n",
       "      <td>2</td>\n",
       "      <td>0</td>\n",
       "      <td>0</td>\n",
       "      <td>1</td>\n",
       "      <td>0</td>\n",
       "      <td>0</td>\n",
       "      <td>0</td>\n",
       "      <td>0</td>\n",
       "      <td>1</td>\n",
       "    </tr>\n",
       "    <tr>\n",
       "      <th>2</th>\n",
       "      <td>8475_135_3.jpg</td>\n",
       "      <td>1_null</td>\n",
       "      <td>-1.193419</td>\n",
       "      <td>4.510900</td>\n",
       "      <td>-2.012558</td>\n",
       "      <td>0.620944</td>\n",
       "      <td>-1.824119</td>\n",
       "      <td>8475</td>\n",
       "      <td>135</td>\n",
       "      <td>3</td>\n",
       "      <td>0</td>\n",
       "      <td>1</td>\n",
       "      <td>0</td>\n",
       "      <td>0</td>\n",
       "      <td>0</td>\n",
       "      <td>0</td>\n",
       "      <td>0</td>\n",
       "      <td>0</td>\n",
       "    </tr>\n",
       "    <tr>\n",
       "      <th>3</th>\n",
       "      <td>8475_135_4.jpg</td>\n",
       "      <td>1_null</td>\n",
       "      <td>-0.106576</td>\n",
       "      <td>3.914730</td>\n",
       "      <td>-2.002850</td>\n",
       "      <td>1.609854</td>\n",
       "      <td>-3.344971</td>\n",
       "      <td>8475</td>\n",
       "      <td>135</td>\n",
       "      <td>4</td>\n",
       "      <td>0</td>\n",
       "      <td>1</td>\n",
       "      <td>0</td>\n",
       "      <td>0</td>\n",
       "      <td>0</td>\n",
       "      <td>0</td>\n",
       "      <td>0</td>\n",
       "      <td>0</td>\n",
       "    </tr>\n",
       "    <tr>\n",
       "      <th>4</th>\n",
       "      <td>8475_135_5.jpg</td>\n",
       "      <td>1_null</td>\n",
       "      <td>-1.827574</td>\n",
       "      <td>4.439346</td>\n",
       "      <td>-1.939240</td>\n",
       "      <td>0.628309</td>\n",
       "      <td>-1.315913</td>\n",
       "      <td>8475</td>\n",
       "      <td>135</td>\n",
       "      <td>5</td>\n",
       "      <td>0</td>\n",
       "      <td>0</td>\n",
       "      <td>1</td>\n",
       "      <td>0</td>\n",
       "      <td>0</td>\n",
       "      <td>0</td>\n",
       "      <td>0</td>\n",
       "      <td>1</td>\n",
       "    </tr>\n",
       "  </tbody>\n",
       "</table>\n",
       "</div>"
      ],
      "text/plain": [
       "       image_name prediction         0         1         2         3  \\\n",
       "0  8475_135_1.jpg     1_null -1.133551  4.186599 -1.984925  1.529789   \n",
       "1  8475_135_2.jpg     1_null -0.763638  3.575558 -1.084529  1.076634   \n",
       "2  8475_135_3.jpg     1_null -1.193419  4.510900 -2.012558  0.620944   \n",
       "3  8475_135_4.jpg     1_null -0.106576  3.914730 -2.002850  1.609854   \n",
       "4  8475_135_5.jpg     1_null -1.827574  4.439346 -1.939240  0.628309   \n",
       "\n",
       "          4  img_id  heading  crop_number  0_missing  1_null  2_obstacle  \\\n",
       "0 -2.481364    8475      135            1          0       1           0   \n",
       "1 -2.774253    8475      135            2          0       0           1   \n",
       "2 -1.824119    8475      135            3          0       1           0   \n",
       "3 -3.344971    8475      135            4          0       1           0   \n",
       "4 -1.315913    8475      135            5          0       0           1   \n",
       "\n",
       "   3_present  4_surface_prob  5_nosidewalk  6_occlusion  count_all  \n",
       "0          0               0             0            0          0  \n",
       "1          0               0             0            0          1  \n",
       "2          0               0             0            0          0  \n",
       "3          0               0             0            0          0  \n",
       "4          0               0             0            0          1  "
      ]
     },
     "execution_count": 9,
     "metadata": {},
     "output_type": "execute_result"
    }
   ],
   "source": [
    "df_combine = df_results.merge(df_test, how = 'left', left_on = 'image_name', right_on = 'image_name')\n",
    "df_combine.head()"
   ]
  },
  {
   "cell_type": "code",
   "execution_count": 10,
   "metadata": {},
   "outputs": [
    {
     "data": {
      "text/plain": [
       "1_null            2268\n",
       "3_present          718\n",
       "4_surface_prob     250\n",
       "2_obstacle         129\n",
       "0_missing           83\n",
       "Name: ground_truth, dtype: int64"
      ]
     },
     "execution_count": 10,
     "metadata": {},
     "output_type": "execute_result"
    }
   ],
   "source": [
    "df_combine['ground_truth'] = '1_null'\n",
    "df_combine['ground_truth'] = np.where(df_combine['3_present'] > 0, '3_present', df_combine['ground_truth'])\n",
    "df_combine['ground_truth'] = np.where(df_combine['0_missing'] > 0, '0_missing', df_combine['ground_truth'])\n",
    "df_combine['ground_truth'] = np.where(df_combine['4_surface_prob'] > 0, '4_surface_prob', df_combine['ground_truth'])\n",
    "df_combine['ground_truth'] = np.where(df_combine['2_obstacle'] > 0, '2_obstacle', df_combine['ground_truth'])\n",
    "df_combine['ground_truth'].value_counts()"
   ]
  },
  {
   "cell_type": "code",
   "execution_count": 11,
   "metadata": {},
   "outputs": [
    {
     "data": {
      "text/plain": [
       "1_null        3292\n",
       "3_present      149\n",
       "2_obstacle       7\n",
       "Name: prediction, dtype: int64"
      ]
     },
     "execution_count": 11,
     "metadata": {},
     "output_type": "execute_result"
    }
   ],
   "source": [
    "df_combine['prediction'].value_counts()"
   ]
  },
  {
   "cell_type": "code",
   "execution_count": 12,
   "metadata": {},
   "outputs": [
    {
     "data": {
      "text/html": [
       "<div>\n",
       "<style scoped>\n",
       "    .dataframe tbody tr th:only-of-type {\n",
       "        vertical-align: middle;\n",
       "    }\n",
       "\n",
       "    .dataframe tbody tr th {\n",
       "        vertical-align: top;\n",
       "    }\n",
       "\n",
       "    .dataframe thead th {\n",
       "        text-align: right;\n",
       "    }\n",
       "</style>\n",
       "<table border=\"1\" class=\"dataframe\">\n",
       "  <thead>\n",
       "    <tr style=\"text-align: right;\">\n",
       "      <th></th>\n",
       "      <th>image_name</th>\n",
       "      <th>prediction</th>\n",
       "      <th>0</th>\n",
       "      <th>1</th>\n",
       "      <th>2</th>\n",
       "      <th>3</th>\n",
       "      <th>4</th>\n",
       "      <th>img_id</th>\n",
       "      <th>heading</th>\n",
       "      <th>crop_number</th>\n",
       "      <th>0_missing</th>\n",
       "      <th>1_null</th>\n",
       "      <th>2_obstacle</th>\n",
       "      <th>3_present</th>\n",
       "      <th>4_surface_prob</th>\n",
       "      <th>5_nosidewalk</th>\n",
       "      <th>6_occlusion</th>\n",
       "      <th>count_all</th>\n",
       "      <th>ground_truth</th>\n",
       "    </tr>\n",
       "  </thead>\n",
       "  <tbody>\n",
       "    <tr>\n",
       "      <th>0</th>\n",
       "      <td>8475_135_1.jpg</td>\n",
       "      <td>1_null</td>\n",
       "      <td>-1.133551</td>\n",
       "      <td>4.186599</td>\n",
       "      <td>-1.984925</td>\n",
       "      <td>1.529789</td>\n",
       "      <td>-2.481364</td>\n",
       "      <td>8475</td>\n",
       "      <td>135</td>\n",
       "      <td>1</td>\n",
       "      <td>0</td>\n",
       "      <td>1</td>\n",
       "      <td>0</td>\n",
       "      <td>0</td>\n",
       "      <td>0</td>\n",
       "      <td>0</td>\n",
       "      <td>0</td>\n",
       "      <td>0</td>\n",
       "      <td>1_null</td>\n",
       "    </tr>\n",
       "    <tr>\n",
       "      <th>1</th>\n",
       "      <td>8475_135_2.jpg</td>\n",
       "      <td>1_null</td>\n",
       "      <td>-0.763638</td>\n",
       "      <td>3.575558</td>\n",
       "      <td>-1.084529</td>\n",
       "      <td>1.076634</td>\n",
       "      <td>-2.774253</td>\n",
       "      <td>8475</td>\n",
       "      <td>135</td>\n",
       "      <td>2</td>\n",
       "      <td>0</td>\n",
       "      <td>0</td>\n",
       "      <td>1</td>\n",
       "      <td>0</td>\n",
       "      <td>0</td>\n",
       "      <td>0</td>\n",
       "      <td>0</td>\n",
       "      <td>1</td>\n",
       "      <td>2_obstacle</td>\n",
       "    </tr>\n",
       "    <tr>\n",
       "      <th>2</th>\n",
       "      <td>8475_135_3.jpg</td>\n",
       "      <td>1_null</td>\n",
       "      <td>-1.193419</td>\n",
       "      <td>4.510900</td>\n",
       "      <td>-2.012558</td>\n",
       "      <td>0.620944</td>\n",
       "      <td>-1.824119</td>\n",
       "      <td>8475</td>\n",
       "      <td>135</td>\n",
       "      <td>3</td>\n",
       "      <td>0</td>\n",
       "      <td>1</td>\n",
       "      <td>0</td>\n",
       "      <td>0</td>\n",
       "      <td>0</td>\n",
       "      <td>0</td>\n",
       "      <td>0</td>\n",
       "      <td>0</td>\n",
       "      <td>1_null</td>\n",
       "    </tr>\n",
       "    <tr>\n",
       "      <th>3</th>\n",
       "      <td>8475_135_4.jpg</td>\n",
       "      <td>1_null</td>\n",
       "      <td>-0.106576</td>\n",
       "      <td>3.914730</td>\n",
       "      <td>-2.002850</td>\n",
       "      <td>1.609854</td>\n",
       "      <td>-3.344971</td>\n",
       "      <td>8475</td>\n",
       "      <td>135</td>\n",
       "      <td>4</td>\n",
       "      <td>0</td>\n",
       "      <td>1</td>\n",
       "      <td>0</td>\n",
       "      <td>0</td>\n",
       "      <td>0</td>\n",
       "      <td>0</td>\n",
       "      <td>0</td>\n",
       "      <td>0</td>\n",
       "      <td>1_null</td>\n",
       "    </tr>\n",
       "    <tr>\n",
       "      <th>4</th>\n",
       "      <td>8475_135_5.jpg</td>\n",
       "      <td>1_null</td>\n",
       "      <td>-1.827574</td>\n",
       "      <td>4.439346</td>\n",
       "      <td>-1.939240</td>\n",
       "      <td>0.628309</td>\n",
       "      <td>-1.315913</td>\n",
       "      <td>8475</td>\n",
       "      <td>135</td>\n",
       "      <td>5</td>\n",
       "      <td>0</td>\n",
       "      <td>0</td>\n",
       "      <td>1</td>\n",
       "      <td>0</td>\n",
       "      <td>0</td>\n",
       "      <td>0</td>\n",
       "      <td>0</td>\n",
       "      <td>1</td>\n",
       "      <td>2_obstacle</td>\n",
       "    </tr>\n",
       "  </tbody>\n",
       "</table>\n",
       "</div>"
      ],
      "text/plain": [
       "       image_name prediction         0         1         2         3  \\\n",
       "0  8475_135_1.jpg     1_null -1.133551  4.186599 -1.984925  1.529789   \n",
       "1  8475_135_2.jpg     1_null -0.763638  3.575558 -1.084529  1.076634   \n",
       "2  8475_135_3.jpg     1_null -1.193419  4.510900 -2.012558  0.620944   \n",
       "3  8475_135_4.jpg     1_null -0.106576  3.914730 -2.002850  1.609854   \n",
       "4  8475_135_5.jpg     1_null -1.827574  4.439346 -1.939240  0.628309   \n",
       "\n",
       "          4  img_id  heading  crop_number  0_missing  1_null  2_obstacle  \\\n",
       "0 -2.481364    8475      135            1          0       1           0   \n",
       "1 -2.774253    8475      135            2          0       0           1   \n",
       "2 -1.824119    8475      135            3          0       1           0   \n",
       "3 -3.344971    8475      135            4          0       1           0   \n",
       "4 -1.315913    8475      135            5          0       0           1   \n",
       "\n",
       "   3_present  4_surface_prob  5_nosidewalk  6_occlusion  count_all  \\\n",
       "0          0               0             0            0          0   \n",
       "1          0               0             0            0          1   \n",
       "2          0               0             0            0          0   \n",
       "3          0               0             0            0          0   \n",
       "4          0               0             0            0          1   \n",
       "\n",
       "  ground_truth  \n",
       "0       1_null  \n",
       "1   2_obstacle  \n",
       "2       1_null  \n",
       "3       1_null  \n",
       "4   2_obstacle  "
      ]
     },
     "execution_count": 12,
     "metadata": {},
     "output_type": "execute_result"
    }
   ],
   "source": [
    "\n",
    "df_combine.head()"
   ]
  },
  {
   "cell_type": "code",
   "execution_count": 13,
   "metadata": {},
   "outputs": [],
   "source": [
    "df_combine.to_csv('model0predict_with_groundtruth.csv')"
   ]
  },
  {
   "cell_type": "markdown",
   "metadata": {},
   "source": [
    "# Create new Test and Validation Sets"
   ]
  },
  {
   "cell_type": "code",
   "execution_count": 18,
   "metadata": {},
   "outputs": [
    {
     "data": {
      "text/plain": [
       "1_null            2268\n",
       "3_present          718\n",
       "4_surface_prob     250\n",
       "2_obstacle         129\n",
       "0_missing           83\n",
       "Name: ground_truth, dtype: int64"
      ]
     },
     "execution_count": 18,
     "metadata": {},
     "output_type": "execute_result"
    }
   ],
   "source": [
    "df_all = df_combine[['image_name', 'img_id', 'ground_truth']]\n",
    "df_all['ground_truth'].value_counts()"
   ]
  },
  {
   "cell_type": "code",
   "execution_count": 30,
   "metadata": {},
   "outputs": [
    {
     "data": {
      "text/plain": [
       "1_null            1134.0\n",
       "3_present          359.0\n",
       "4_surface_prob     125.0\n",
       "2_obstacle          64.5\n",
       "0_missing           41.5\n",
       "Name: ground_truth, dtype: float64"
      ]
     },
     "execution_count": 30,
     "metadata": {},
     "output_type": "execute_result"
    }
   ],
   "source": [
    "df_all['ground_truth'].value_counts() / 2"
   ]
  },
  {
   "cell_type": "code",
   "execution_count": 25,
   "metadata": {},
   "outputs": [
    {
     "data": {
      "text/plain": [
       "(3448, 3)"
      ]
     },
     "execution_count": 25,
     "metadata": {},
     "output_type": "execute_result"
    }
   ],
   "source": [
    "df_all.shape"
   ]
  },
  {
   "cell_type": "code",
   "execution_count": 31,
   "metadata": {},
   "outputs": [
    {
     "data": {
      "text/plain": [
       "1724.0"
      ]
     },
     "execution_count": 31,
     "metadata": {},
     "output_type": "execute_result"
    }
   ],
   "source": [
    "3448 / 2"
   ]
  },
  {
   "cell_type": "code",
   "execution_count": 26,
   "metadata": {},
   "outputs": [
    {
     "name": "stdout",
     "output_type": "stream",
     "text": [
      "124\n"
     ]
    },
    {
     "data": {
      "text/plain": [
       "[8475, 8503, 8540, 8650, 8780]"
      ]
     },
     "execution_count": 26,
     "metadata": {},
     "output_type": "execute_result"
    }
   ],
   "source": [
    "imgid_list = list(df_all['img_id'].unique())\n",
    "print(len(imgid_list))\n",
    "imgid_list[0:5]"
   ]
  },
  {
   "cell_type": "code",
   "execution_count": 35,
   "metadata": {},
   "outputs": [
    {
     "name": "stdout",
     "output_type": "stream",
     "text": [
      "(1712, 3)\n"
     ]
    },
    {
     "data": {
      "text/plain": [
       "1_null            1139\n",
       "3_present          354\n",
       "4_surface_prob     117\n",
       "2_obstacle          65\n",
       "0_missing           37\n",
       "Name: ground_truth, dtype: int64"
      ]
     },
     "execution_count": 35,
     "metadata": {},
     "output_type": "execute_result"
    }
   ],
   "source": [
    "valid_imgid = random.sample(imgid_list, 62)\n",
    "len(valid_imgid)\n",
    "df_valid = df_all.loc[df_all['img_id'].isin(valid_imgid)]\n",
    "print(df_valid.shape)\n",
    "df_valid['ground_truth'].value_counts()"
   ]
  },
  {
   "cell_type": "code",
   "execution_count": 36,
   "metadata": {},
   "outputs": [
    {
     "data": {
      "text/html": [
       "<div>\n",
       "<style scoped>\n",
       "    .dataframe tbody tr th:only-of-type {\n",
       "        vertical-align: middle;\n",
       "    }\n",
       "\n",
       "    .dataframe tbody tr th {\n",
       "        vertical-align: top;\n",
       "    }\n",
       "\n",
       "    .dataframe thead th {\n",
       "        text-align: right;\n",
       "    }\n",
       "</style>\n",
       "<table border=\"1\" class=\"dataframe\">\n",
       "  <thead>\n",
       "    <tr style=\"text-align: right;\">\n",
       "      <th></th>\n",
       "      <th>image_name</th>\n",
       "      <th>img_id</th>\n",
       "      <th>ground_truth</th>\n",
       "    </tr>\n",
       "  </thead>\n",
       "  <tbody>\n",
       "    <tr>\n",
       "      <th>28</th>\n",
       "      <td>8503_135_1.jpg</td>\n",
       "      <td>8503</td>\n",
       "      <td>1_null</td>\n",
       "    </tr>\n",
       "    <tr>\n",
       "      <th>29</th>\n",
       "      <td>8503_135_2.jpg</td>\n",
       "      <td>8503</td>\n",
       "      <td>1_null</td>\n",
       "    </tr>\n",
       "    <tr>\n",
       "      <th>30</th>\n",
       "      <td>8503_135_3.jpg</td>\n",
       "      <td>8503</td>\n",
       "      <td>1_null</td>\n",
       "    </tr>\n",
       "    <tr>\n",
       "      <th>31</th>\n",
       "      <td>8503_135_4.jpg</td>\n",
       "      <td>8503</td>\n",
       "      <td>1_null</td>\n",
       "    </tr>\n",
       "    <tr>\n",
       "      <th>32</th>\n",
       "      <td>8503_135_5.jpg</td>\n",
       "      <td>8503</td>\n",
       "      <td>1_null</td>\n",
       "    </tr>\n",
       "  </tbody>\n",
       "</table>\n",
       "</div>"
      ],
      "text/plain": [
       "        image_name  img_id ground_truth\n",
       "28  8503_135_1.jpg    8503       1_null\n",
       "29  8503_135_2.jpg    8503       1_null\n",
       "30  8503_135_3.jpg    8503       1_null\n",
       "31  8503_135_4.jpg    8503       1_null\n",
       "32  8503_135_5.jpg    8503       1_null"
      ]
     },
     "execution_count": 36,
     "metadata": {},
     "output_type": "execute_result"
    }
   ],
   "source": [
    "df_valid.head()"
   ]
  },
  {
   "cell_type": "code",
   "execution_count": 37,
   "metadata": {},
   "outputs": [],
   "source": [
    "df_valid.to_csv('validation_set_from_test.csv', index = False)"
   ]
  },
  {
   "cell_type": "code",
   "execution_count": 38,
   "metadata": {},
   "outputs": [
    {
     "name": "stderr",
     "output_type": "stream",
     "text": [
      "/home/ec2-user/anaconda3/envs/python3/lib/python3.6/site-packages/ipykernel/__main__.py:1: SettingWithCopyWarning: \n",
      "A value is trying to be set on a copy of a slice from a DataFrame.\n",
      "Try using .loc[row_indexer,col_indexer] = value instead\n",
      "\n",
      "See the caveats in the documentation: http://pandas.pydata.org/pandas-docs/stable/indexing.html#indexing-view-versus-copy\n",
      "  if __name__ == '__main__':\n"
     ]
    },
    {
     "data": {
      "text/html": [
       "<div>\n",
       "<style scoped>\n",
       "    .dataframe tbody tr th:only-of-type {\n",
       "        vertical-align: middle;\n",
       "    }\n",
       "\n",
       "    .dataframe tbody tr th {\n",
       "        vertical-align: top;\n",
       "    }\n",
       "\n",
       "    .dataframe thead th {\n",
       "        text-align: right;\n",
       "    }\n",
       "</style>\n",
       "<table border=\"1\" class=\"dataframe\">\n",
       "  <thead>\n",
       "    <tr style=\"text-align: right;\">\n",
       "      <th></th>\n",
       "      <th>image_name</th>\n",
       "      <th>img_id</th>\n",
       "      <th>ground_truth</th>\n",
       "      <th>is_valid_set</th>\n",
       "    </tr>\n",
       "  </thead>\n",
       "  <tbody>\n",
       "    <tr>\n",
       "      <th>0</th>\n",
       "      <td>8475_135_1.jpg</td>\n",
       "      <td>8475</td>\n",
       "      <td>1_null</td>\n",
       "      <td>False</td>\n",
       "    </tr>\n",
       "    <tr>\n",
       "      <th>1</th>\n",
       "      <td>8475_135_2.jpg</td>\n",
       "      <td>8475</td>\n",
       "      <td>2_obstacle</td>\n",
       "      <td>False</td>\n",
       "    </tr>\n",
       "    <tr>\n",
       "      <th>2</th>\n",
       "      <td>8475_135_3.jpg</td>\n",
       "      <td>8475</td>\n",
       "      <td>1_null</td>\n",
       "      <td>False</td>\n",
       "    </tr>\n",
       "    <tr>\n",
       "      <th>3</th>\n",
       "      <td>8475_135_4.jpg</td>\n",
       "      <td>8475</td>\n",
       "      <td>1_null</td>\n",
       "      <td>False</td>\n",
       "    </tr>\n",
       "    <tr>\n",
       "      <th>4</th>\n",
       "      <td>8475_135_5.jpg</td>\n",
       "      <td>8475</td>\n",
       "      <td>2_obstacle</td>\n",
       "      <td>False</td>\n",
       "    </tr>\n",
       "  </tbody>\n",
       "</table>\n",
       "</div>"
      ],
      "text/plain": [
       "       image_name  img_id ground_truth  is_valid_set\n",
       "0  8475_135_1.jpg    8475       1_null         False\n",
       "1  8475_135_2.jpg    8475   2_obstacle         False\n",
       "2  8475_135_3.jpg    8475       1_null         False\n",
       "3  8475_135_4.jpg    8475       1_null         False\n",
       "4  8475_135_5.jpg    8475   2_obstacle         False"
      ]
     },
     "execution_count": 38,
     "metadata": {},
     "output_type": "execute_result"
    }
   ],
   "source": [
    "df_all['is_valid_set'] = np.where(df_all['img_id'].isin(valid_imgid), True, False)\n",
    "df_all.head()"
   ]
  },
  {
   "cell_type": "code",
   "execution_count": 39,
   "metadata": {},
   "outputs": [
    {
     "data": {
      "text/plain": [
       "False    1736\n",
       "True     1712\n",
       "Name: is_valid_set, dtype: int64"
      ]
     },
     "execution_count": 39,
     "metadata": {},
     "output_type": "execute_result"
    }
   ],
   "source": [
    "df_all['is_valid_set'].value_counts()"
   ]
  },
  {
   "cell_type": "code",
   "execution_count": 41,
   "metadata": {},
   "outputs": [],
   "source": [
    "df_all.to_csv('validation_test_includeallnull.csv', index = False)"
   ]
  },
  {
   "cell_type": "code",
   "execution_count": 40,
   "metadata": {},
   "outputs": [
    {
     "data": {
      "text/plain": [
       "1_null            1129\n",
       "3_present          364\n",
       "4_surface_prob     133\n",
       "2_obstacle          64\n",
       "0_missing           46\n",
       "Name: ground_truth, dtype: int64"
      ]
     },
     "execution_count": 40,
     "metadata": {},
     "output_type": "execute_result"
    }
   ],
   "source": [
    "df_new_test = df_all.loc[~df_all['is_valid_set']]\n",
    "df_new_test['ground_truth'].value_counts()"
   ]
  },
  {
   "cell_type": "markdown",
   "metadata": {},
   "source": [
    "# Remove Nulls"
   ]
  },
  {
   "cell_type": "code",
   "execution_count": 58,
   "metadata": {},
   "outputs": [
    {
     "data": {
      "text/html": [
       "<div>\n",
       "<style scoped>\n",
       "    .dataframe tbody tr th:only-of-type {\n",
       "        vertical-align: middle;\n",
       "    }\n",
       "\n",
       "    .dataframe tbody tr th {\n",
       "        vertical-align: top;\n",
       "    }\n",
       "\n",
       "    .dataframe thead th {\n",
       "        text-align: right;\n",
       "    }\n",
       "</style>\n",
       "<table border=\"1\" class=\"dataframe\">\n",
       "  <thead>\n",
       "    <tr style=\"text-align: right;\">\n",
       "      <th></th>\n",
       "      <th></th>\n",
       "      <th>image_name</th>\n",
       "      <th>img_id</th>\n",
       "    </tr>\n",
       "    <tr>\n",
       "      <th>ground_truth</th>\n",
       "      <th>is_valid_set</th>\n",
       "      <th></th>\n",
       "      <th></th>\n",
       "    </tr>\n",
       "  </thead>\n",
       "  <tbody>\n",
       "    <tr>\n",
       "      <th rowspan=\"2\" valign=\"top\">0_missing</th>\n",
       "      <th>False</th>\n",
       "      <td>46</td>\n",
       "      <td>16</td>\n",
       "    </tr>\n",
       "    <tr>\n",
       "      <th>True</th>\n",
       "      <td>37</td>\n",
       "      <td>13</td>\n",
       "    </tr>\n",
       "    <tr>\n",
       "      <th rowspan=\"2\" valign=\"top\">1_null</th>\n",
       "      <th>False</th>\n",
       "      <td>364</td>\n",
       "      <td>62</td>\n",
       "    </tr>\n",
       "    <tr>\n",
       "      <th>True</th>\n",
       "      <td>356</td>\n",
       "      <td>62</td>\n",
       "    </tr>\n",
       "    <tr>\n",
       "      <th rowspan=\"2\" valign=\"top\">2_obstacle</th>\n",
       "      <th>False</th>\n",
       "      <td>64</td>\n",
       "      <td>17</td>\n",
       "    </tr>\n",
       "    <tr>\n",
       "      <th>True</th>\n",
       "      <td>65</td>\n",
       "      <td>12</td>\n",
       "    </tr>\n",
       "    <tr>\n",
       "      <th rowspan=\"2\" valign=\"top\">3_present</th>\n",
       "      <th>False</th>\n",
       "      <td>364</td>\n",
       "      <td>54</td>\n",
       "    </tr>\n",
       "    <tr>\n",
       "      <th>True</th>\n",
       "      <td>354</td>\n",
       "      <td>56</td>\n",
       "    </tr>\n",
       "    <tr>\n",
       "      <th rowspan=\"2\" valign=\"top\">4_surface_prob</th>\n",
       "      <th>False</th>\n",
       "      <td>133</td>\n",
       "      <td>26</td>\n",
       "    </tr>\n",
       "    <tr>\n",
       "      <th>True</th>\n",
       "      <td>117</td>\n",
       "      <td>24</td>\n",
       "    </tr>\n",
       "  </tbody>\n",
       "</table>\n",
       "</div>"
      ],
      "text/plain": [
       "                             image_name  img_id\n",
       "ground_truth   is_valid_set                    \n",
       "0_missing      False                 46      16\n",
       "               True                  37      13\n",
       "1_null         False                364      62\n",
       "               True                 356      62\n",
       "2_obstacle     False                 64      17\n",
       "               True                  65      12\n",
       "3_present      False                364      54\n",
       "               True                 354      56\n",
       "4_surface_prob False                133      26\n",
       "               True                 117      24"
      ]
     },
     "execution_count": 58,
     "metadata": {},
     "output_type": "execute_result"
    }
   ],
   "source": [
    "df_null = df_all.loc[df_all['ground_truth'].str.contains('1_null')]\n",
    "df_to_remove = df_null.sample(n = 1548) #Keep 720 total\n",
    "remove_imgid_list = list(df_to_remove['image_name'])\n",
    "df_new_all = df_all.loc[~df_all['image_name'].isin(remove_imgid_list)]\n",
    "#df_new_all['ground_truth'].value_counts()\n",
    "df_new_all.groupby(['ground_truth', 'is_valid_set'])['image_name', 'img_id'].nunique()"
   ]
  },
  {
   "cell_type": "code",
   "execution_count": 59,
   "metadata": {},
   "outputs": [],
   "source": [
    "df_new_all.to_csv('validation_test_final.csv', index = False)"
   ]
  },
  {
   "cell_type": "code",
   "execution_count": 42,
   "metadata": {},
   "outputs": [
    {
     "data": {
      "text/plain": [
       "1_null            2268\n",
       "3_present          718\n",
       "4_surface_prob     250\n",
       "2_obstacle         129\n",
       "0_missing           83\n",
       "Name: ground_truth, dtype: int64"
      ]
     },
     "execution_count": 42,
     "metadata": {},
     "output_type": "execute_result"
    }
   ],
   "source": [
    "df_all['ground_truth'].value_counts()"
   ]
  },
  {
   "cell_type": "code",
   "execution_count": 46,
   "metadata": {},
   "outputs": [
    {
     "data": {
      "text/html": [
       "<div>\n",
       "<style scoped>\n",
       "    .dataframe tbody tr th:only-of-type {\n",
       "        vertical-align: middle;\n",
       "    }\n",
       "\n",
       "    .dataframe tbody tr th {\n",
       "        vertical-align: top;\n",
       "    }\n",
       "\n",
       "    .dataframe thead th {\n",
       "        text-align: right;\n",
       "    }\n",
       "</style>\n",
       "<table border=\"1\" class=\"dataframe\">\n",
       "  <thead>\n",
       "    <tr style=\"text-align: right;\">\n",
       "      <th></th>\n",
       "      <th></th>\n",
       "      <th>image_name</th>\n",
       "      <th>img_id</th>\n",
       "    </tr>\n",
       "    <tr>\n",
       "      <th>ground_truth</th>\n",
       "      <th>is_valid_set</th>\n",
       "      <th></th>\n",
       "      <th></th>\n",
       "    </tr>\n",
       "  </thead>\n",
       "  <tbody>\n",
       "    <tr>\n",
       "      <th rowspan=\"2\" valign=\"top\">0_missing</th>\n",
       "      <th>False</th>\n",
       "      <td>46</td>\n",
       "      <td>16</td>\n",
       "    </tr>\n",
       "    <tr>\n",
       "      <th>True</th>\n",
       "      <td>37</td>\n",
       "      <td>13</td>\n",
       "    </tr>\n",
       "    <tr>\n",
       "      <th rowspan=\"2\" valign=\"top\">1_null</th>\n",
       "      <th>False</th>\n",
       "      <td>1129</td>\n",
       "      <td>62</td>\n",
       "    </tr>\n",
       "    <tr>\n",
       "      <th>True</th>\n",
       "      <td>1139</td>\n",
       "      <td>62</td>\n",
       "    </tr>\n",
       "    <tr>\n",
       "      <th rowspan=\"2\" valign=\"top\">2_obstacle</th>\n",
       "      <th>False</th>\n",
       "      <td>64</td>\n",
       "      <td>17</td>\n",
       "    </tr>\n",
       "    <tr>\n",
       "      <th>True</th>\n",
       "      <td>65</td>\n",
       "      <td>12</td>\n",
       "    </tr>\n",
       "    <tr>\n",
       "      <th rowspan=\"2\" valign=\"top\">3_present</th>\n",
       "      <th>False</th>\n",
       "      <td>364</td>\n",
       "      <td>54</td>\n",
       "    </tr>\n",
       "    <tr>\n",
       "      <th>True</th>\n",
       "      <td>354</td>\n",
       "      <td>56</td>\n",
       "    </tr>\n",
       "    <tr>\n",
       "      <th rowspan=\"2\" valign=\"top\">4_surface_prob</th>\n",
       "      <th>False</th>\n",
       "      <td>133</td>\n",
       "      <td>26</td>\n",
       "    </tr>\n",
       "    <tr>\n",
       "      <th>True</th>\n",
       "      <td>117</td>\n",
       "      <td>24</td>\n",
       "    </tr>\n",
       "  </tbody>\n",
       "</table>\n",
       "</div>"
      ],
      "text/plain": [
       "                             image_name  img_id\n",
       "ground_truth   is_valid_set                    \n",
       "0_missing      False                 46      16\n",
       "               True                  37      13\n",
       "1_null         False               1129      62\n",
       "               True                1139      62\n",
       "2_obstacle     False                 64      17\n",
       "               True                  65      12\n",
       "3_present      False                364      54\n",
       "               True                 354      56\n",
       "4_surface_prob False                133      26\n",
       "               True                 117      24"
      ]
     },
     "execution_count": 46,
     "metadata": {},
     "output_type": "execute_result"
    }
   ],
   "source": [
    "df_all.groupby(['ground_truth', 'is_valid_set'])['image_name', 'img_id'].nunique()"
   ]
  },
  {
   "cell_type": "code",
   "execution_count": null,
   "metadata": {},
   "outputs": [],
   "source": []
  }
 ],
 "metadata": {
  "kernelspec": {
   "display_name": "conda_python3",
   "language": "python",
   "name": "conda_python3"
  },
  "language_info": {
   "codemirror_mode": {
    "name": "ipython",
    "version": 3
   },
   "file_extension": ".py",
   "mimetype": "text/x-python",
   "name": "python",
   "nbconvert_exporter": "python",
   "pygments_lexer": "ipython3",
   "version": "3.6.5"
  }
 },
 "nbformat": 4,
 "nbformat_minor": 4
}
