{
 "cells": [
  {
   "cell_type": "markdown",
   "metadata": {},
   "source": [
    "# Given the CSV of labels information\n",
    "## Restructure for consistency with column's in Galen's scripts for ease of cropping\n",
    "\n",
    "```\n",
    "gsv_panorama_id,sv_image_x,sv_image_y,label_type_id,photagrapher_heading,heading,is_researcher\n",
    "\n",
    "stxXyCKAbd73DmkM2vsIHA,9676,-455,1,50.4137916565,253.375,t\n",
    "```"
   ]
  },
  {
   "cell_type": "markdown",
   "metadata": {},
   "source": [
    "## Comments\n",
    "* Need to merge with metadata file to get the gsv_panorama_id\n",
    "* Want to keep an image id as well\n",
    "* sv_image_x and sv_image_y \n",
    "* "
   ]
  },
  {
   "cell_type": "code",
   "execution_count": 1,
   "metadata": {},
   "outputs": [],
   "source": [
    "import pandas as pd\n",
    "import os\n",
    "import s3fs # for reading from S3FileSystem\n",
    "import json # for working with JSON files \n",
    "\n",
    "pd.set_option('max_colwidth', -1)"
   ]
  },
  {
   "cell_type": "markdown",
   "metadata": {},
   "source": [
    "# Load current Labels CSV"
   ]
  },
  {
   "cell_type": "code",
   "execution_count": 2,
   "metadata": {},
   "outputs": [
    {
     "name": "stdout",
     "output_type": "stream",
     "text": [
      "(3440, 14)\n",
      "filename                   object\n",
      "file_size                  int64 \n",
      "file_attributes            object\n",
      "region_count               int64 \n",
      "region_id                  int64 \n",
      "region_shape_attributes    object\n",
      "region_attributes          object\n",
      "img_id                     int64 \n",
      "present_ramp               bool  \n",
      "missing_ramp               bool  \n",
      "obstacle                   bool  \n",
      "surface_prob               bool  \n",
      "no_sidewalk                bool  \n",
      "null                       bool  \n",
      "dtype: object\n"
     ]
    },
    {
     "data": {
      "text/html": [
       "<div>\n",
       "<style scoped>\n",
       "    .dataframe tbody tr th:only-of-type {\n",
       "        vertical-align: middle;\n",
       "    }\n",
       "\n",
       "    .dataframe tbody tr th {\n",
       "        vertical-align: top;\n",
       "    }\n",
       "\n",
       "    .dataframe thead th {\n",
       "        text-align: right;\n",
       "    }\n",
       "</style>\n",
       "<table border=\"1\" class=\"dataframe\">\n",
       "  <thead>\n",
       "    <tr style=\"text-align: right;\">\n",
       "      <th></th>\n",
       "      <th>filename</th>\n",
       "      <th>file_size</th>\n",
       "      <th>file_attributes</th>\n",
       "      <th>region_count</th>\n",
       "      <th>region_id</th>\n",
       "      <th>region_shape_attributes</th>\n",
       "      <th>region_attributes</th>\n",
       "      <th>img_id</th>\n",
       "      <th>present_ramp</th>\n",
       "      <th>missing_ramp</th>\n",
       "      <th>obstacle</th>\n",
       "      <th>surface_prob</th>\n",
       "      <th>no_sidewalk</th>\n",
       "      <th>null</th>\n",
       "    </tr>\n",
       "  </thead>\n",
       "  <tbody>\n",
       "    <tr>\n",
       "      <th>0</th>\n",
       "      <td>680_45.jpg</td>\n",
       "      <td>49558</td>\n",
       "      <td>{}</td>\n",
       "      <td>3</td>\n",
       "      <td>0</td>\n",
       "      <td>{\"name\":\"point\",\"cx\":108,\"cy\":389}</td>\n",
       "      <td>{\"Present Curb Ramp\":\"1\\n\"}</td>\n",
       "      <td>680</td>\n",
       "      <td>True</td>\n",
       "      <td>False</td>\n",
       "      <td>False</td>\n",
       "      <td>False</td>\n",
       "      <td>False</td>\n",
       "      <td>False</td>\n",
       "    </tr>\n",
       "    <tr>\n",
       "      <th>1</th>\n",
       "      <td>680_45.jpg</td>\n",
       "      <td>49558</td>\n",
       "      <td>{}</td>\n",
       "      <td>3</td>\n",
       "      <td>1</td>\n",
       "      <td>{\"name\":\"point\",\"cx\":160,\"cy\":389}</td>\n",
       "      <td>{\"Present Curb Ramp\":\"1\"}</td>\n",
       "      <td>680</td>\n",
       "      <td>True</td>\n",
       "      <td>False</td>\n",
       "      <td>False</td>\n",
       "      <td>False</td>\n",
       "      <td>False</td>\n",
       "      <td>False</td>\n",
       "    </tr>\n",
       "    <tr>\n",
       "      <th>2</th>\n",
       "      <td>680_45.jpg</td>\n",
       "      <td>49558</td>\n",
       "      <td>{}</td>\n",
       "      <td>3</td>\n",
       "      <td>2</td>\n",
       "      <td>{\"name\":\"point\",\"cx\":607,\"cy\":453}</td>\n",
       "      <td>{\"Present Curb Ramp\":\"1\"}</td>\n",
       "      <td>680</td>\n",
       "      <td>True</td>\n",
       "      <td>False</td>\n",
       "      <td>False</td>\n",
       "      <td>False</td>\n",
       "      <td>False</td>\n",
       "      <td>False</td>\n",
       "    </tr>\n",
       "    <tr>\n",
       "      <th>3</th>\n",
       "      <td>680_135.jpg</td>\n",
       "      <td>51194</td>\n",
       "      <td>{}</td>\n",
       "      <td>6</td>\n",
       "      <td>0</td>\n",
       "      <td>{\"name\":\"point\",\"cx\":18,\"cy\":475}</td>\n",
       "      <td>{\"Present Curb Ramp\":\"1\"}</td>\n",
       "      <td>680</td>\n",
       "      <td>True</td>\n",
       "      <td>False</td>\n",
       "      <td>False</td>\n",
       "      <td>False</td>\n",
       "      <td>False</td>\n",
       "      <td>False</td>\n",
       "    </tr>\n",
       "    <tr>\n",
       "      <th>4</th>\n",
       "      <td>680_135.jpg</td>\n",
       "      <td>51194</td>\n",
       "      <td>{}</td>\n",
       "      <td>6</td>\n",
       "      <td>1</td>\n",
       "      <td>{\"name\":\"point\",\"cx\":245,\"cy\":413}</td>\n",
       "      <td>{\"Present Curb Ramp\":\"1\"}</td>\n",
       "      <td>680</td>\n",
       "      <td>True</td>\n",
       "      <td>False</td>\n",
       "      <td>False</td>\n",
       "      <td>False</td>\n",
       "      <td>False</td>\n",
       "      <td>False</td>\n",
       "    </tr>\n",
       "  </tbody>\n",
       "</table>\n",
       "</div>"
      ],
      "text/plain": [
       "      filename  file_size file_attributes  region_count  region_id  \\\n",
       "0  680_45.jpg   49558      {}              3             0           \n",
       "1  680_45.jpg   49558      {}              3             1           \n",
       "2  680_45.jpg   49558      {}              3             2           \n",
       "3  680_135.jpg  51194      {}              6             0           \n",
       "4  680_135.jpg  51194      {}              6             1           \n",
       "\n",
       "              region_shape_attributes            region_attributes  img_id  \\\n",
       "0  {\"name\":\"point\",\"cx\":108,\"cy\":389}  {\"Present Curb Ramp\":\"1\\n\"}  680      \n",
       "1  {\"name\":\"point\",\"cx\":160,\"cy\":389}  {\"Present Curb Ramp\":\"1\"}    680      \n",
       "2  {\"name\":\"point\",\"cx\":607,\"cy\":453}  {\"Present Curb Ramp\":\"1\"}    680      \n",
       "3  {\"name\":\"point\",\"cx\":18,\"cy\":475}   {\"Present Curb Ramp\":\"1\"}    680      \n",
       "4  {\"name\":\"point\",\"cx\":245,\"cy\":413}  {\"Present Curb Ramp\":\"1\"}    680      \n",
       "\n",
       "   present_ramp  missing_ramp  obstacle  surface_prob  no_sidewalk   null  \n",
       "0  True          False         False     False         False        False  \n",
       "1  True          False         False     False         False        False  \n",
       "2  True          False         False     False         False        False  \n",
       "3  True          False         False     False         False        False  \n",
       "4  True          False         False     False         False        False  "
      ]
     },
     "execution_count": 2,
     "metadata": {},
     "output_type": "execute_result"
    }
   ],
   "source": [
    "SAGEMAKER_PATH = r'/home/ec2-user/SageMaker'\n",
    "df_labels = pd.read_csv('all_labels_bool.csv')\n",
    "print(df_labels.shape)\n",
    "print(df_labels.dtypes)\n",
    "df_labels.head()"
   ]
  },
  {
   "cell_type": "markdown",
   "metadata": {},
   "source": [
    "# Limit to where there's exactly 1 region_attribute on a point"
   ]
  },
  {
   "cell_type": "code",
   "execution_count": 8,
   "metadata": {},
   "outputs": [
    {
     "data": {
      "text/plain": [
       "(2877, 14)"
      ]
     },
     "execution_count": 8,
     "metadata": {},
     "output_type": "execute_result"
    }
   ],
   "source": [
    "# Find the roughly 26 rows where there are multiple attributes in a given tag\n",
    "df_limit = df_labels.loc[~df_labels['region_attributes'].str.contains(',')]\n",
    "# Find where no tags were given to an image\n",
    "df_limit = df_labels.loc[df_labels['region_attributes'] != '{}']\n",
    "df_limit.shape"
   ]
  },
  {
   "cell_type": "markdown",
   "metadata": {},
   "source": [
    "## Parse out x and y coordinates\n",
    "## Name as sv_image_x and sv_image_y"
   ]
  },
  {
   "cell_type": "code",
   "execution_count": 9,
   "metadata": {},
   "outputs": [
    {
     "data": {
      "text/html": [
       "<div>\n",
       "<style scoped>\n",
       "    .dataframe tbody tr th:only-of-type {\n",
       "        vertical-align: middle;\n",
       "    }\n",
       "\n",
       "    .dataframe tbody tr th {\n",
       "        vertical-align: top;\n",
       "    }\n",
       "\n",
       "    .dataframe thead th {\n",
       "        text-align: right;\n",
       "    }\n",
       "</style>\n",
       "<table border=\"1\" class=\"dataframe\">\n",
       "  <thead>\n",
       "    <tr style=\"text-align: right;\">\n",
       "      <th></th>\n",
       "      <th>sv_image_x</th>\n",
       "      <th>sv_image_y</th>\n",
       "    </tr>\n",
       "  </thead>\n",
       "  <tbody>\n",
       "    <tr>\n",
       "      <th>0</th>\n",
       "      <td>108</td>\n",
       "      <td>389</td>\n",
       "    </tr>\n",
       "    <tr>\n",
       "      <th>1</th>\n",
       "      <td>160</td>\n",
       "      <td>389</td>\n",
       "    </tr>\n",
       "    <tr>\n",
       "      <th>2</th>\n",
       "      <td>607</td>\n",
       "      <td>453</td>\n",
       "    </tr>\n",
       "    <tr>\n",
       "      <th>3</th>\n",
       "      <td>18</td>\n",
       "      <td>475</td>\n",
       "    </tr>\n",
       "    <tr>\n",
       "      <th>4</th>\n",
       "      <td>245</td>\n",
       "      <td>413</td>\n",
       "    </tr>\n",
       "  </tbody>\n",
       "</table>\n",
       "</div>"
      ],
      "text/plain": [
       "   sv_image_x  sv_image_y\n",
       "0  108         389       \n",
       "1  160         389       \n",
       "2  607         453       \n",
       "3  18          475       \n",
       "4  245         413       "
      ]
     },
     "execution_count": 9,
     "metadata": {},
     "output_type": "execute_result"
    }
   ],
   "source": [
    "df_coor = df_limit['region_shape_attributes'].str.extract('{\"name\":\"point\",\"cx\":(.*),\"cy\":(.*)}')\n",
    "df_coor.columns = ['sv_image_x', 'sv_image_y']\n",
    "df_coor['sv_image_x'] = pd.to_numeric(df_coor['sv_image_x'])\n",
    "df_coor['sv_image_y'] = pd.to_numeric(df_coor['sv_image_y'])\n",
    "df_coor.head()"
   ]
  },
  {
   "cell_type": "code",
   "execution_count": 10,
   "metadata": {},
   "outputs": [
    {
     "data": {
      "text/html": [
       "<div>\n",
       "<style scoped>\n",
       "    .dataframe tbody tr th:only-of-type {\n",
       "        vertical-align: middle;\n",
       "    }\n",
       "\n",
       "    .dataframe tbody tr th {\n",
       "        vertical-align: top;\n",
       "    }\n",
       "\n",
       "    .dataframe thead th {\n",
       "        text-align: right;\n",
       "    }\n",
       "</style>\n",
       "<table border=\"1\" class=\"dataframe\">\n",
       "  <thead>\n",
       "    <tr style=\"text-align: right;\">\n",
       "      <th></th>\n",
       "      <th>sv_image_x</th>\n",
       "      <th>sv_image_y</th>\n",
       "    </tr>\n",
       "  </thead>\n",
       "  <tbody>\n",
       "    <tr>\n",
       "      <th>count</th>\n",
       "      <td>2877.000000</td>\n",
       "      <td>2877.000000</td>\n",
       "    </tr>\n",
       "    <tr>\n",
       "      <th>mean</th>\n",
       "      <td>315.975669</td>\n",
       "      <td>410.168231</td>\n",
       "    </tr>\n",
       "    <tr>\n",
       "      <th>std</th>\n",
       "      <td>152.431051</td>\n",
       "      <td>47.565286</td>\n",
       "    </tr>\n",
       "    <tr>\n",
       "      <th>min</th>\n",
       "      <td>2.000000</td>\n",
       "      <td>325.000000</td>\n",
       "    </tr>\n",
       "    <tr>\n",
       "      <th>25%</th>\n",
       "      <td>209.000000</td>\n",
       "      <td>377.000000</td>\n",
       "    </tr>\n",
       "    <tr>\n",
       "      <th>50%</th>\n",
       "      <td>317.000000</td>\n",
       "      <td>404.000000</td>\n",
       "    </tr>\n",
       "    <tr>\n",
       "      <th>75%</th>\n",
       "      <td>421.000000</td>\n",
       "      <td>430.000000</td>\n",
       "    </tr>\n",
       "    <tr>\n",
       "      <th>max</th>\n",
       "      <td>634.000000</td>\n",
       "      <td>634.000000</td>\n",
       "    </tr>\n",
       "  </tbody>\n",
       "</table>\n",
       "</div>"
      ],
      "text/plain": [
       "        sv_image_x   sv_image_y\n",
       "count  2877.000000  2877.000000\n",
       "mean   315.975669   410.168231 \n",
       "std    152.431051   47.565286  \n",
       "min    2.000000     325.000000 \n",
       "25%    209.000000   377.000000 \n",
       "50%    317.000000   404.000000 \n",
       "75%    421.000000   430.000000 \n",
       "max    634.000000   634.000000 "
      ]
     },
     "execution_count": 10,
     "metadata": {},
     "output_type": "execute_result"
    }
   ],
   "source": [
    "df_coor.describe()"
   ]
  },
  {
   "cell_type": "code",
   "execution_count": null,
   "metadata": {},
   "outputs": [],
   "source": [
    "coor_cols = ['sv_image_x', 'sv_image_y']\n",
    "df_limit[coor_cols] = "
   ]
  }
 ],
 "metadata": {
  "kernelspec": {
   "display_name": "conda_pytorch_p36",
   "language": "python",
   "name": "conda_pytorch_p36"
  },
  "language_info": {
   "codemirror_mode": {
    "name": "ipython",
    "version": 3
   },
   "file_extension": ".py",
   "mimetype": "text/x-python",
   "name": "python",
   "nbconvert_exporter": "python",
   "pygments_lexer": "ipython3",
   "version": "3.6.5"
  }
 },
 "nbformat": 4,
 "nbformat_minor": 4
}
