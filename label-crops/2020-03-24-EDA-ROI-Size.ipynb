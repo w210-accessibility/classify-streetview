{
 "cells": [
  {
   "cell_type": "code",
   "execution_count": 1,
   "metadata": {},
   "outputs": [],
   "source": [
    "import pandas as pd\n",
    "import os\n",
    "import s3fs # for reading from S3FileSystem\n",
    "import json # for working with JSON files \n",
    "\n",
    "import matplotlib.pyplot as plt\n",
    "\n",
    "from io import StringIO\n",
    "\n",
    "pd.set_option('max_colwidth', -1)"
   ]
  },
  {
   "cell_type": "markdown",
   "metadata": {},
   "source": [
    "# Load Metadata on images\n",
    "\n",
    "* Find out the coordinate locations for 3 images of interest\n",
    "* Draw the coordinates on the image\n",
    "* Show the images\n",
    "* Determine if would be in the crop "
   ]
  },
  {
   "cell_type": "code",
   "execution_count": 2,
   "metadata": {},
   "outputs": [
    {
     "data": {
      "text/html": [
       "<div>\n",
       "<style scoped>\n",
       "    .dataframe tbody tr th:only-of-type {\n",
       "        vertical-align: middle;\n",
       "    }\n",
       "\n",
       "    .dataframe tbody tr th {\n",
       "        vertical-align: top;\n",
       "    }\n",
       "\n",
       "    .dataframe thead th {\n",
       "        text-align: right;\n",
       "    }\n",
       "</style>\n",
       "<table border=\"1\" class=\"dataframe\">\n",
       "  <thead>\n",
       "    <tr style=\"text-align: right;\">\n",
       "      <th></th>\n",
       "      <th>img_id</th>\n",
       "      <th>pano_id</th>\n",
       "      <th>present_ramp</th>\n",
       "      <th>missing_ramp</th>\n",
       "      <th>obstacle</th>\n",
       "      <th>surface_prob</th>\n",
       "      <th>no_sidewalk</th>\n",
       "      <th>labels_count</th>\n",
       "      <th>count_present_ramp</th>\n",
       "      <th>count_missing_ramp</th>\n",
       "      <th>count_obstacle</th>\n",
       "      <th>count_surface_prob</th>\n",
       "      <th>count_no_sidewalk</th>\n",
       "      <th>is_test_pano</th>\n",
       "      <th>includes_rare</th>\n",
       "    </tr>\n",
       "  </thead>\n",
       "  <tbody>\n",
       "    <tr>\n",
       "      <th>0</th>\n",
       "      <td>352</td>\n",
       "      <td>gmMcgskONK4C-kMOGpQfAw</td>\n",
       "      <td>False</td>\n",
       "      <td>False</td>\n",
       "      <td>False</td>\n",
       "      <td>False</td>\n",
       "      <td>True</td>\n",
       "      <td>11</td>\n",
       "      <td>0</td>\n",
       "      <td>0</td>\n",
       "      <td>0</td>\n",
       "      <td>0</td>\n",
       "      <td>11</td>\n",
       "      <td>True</td>\n",
       "      <td>False</td>\n",
       "    </tr>\n",
       "    <tr>\n",
       "      <th>1</th>\n",
       "      <td>510</td>\n",
       "      <td>2xZABXrvlRIsTW_lb-P-Mw</td>\n",
       "      <td>True</td>\n",
       "      <td>False</td>\n",
       "      <td>False</td>\n",
       "      <td>False</td>\n",
       "      <td>True</td>\n",
       "      <td>4</td>\n",
       "      <td>2</td>\n",
       "      <td>0</td>\n",
       "      <td>0</td>\n",
       "      <td>0</td>\n",
       "      <td>2</td>\n",
       "      <td>False</td>\n",
       "      <td>False</td>\n",
       "    </tr>\n",
       "    <tr>\n",
       "      <th>2</th>\n",
       "      <td>583</td>\n",
       "      <td>7Np-jziLBGYvL0jxef8n6Q</td>\n",
       "      <td>False</td>\n",
       "      <td>False</td>\n",
       "      <td>False</td>\n",
       "      <td>False</td>\n",
       "      <td>True</td>\n",
       "      <td>9</td>\n",
       "      <td>0</td>\n",
       "      <td>0</td>\n",
       "      <td>0</td>\n",
       "      <td>0</td>\n",
       "      <td>9</td>\n",
       "      <td>True</td>\n",
       "      <td>False</td>\n",
       "    </tr>\n",
       "    <tr>\n",
       "      <th>3</th>\n",
       "      <td>878</td>\n",
       "      <td>Rh2vW4whyJGdD6M9v47NcQ</td>\n",
       "      <td>True</td>\n",
       "      <td>False</td>\n",
       "      <td>False</td>\n",
       "      <td>False</td>\n",
       "      <td>True</td>\n",
       "      <td>13</td>\n",
       "      <td>2</td>\n",
       "      <td>0</td>\n",
       "      <td>0</td>\n",
       "      <td>0</td>\n",
       "      <td>11</td>\n",
       "      <td>False</td>\n",
       "      <td>False</td>\n",
       "    </tr>\n",
       "    <tr>\n",
       "      <th>4</th>\n",
       "      <td>944</td>\n",
       "      <td>WeDhagO9OpPej7YAOjAs_g</td>\n",
       "      <td>False</td>\n",
       "      <td>False</td>\n",
       "      <td>False</td>\n",
       "      <td>False</td>\n",
       "      <td>True</td>\n",
       "      <td>17</td>\n",
       "      <td>0</td>\n",
       "      <td>0</td>\n",
       "      <td>0</td>\n",
       "      <td>0</td>\n",
       "      <td>17</td>\n",
       "      <td>True</td>\n",
       "      <td>False</td>\n",
       "    </tr>\n",
       "  </tbody>\n",
       "</table>\n",
       "</div>"
      ],
      "text/plain": [
       "   img_id                 pano_id  present_ramp  missing_ramp  obstacle  \\\n",
       "0  352     gmMcgskONK4C-kMOGpQfAw  False         False         False      \n",
       "1  510     2xZABXrvlRIsTW_lb-P-Mw  True          False         False      \n",
       "2  583     7Np-jziLBGYvL0jxef8n6Q  False         False         False      \n",
       "3  878     Rh2vW4whyJGdD6M9v47NcQ  True          False         False      \n",
       "4  944     WeDhagO9OpPej7YAOjAs_g  False         False         False      \n",
       "\n",
       "   surface_prob  no_sidewalk  labels_count  count_present_ramp  \\\n",
       "0  False         True         11            0                    \n",
       "1  False         True         4             2                    \n",
       "2  False         True         9             0                    \n",
       "3  False         True         13            2                    \n",
       "4  False         True         17            0                    \n",
       "\n",
       "   count_missing_ramp  count_obstacle  count_surface_prob  count_no_sidewalk  \\\n",
       "0  0                   0               0                   11                  \n",
       "1  0                   0               0                   2                   \n",
       "2  0                   0               0                   9                   \n",
       "3  0                   0               0                   11                  \n",
       "4  0                   0               0                   17                  \n",
       "\n",
       "   is_test_pano  includes_rare  \n",
       "0  True          False          \n",
       "1  False         False          \n",
       "2  True          False          \n",
       "3  False         False          \n",
       "4  True          False          "
      ]
     },
     "execution_count": 2,
     "metadata": {},
     "output_type": "execute_result"
    }
   ],
   "source": [
    "SAGEMAKER_PATH = r'/home/ec2-user/SageMaker'\n",
    "SPLIT_PATH = os.path.join(SAGEMAKER_PATH, 'classify-streetview', 'split-train-test')\n",
    "\n",
    "df_split = pd.read_csv(os.path.join(SPLIT_PATH, 'data-split', 'final_combined_splits.csv'))\n",
    "df_split.head()"
   ]
  },
  {
   "cell_type": "code",
   "execution_count": 3,
   "metadata": {},
   "outputs": [
    {
     "data": {
      "text/html": [
       "<div>\n",
       "<style scoped>\n",
       "    .dataframe tbody tr th:only-of-type {\n",
       "        vertical-align: middle;\n",
       "    }\n",
       "\n",
       "    .dataframe tbody tr th {\n",
       "        vertical-align: top;\n",
       "    }\n",
       "\n",
       "    .dataframe thead th {\n",
       "        text-align: right;\n",
       "    }\n",
       "</style>\n",
       "<table border=\"1\" class=\"dataframe\">\n",
       "  <thead>\n",
       "    <tr style=\"text-align: right;\">\n",
       "      <th></th>\n",
       "      <th>img_id</th>\n",
       "      <th>pano_id</th>\n",
       "      <th>present_ramp</th>\n",
       "      <th>missing_ramp</th>\n",
       "      <th>obstacle</th>\n",
       "      <th>surface_prob</th>\n",
       "      <th>no_sidewalk</th>\n",
       "      <th>labels_count</th>\n",
       "      <th>count_present_ramp</th>\n",
       "      <th>count_missing_ramp</th>\n",
       "      <th>count_obstacle</th>\n",
       "      <th>count_surface_prob</th>\n",
       "      <th>count_no_sidewalk</th>\n",
       "      <th>is_test_pano</th>\n",
       "      <th>includes_rare</th>\n",
       "    </tr>\n",
       "  </thead>\n",
       "  <tbody>\n",
       "    <tr>\n",
       "      <th>94</th>\n",
       "      <td>10013</td>\n",
       "      <td>agVPvT3Lfz672yE7LcLiGg</td>\n",
       "      <td>True</td>\n",
       "      <td>False</td>\n",
       "      <td>False</td>\n",
       "      <td>False</td>\n",
       "      <td>False</td>\n",
       "      <td>4</td>\n",
       "      <td>4</td>\n",
       "      <td>0</td>\n",
       "      <td>0</td>\n",
       "      <td>0</td>\n",
       "      <td>0</td>\n",
       "      <td>True</td>\n",
       "      <td>False</td>\n",
       "    </tr>\n",
       "    <tr>\n",
       "      <th>104</th>\n",
       "      <td>11206</td>\n",
       "      <td>VbCe4cGPxSo3Yg2WMj1N2A</td>\n",
       "      <td>True</td>\n",
       "      <td>False</td>\n",
       "      <td>False</td>\n",
       "      <td>False</td>\n",
       "      <td>False</td>\n",
       "      <td>4</td>\n",
       "      <td>4</td>\n",
       "      <td>0</td>\n",
       "      <td>0</td>\n",
       "      <td>0</td>\n",
       "      <td>0</td>\n",
       "      <td>False</td>\n",
       "      <td>False</td>\n",
       "    </tr>\n",
       "    <tr>\n",
       "      <th>273</th>\n",
       "      <td>1908</td>\n",
       "      <td>7yGvCWd2veNF4vkmASMt9A</td>\n",
       "      <td>True</td>\n",
       "      <td>False</td>\n",
       "      <td>True</td>\n",
       "      <td>False</td>\n",
       "      <td>False</td>\n",
       "      <td>7</td>\n",
       "      <td>6</td>\n",
       "      <td>0</td>\n",
       "      <td>1</td>\n",
       "      <td>0</td>\n",
       "      <td>0</td>\n",
       "      <td>False</td>\n",
       "      <td>True</td>\n",
       "    </tr>\n",
       "  </tbody>\n",
       "</table>\n",
       "</div>"
      ],
      "text/plain": [
       "     img_id                 pano_id  present_ramp  missing_ramp  obstacle  \\\n",
       "94   10013   agVPvT3Lfz672yE7LcLiGg  True          False         False      \n",
       "104  11206   VbCe4cGPxSo3Yg2WMj1N2A  True          False         False      \n",
       "273  1908    7yGvCWd2veNF4vkmASMt9A  True          False         True       \n",
       "\n",
       "     surface_prob  no_sidewalk  labels_count  count_present_ramp  \\\n",
       "94   False         False        4             4                    \n",
       "104  False         False        4             4                    \n",
       "273  False         False        7             6                    \n",
       "\n",
       "     count_missing_ramp  count_obstacle  count_surface_prob  \\\n",
       "94   0                   0               0                    \n",
       "104  0                   0               0                    \n",
       "273  0                   1               0                    \n",
       "\n",
       "     count_no_sidewalk  is_test_pano  includes_rare  \n",
       "94   0                  True          False          \n",
       "104  0                  False         False          \n",
       "273  0                  False         True           "
      ]
     },
     "execution_count": 3,
     "metadata": {},
     "output_type": "execute_result"
    }
   ],
   "source": [
    "img_id_list = ['10013', '11206', '1908']\n",
    "df_split.loc[df_split['img_id'].isin(img_id_list)]"
   ]
  },
  {
   "cell_type": "code",
   "execution_count": 4,
   "metadata": {},
   "outputs": [
    {
     "data": {
      "text/html": [
       "<div>\n",
       "<style scoped>\n",
       "    .dataframe tbody tr th:only-of-type {\n",
       "        vertical-align: middle;\n",
       "    }\n",
       "\n",
       "    .dataframe tbody tr th {\n",
       "        vertical-align: top;\n",
       "    }\n",
       "\n",
       "    .dataframe thead th {\n",
       "        text-align: right;\n",
       "    }\n",
       "</style>\n",
       "<table border=\"1\" class=\"dataframe\">\n",
       "  <thead>\n",
       "    <tr style=\"text-align: right;\">\n",
       "      <th></th>\n",
       "      <th>filename</th>\n",
       "      <th>file_size</th>\n",
       "      <th>file_attributes</th>\n",
       "      <th>region_count</th>\n",
       "      <th>region_id</th>\n",
       "      <th>region_shape_attributes</th>\n",
       "      <th>region_attributes</th>\n",
       "      <th>img_id</th>\n",
       "      <th>present_ramp</th>\n",
       "      <th>missing_ramp</th>\n",
       "      <th>obstacle</th>\n",
       "      <th>surface_prob</th>\n",
       "      <th>no_sidewalk</th>\n",
       "      <th>null</th>\n",
       "      <th>sv_image_x</th>\n",
       "      <th>sv_image_y</th>\n",
       "      <th>sv_image_y_bottom_origin</th>\n",
       "      <th>label_name</th>\n",
       "    </tr>\n",
       "  </thead>\n",
       "  <tbody>\n",
       "    <tr>\n",
       "      <th>0</th>\n",
       "      <td>680_45.jpg</td>\n",
       "      <td>49558</td>\n",
       "      <td>{}</td>\n",
       "      <td>3</td>\n",
       "      <td>0</td>\n",
       "      <td>{\"name\":\"point\",\"cx\":108,\"cy\":389}</td>\n",
       "      <td>{\"Present Curb Ramp\":\"1\\n\"}</td>\n",
       "      <td>680</td>\n",
       "      <td>True</td>\n",
       "      <td>False</td>\n",
       "      <td>False</td>\n",
       "      <td>False</td>\n",
       "      <td>False</td>\n",
       "      <td>False</td>\n",
       "      <td>108</td>\n",
       "      <td>389</td>\n",
       "      <td>251</td>\n",
       "      <td>Present Curb Ramp</td>\n",
       "    </tr>\n",
       "    <tr>\n",
       "      <th>1</th>\n",
       "      <td>680_45.jpg</td>\n",
       "      <td>49558</td>\n",
       "      <td>{}</td>\n",
       "      <td>3</td>\n",
       "      <td>1</td>\n",
       "      <td>{\"name\":\"point\",\"cx\":160,\"cy\":389}</td>\n",
       "      <td>{\"Present Curb Ramp\":\"1\"}</td>\n",
       "      <td>680</td>\n",
       "      <td>True</td>\n",
       "      <td>False</td>\n",
       "      <td>False</td>\n",
       "      <td>False</td>\n",
       "      <td>False</td>\n",
       "      <td>False</td>\n",
       "      <td>160</td>\n",
       "      <td>389</td>\n",
       "      <td>251</td>\n",
       "      <td>Present Curb Ramp</td>\n",
       "    </tr>\n",
       "    <tr>\n",
       "      <th>2</th>\n",
       "      <td>680_45.jpg</td>\n",
       "      <td>49558</td>\n",
       "      <td>{}</td>\n",
       "      <td>3</td>\n",
       "      <td>2</td>\n",
       "      <td>{\"name\":\"point\",\"cx\":607,\"cy\":453}</td>\n",
       "      <td>{\"Present Curb Ramp\":\"1\"}</td>\n",
       "      <td>680</td>\n",
       "      <td>True</td>\n",
       "      <td>False</td>\n",
       "      <td>False</td>\n",
       "      <td>False</td>\n",
       "      <td>False</td>\n",
       "      <td>False</td>\n",
       "      <td>607</td>\n",
       "      <td>453</td>\n",
       "      <td>187</td>\n",
       "      <td>Present Curb Ramp</td>\n",
       "    </tr>\n",
       "    <tr>\n",
       "      <th>3</th>\n",
       "      <td>680_135.jpg</td>\n",
       "      <td>51194</td>\n",
       "      <td>{}</td>\n",
       "      <td>6</td>\n",
       "      <td>0</td>\n",
       "      <td>{\"name\":\"point\",\"cx\":18,\"cy\":475}</td>\n",
       "      <td>{\"Present Curb Ramp\":\"1\"}</td>\n",
       "      <td>680</td>\n",
       "      <td>True</td>\n",
       "      <td>False</td>\n",
       "      <td>False</td>\n",
       "      <td>False</td>\n",
       "      <td>False</td>\n",
       "      <td>False</td>\n",
       "      <td>18</td>\n",
       "      <td>475</td>\n",
       "      <td>165</td>\n",
       "      <td>Present Curb Ramp</td>\n",
       "    </tr>\n",
       "    <tr>\n",
       "      <th>4</th>\n",
       "      <td>680_135.jpg</td>\n",
       "      <td>51194</td>\n",
       "      <td>{}</td>\n",
       "      <td>6</td>\n",
       "      <td>1</td>\n",
       "      <td>{\"name\":\"point\",\"cx\":245,\"cy\":413}</td>\n",
       "      <td>{\"Present Curb Ramp\":\"1\"}</td>\n",
       "      <td>680</td>\n",
       "      <td>True</td>\n",
       "      <td>False</td>\n",
       "      <td>False</td>\n",
       "      <td>False</td>\n",
       "      <td>False</td>\n",
       "      <td>False</td>\n",
       "      <td>245</td>\n",
       "      <td>413</td>\n",
       "      <td>227</td>\n",
       "      <td>Present Curb Ramp</td>\n",
       "    </tr>\n",
       "  </tbody>\n",
       "</table>\n",
       "</div>"
      ],
      "text/plain": [
       "      filename  file_size file_attributes  region_count  region_id  \\\n",
       "0  680_45.jpg   49558      {}              3             0           \n",
       "1  680_45.jpg   49558      {}              3             1           \n",
       "2  680_45.jpg   49558      {}              3             2           \n",
       "3  680_135.jpg  51194      {}              6             0           \n",
       "4  680_135.jpg  51194      {}              6             1           \n",
       "\n",
       "              region_shape_attributes            region_attributes  img_id  \\\n",
       "0  {\"name\":\"point\",\"cx\":108,\"cy\":389}  {\"Present Curb Ramp\":\"1\\n\"}  680      \n",
       "1  {\"name\":\"point\",\"cx\":160,\"cy\":389}  {\"Present Curb Ramp\":\"1\"}    680      \n",
       "2  {\"name\":\"point\",\"cx\":607,\"cy\":453}  {\"Present Curb Ramp\":\"1\"}    680      \n",
       "3  {\"name\":\"point\",\"cx\":18,\"cy\":475}   {\"Present Curb Ramp\":\"1\"}    680      \n",
       "4  {\"name\":\"point\",\"cx\":245,\"cy\":413}  {\"Present Curb Ramp\":\"1\"}    680      \n",
       "\n",
       "   present_ramp  missing_ramp  obstacle  surface_prob  no_sidewalk   null  \\\n",
       "0  True          False         False     False         False        False   \n",
       "1  True          False         False     False         False        False   \n",
       "2  True          False         False     False         False        False   \n",
       "3  True          False         False     False         False        False   \n",
       "4  True          False         False     False         False        False   \n",
       "\n",
       "   sv_image_x  sv_image_y  sv_image_y_bottom_origin         label_name  \n",
       "0  108         389         251                       Present Curb Ramp  \n",
       "1  160         389         251                       Present Curb Ramp  \n",
       "2  607         453         187                       Present Curb Ramp  \n",
       "3  18          475         165                       Present Curb Ramp  \n",
       "4  245         413         227                       Present Curb Ramp  "
      ]
     },
     "execution_count": 4,
     "metadata": {},
     "output_type": "execute_result"
    }
   ],
   "source": [
    "df_labels = pd.read_csv(os.path.join(SPLIT_PATH, 'restructure_single_labels.csv'))\n",
    "df_labels.head()"
   ]
  },
  {
   "cell_type": "code",
   "execution_count": 5,
   "metadata": {},
   "outputs": [
    {
     "data": {
      "text/html": [
       "<div>\n",
       "<style scoped>\n",
       "    .dataframe tbody tr th:only-of-type {\n",
       "        vertical-align: middle;\n",
       "    }\n",
       "\n",
       "    .dataframe tbody tr th {\n",
       "        vertical-align: top;\n",
       "    }\n",
       "\n",
       "    .dataframe thead th {\n",
       "        text-align: right;\n",
       "    }\n",
       "</style>\n",
       "<table border=\"1\" class=\"dataframe\">\n",
       "  <thead>\n",
       "    <tr style=\"text-align: right;\">\n",
       "      <th></th>\n",
       "      <th>filename</th>\n",
       "      <th>file_size</th>\n",
       "      <th>file_attributes</th>\n",
       "      <th>region_count</th>\n",
       "      <th>region_id</th>\n",
       "      <th>region_shape_attributes</th>\n",
       "      <th>region_attributes</th>\n",
       "      <th>img_id</th>\n",
       "      <th>present_ramp</th>\n",
       "      <th>missing_ramp</th>\n",
       "      <th>obstacle</th>\n",
       "      <th>surface_prob</th>\n",
       "      <th>no_sidewalk</th>\n",
       "      <th>null</th>\n",
       "      <th>sv_image_x</th>\n",
       "      <th>sv_image_y</th>\n",
       "      <th>sv_image_y_bottom_origin</th>\n",
       "      <th>label_name</th>\n",
       "    </tr>\n",
       "  </thead>\n",
       "  <tbody>\n",
       "    <tr>\n",
       "      <th>30</th>\n",
       "      <td>1908_135.jpg</td>\n",
       "      <td>45079</td>\n",
       "      <td>{}</td>\n",
       "      <td>1</td>\n",
       "      <td>0</td>\n",
       "      <td>{\"name\":\"point\",\"cx\":392,\"cy\":433}</td>\n",
       "      <td>{\"Present Curb Ramp\":\"2\"}</td>\n",
       "      <td>1908</td>\n",
       "      <td>True</td>\n",
       "      <td>False</td>\n",
       "      <td>False</td>\n",
       "      <td>False</td>\n",
       "      <td>False</td>\n",
       "      <td>False</td>\n",
       "      <td>392</td>\n",
       "      <td>433</td>\n",
       "      <td>207</td>\n",
       "      <td>Present Curb Ramp</td>\n",
       "    </tr>\n",
       "    <tr>\n",
       "      <th>917</th>\n",
       "      <td>10013_135.jpg</td>\n",
       "      <td>83337</td>\n",
       "      <td>{}</td>\n",
       "      <td>1</td>\n",
       "      <td>0</td>\n",
       "      <td>{\"name\":\"point\",\"cx\":141,\"cy\":391}</td>\n",
       "      <td>{\"Present Curb Ramp\":\"4\"}</td>\n",
       "      <td>10013</td>\n",
       "      <td>True</td>\n",
       "      <td>False</td>\n",
       "      <td>False</td>\n",
       "      <td>False</td>\n",
       "      <td>False</td>\n",
       "      <td>False</td>\n",
       "      <td>141</td>\n",
       "      <td>391</td>\n",
       "      <td>249</td>\n",
       "      <td>Present Curb Ramp</td>\n",
       "    </tr>\n",
       "    <tr>\n",
       "      <th>1769</th>\n",
       "      <td>11206_135.jpg</td>\n",
       "      <td>80948</td>\n",
       "      <td>{}</td>\n",
       "      <td>1</td>\n",
       "      <td>0</td>\n",
       "      <td>{\"name\":\"point\",\"cx\":260,\"cy\":463}</td>\n",
       "      <td>{\"Present Curb Ramp\":\"2\"}</td>\n",
       "      <td>11206</td>\n",
       "      <td>True</td>\n",
       "      <td>False</td>\n",
       "      <td>False</td>\n",
       "      <td>False</td>\n",
       "      <td>False</td>\n",
       "      <td>False</td>\n",
       "      <td>260</td>\n",
       "      <td>463</td>\n",
       "      <td>177</td>\n",
       "      <td>Present Curb Ramp</td>\n",
       "    </tr>\n",
       "  </tbody>\n",
       "</table>\n",
       "</div>"
      ],
      "text/plain": [
       "           filename  file_size file_attributes  region_count  region_id  \\\n",
       "30    1908_135.jpg   45079      {}              1             0           \n",
       "917   10013_135.jpg  83337      {}              1             0           \n",
       "1769  11206_135.jpg  80948      {}              1             0           \n",
       "\n",
       "                 region_shape_attributes          region_attributes  img_id  \\\n",
       "30    {\"name\":\"point\",\"cx\":392,\"cy\":433}  {\"Present Curb Ramp\":\"2\"}  1908     \n",
       "917   {\"name\":\"point\",\"cx\":141,\"cy\":391}  {\"Present Curb Ramp\":\"4\"}  10013    \n",
       "1769  {\"name\":\"point\",\"cx\":260,\"cy\":463}  {\"Present Curb Ramp\":\"2\"}  11206    \n",
       "\n",
       "      present_ramp  missing_ramp  obstacle  surface_prob  no_sidewalk   null  \\\n",
       "30    True          False         False     False         False        False   \n",
       "917   True          False         False     False         False        False   \n",
       "1769  True          False         False     False         False        False   \n",
       "\n",
       "      sv_image_x  sv_image_y  sv_image_y_bottom_origin         label_name  \n",
       "30    392         433         207                       Present Curb Ramp  \n",
       "917   141         391         249                       Present Curb Ramp  \n",
       "1769  260         463         177                       Present Curb Ramp  "
      ]
     },
     "execution_count": 5,
     "metadata": {},
     "output_type": "execute_result"
    }
   ],
   "source": [
    "image_filename_list = ['10013_135.jpg', '11206_135.jpg', '1908_135.jpg']\n",
    "df_labels.loc[df_labels['filename'].isin(image_filename_list)]"
   ]
  },
  {
   "cell_type": "markdown",
   "metadata": {},
   "source": [
    "# Assume that we take it if it's in the bounds of the crop\n",
    "\n",
    "* So do a comparison tree?"
   ]
  },
  {
   "cell_type": "code",
   "execution_count": 6,
   "metadata": {},
   "outputs": [
    {
     "data": {
      "text/html": [
       "<div>\n",
       "<style scoped>\n",
       "    .dataframe tbody tr th:only-of-type {\n",
       "        vertical-align: middle;\n",
       "    }\n",
       "\n",
       "    .dataframe tbody tr th {\n",
       "        vertical-align: top;\n",
       "    }\n",
       "\n",
       "    .dataframe thead th {\n",
       "        text-align: right;\n",
       "    }\n",
       "</style>\n",
       "<table border=\"1\" class=\"dataframe\">\n",
       "  <thead>\n",
       "    <tr style=\"text-align: right;\">\n",
       "      <th></th>\n",
       "      <th>crop_number</th>\n",
       "      <th>corner_x</th>\n",
       "      <th>corner_y</th>\n",
       "      <th>size</th>\n",
       "      <th>x_crop_left</th>\n",
       "      <th>x_crop_right</th>\n",
       "      <th>y_crop_top</th>\n",
       "      <th>y_crop_bottom</th>\n",
       "    </tr>\n",
       "  </thead>\n",
       "  <tbody>\n",
       "    <tr>\n",
       "      <th>0</th>\n",
       "      <td>1</td>\n",
       "      <td>0</td>\n",
       "      <td>200</td>\n",
       "      <td>220</td>\n",
       "      <td>0</td>\n",
       "      <td>220</td>\n",
       "      <td>200</td>\n",
       "      <td>420</td>\n",
       "    </tr>\n",
       "    <tr>\n",
       "      <th>1</th>\n",
       "      <td>2</td>\n",
       "      <td>140</td>\n",
       "      <td>200</td>\n",
       "      <td>220</td>\n",
       "      <td>140</td>\n",
       "      <td>360</td>\n",
       "      <td>200</td>\n",
       "      <td>420</td>\n",
       "    </tr>\n",
       "    <tr>\n",
       "      <th>2</th>\n",
       "      <td>3</td>\n",
       "      <td>280</td>\n",
       "      <td>200</td>\n",
       "      <td>220</td>\n",
       "      <td>280</td>\n",
       "      <td>500</td>\n",
       "      <td>200</td>\n",
       "      <td>420</td>\n",
       "    </tr>\n",
       "    <tr>\n",
       "      <th>3</th>\n",
       "      <td>4</td>\n",
       "      <td>420</td>\n",
       "      <td>200</td>\n",
       "      <td>220</td>\n",
       "      <td>420</td>\n",
       "      <td>640</td>\n",
       "      <td>200</td>\n",
       "      <td>420</td>\n",
       "    </tr>\n",
       "    <tr>\n",
       "      <th>4</th>\n",
       "      <td>5</td>\n",
       "      <td>0</td>\n",
       "      <td>340</td>\n",
       "      <td>300</td>\n",
       "      <td>0</td>\n",
       "      <td>300</td>\n",
       "      <td>340</td>\n",
       "      <td>640</td>\n",
       "    </tr>\n",
       "    <tr>\n",
       "      <th>5</th>\n",
       "      <td>6</td>\n",
       "      <td>170</td>\n",
       "      <td>340</td>\n",
       "      <td>300</td>\n",
       "      <td>170</td>\n",
       "      <td>470</td>\n",
       "      <td>340</td>\n",
       "      <td>640</td>\n",
       "    </tr>\n",
       "    <tr>\n",
       "      <th>6</th>\n",
       "      <td>7</td>\n",
       "      <td>340</td>\n",
       "      <td>340</td>\n",
       "      <td>300</td>\n",
       "      <td>340</td>\n",
       "      <td>640</td>\n",
       "      <td>340</td>\n",
       "      <td>640</td>\n",
       "    </tr>\n",
       "  </tbody>\n",
       "</table>\n",
       "</div>"
      ],
      "text/plain": [
       "   crop_number  corner_x  corner_y  size  x_crop_left  x_crop_right  \\\n",
       "0  1            0         200       220   0            220            \n",
       "1  2            140       200       220   140          360            \n",
       "2  3            280       200       220   280          500            \n",
       "3  4            420       200       220   420          640            \n",
       "4  5            0         340       300   0            300            \n",
       "5  6            170       340       300   170          470            \n",
       "6  7            340       340       300   340          640            \n",
       "\n",
       "   y_crop_top  y_crop_bottom  \n",
       "0  200         420            \n",
       "1  200         420            \n",
       "2  200         420            \n",
       "3  200         420            \n",
       "4  340         640            \n",
       "5  340         640            \n",
       "6  340         640            "
      ]
     },
     "execution_count": 6,
     "metadata": {},
     "output_type": "execute_result"
    }
   ],
   "source": [
    "COOR_STRING = StringIO(\"\"\"\n",
    "crop_number\tcorner_x\tcorner_y\tsize\tx_crop_left\tx_crop_right\ty_crop_top\ty_crop_bottom\n",
    "1\t0\t200\t220\t0\t220\t200\t420\n",
    "2\t140\t200\t220\t140\t360\t200\t420\n",
    "3\t280\t200\t220\t280\t500\t200\t420\n",
    "4\t420\t200\t220\t420\t640\t200\t420\n",
    "5\t0\t340\t300\t0\t300\t340\t640\n",
    "6\t170\t340\t300\t170\t470\t340\t640\n",
    "7\t340\t340\t300\t340\t640\t340\t640\n",
    "\"\"\")\n",
    "df_crop_coor = pd.read_csv(COOR_STRING, sep = '\\t')\n",
    "df_crop_coor"
   ]
  },
  {
   "cell_type": "code",
   "execution_count": 7,
   "metadata": {},
   "outputs": [],
   "source": [
    "df_crop_coor.to_csv('crop_coor.csv', index = False)"
   ]
  },
  {
   "cell_type": "code",
   "execution_count": 8,
   "metadata": {},
   "outputs": [
    {
     "data": {
      "text/plain": [
       "crop_number      int64\n",
       "corner_x         int64\n",
       "corner_y         int64\n",
       "size             int64\n",
       "x_crop_left      int64\n",
       "x_crop_right     int64\n",
       "y_crop_top       int64\n",
       "y_crop_bottom    int64\n",
       "dtype: object"
      ]
     },
     "execution_count": 8,
     "metadata": {},
     "output_type": "execute_result"
    }
   ],
   "source": [
    "df_crop_coor.dtypes\n"
   ]
  },
  {
   "cell_type": "code",
   "execution_count": 9,
   "metadata": {},
   "outputs": [
    {
     "data": {
      "text/plain": [
       "Index(['crop_number', 'corner_x', 'corner_y', 'size', 'x_crop_left',\n",
       "       'x_crop_right', 'y_crop_top', 'y_crop_bottom', 'x_left', 'x_right',\n",
       "       'y_top', 'y_bottom'],\n",
       "      dtype='object')"
      ]
     },
     "execution_count": 9,
     "metadata": {},
     "output_type": "execute_result"
    }
   ],
   "source": [
    "df_crop_coor['x_left'] = df_crop_coor['x_crop_left']\n",
    "df_crop_coor['x_right'] = df_crop_coor['x_crop_right']\n",
    "df_crop_coor['y_top'] = df_crop_coor['y_crop_bottom']\n",
    "df_crop_coor['y_bottom'] = df_crop_coor['y_crop_bottom']\n",
    "df_crop_coor.columns"
   ]
  },
  {
   "cell_type": "code",
   "execution_count": 10,
   "metadata": {},
   "outputs": [],
   "source": [
    "def is_label_in_roi(x_pt, y_pt, x_left, x_right, y_top, y_bottom):\n",
    "    # Where x_pt and y_pt are the coordinate location of x and y\n",
    "    # x_left and x_right are the vertical bounds\n",
    "    # y_top and y_bottom are the horizontal bounds of the square\n",
    "    # Note that the point (0, 0) is in the top left corner\n",
    "    \n",
    "    # We'll just assume the point is positive \n",
    "    if (x_left < x_pt < x_right) and (y_top < y_pt < y_bottom):\n",
    "        return True\n",
    "    else:\n",
    "        return False"
   ]
  },
  {
   "cell_type": "code",
   "execution_count": 11,
   "metadata": {},
   "outputs": [],
   "source": [
    "def get_label_roi(x_pt, y_pt, list_coors):\n",
    "    result_dict = {}\n",
    "    \n",
    "    for index, row in df_roi.iterrows():\n",
    "        result_dict[df_roi['crop_number']] = is_label_in_roi(x_pt, y_pt, df_roi['x_left'], df_roi['x_right'], df_roi['y_top'], df_roi['y_bottom'])\n",
    "        \n",
    "    return result_dict\n",
    "\n",
    "# This function errors out because we are comparing values"
   ]
  },
  {
   "cell_type": "code",
   "execution_count": null,
   "metadata": {},
   "outputs": [],
   "source": []
  },
  {
   "cell_type": "markdown",
   "metadata": {},
   "source": [
    "# Try to Reshape the DF to a list"
   ]
  },
  {
   "cell_type": "code",
   "execution_count": 12,
   "metadata": {},
   "outputs": [
    {
     "data": {
      "text/plain": [
       "[[1, 0, 220, 200, 420],\n",
       " [2, 140, 360, 200, 420],\n",
       " [3, 280, 500, 200, 420],\n",
       " [4, 420, 640, 200, 420],\n",
       " [5, 0, 300, 340, 640],\n",
       " [6, 170, 470, 340, 640],\n",
       " [7, 340, 640, 340, 640]]"
      ]
     },
     "execution_count": 12,
     "metadata": {},
     "output_type": "execute_result"
    }
   ],
   "source": [
    "keep_cols = ['crop_number', 'x_crop_left',\n",
    "       'x_crop_right', 'y_crop_top', 'y_crop_bottom']\n",
    "list_coors = df_crop_coor[keep_cols].values.tolist()\n",
    "list_coors"
   ]
  },
  {
   "cell_type": "code",
   "execution_count": 13,
   "metadata": {},
   "outputs": [],
   "source": [
    "def get_label_roi(x_pt, y_pt, list_coors):\n",
    "    # Where there's a list of lists\n",
    "    # The sublists have the following order\n",
    "    \n",
    "    result_dict = {}\n",
    "    \n",
    "    for coor in list_coors:\n",
    "        result_dict[coor[0]] = is_label_in_roi(x_pt, y_pt, coor[1], coor[2], coor[3], coor[4])\n",
    "        \n",
    "    return result_dict"
   ]
  },
  {
   "cell_type": "code",
   "execution_count": 14,
   "metadata": {},
   "outputs": [
    {
     "name": "stdout",
     "output_type": "stream",
     "text": [
      "CPU times: user 10 µs, sys: 1 µs, total: 11 µs\n",
      "Wall time: 14.5 µs\n"
     ]
    },
    {
     "data": {
      "text/plain": [
       "{1: False, 2: False, 3: False, 4: False, 5: False, 6: True, 7: True}"
      ]
     },
     "execution_count": 14,
     "metadata": {},
     "output_type": "execute_result"
    }
   ],
   "source": [
    "%%time\n",
    "get_label_roi(392, 433, list_coors) #1908"
   ]
  },
  {
   "cell_type": "code",
   "execution_count": 15,
   "metadata": {},
   "outputs": [
    {
     "name": "stdout",
     "output_type": "stream",
     "text": [
      "CPU times: user 10 µs, sys: 1 µs, total: 11 µs\n",
      "Wall time: 13.8 µs\n"
     ]
    },
    {
     "data": {
      "text/plain": [
       "{1: True, 2: True, 3: False, 4: False, 5: True, 6: False, 7: False}"
      ]
     },
     "execution_count": 15,
     "metadata": {},
     "output_type": "execute_result"
    }
   ],
   "source": [
    "%%time\n",
    "get_label_roi(141, 391, list_coors) #10013_135"
   ]
  },
  {
   "cell_type": "code",
   "execution_count": 16,
   "metadata": {},
   "outputs": [
    {
     "name": "stdout",
     "output_type": "stream",
     "text": [
      "CPU times: user 10 µs, sys: 1e+03 ns, total: 11 µs\n",
      "Wall time: 14.8 µs\n"
     ]
    },
    {
     "data": {
      "text/plain": [
       "{1: False, 2: False, 3: False, 4: False, 5: True, 6: True, 7: False}"
      ]
     },
     "execution_count": 16,
     "metadata": {},
     "output_type": "execute_result"
    }
   ],
   "source": [
    "%%time\n",
    "get_label_roi(260, 463, list_coors) #10013_135"
   ]
  },
  {
   "cell_type": "markdown",
   "metadata": {},
   "source": [
    "# Set up to run on all points"
   ]
  },
  {
   "cell_type": "code",
   "execution_count": 17,
   "metadata": {},
   "outputs": [
    {
     "data": {
      "text/plain": [
       "[{1: False, 2: False, 3: False, 4: False, 5: False, 6: True, 7: True},\n",
       " {1: True, 2: True, 3: False, 4: False, 5: True, 6: False, 7: False},\n",
       " {1: False, 2: False, 3: False, 4: False, 5: True, 6: True, 7: False}]"
      ]
     },
     "execution_count": 17,
     "metadata": {},
     "output_type": "execute_result"
    }
   ],
   "source": [
    "list_dicts = []\n",
    "list_dicts.append(get_label_roi(392, 433, list_coors)) #1908\n",
    "list_dicts.append(get_label_roi(141, 391, list_coors)) #10013_135\n",
    "list_dicts.append(get_label_roi(260, 463, list_coors)) #10013_135\n",
    "list_dicts"
   ]
  },
  {
   "cell_type": "code",
   "execution_count": 18,
   "metadata": {},
   "outputs": [],
   "source": [
    "df = pd.DataFrame(list_dicts)"
   ]
  },
  {
   "cell_type": "code",
   "execution_count": 19,
   "metadata": {},
   "outputs": [
    {
     "data": {
      "text/html": [
       "<div>\n",
       "<style scoped>\n",
       "    .dataframe tbody tr th:only-of-type {\n",
       "        vertical-align: middle;\n",
       "    }\n",
       "\n",
       "    .dataframe tbody tr th {\n",
       "        vertical-align: top;\n",
       "    }\n",
       "\n",
       "    .dataframe thead th {\n",
       "        text-align: right;\n",
       "    }\n",
       "</style>\n",
       "<table border=\"1\" class=\"dataframe\">\n",
       "  <thead>\n",
       "    <tr style=\"text-align: right;\">\n",
       "      <th></th>\n",
       "      <th>1</th>\n",
       "      <th>2</th>\n",
       "      <th>3</th>\n",
       "      <th>4</th>\n",
       "      <th>5</th>\n",
       "      <th>6</th>\n",
       "      <th>7</th>\n",
       "    </tr>\n",
       "  </thead>\n",
       "  <tbody>\n",
       "    <tr>\n",
       "      <th>0</th>\n",
       "      <td>False</td>\n",
       "      <td>False</td>\n",
       "      <td>False</td>\n",
       "      <td>False</td>\n",
       "      <td>False</td>\n",
       "      <td>True</td>\n",
       "      <td>True</td>\n",
       "    </tr>\n",
       "    <tr>\n",
       "      <th>1</th>\n",
       "      <td>True</td>\n",
       "      <td>True</td>\n",
       "      <td>False</td>\n",
       "      <td>False</td>\n",
       "      <td>True</td>\n",
       "      <td>False</td>\n",
       "      <td>False</td>\n",
       "    </tr>\n",
       "    <tr>\n",
       "      <th>2</th>\n",
       "      <td>False</td>\n",
       "      <td>False</td>\n",
       "      <td>False</td>\n",
       "      <td>False</td>\n",
       "      <td>True</td>\n",
       "      <td>True</td>\n",
       "      <td>False</td>\n",
       "    </tr>\n",
       "  </tbody>\n",
       "</table>\n",
       "</div>"
      ],
      "text/plain": [
       "       1      2      3      4      5      6      7\n",
       "0  False  False  False  False  False  True   True \n",
       "1  True   True   False  False  True   False  False\n",
       "2  False  False  False  False  True   True   False"
      ]
     },
     "execution_count": 19,
     "metadata": {},
     "output_type": "execute_result"
    }
   ],
   "source": [
    "df"
   ]
  },
  {
   "cell_type": "code",
   "execution_count": 20,
   "metadata": {},
   "outputs": [
    {
     "data": {
      "text/plain": [
       "1  0    False\n",
       "   1    True \n",
       "   2    False\n",
       "2  0    False\n",
       "   1    True \n",
       "   2    False\n",
       "3  0    False\n",
       "   1    False\n",
       "   2    False\n",
       "4  0    False\n",
       "   1    False\n",
       "   2    False\n",
       "5  0    False\n",
       "   1    True \n",
       "   2    True \n",
       "6  0    True \n",
       "   1    False\n",
       "   2    True \n",
       "7  0    True \n",
       "   1    False\n",
       "   2    False\n",
       "dtype: bool"
      ]
     },
     "execution_count": 20,
     "metadata": {},
     "output_type": "execute_result"
    }
   ],
   "source": [
    "df_pivot = df.unstack()\n",
    "df_pivot"
   ]
  },
  {
   "cell_type": "code",
   "execution_count": 21,
   "metadata": {},
   "outputs": [
    {
     "data": {
      "text/plain": [
       "[{1: False,\n",
       "  2: False,\n",
       "  3: False,\n",
       "  4: False,\n",
       "  5: False,\n",
       "  6: True,\n",
       "  7: True,\n",
       "  'img_id': '1908'},\n",
       " {1: False,\n",
       "  2: False,\n",
       "  3: False,\n",
       "  4: False,\n",
       "  5: False,\n",
       "  6: True,\n",
       "  7: True,\n",
       "  'img_id': '10013'},\n",
       " {1: False,\n",
       "  2: False,\n",
       "  3: False,\n",
       "  4: False,\n",
       "  5: False,\n",
       "  6: True,\n",
       "  7: True,\n",
       "  'img_id': '11206'}]"
      ]
     },
     "execution_count": 21,
     "metadata": {},
     "output_type": "execute_result"
    }
   ],
   "source": [
    "list_dicts = []\n",
    "list_xy = [[392, 433], [141, 391], [260, 463]]\n",
    "image_names = ['1908', '10013', '11206']\n",
    "\n",
    "for xy, image_name in zip(list_xy, image_names):\n",
    "    my_dict = get_label_roi(392, 433, list_coors)\n",
    "    my_dict['img_id'] = image_name\n",
    "    list_dicts.append(my_dict)\n",
    "list_dicts\n"
   ]
  },
  {
   "cell_type": "code",
   "execution_count": 22,
   "metadata": {},
   "outputs": [
    {
     "data": {
      "text/plain": [
       "   img_id\n",
       "1  1908      False\n",
       "   10013     False\n",
       "   11206     False\n",
       "2  1908      False\n",
       "   10013     False\n",
       "   11206     False\n",
       "3  1908      False\n",
       "   10013     False\n",
       "   11206     False\n",
       "4  1908      False\n",
       "   10013     False\n",
       "   11206     False\n",
       "5  1908      False\n",
       "   10013     False\n",
       "   11206     False\n",
       "6  1908      True \n",
       "   10013     True \n",
       "   11206     True \n",
       "7  1908      True \n",
       "   10013     True \n",
       "   11206     True \n",
       "dtype: bool"
      ]
     },
     "execution_count": 22,
     "metadata": {},
     "output_type": "execute_result"
    }
   ],
   "source": [
    "df = pd.DataFrame(list_dicts)\n",
    "df = df.set_index('img_id')\n",
    "df_pivot = df.unstack()\n",
    "df_pivot"
   ]
  },
  {
   "cell_type": "code",
   "execution_count": 23,
   "metadata": {},
   "outputs": [
    {
     "data": {
      "text/plain": [
       "MultiIndex(levels=[[1, 2, 3, 4, 5, 6, 7], ['1908', '10013', '11206']],\n",
       "           codes=[[0, 0, 0, 1, 1, 1, 2, 2, 2, 3, 3, 3, 4, 4, 4, 5, 5, 5, 6, 6, 6], [0, 1, 2, 0, 1, 2, 0, 1, 2, 0, 1, 2, 0, 1, 2, 0, 1, 2, 0, 1, 2]],\n",
       "           names=[None, 'img_id'])"
      ]
     },
     "execution_count": 23,
     "metadata": {},
     "output_type": "execute_result"
    }
   ],
   "source": [
    "df_pivot.index"
   ]
  },
  {
   "cell_type": "code",
   "execution_count": 24,
   "metadata": {},
   "outputs": [],
   "source": [
    "# Try to reorganize index\n",
    "# https://jakevdp.github.io/PythonDataScienceHandbook/03.05-hierarchical-indexing.html"
   ]
  },
  {
   "cell_type": "markdown",
   "metadata": {},
   "source": [
    "# Thoughts and Comments\n",
    "* How to specify the label that is included in the image\n",
    "* So we get true and false - how do we say what is in that image?\n",
    "* How do we figure out that there multiple in an image?\n",
    "* How does Galen handle this?\n",
    "\n",
    "Looking at this for reference: https://github.com/w210-accessibility/sidewalk-cv-assets19/blob/master/new_cities/make_new_city_csvs_sliding_window.ipynb"
   ]
  },
  {
   "cell_type": "code",
   "execution_count": null,
   "metadata": {},
   "outputs": [],
   "source": []
  }
 ],
 "metadata": {
  "kernelspec": {
   "display_name": "conda_pytorch_p36",
   "language": "python",
   "name": "conda_pytorch_p36"
  },
  "language_info": {
   "codemirror_mode": {
    "name": "ipython",
    "version": 3
   },
   "file_extension": ".py",
   "mimetype": "text/x-python",
   "name": "python",
   "nbconvert_exporter": "python",
   "pygments_lexer": "ipython3",
   "version": "3.6.5"
  }
 },
 "nbformat": 4,
 "nbformat_minor": 4
}
