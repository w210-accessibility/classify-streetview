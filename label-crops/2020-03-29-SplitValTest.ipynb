{
 "cells": [
  {
   "cell_type": "markdown",
   "metadata": {},
   "source": [
    "# Create new Test and Validation Sets"
   ]
  },
  {
   "cell_type": "code",
   "execution_count": 4,
   "metadata": {},
   "outputs": [],
   "source": [
    "import pandas as pd\n",
    "import os\n",
    "import s3fs\n",
    "import boto3\n",
    "import json\n",
    "from datetime import datetime\n",
    "import numpy as np\n",
    "\n",
    "import random"
   ]
  },
  {
   "cell_type": "code",
   "execution_count": 5,
   "metadata": {},
   "outputs": [
    {
     "data": {
      "text/plain": [
       "(3448, 20)"
      ]
     },
     "execution_count": 5,
     "metadata": {},
     "output_type": "execute_result"
    }
   ],
   "source": [
    "# GET df_combine (from model0 results)\n",
    "SAGEMAKER_REPO_PATH = r'/home/ec2-user/SageMaker/classify-streetview'\n",
    "df_combine = pd.read_csv(os.path.join(SAGEMAKER_REPO_PATH, 'inference-eval-model0/model0predict_with_groundtruth.csv'))\n",
    "df_combine.shape"
   ]
  },
  {
   "cell_type": "code",
   "execution_count": 6,
   "metadata": {},
   "outputs": [
    {
     "data": {
      "text/plain": [
       "1_null            2268\n",
       "3_present          718\n",
       "4_surface_prob     250\n",
       "2_obstacle         129\n",
       "0_missing           83\n",
       "Name: ground_truth, dtype: int64"
      ]
     },
     "execution_count": 6,
     "metadata": {},
     "output_type": "execute_result"
    }
   ],
   "source": [
    "df_all = df_combine[['image_name', 'img_id', 'ground_truth']]\n",
    "df_all['ground_truth'].value_counts()"
   ]
  },
  {
   "cell_type": "code",
   "execution_count": 7,
   "metadata": {},
   "outputs": [
    {
     "data": {
      "text/plain": [
       "1_null            1134.0\n",
       "3_present          359.0\n",
       "4_surface_prob     125.0\n",
       "2_obstacle          64.5\n",
       "0_missing           41.5\n",
       "Name: ground_truth, dtype: float64"
      ]
     },
     "execution_count": 7,
     "metadata": {},
     "output_type": "execute_result"
    }
   ],
   "source": [
    "df_all['ground_truth'].value_counts() / 2"
   ]
  },
  {
   "cell_type": "code",
   "execution_count": 10,
   "metadata": {},
   "outputs": [
    {
     "name": "stdout",
     "output_type": "stream",
     "text": [
      "124\n"
     ]
    },
    {
     "data": {
      "text/plain": [
       "[8475, 8503, 8540, 8650, 8780]"
      ]
     },
     "execution_count": 10,
     "metadata": {},
     "output_type": "execute_result"
    }
   ],
   "source": [
    "imgid_list = list(df_all['img_id'].unique())\n",
    "print(len(imgid_list))\n",
    "imgid_list[0:5]"
   ]
  },
  {
   "cell_type": "code",
   "execution_count": 18,
   "metadata": {},
   "outputs": [
    {
     "name": "stdout",
     "output_type": "stream",
     "text": [
      "(1712, 4)\n"
     ]
    },
    {
     "data": {
      "text/plain": [
       "1_null            1127\n",
       "3_present          358\n",
       "4_surface_prob     120\n",
       "2_obstacle          69\n",
       "0_missing           38\n",
       "Name: ground_truth, dtype: int64"
      ]
     },
     "execution_count": 18,
     "metadata": {},
     "output_type": "execute_result"
    }
   ],
   "source": [
    "valid_imgid = random.sample(imgid_list, 62)\n",
    "len(valid_imgid)\n",
    "df_valid = df_all.loc[df_all['img_id'].isin(valid_imgid)]\n",
    "print(df_valid.shape)\n",
    "df_valid['ground_truth'].value_counts()"
   ]
  },
  {
   "cell_type": "code",
   "execution_count": 19,
   "metadata": {},
   "outputs": [
    {
     "data": {
      "text/html": [
       "<div>\n",
       "<style scoped>\n",
       "    .dataframe tbody tr th:only-of-type {\n",
       "        vertical-align: middle;\n",
       "    }\n",
       "\n",
       "    .dataframe tbody tr th {\n",
       "        vertical-align: top;\n",
       "    }\n",
       "\n",
       "    .dataframe thead th {\n",
       "        text-align: right;\n",
       "    }\n",
       "</style>\n",
       "<table border=\"1\" class=\"dataframe\">\n",
       "  <thead>\n",
       "    <tr style=\"text-align: right;\">\n",
       "      <th></th>\n",
       "      <th>image_name</th>\n",
       "      <th>img_id</th>\n",
       "      <th>ground_truth</th>\n",
       "      <th>is_valid_set</th>\n",
       "    </tr>\n",
       "  </thead>\n",
       "  <tbody>\n",
       "    <tr>\n",
       "      <th>0</th>\n",
       "      <td>8475_135_1.jpg</td>\n",
       "      <td>8475</td>\n",
       "      <td>1_null</td>\n",
       "      <td>True</td>\n",
       "    </tr>\n",
       "    <tr>\n",
       "      <th>1</th>\n",
       "      <td>8475_135_2.jpg</td>\n",
       "      <td>8475</td>\n",
       "      <td>2_obstacle</td>\n",
       "      <td>True</td>\n",
       "    </tr>\n",
       "    <tr>\n",
       "      <th>2</th>\n",
       "      <td>8475_135_3.jpg</td>\n",
       "      <td>8475</td>\n",
       "      <td>1_null</td>\n",
       "      <td>True</td>\n",
       "    </tr>\n",
       "    <tr>\n",
       "      <th>3</th>\n",
       "      <td>8475_135_4.jpg</td>\n",
       "      <td>8475</td>\n",
       "      <td>1_null</td>\n",
       "      <td>True</td>\n",
       "    </tr>\n",
       "    <tr>\n",
       "      <th>4</th>\n",
       "      <td>8475_135_5.jpg</td>\n",
       "      <td>8475</td>\n",
       "      <td>2_obstacle</td>\n",
       "      <td>True</td>\n",
       "    </tr>\n",
       "  </tbody>\n",
       "</table>\n",
       "</div>"
      ],
      "text/plain": [
       "       image_name  img_id ground_truth  is_valid_set\n",
       "0  8475_135_1.jpg    8475       1_null          True\n",
       "1  8475_135_2.jpg    8475   2_obstacle          True\n",
       "2  8475_135_3.jpg    8475       1_null          True\n",
       "3  8475_135_4.jpg    8475       1_null          True\n",
       "4  8475_135_5.jpg    8475   2_obstacle          True"
      ]
     },
     "execution_count": 19,
     "metadata": {},
     "output_type": "execute_result"
    }
   ],
   "source": [
    "df_valid.head()"
   ]
  },
  {
   "cell_type": "code",
   "execution_count": 20,
   "metadata": {},
   "outputs": [],
   "source": [
    "df_valid.to_csv('validation_set_from_test.csv', index = False)"
   ]
  },
  {
   "cell_type": "code",
   "execution_count": 21,
   "metadata": {},
   "outputs": [
    {
     "name": "stderr",
     "output_type": "stream",
     "text": [
      "/home/ec2-user/anaconda3/envs/python3/lib/python3.6/site-packages/ipykernel/__main__.py:1: SettingWithCopyWarning: \n",
      "A value is trying to be set on a copy of a slice from a DataFrame.\n",
      "Try using .loc[row_indexer,col_indexer] = value instead\n",
      "\n",
      "See the caveats in the documentation: http://pandas.pydata.org/pandas-docs/stable/indexing.html#indexing-view-versus-copy\n",
      "  if __name__ == '__main__':\n"
     ]
    },
    {
     "data": {
      "text/html": [
       "<div>\n",
       "<style scoped>\n",
       "    .dataframe tbody tr th:only-of-type {\n",
       "        vertical-align: middle;\n",
       "    }\n",
       "\n",
       "    .dataframe tbody tr th {\n",
       "        vertical-align: top;\n",
       "    }\n",
       "\n",
       "    .dataframe thead th {\n",
       "        text-align: right;\n",
       "    }\n",
       "</style>\n",
       "<table border=\"1\" class=\"dataframe\">\n",
       "  <thead>\n",
       "    <tr style=\"text-align: right;\">\n",
       "      <th></th>\n",
       "      <th>image_name</th>\n",
       "      <th>img_id</th>\n",
       "      <th>ground_truth</th>\n",
       "      <th>is_valid_set</th>\n",
       "    </tr>\n",
       "  </thead>\n",
       "  <tbody>\n",
       "    <tr>\n",
       "      <th>0</th>\n",
       "      <td>8475_135_1.jpg</td>\n",
       "      <td>8475</td>\n",
       "      <td>1_null</td>\n",
       "      <td>True</td>\n",
       "    </tr>\n",
       "    <tr>\n",
       "      <th>1</th>\n",
       "      <td>8475_135_2.jpg</td>\n",
       "      <td>8475</td>\n",
       "      <td>2_obstacle</td>\n",
       "      <td>True</td>\n",
       "    </tr>\n",
       "    <tr>\n",
       "      <th>2</th>\n",
       "      <td>8475_135_3.jpg</td>\n",
       "      <td>8475</td>\n",
       "      <td>1_null</td>\n",
       "      <td>True</td>\n",
       "    </tr>\n",
       "    <tr>\n",
       "      <th>3</th>\n",
       "      <td>8475_135_4.jpg</td>\n",
       "      <td>8475</td>\n",
       "      <td>1_null</td>\n",
       "      <td>True</td>\n",
       "    </tr>\n",
       "    <tr>\n",
       "      <th>4</th>\n",
       "      <td>8475_135_5.jpg</td>\n",
       "      <td>8475</td>\n",
       "      <td>2_obstacle</td>\n",
       "      <td>True</td>\n",
       "    </tr>\n",
       "  </tbody>\n",
       "</table>\n",
       "</div>"
      ],
      "text/plain": [
       "       image_name  img_id ground_truth  is_valid_set\n",
       "0  8475_135_1.jpg    8475       1_null          True\n",
       "1  8475_135_2.jpg    8475   2_obstacle          True\n",
       "2  8475_135_3.jpg    8475       1_null          True\n",
       "3  8475_135_4.jpg    8475       1_null          True\n",
       "4  8475_135_5.jpg    8475   2_obstacle          True"
      ]
     },
     "execution_count": 21,
     "metadata": {},
     "output_type": "execute_result"
    }
   ],
   "source": [
    "df_all['is_valid_set'] = np.where(df_all['img_id'].isin(valid_imgid), True, False)\n",
    "df_all.head()"
   ]
  },
  {
   "cell_type": "code",
   "execution_count": 22,
   "metadata": {},
   "outputs": [
    {
     "data": {
      "text/plain": [
       "False    1736\n",
       "True     1712\n",
       "Name: is_valid_set, dtype: int64"
      ]
     },
     "execution_count": 22,
     "metadata": {},
     "output_type": "execute_result"
    }
   ],
   "source": [
    "df_all['is_valid_set'].value_counts()"
   ]
  },
  {
   "cell_type": "code",
   "execution_count": 23,
   "metadata": {},
   "outputs": [],
   "source": [
    "df_all.to_csv('validation_test_includeallnull.csv', index = False)"
   ]
  },
  {
   "cell_type": "code",
   "execution_count": 24,
   "metadata": {},
   "outputs": [
    {
     "data": {
      "text/plain": [
       "1_null            1141\n",
       "3_present          360\n",
       "4_surface_prob     130\n",
       "2_obstacle          60\n",
       "0_missing           45\n",
       "Name: ground_truth, dtype: int64"
      ]
     },
     "execution_count": 24,
     "metadata": {},
     "output_type": "execute_result"
    }
   ],
   "source": [
    "df_new_test = df_all.loc[~df_all['is_valid_set']]\n",
    "df_new_test['ground_truth'].value_counts()"
   ]
  },
  {
   "cell_type": "markdown",
   "metadata": {},
   "source": [
    "# Remove Nulls"
   ]
  },
  {
   "cell_type": "code",
   "execution_count": 27,
   "metadata": {},
   "outputs": [
    {
     "data": {
      "text/html": [
       "<div>\n",
       "<style scoped>\n",
       "    .dataframe tbody tr th:only-of-type {\n",
       "        vertical-align: middle;\n",
       "    }\n",
       "\n",
       "    .dataframe tbody tr th {\n",
       "        vertical-align: top;\n",
       "    }\n",
       "\n",
       "    .dataframe thead th {\n",
       "        text-align: right;\n",
       "    }\n",
       "</style>\n",
       "<table border=\"1\" class=\"dataframe\">\n",
       "  <thead>\n",
       "    <tr style=\"text-align: right;\">\n",
       "      <th></th>\n",
       "      <th></th>\n",
       "      <th>image_name</th>\n",
       "      <th>img_id</th>\n",
       "    </tr>\n",
       "    <tr>\n",
       "      <th>ground_truth</th>\n",
       "      <th>is_valid_set</th>\n",
       "      <th></th>\n",
       "      <th></th>\n",
       "    </tr>\n",
       "  </thead>\n",
       "  <tbody>\n",
       "    <tr>\n",
       "      <th rowspan=\"2\" valign=\"top\">0_missing</th>\n",
       "      <th>False</th>\n",
       "      <td>45</td>\n",
       "      <td>18</td>\n",
       "    </tr>\n",
       "    <tr>\n",
       "      <th>True</th>\n",
       "      <td>38</td>\n",
       "      <td>11</td>\n",
       "    </tr>\n",
       "    <tr>\n",
       "      <th rowspan=\"2\" valign=\"top\">1_null</th>\n",
       "      <th>False</th>\n",
       "      <td>363</td>\n",
       "      <td>62</td>\n",
       "    </tr>\n",
       "    <tr>\n",
       "      <th>True</th>\n",
       "      <td>357</td>\n",
       "      <td>61</td>\n",
       "    </tr>\n",
       "    <tr>\n",
       "      <th rowspan=\"2\" valign=\"top\">2_obstacle</th>\n",
       "      <th>False</th>\n",
       "      <td>60</td>\n",
       "      <td>15</td>\n",
       "    </tr>\n",
       "    <tr>\n",
       "      <th>True</th>\n",
       "      <td>69</td>\n",
       "      <td>14</td>\n",
       "    </tr>\n",
       "    <tr>\n",
       "      <th rowspan=\"2\" valign=\"top\">3_present</th>\n",
       "      <th>False</th>\n",
       "      <td>360</td>\n",
       "      <td>56</td>\n",
       "    </tr>\n",
       "    <tr>\n",
       "      <th>True</th>\n",
       "      <td>358</td>\n",
       "      <td>54</td>\n",
       "    </tr>\n",
       "    <tr>\n",
       "      <th rowspan=\"2\" valign=\"top\">4_surface_prob</th>\n",
       "      <th>False</th>\n",
       "      <td>130</td>\n",
       "      <td>24</td>\n",
       "    </tr>\n",
       "    <tr>\n",
       "      <th>True</th>\n",
       "      <td>120</td>\n",
       "      <td>26</td>\n",
       "    </tr>\n",
       "  </tbody>\n",
       "</table>\n",
       "</div>"
      ],
      "text/plain": [
       "                             image_name  img_id\n",
       "ground_truth   is_valid_set                    \n",
       "0_missing      False                 45      18\n",
       "               True                  38      11\n",
       "1_null         False                363      62\n",
       "               True                 357      61\n",
       "2_obstacle     False                 60      15\n",
       "               True                  69      14\n",
       "3_present      False                360      56\n",
       "               True                 358      54\n",
       "4_surface_prob False                130      24\n",
       "               True                 120      26"
      ]
     },
     "execution_count": 27,
     "metadata": {},
     "output_type": "execute_result"
    }
   ],
   "source": [
    "df_null = df_all.loc[df_all['ground_truth'].str.contains('1_null')]\n",
    "df_to_remove = df_null.sample(n = 1548) #Keep 720 total\n",
    "remove_imgid_list = list(df_to_remove['image_name'])\n",
    "df_new_all = df_all.loc[~df_all['image_name'].isin(remove_imgid_list)]\n",
    "#df_new_all['ground_truth'].value_counts()\n",
    "df_new_all.groupby(['ground_truth', 'is_valid_set'])['image_name', 'img_id'].nunique()"
   ]
  },
  {
   "cell_type": "code",
   "execution_count": 28,
   "metadata": {},
   "outputs": [],
   "source": [
    "df_new_all.to_csv('validation_test_final.csv', index = False)"
   ]
  },
  {
   "cell_type": "code",
   "execution_count": 29,
   "metadata": {},
   "outputs": [
    {
     "data": {
      "text/plain": [
       "1_null            2268\n",
       "3_present          718\n",
       "4_surface_prob     250\n",
       "2_obstacle         129\n",
       "0_missing           83\n",
       "Name: ground_truth, dtype: int64"
      ]
     },
     "execution_count": 29,
     "metadata": {},
     "output_type": "execute_result"
    }
   ],
   "source": [
    "df_all['ground_truth'].value_counts()"
   ]
  },
  {
   "cell_type": "code",
   "execution_count": 46,
   "metadata": {},
   "outputs": [
    {
     "data": {
      "text/html": [
       "<div>\n",
       "<style scoped>\n",
       "    .dataframe tbody tr th:only-of-type {\n",
       "        vertical-align: middle;\n",
       "    }\n",
       "\n",
       "    .dataframe tbody tr th {\n",
       "        vertical-align: top;\n",
       "    }\n",
       "\n",
       "    .dataframe thead th {\n",
       "        text-align: right;\n",
       "    }\n",
       "</style>\n",
       "<table border=\"1\" class=\"dataframe\">\n",
       "  <thead>\n",
       "    <tr style=\"text-align: right;\">\n",
       "      <th></th>\n",
       "      <th></th>\n",
       "      <th>image_name</th>\n",
       "      <th>img_id</th>\n",
       "    </tr>\n",
       "    <tr>\n",
       "      <th>ground_truth</th>\n",
       "      <th>is_valid_set</th>\n",
       "      <th></th>\n",
       "      <th></th>\n",
       "    </tr>\n",
       "  </thead>\n",
       "  <tbody>\n",
       "    <tr>\n",
       "      <th rowspan=\"2\" valign=\"top\">0_missing</th>\n",
       "      <th>False</th>\n",
       "      <td>46</td>\n",
       "      <td>16</td>\n",
       "    </tr>\n",
       "    <tr>\n",
       "      <th>True</th>\n",
       "      <td>37</td>\n",
       "      <td>13</td>\n",
       "    </tr>\n",
       "    <tr>\n",
       "      <th rowspan=\"2\" valign=\"top\">1_null</th>\n",
       "      <th>False</th>\n",
       "      <td>1129</td>\n",
       "      <td>62</td>\n",
       "    </tr>\n",
       "    <tr>\n",
       "      <th>True</th>\n",
       "      <td>1139</td>\n",
       "      <td>62</td>\n",
       "    </tr>\n",
       "    <tr>\n",
       "      <th rowspan=\"2\" valign=\"top\">2_obstacle</th>\n",
       "      <th>False</th>\n",
       "      <td>64</td>\n",
       "      <td>17</td>\n",
       "    </tr>\n",
       "    <tr>\n",
       "      <th>True</th>\n",
       "      <td>65</td>\n",
       "      <td>12</td>\n",
       "    </tr>\n",
       "    <tr>\n",
       "      <th rowspan=\"2\" valign=\"top\">3_present</th>\n",
       "      <th>False</th>\n",
       "      <td>364</td>\n",
       "      <td>54</td>\n",
       "    </tr>\n",
       "    <tr>\n",
       "      <th>True</th>\n",
       "      <td>354</td>\n",
       "      <td>56</td>\n",
       "    </tr>\n",
       "    <tr>\n",
       "      <th rowspan=\"2\" valign=\"top\">4_surface_prob</th>\n",
       "      <th>False</th>\n",
       "      <td>133</td>\n",
       "      <td>26</td>\n",
       "    </tr>\n",
       "    <tr>\n",
       "      <th>True</th>\n",
       "      <td>117</td>\n",
       "      <td>24</td>\n",
       "    </tr>\n",
       "  </tbody>\n",
       "</table>\n",
       "</div>"
      ],
      "text/plain": [
       "                             image_name  img_id\n",
       "ground_truth   is_valid_set                    \n",
       "0_missing      False                 46      16\n",
       "               True                  37      13\n",
       "1_null         False               1129      62\n",
       "               True                1139      62\n",
       "2_obstacle     False                 64      17\n",
       "               True                  65      12\n",
       "3_present      False                364      54\n",
       "               True                 354      56\n",
       "4_surface_prob False                133      26\n",
       "               True                 117      24"
      ]
     },
     "execution_count": 46,
     "metadata": {},
     "output_type": "execute_result"
    }
   ],
   "source": [
    "df_all.groupby(['ground_truth', 'is_valid_set'])['image_name', 'img_id'].nunique()"
   ]
  }
 ],
 "metadata": {
  "kernelspec": {
   "display_name": "conda_python3",
   "language": "python",
   "name": "conda_python3"
  },
  "language_info": {
   "codemirror_mode": {
    "name": "ipython",
    "version": 3
   },
   "file_extension": ".py",
   "mimetype": "text/x-python",
   "name": "python",
   "nbconvert_exporter": "python",
   "pygments_lexer": "ipython3",
   "version": "3.6.5"
  }
 },
 "nbformat": 4,
 "nbformat_minor": 4
}
