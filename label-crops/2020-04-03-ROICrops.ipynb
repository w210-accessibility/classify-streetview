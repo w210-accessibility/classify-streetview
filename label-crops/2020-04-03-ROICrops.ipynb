{
 "cells": [
  {
   "cell_type": "markdown",
   "metadata": {},
   "source": [
    "# Move Files "
   ]
  },
  {
   "cell_type": "code",
   "execution_count": 45,
   "metadata": {},
   "outputs": [],
   "source": [
    "import numpy as np\n",
    "import pandas as pd\n",
    "import os\n",
    "from datetime import datetime\n",
    "\n",
    "import shutil\n",
    "import random"
   ]
  },
  {
   "cell_type": "code",
   "execution_count": 14,
   "metadata": {},
   "outputs": [],
   "source": [
    "pd.set_option('max_colwidth', -1)"
   ]
  },
  {
   "cell_type": "markdown",
   "metadata": {},
   "source": [
    "# Create list of current files"
   ]
  },
  {
   "cell_type": "code",
   "execution_count": 2,
   "metadata": {},
   "outputs": [
    {
     "data": {
      "text/plain": [
       "['3_present', '2_obstacle', '0_missing', '1_null', '4_surface_prob']"
      ]
     },
     "execution_count": 2,
     "metadata": {},
     "output_type": "execute_result"
    }
   ],
   "source": [
    "SAGEMAKER_REPO_PATH = r'/home/ec2-user/SageMaker/classify-streetview'\n",
    "ORIGINAL_IMAGE_PATH = os.path.join(SAGEMAKER_REPO_PATH, 'images')\n",
    "ORIGINAL_TRAIN_PATH = os.path.join(ORIGINAL_IMAGE_PATH, 'train')\n",
    "os.listdir(ORIGINAL_TRAIN_PATH)"
   ]
  },
  {
   "cell_type": "code",
   "execution_count": 16,
   "metadata": {},
   "outputs": [],
   "source": [
    "subset_list = ['train', 'valid', 'test']\n",
    "# Include obstacle and surface prob in case we need to move those images\n",
    "class_list = ['3_present', '0_missing', '1_null', '2_obstacle', '4_surface_prob']"
   ]
  },
  {
   "cell_type": "code",
   "execution_count": 22,
   "metadata": {},
   "outputs": [],
   "source": [
    "original_df_list = []"
   ]
  },
  {
   "cell_type": "code",
   "execution_count": 23,
   "metadata": {},
   "outputs": [],
   "source": [
    "# Get all existing jpgs with their detailed info\n",
    "for split in subset_list:\n",
    "    for class_name in class_list:\n",
    "        full_folder_path = os.path.join(ORIGINAL_IMAGE_PATH, split, class_name)\n",
    "        jpg_names = os.listdir(full_folder_path)\n",
    "        df_part = pd.DataFrame({'jpg_name' : jpg_names, 'original_folder_path' : full_folder_path, 'original_group' : split, 'original_label' : class_name})\n",
    "        original_df_list.append(df_part)"
   ]
  },
  {
   "cell_type": "code",
   "execution_count": 24,
   "metadata": {},
   "outputs": [
    {
     "name": "stdout",
     "output_type": "stream",
     "text": [
      "(7455, 4)\n"
     ]
    },
    {
     "data": {
      "text/html": [
       "<div>\n",
       "<style scoped>\n",
       "    .dataframe tbody tr th:only-of-type {\n",
       "        vertical-align: middle;\n",
       "    }\n",
       "\n",
       "    .dataframe tbody tr th {\n",
       "        vertical-align: top;\n",
       "    }\n",
       "\n",
       "    .dataframe thead th {\n",
       "        text-align: right;\n",
       "    }\n",
       "</style>\n",
       "<table border=\"1\" class=\"dataframe\">\n",
       "  <thead>\n",
       "    <tr style=\"text-align: right;\">\n",
       "      <th></th>\n",
       "      <th>jpg_name</th>\n",
       "      <th>original_folder_path</th>\n",
       "      <th>original_group</th>\n",
       "      <th>original_label</th>\n",
       "    </tr>\n",
       "  </thead>\n",
       "  <tbody>\n",
       "    <tr>\n",
       "      <th>0</th>\n",
       "      <td>18810_135_5.jpg</td>\n",
       "      <td>/home/ec2-user/SageMaker/classify-streetview/images/train/3_present</td>\n",
       "      <td>train</td>\n",
       "      <td>3_present</td>\n",
       "    </tr>\n",
       "    <tr>\n",
       "      <th>1</th>\n",
       "      <td>6343_315_3.jpg</td>\n",
       "      <td>/home/ec2-user/SageMaker/classify-streetview/images/train/3_present</td>\n",
       "      <td>train</td>\n",
       "      <td>3_present</td>\n",
       "    </tr>\n",
       "    <tr>\n",
       "      <th>2</th>\n",
       "      <td>18998_135_6.jpg</td>\n",
       "      <td>/home/ec2-user/SageMaker/classify-streetview/images/train/3_present</td>\n",
       "      <td>train</td>\n",
       "      <td>3_present</td>\n",
       "    </tr>\n",
       "    <tr>\n",
       "      <th>3</th>\n",
       "      <td>10039_45_6.jpg</td>\n",
       "      <td>/home/ec2-user/SageMaker/classify-streetview/images/train/3_present</td>\n",
       "      <td>train</td>\n",
       "      <td>3_present</td>\n",
       "    </tr>\n",
       "    <tr>\n",
       "      <th>4</th>\n",
       "      <td>4282_45_1.jpg</td>\n",
       "      <td>/home/ec2-user/SageMaker/classify-streetview/images/train/3_present</td>\n",
       "      <td>train</td>\n",
       "      <td>3_present</td>\n",
       "    </tr>\n",
       "  </tbody>\n",
       "</table>\n",
       "</div>"
      ],
      "text/plain": [
       "          jpg_name  \\\n",
       "0  18810_135_5.jpg   \n",
       "1  6343_315_3.jpg    \n",
       "2  18998_135_6.jpg   \n",
       "3  10039_45_6.jpg    \n",
       "4  4282_45_1.jpg     \n",
       "\n",
       "                                                  original_folder_path  \\\n",
       "0  /home/ec2-user/SageMaker/classify-streetview/images/train/3_present   \n",
       "1  /home/ec2-user/SageMaker/classify-streetview/images/train/3_present   \n",
       "2  /home/ec2-user/SageMaker/classify-streetview/images/train/3_present   \n",
       "3  /home/ec2-user/SageMaker/classify-streetview/images/train/3_present   \n",
       "4  /home/ec2-user/SageMaker/classify-streetview/images/train/3_present   \n",
       "\n",
       "  original_group original_label  \n",
       "0  train          3_present      \n",
       "1  train          3_present      \n",
       "2  train          3_present      \n",
       "3  train          3_present      \n",
       "4  train          3_present      "
      ]
     },
     "execution_count": 24,
     "metadata": {},
     "output_type": "execute_result"
    }
   ],
   "source": [
    "# Create a full list all files\n",
    "df_original = pd.concat(original_df_list)\n",
    "print(df_original.shape)\n",
    "df_original.head()"
   ]
  },
  {
   "cell_type": "code",
   "execution_count": 43,
   "metadata": {},
   "outputs": [],
   "source": [
    "df_original.to_csv('March-SmartCrop-ImageList.csv', index = False)"
   ]
  },
  {
   "cell_type": "code",
   "execution_count": 31,
   "metadata": {},
   "outputs": [
    {
     "data": {
      "text/plain": [
       "3_present         3175\n",
       "1_null            3130\n",
       "4_surface_prob    651 \n",
       "2_obstacle        283 \n",
       "0_missing         216 \n",
       "Name: original_label, dtype: int64"
      ]
     },
     "execution_count": 31,
     "metadata": {},
     "output_type": "execute_result"
    }
   ],
   "source": [
    "df_original['original_label'].value_counts()"
   ]
  },
  {
   "cell_type": "markdown",
   "metadata": {},
   "source": [
    "## Get the New ROI Image Details"
   ]
  },
  {
   "cell_type": "code",
   "execution_count": 25,
   "metadata": {},
   "outputs": [],
   "source": [
    "df_train = pd.read_csv('train_labels.csv')\n",
    "df_train['new_group'] = 'train'\n",
    "df_val = pd.read_csv('validation_labels.csv')\n",
    "df_val['new_group'] = 'valid'\n",
    "df_test = pd.read_csv('test_labels.csv')\n",
    "df_test['new_group'] = 'test'"
   ]
  },
  {
   "cell_type": "code",
   "execution_count": 26,
   "metadata": {},
   "outputs": [
    {
     "name": "stdout",
     "output_type": "stream",
     "text": [
      "(13440, 9)\n"
     ]
    },
    {
     "data": {
      "text/html": [
       "<div>\n",
       "<style scoped>\n",
       "    .dataframe tbody tr th:only-of-type {\n",
       "        vertical-align: middle;\n",
       "    }\n",
       "\n",
       "    .dataframe tbody tr th {\n",
       "        vertical-align: top;\n",
       "    }\n",
       "\n",
       "    .dataframe thead th {\n",
       "        text-align: right;\n",
       "    }\n",
       "</style>\n",
       "<table border=\"1\" class=\"dataframe\">\n",
       "  <thead>\n",
       "    <tr style=\"text-align: right;\">\n",
       "      <th></th>\n",
       "      <th>img_id</th>\n",
       "      <th>heading</th>\n",
       "      <th>crop_number</th>\n",
       "      <th>0_missing</th>\n",
       "      <th>1_null</th>\n",
       "      <th>2_present</th>\n",
       "      <th>count_all</th>\n",
       "      <th>ground_truth</th>\n",
       "      <th>new_group</th>\n",
       "    </tr>\n",
       "  </thead>\n",
       "  <tbody>\n",
       "    <tr>\n",
       "      <th>0</th>\n",
       "      <td>510</td>\n",
       "      <td>45</td>\n",
       "      <td>1</td>\n",
       "      <td>0</td>\n",
       "      <td>1</td>\n",
       "      <td>0</td>\n",
       "      <td>1</td>\n",
       "      <td>1_null</td>\n",
       "      <td>train</td>\n",
       "    </tr>\n",
       "    <tr>\n",
       "      <th>1</th>\n",
       "      <td>680</td>\n",
       "      <td>45</td>\n",
       "      <td>1</td>\n",
       "      <td>1</td>\n",
       "      <td>0</td>\n",
       "      <td>0</td>\n",
       "      <td>1</td>\n",
       "      <td>0_missing</td>\n",
       "      <td>train</td>\n",
       "    </tr>\n",
       "    <tr>\n",
       "      <th>2</th>\n",
       "      <td>878</td>\n",
       "      <td>45</td>\n",
       "      <td>1</td>\n",
       "      <td>0</td>\n",
       "      <td>1</td>\n",
       "      <td>0</td>\n",
       "      <td>1</td>\n",
       "      <td>1_null</td>\n",
       "      <td>train</td>\n",
       "    </tr>\n",
       "    <tr>\n",
       "      <th>3</th>\n",
       "      <td>945</td>\n",
       "      <td>45</td>\n",
       "      <td>1</td>\n",
       "      <td>0</td>\n",
       "      <td>1</td>\n",
       "      <td>0</td>\n",
       "      <td>1</td>\n",
       "      <td>1_null</td>\n",
       "      <td>train</td>\n",
       "    </tr>\n",
       "    <tr>\n",
       "      <th>4</th>\n",
       "      <td>1023</td>\n",
       "      <td>45</td>\n",
       "      <td>1</td>\n",
       "      <td>0</td>\n",
       "      <td>1</td>\n",
       "      <td>0</td>\n",
       "      <td>1</td>\n",
       "      <td>1_null</td>\n",
       "      <td>train</td>\n",
       "    </tr>\n",
       "  </tbody>\n",
       "</table>\n",
       "</div>"
      ],
      "text/plain": [
       "   img_id  heading  crop_number  0_missing  1_null  2_present  count_all  \\\n",
       "0  510     45       1            0          1       0          1           \n",
       "1  680     45       1            1          0       0          1           \n",
       "2  878     45       1            0          1       0          1           \n",
       "3  945     45       1            0          1       0          1           \n",
       "4  1023    45       1            0          1       0          1           \n",
       "\n",
       "  ground_truth new_group  \n",
       "0  1_null       train     \n",
       "1  0_missing    train     \n",
       "2  1_null       train     \n",
       "3  1_null       train     \n",
       "4  1_null       train     "
      ]
     },
     "execution_count": 26,
     "metadata": {},
     "output_type": "execute_result"
    }
   ],
   "source": [
    "df_new_roi = pd.concat([df_train, df_val, df_test])\n",
    "print(df_new_roi.shape)\n",
    "df_new_roi.head()"
   ]
  },
  {
   "cell_type": "code",
   "execution_count": 28,
   "metadata": {},
   "outputs": [
    {
     "data": {
      "text/html": [
       "<div>\n",
       "<style scoped>\n",
       "    .dataframe tbody tr th:only-of-type {\n",
       "        vertical-align: middle;\n",
       "    }\n",
       "\n",
       "    .dataframe tbody tr th {\n",
       "        vertical-align: top;\n",
       "    }\n",
       "\n",
       "    .dataframe thead th {\n",
       "        text-align: right;\n",
       "    }\n",
       "</style>\n",
       "<table border=\"1\" class=\"dataframe\">\n",
       "  <thead>\n",
       "    <tr style=\"text-align: right;\">\n",
       "      <th></th>\n",
       "      <th>img_id</th>\n",
       "      <th>heading</th>\n",
       "      <th>crop_number</th>\n",
       "      <th>0_missing</th>\n",
       "      <th>1_null</th>\n",
       "      <th>2_present</th>\n",
       "      <th>count_all</th>\n",
       "      <th>ground_truth</th>\n",
       "      <th>new_group</th>\n",
       "      <th>jpg_name</th>\n",
       "    </tr>\n",
       "  </thead>\n",
       "  <tbody>\n",
       "    <tr>\n",
       "      <th>0</th>\n",
       "      <td>510</td>\n",
       "      <td>45</td>\n",
       "      <td>1</td>\n",
       "      <td>0</td>\n",
       "      <td>1</td>\n",
       "      <td>0</td>\n",
       "      <td>1</td>\n",
       "      <td>1_null</td>\n",
       "      <td>train</td>\n",
       "      <td>510_45_1.jpg</td>\n",
       "    </tr>\n",
       "    <tr>\n",
       "      <th>1</th>\n",
       "      <td>680</td>\n",
       "      <td>45</td>\n",
       "      <td>1</td>\n",
       "      <td>1</td>\n",
       "      <td>0</td>\n",
       "      <td>0</td>\n",
       "      <td>1</td>\n",
       "      <td>0_missing</td>\n",
       "      <td>train</td>\n",
       "      <td>680_45_1.jpg</td>\n",
       "    </tr>\n",
       "    <tr>\n",
       "      <th>2</th>\n",
       "      <td>878</td>\n",
       "      <td>45</td>\n",
       "      <td>1</td>\n",
       "      <td>0</td>\n",
       "      <td>1</td>\n",
       "      <td>0</td>\n",
       "      <td>1</td>\n",
       "      <td>1_null</td>\n",
       "      <td>train</td>\n",
       "      <td>878_45_1.jpg</td>\n",
       "    </tr>\n",
       "    <tr>\n",
       "      <th>3</th>\n",
       "      <td>945</td>\n",
       "      <td>45</td>\n",
       "      <td>1</td>\n",
       "      <td>0</td>\n",
       "      <td>1</td>\n",
       "      <td>0</td>\n",
       "      <td>1</td>\n",
       "      <td>1_null</td>\n",
       "      <td>train</td>\n",
       "      <td>945_45_1.jpg</td>\n",
       "    </tr>\n",
       "    <tr>\n",
       "      <th>4</th>\n",
       "      <td>1023</td>\n",
       "      <td>45</td>\n",
       "      <td>1</td>\n",
       "      <td>0</td>\n",
       "      <td>1</td>\n",
       "      <td>0</td>\n",
       "      <td>1</td>\n",
       "      <td>1_null</td>\n",
       "      <td>train</td>\n",
       "      <td>1023_45_1.jpg</td>\n",
       "    </tr>\n",
       "  </tbody>\n",
       "</table>\n",
       "</div>"
      ],
      "text/plain": [
       "   img_id  heading  crop_number  0_missing  1_null  2_present  count_all  \\\n",
       "0  510     45       1            0          1       0          1           \n",
       "1  680     45       1            1          0       0          1           \n",
       "2  878     45       1            0          1       0          1           \n",
       "3  945     45       1            0          1       0          1           \n",
       "4  1023    45       1            0          1       0          1           \n",
       "\n",
       "  ground_truth new_group       jpg_name  \n",
       "0  1_null       train     510_45_1.jpg   \n",
       "1  0_missing    train     680_45_1.jpg   \n",
       "2  1_null       train     878_45_1.jpg   \n",
       "3  1_null       train     945_45_1.jpg   \n",
       "4  1_null       train     1023_45_1.jpg  "
      ]
     },
     "execution_count": 28,
     "metadata": {},
     "output_type": "execute_result"
    }
   ],
   "source": [
    "df_new_roi['jpg_name'] = df_new_roi['img_id'].astype(str) + '_' + df_new_roi['heading'].astype(str) + '_' +df_new_roi['crop_number'].astype(str) + '.jpg'\n",
    "df_new_roi.head()"
   ]
  },
  {
   "cell_type": "markdown",
   "metadata": {},
   "source": [
    "# Combine ROI Images with Original Image details"
   ]
  },
  {
   "cell_type": "code",
   "execution_count": 29,
   "metadata": {},
   "outputs": [
    {
     "name": "stdout",
     "output_type": "stream",
     "text": [
      "(13441, 13)\n"
     ]
    },
    {
     "data": {
      "text/html": [
       "<div>\n",
       "<style scoped>\n",
       "    .dataframe tbody tr th:only-of-type {\n",
       "        vertical-align: middle;\n",
       "    }\n",
       "\n",
       "    .dataframe tbody tr th {\n",
       "        vertical-align: top;\n",
       "    }\n",
       "\n",
       "    .dataframe thead th {\n",
       "        text-align: right;\n",
       "    }\n",
       "</style>\n",
       "<table border=\"1\" class=\"dataframe\">\n",
       "  <thead>\n",
       "    <tr style=\"text-align: right;\">\n",
       "      <th></th>\n",
       "      <th>img_id</th>\n",
       "      <th>heading</th>\n",
       "      <th>crop_number</th>\n",
       "      <th>0_missing</th>\n",
       "      <th>1_null</th>\n",
       "      <th>2_present</th>\n",
       "      <th>count_all</th>\n",
       "      <th>ground_truth</th>\n",
       "      <th>new_group</th>\n",
       "      <th>jpg_name</th>\n",
       "      <th>original_folder_path</th>\n",
       "      <th>original_group</th>\n",
       "      <th>original_label</th>\n",
       "    </tr>\n",
       "  </thead>\n",
       "  <tbody>\n",
       "    <tr>\n",
       "      <th>0</th>\n",
       "      <td>510.0</td>\n",
       "      <td>45.0</td>\n",
       "      <td>1.0</td>\n",
       "      <td>0.0</td>\n",
       "      <td>1.0</td>\n",
       "      <td>0.0</td>\n",
       "      <td>1.0</td>\n",
       "      <td>1_null</td>\n",
       "      <td>train</td>\n",
       "      <td>510_45_1.jpg</td>\n",
       "      <td>NaN</td>\n",
       "      <td>NaN</td>\n",
       "      <td>NaN</td>\n",
       "    </tr>\n",
       "    <tr>\n",
       "      <th>1</th>\n",
       "      <td>680.0</td>\n",
       "      <td>45.0</td>\n",
       "      <td>1.0</td>\n",
       "      <td>1.0</td>\n",
       "      <td>0.0</td>\n",
       "      <td>0.0</td>\n",
       "      <td>1.0</td>\n",
       "      <td>0_missing</td>\n",
       "      <td>train</td>\n",
       "      <td>680_45_1.jpg</td>\n",
       "      <td>NaN</td>\n",
       "      <td>NaN</td>\n",
       "      <td>NaN</td>\n",
       "    </tr>\n",
       "    <tr>\n",
       "      <th>2</th>\n",
       "      <td>878.0</td>\n",
       "      <td>45.0</td>\n",
       "      <td>1.0</td>\n",
       "      <td>0.0</td>\n",
       "      <td>1.0</td>\n",
       "      <td>0.0</td>\n",
       "      <td>1.0</td>\n",
       "      <td>1_null</td>\n",
       "      <td>train</td>\n",
       "      <td>878_45_1.jpg</td>\n",
       "      <td>NaN</td>\n",
       "      <td>NaN</td>\n",
       "      <td>NaN</td>\n",
       "    </tr>\n",
       "    <tr>\n",
       "      <th>3</th>\n",
       "      <td>945.0</td>\n",
       "      <td>45.0</td>\n",
       "      <td>1.0</td>\n",
       "      <td>0.0</td>\n",
       "      <td>1.0</td>\n",
       "      <td>0.0</td>\n",
       "      <td>1.0</td>\n",
       "      <td>1_null</td>\n",
       "      <td>train</td>\n",
       "      <td>945_45_1.jpg</td>\n",
       "      <td>NaN</td>\n",
       "      <td>NaN</td>\n",
       "      <td>NaN</td>\n",
       "    </tr>\n",
       "    <tr>\n",
       "      <th>4</th>\n",
       "      <td>1023.0</td>\n",
       "      <td>45.0</td>\n",
       "      <td>1.0</td>\n",
       "      <td>0.0</td>\n",
       "      <td>1.0</td>\n",
       "      <td>0.0</td>\n",
       "      <td>1.0</td>\n",
       "      <td>1_null</td>\n",
       "      <td>train</td>\n",
       "      <td>1023_45_1.jpg</td>\n",
       "      <td>/home/ec2-user/SageMaker/classify-streetview/images/train/2_obstacle</td>\n",
       "      <td>train</td>\n",
       "      <td>2_obstacle</td>\n",
       "    </tr>\n",
       "  </tbody>\n",
       "</table>\n",
       "</div>"
      ],
      "text/plain": [
       "   img_id  heading  crop_number  0_missing  1_null  2_present  count_all  \\\n",
       "0  510.0   45.0     1.0          0.0        1.0     0.0        1.0         \n",
       "1  680.0   45.0     1.0          1.0        0.0     0.0        1.0         \n",
       "2  878.0   45.0     1.0          0.0        1.0     0.0        1.0         \n",
       "3  945.0   45.0     1.0          0.0        1.0     0.0        1.0         \n",
       "4  1023.0  45.0     1.0          0.0        1.0     0.0        1.0         \n",
       "\n",
       "  ground_truth new_group       jpg_name  \\\n",
       "0  1_null       train     510_45_1.jpg    \n",
       "1  0_missing    train     680_45_1.jpg    \n",
       "2  1_null       train     878_45_1.jpg    \n",
       "3  1_null       train     945_45_1.jpg    \n",
       "4  1_null       train     1023_45_1.jpg   \n",
       "\n",
       "                                                   original_folder_path  \\\n",
       "0  NaN                                                                    \n",
       "1  NaN                                                                    \n",
       "2  NaN                                                                    \n",
       "3  NaN                                                                    \n",
       "4  /home/ec2-user/SageMaker/classify-streetview/images/train/2_obstacle   \n",
       "\n",
       "  original_group original_label  \n",
       "0  NaN            NaN            \n",
       "1  NaN            NaN            \n",
       "2  NaN            NaN            \n",
       "3  NaN            NaN            \n",
       "4  train          2_obstacle     "
      ]
     },
     "execution_count": 29,
     "metadata": {},
     "output_type": "execute_result"
    }
   ],
   "source": [
    "df_combine = df_new_roi.merge(df_original, how = 'outer', left_on = 'jpg_name', right_on = 'jpg_name')\n",
    "print(df_combine.shape)\n",
    "df_combine.head()"
   ]
  },
  {
   "cell_type": "code",
   "execution_count": 36,
   "metadata": {},
   "outputs": [
    {
     "data": {
      "text/plain": [
       "7.0    1920\n",
       "6.0    1920\n",
       "5.0    1920\n",
       "4.0    1920\n",
       "3.0    1920\n",
       "2.0    1920\n",
       "1.0    1920\n",
       "NaN    1   \n",
       "Name: crop_number, dtype: int64"
      ]
     },
     "execution_count": 36,
     "metadata": {},
     "output_type": "execute_result"
    }
   ],
   "source": [
    "df_combine['crop_number'].value_counts(dropna = False)"
   ]
  },
  {
   "cell_type": "code",
   "execution_count": 37,
   "metadata": {},
   "outputs": [
    {
     "data": {
      "text/html": [
       "<div>\n",
       "<style scoped>\n",
       "    .dataframe tbody tr th:only-of-type {\n",
       "        vertical-align: middle;\n",
       "    }\n",
       "\n",
       "    .dataframe tbody tr th {\n",
       "        vertical-align: top;\n",
       "    }\n",
       "\n",
       "    .dataframe thead th {\n",
       "        text-align: right;\n",
       "    }\n",
       "</style>\n",
       "<table border=\"1\" class=\"dataframe\">\n",
       "  <thead>\n",
       "    <tr style=\"text-align: right;\">\n",
       "      <th></th>\n",
       "      <th>img_id</th>\n",
       "      <th>heading</th>\n",
       "      <th>crop_number</th>\n",
       "      <th>0_missing</th>\n",
       "      <th>1_null</th>\n",
       "      <th>2_present</th>\n",
       "      <th>count_all</th>\n",
       "      <th>ground_truth</th>\n",
       "      <th>new_group</th>\n",
       "      <th>jpg_name</th>\n",
       "      <th>original_folder_path</th>\n",
       "      <th>original_group</th>\n",
       "      <th>original_label</th>\n",
       "    </tr>\n",
       "  </thead>\n",
       "  <tbody>\n",
       "    <tr>\n",
       "      <th>13440</th>\n",
       "      <td>NaN</td>\n",
       "      <td>NaN</td>\n",
       "      <td>NaN</td>\n",
       "      <td>NaN</td>\n",
       "      <td>NaN</td>\n",
       "      <td>NaN</td>\n",
       "      <td>NaN</td>\n",
       "      <td>NaN</td>\n",
       "      <td>NaN</td>\n",
       "      <td>.ipynb_checkpoints</td>\n",
       "      <td>/home/ec2-user/SageMaker/classify-streetview/images/train/0_missing</td>\n",
       "      <td>train</td>\n",
       "      <td>0_missing</td>\n",
       "    </tr>\n",
       "  </tbody>\n",
       "</table>\n",
       "</div>"
      ],
      "text/plain": [
       "       img_id  heading  crop_number  0_missing  1_null  2_present  count_all  \\\n",
       "13440 NaN     NaN      NaN          NaN        NaN     NaN        NaN          \n",
       "\n",
       "      ground_truth new_group            jpg_name  \\\n",
       "13440  NaN          NaN       .ipynb_checkpoints   \n",
       "\n",
       "                                                      original_folder_path  \\\n",
       "13440  /home/ec2-user/SageMaker/classify-streetview/images/train/0_missing   \n",
       "\n",
       "      original_group original_label  \n",
       "13440  train          0_missing      "
      ]
     },
     "execution_count": 37,
     "metadata": {},
     "output_type": "execute_result"
    }
   ],
   "source": [
    "df_combine.loc[df_combine['crop_number'].isna()]"
   ]
  },
  {
   "cell_type": "code",
   "execution_count": 30,
   "metadata": {},
   "outputs": [
    {
     "data": {
      "text/plain": [
       "NaN                                                                         5986\n",
       "/home/ec2-user/SageMaker/classify-streetview/images/train/3_present         2457\n",
       "/home/ec2-user/SageMaker/classify-streetview/images/train/1_null            2410\n",
       "/home/ec2-user/SageMaker/classify-streetview/images/train/4_surface_prob    401 \n",
       "/home/ec2-user/SageMaker/classify-streetview/images/test/1_null             363 \n",
       "Name: original_folder_path, dtype: int64"
      ]
     },
     "execution_count": 30,
     "metadata": {},
     "output_type": "execute_result"
    }
   ],
   "source": [
    "df_combine['original_folder_path'].value_counts(dropna = False).head()"
   ]
  },
  {
   "cell_type": "code",
   "execution_count": 32,
   "metadata": {},
   "outputs": [
    {
     "data": {
      "text/plain": [
       "ground_truth  original_label\n",
       "0_missing     0_missing         15  \n",
       "              1_null            24  \n",
       "              2_obstacle        7   \n",
       "              3_present         113 \n",
       "              4_surface_prob    3   \n",
       "1_null        0_missing         59  \n",
       "              1_null            2948\n",
       "              2_obstacle        187 \n",
       "              3_present         996 \n",
       "              4_surface_prob    430 \n",
       "2_present     0_missing         141 \n",
       "              1_null            158 \n",
       "              2_obstacle        89  \n",
       "              3_present         2066\n",
       "              4_surface_prob    218 \n",
       "Name: jpg_name, dtype: int64"
      ]
     },
     "execution_count": 32,
     "metadata": {},
     "output_type": "execute_result"
    }
   ],
   "source": [
    "df_group_label = df_combine.groupby(['ground_truth', 'original_label'])['jpg_name'].count()\n",
    "df_group_label"
   ]
  },
  {
   "cell_type": "code",
   "execution_count": 33,
   "metadata": {},
   "outputs": [
    {
     "data": {
      "text/plain": [
       "count    13441.0\n",
       "mean     1.0    \n",
       "std      0.0    \n",
       "min      1.0    \n",
       "25%      1.0    \n",
       "50%      1.0    \n",
       "75%      1.0    \n",
       "max      1.0    \n",
       "Name: jpg_name, dtype: float64"
      ]
     },
     "execution_count": 33,
     "metadata": {},
     "output_type": "execute_result"
    }
   ],
   "source": [
    "df_combine['jpg_name'].value_counts().describe()"
   ]
  },
  {
   "cell_type": "markdown",
   "metadata": {},
   "source": [
    "# Observations\n",
    "* There's exactly 1 row per jpg_name\n",
    "* There's a row with ipynb_checkpoints, which is fine\n",
    "* There are some lost images (mainly null) \n",
    "* The grouping by label showing how images move around into the new \"ground_truth\" "
   ]
  },
  {
   "cell_type": "markdown",
   "metadata": {},
   "source": [
    "# Create the list of files before and after locations"
   ]
  },
  {
   "cell_type": "code",
   "execution_count": 39,
   "metadata": {},
   "outputs": [
    {
     "data": {
      "text/plain": [
       "(7454, 13)"
      ]
     },
     "execution_count": 39,
     "metadata": {},
     "output_type": "execute_result"
    }
   ],
   "source": [
    "df_move = df_combine.dropna().copy()\n",
    "df_move.shape"
   ]
  },
  {
   "cell_type": "code",
   "execution_count": 42,
   "metadata": {},
   "outputs": [
    {
     "data": {
      "text/plain": [
       "1_null       4620\n",
       "2_present    2672\n",
       "0_missing    162 \n",
       "Name: ground_truth, dtype: int64"
      ]
     },
     "execution_count": 42,
     "metadata": {},
     "output_type": "execute_result"
    }
   ],
   "source": [
    "df_move['ground_truth'].value_counts()"
   ]
  },
  {
   "cell_type": "code",
   "execution_count": 56,
   "metadata": {},
   "outputs": [
    {
     "data": {
      "text/plain": [
       "train    5554\n",
       "test     958 \n",
       "valid    942 \n",
       "Name: new_group, dtype: int64"
      ]
     },
     "execution_count": 56,
     "metadata": {},
     "output_type": "execute_result"
    }
   ],
   "source": [
    "df_move['new_group'].value_counts()"
   ]
  },
  {
   "cell_type": "code",
   "execution_count": 40,
   "metadata": {},
   "outputs": [
    {
     "data": {
      "text/html": [
       "<div>\n",
       "<style scoped>\n",
       "    .dataframe tbody tr th:only-of-type {\n",
       "        vertical-align: middle;\n",
       "    }\n",
       "\n",
       "    .dataframe tbody tr th {\n",
       "        vertical-align: top;\n",
       "    }\n",
       "\n",
       "    .dataframe thead th {\n",
       "        text-align: right;\n",
       "    }\n",
       "</style>\n",
       "<table border=\"1\" class=\"dataframe\">\n",
       "  <thead>\n",
       "    <tr style=\"text-align: right;\">\n",
       "      <th></th>\n",
       "      <th>img_id</th>\n",
       "      <th>heading</th>\n",
       "      <th>crop_number</th>\n",
       "      <th>0_missing</th>\n",
       "      <th>1_null</th>\n",
       "      <th>2_present</th>\n",
       "      <th>count_all</th>\n",
       "      <th>ground_truth</th>\n",
       "      <th>new_group</th>\n",
       "      <th>jpg_name</th>\n",
       "      <th>original_folder_path</th>\n",
       "      <th>original_group</th>\n",
       "      <th>original_label</th>\n",
       "    </tr>\n",
       "  </thead>\n",
       "  <tbody>\n",
       "    <tr>\n",
       "      <th>4</th>\n",
       "      <td>1023.0</td>\n",
       "      <td>45.0</td>\n",
       "      <td>1.0</td>\n",
       "      <td>0.0</td>\n",
       "      <td>1.0</td>\n",
       "      <td>0.0</td>\n",
       "      <td>1.0</td>\n",
       "      <td>1_null</td>\n",
       "      <td>train</td>\n",
       "      <td>1023_45_1.jpg</td>\n",
       "      <td>/home/ec2-user/SageMaker/classify-streetview/images/train/2_obstacle</td>\n",
       "      <td>train</td>\n",
       "      <td>2_obstacle</td>\n",
       "    </tr>\n",
       "    <tr>\n",
       "      <th>10</th>\n",
       "      <td>1636.0</td>\n",
       "      <td>45.0</td>\n",
       "      <td>1.0</td>\n",
       "      <td>0.0</td>\n",
       "      <td>1.0</td>\n",
       "      <td>0.0</td>\n",
       "      <td>1.0</td>\n",
       "      <td>1_null</td>\n",
       "      <td>train</td>\n",
       "      <td>1636_45_1.jpg</td>\n",
       "      <td>/home/ec2-user/SageMaker/classify-streetview/images/train/1_null</td>\n",
       "      <td>train</td>\n",
       "      <td>1_null</td>\n",
       "    </tr>\n",
       "    <tr>\n",
       "      <th>11</th>\n",
       "      <td>1663.0</td>\n",
       "      <td>45.0</td>\n",
       "      <td>1.0</td>\n",
       "      <td>0.0</td>\n",
       "      <td>1.0</td>\n",
       "      <td>0.0</td>\n",
       "      <td>1.0</td>\n",
       "      <td>1_null</td>\n",
       "      <td>train</td>\n",
       "      <td>1663_45_1.jpg</td>\n",
       "      <td>/home/ec2-user/SageMaker/classify-streetview/images/train/1_null</td>\n",
       "      <td>train</td>\n",
       "      <td>1_null</td>\n",
       "    </tr>\n",
       "    <tr>\n",
       "      <th>12</th>\n",
       "      <td>1747.0</td>\n",
       "      <td>45.0</td>\n",
       "      <td>1.0</td>\n",
       "      <td>0.0</td>\n",
       "      <td>1.0</td>\n",
       "      <td>0.0</td>\n",
       "      <td>1.0</td>\n",
       "      <td>1_null</td>\n",
       "      <td>train</td>\n",
       "      <td>1747_45_1.jpg</td>\n",
       "      <td>/home/ec2-user/SageMaker/classify-streetview/images/train/1_null</td>\n",
       "      <td>train</td>\n",
       "      <td>1_null</td>\n",
       "    </tr>\n",
       "    <tr>\n",
       "      <th>13</th>\n",
       "      <td>1894.0</td>\n",
       "      <td>45.0</td>\n",
       "      <td>1.0</td>\n",
       "      <td>0.0</td>\n",
       "      <td>1.0</td>\n",
       "      <td>0.0</td>\n",
       "      <td>1.0</td>\n",
       "      <td>1_null</td>\n",
       "      <td>train</td>\n",
       "      <td>1894_45_1.jpg</td>\n",
       "      <td>/home/ec2-user/SageMaker/classify-streetview/images/train/1_null</td>\n",
       "      <td>train</td>\n",
       "      <td>1_null</td>\n",
       "    </tr>\n",
       "  </tbody>\n",
       "</table>\n",
       "</div>"
      ],
      "text/plain": [
       "    img_id  heading  crop_number  0_missing  1_null  2_present  count_all  \\\n",
       "4   1023.0  45.0     1.0          0.0        1.0     0.0        1.0         \n",
       "10  1636.0  45.0     1.0          0.0        1.0     0.0        1.0         \n",
       "11  1663.0  45.0     1.0          0.0        1.0     0.0        1.0         \n",
       "12  1747.0  45.0     1.0          0.0        1.0     0.0        1.0         \n",
       "13  1894.0  45.0     1.0          0.0        1.0     0.0        1.0         \n",
       "\n",
       "   ground_truth new_group       jpg_name  \\\n",
       "4   1_null       train     1023_45_1.jpg   \n",
       "10  1_null       train     1636_45_1.jpg   \n",
       "11  1_null       train     1663_45_1.jpg   \n",
       "12  1_null       train     1747_45_1.jpg   \n",
       "13  1_null       train     1894_45_1.jpg   \n",
       "\n",
       "                                                    original_folder_path  \\\n",
       "4   /home/ec2-user/SageMaker/classify-streetview/images/train/2_obstacle   \n",
       "10  /home/ec2-user/SageMaker/classify-streetview/images/train/1_null       \n",
       "11  /home/ec2-user/SageMaker/classify-streetview/images/train/1_null       \n",
       "12  /home/ec2-user/SageMaker/classify-streetview/images/train/1_null       \n",
       "13  /home/ec2-user/SageMaker/classify-streetview/images/train/1_null       \n",
       "\n",
       "   original_group original_label  \n",
       "4   train          2_obstacle     \n",
       "10  train          1_null         \n",
       "11  train          1_null         \n",
       "12  train          1_null         \n",
       "13  train          1_null         "
      ]
     },
     "execution_count": 40,
     "metadata": {},
     "output_type": "execute_result"
    }
   ],
   "source": [
    "df_move.head()"
   ]
  },
  {
   "cell_type": "code",
   "execution_count": 50,
   "metadata": {},
   "outputs": [
    {
     "data": {
      "text/html": [
       "<div>\n",
       "<style scoped>\n",
       "    .dataframe tbody tr th:only-of-type {\n",
       "        vertical-align: middle;\n",
       "    }\n",
       "\n",
       "    .dataframe tbody tr th {\n",
       "        vertical-align: top;\n",
       "    }\n",
       "\n",
       "    .dataframe thead th {\n",
       "        text-align: right;\n",
       "    }\n",
       "</style>\n",
       "<table border=\"1\" class=\"dataframe\">\n",
       "  <thead>\n",
       "    <tr style=\"text-align: right;\">\n",
       "      <th></th>\n",
       "      <th>img_id</th>\n",
       "      <th>heading</th>\n",
       "      <th>crop_number</th>\n",
       "      <th>0_missing</th>\n",
       "      <th>1_null</th>\n",
       "      <th>2_present</th>\n",
       "      <th>count_all</th>\n",
       "      <th>ground_truth</th>\n",
       "      <th>new_group</th>\n",
       "      <th>jpg_name</th>\n",
       "      <th>original_folder_path</th>\n",
       "      <th>original_group</th>\n",
       "      <th>original_label</th>\n",
       "      <th>new_folder_path</th>\n",
       "    </tr>\n",
       "  </thead>\n",
       "  <tbody>\n",
       "    <tr>\n",
       "      <th>4</th>\n",
       "      <td>1023.0</td>\n",
       "      <td>45.0</td>\n",
       "      <td>1.0</td>\n",
       "      <td>0.0</td>\n",
       "      <td>1.0</td>\n",
       "      <td>0.0</td>\n",
       "      <td>1.0</td>\n",
       "      <td>1_null</td>\n",
       "      <td>train</td>\n",
       "      <td>1023_45_1.jpg</td>\n",
       "      <td>/home/ec2-user/SageMaker/classify-streetview/images/train/2_obstacle</td>\n",
       "      <td>train</td>\n",
       "      <td>2_obstacle</td>\n",
       "      <td>/home/ec2-user/SageMaker/classify-streetview/roi-images/train/1_null</td>\n",
       "    </tr>\n",
       "    <tr>\n",
       "      <th>10</th>\n",
       "      <td>1636.0</td>\n",
       "      <td>45.0</td>\n",
       "      <td>1.0</td>\n",
       "      <td>0.0</td>\n",
       "      <td>1.0</td>\n",
       "      <td>0.0</td>\n",
       "      <td>1.0</td>\n",
       "      <td>1_null</td>\n",
       "      <td>train</td>\n",
       "      <td>1636_45_1.jpg</td>\n",
       "      <td>/home/ec2-user/SageMaker/classify-streetview/images/train/1_null</td>\n",
       "      <td>train</td>\n",
       "      <td>1_null</td>\n",
       "      <td>/home/ec2-user/SageMaker/classify-streetview/roi-images/train/1_null</td>\n",
       "    </tr>\n",
       "    <tr>\n",
       "      <th>11</th>\n",
       "      <td>1663.0</td>\n",
       "      <td>45.0</td>\n",
       "      <td>1.0</td>\n",
       "      <td>0.0</td>\n",
       "      <td>1.0</td>\n",
       "      <td>0.0</td>\n",
       "      <td>1.0</td>\n",
       "      <td>1_null</td>\n",
       "      <td>train</td>\n",
       "      <td>1663_45_1.jpg</td>\n",
       "      <td>/home/ec2-user/SageMaker/classify-streetview/images/train/1_null</td>\n",
       "      <td>train</td>\n",
       "      <td>1_null</td>\n",
       "      <td>/home/ec2-user/SageMaker/classify-streetview/roi-images/train/1_null</td>\n",
       "    </tr>\n",
       "    <tr>\n",
       "      <th>12</th>\n",
       "      <td>1747.0</td>\n",
       "      <td>45.0</td>\n",
       "      <td>1.0</td>\n",
       "      <td>0.0</td>\n",
       "      <td>1.0</td>\n",
       "      <td>0.0</td>\n",
       "      <td>1.0</td>\n",
       "      <td>1_null</td>\n",
       "      <td>train</td>\n",
       "      <td>1747_45_1.jpg</td>\n",
       "      <td>/home/ec2-user/SageMaker/classify-streetview/images/train/1_null</td>\n",
       "      <td>train</td>\n",
       "      <td>1_null</td>\n",
       "      <td>/home/ec2-user/SageMaker/classify-streetview/roi-images/train/1_null</td>\n",
       "    </tr>\n",
       "    <tr>\n",
       "      <th>13</th>\n",
       "      <td>1894.0</td>\n",
       "      <td>45.0</td>\n",
       "      <td>1.0</td>\n",
       "      <td>0.0</td>\n",
       "      <td>1.0</td>\n",
       "      <td>0.0</td>\n",
       "      <td>1.0</td>\n",
       "      <td>1_null</td>\n",
       "      <td>train</td>\n",
       "      <td>1894_45_1.jpg</td>\n",
       "      <td>/home/ec2-user/SageMaker/classify-streetview/images/train/1_null</td>\n",
       "      <td>train</td>\n",
       "      <td>1_null</td>\n",
       "      <td>/home/ec2-user/SageMaker/classify-streetview/roi-images/train/1_null</td>\n",
       "    </tr>\n",
       "  </tbody>\n",
       "</table>\n",
       "</div>"
      ],
      "text/plain": [
       "    img_id  heading  crop_number  0_missing  1_null  2_present  count_all  \\\n",
       "4   1023.0  45.0     1.0          0.0        1.0     0.0        1.0         \n",
       "10  1636.0  45.0     1.0          0.0        1.0     0.0        1.0         \n",
       "11  1663.0  45.0     1.0          0.0        1.0     0.0        1.0         \n",
       "12  1747.0  45.0     1.0          0.0        1.0     0.0        1.0         \n",
       "13  1894.0  45.0     1.0          0.0        1.0     0.0        1.0         \n",
       "\n",
       "   ground_truth new_group       jpg_name  \\\n",
       "4   1_null       train     1023_45_1.jpg   \n",
       "10  1_null       train     1636_45_1.jpg   \n",
       "11  1_null       train     1663_45_1.jpg   \n",
       "12  1_null       train     1747_45_1.jpg   \n",
       "13  1_null       train     1894_45_1.jpg   \n",
       "\n",
       "                                                    original_folder_path  \\\n",
       "4   /home/ec2-user/SageMaker/classify-streetview/images/train/2_obstacle   \n",
       "10  /home/ec2-user/SageMaker/classify-streetview/images/train/1_null       \n",
       "11  /home/ec2-user/SageMaker/classify-streetview/images/train/1_null       \n",
       "12  /home/ec2-user/SageMaker/classify-streetview/images/train/1_null       \n",
       "13  /home/ec2-user/SageMaker/classify-streetview/images/train/1_null       \n",
       "\n",
       "   original_group original_label  \\\n",
       "4   train          2_obstacle      \n",
       "10  train          1_null          \n",
       "11  train          1_null          \n",
       "12  train          1_null          \n",
       "13  train          1_null          \n",
       "\n",
       "                                                         new_folder_path  \n",
       "4   /home/ec2-user/SageMaker/classify-streetview/roi-images/train/1_null  \n",
       "10  /home/ec2-user/SageMaker/classify-streetview/roi-images/train/1_null  \n",
       "11  /home/ec2-user/SageMaker/classify-streetview/roi-images/train/1_null  \n",
       "12  /home/ec2-user/SageMaker/classify-streetview/roi-images/train/1_null  \n",
       "13  /home/ec2-user/SageMaker/classify-streetview/roi-images/train/1_null  "
      ]
     },
     "execution_count": 50,
     "metadata": {},
     "output_type": "execute_result"
    }
   ],
   "source": [
    "df_move['new_folder_path'] =  SAGEMAKER_REPO_PATH + '/roi-images/' + df_move['new_group'] + '/' + df_move['ground_truth'] \n",
    "df_move.head()"
   ]
  },
  {
   "cell_type": "code",
   "execution_count": 51,
   "metadata": {},
   "outputs": [],
   "source": [
    "df_move.to_csv('roi-images-sagemaker-paths.csv', index = False)"
   ]
  },
  {
   "cell_type": "markdown",
   "metadata": {},
   "source": [
    "# Actually Copy the Images"
   ]
  },
  {
   "cell_type": "code",
   "execution_count": 54,
   "metadata": {},
   "outputs": [
    {
     "name": "stdout",
     "output_type": "stream",
     "text": [
      "9\n",
      "/home/ec2-user/SageMaker/classify-streetview/roi-images/train/1_null\n",
      "/home/ec2-user/SageMaker/classify-streetview/roi-images/train/2_present\n",
      "/home/ec2-user/SageMaker/classify-streetview/roi-images/train/0_missing\n",
      "/home/ec2-user/SageMaker/classify-streetview/roi-images/valid/1_null\n",
      "/home/ec2-user/SageMaker/classify-streetview/roi-images/valid/0_missing\n",
      "/home/ec2-user/SageMaker/classify-streetview/roi-images/valid/2_present\n",
      "/home/ec2-user/SageMaker/classify-streetview/roi-images/test/1_null\n",
      "/home/ec2-user/SageMaker/classify-streetview/roi-images/test/2_present\n",
      "/home/ec2-user/SageMaker/classify-streetview/roi-images/test/0_missing\n"
     ]
    }
   ],
   "source": [
    "# Make sure folders exst for all new folders\n",
    "unique_new_folders = list(df_move['new_folder_path'].unique())\n",
    "print(len(unique_new_folders))\n",
    "for new_folder in unique_new_folders:\n",
    "    if not os.path.exists(new_folder):\n",
    "        os.makedirs(new_folder)\n",
    "        print(new_folder)"
   ]
  },
  {
   "cell_type": "code",
   "execution_count": 55,
   "metadata": {},
   "outputs": [],
   "source": [
    "for index, row in df_move.iterrows():\n",
    "    original = os.path.join(row['original_folder_path'], row['jpg_name'])\n",
    "    target = os.path.join(row['new_folder_path'], row['jpg_name'])\n",
    "    try:\n",
    "        shutil.copyfile(original, target)\n",
    "    except:\n",
    "        print(f\"could not copy: {row['jpg_name']}\")"
   ]
  },
  {
   "cell_type": "markdown",
   "metadata": {},
   "source": [
    "# Make an alphabetical list of the test images"
   ]
  },
  {
   "cell_type": "code",
   "execution_count": 58,
   "metadata": {},
   "outputs": [
    {
     "name": "stdout",
     "output_type": "stream",
     "text": [
      "(958, 14)\n"
     ]
    },
    {
     "data": {
      "text/plain": [
       "Index(['img_id', 'heading', 'crop_number', '0_missing', '1_null', '2_present',\n",
       "       'count_all', 'ground_truth', 'new_group', 'jpg_name',\n",
       "       'original_folder_path', 'original_group', 'original_label',\n",
       "       'new_folder_path'],\n",
       "      dtype='object')"
      ]
     },
     "execution_count": 58,
     "metadata": {},
     "output_type": "execute_result"
    }
   ],
   "source": [
    "df_test = df_move.loc[df_move['new_group'] == 'test']\n",
    "print(df_test.shape)\n",
    "df_test.columns"
   ]
  },
  {
   "cell_type": "code",
   "execution_count": 60,
   "metadata": {},
   "outputs": [
    {
     "data": {
      "text/html": [
       "<div>\n",
       "<style scoped>\n",
       "    .dataframe tbody tr th:only-of-type {\n",
       "        vertical-align: middle;\n",
       "    }\n",
       "\n",
       "    .dataframe tbody tr th {\n",
       "        vertical-align: top;\n",
       "    }\n",
       "\n",
       "    .dataframe thead th {\n",
       "        text-align: right;\n",
       "    }\n",
       "</style>\n",
       "<table border=\"1\" class=\"dataframe\">\n",
       "  <thead>\n",
       "    <tr style=\"text-align: right;\">\n",
       "      <th></th>\n",
       "      <th>img_id</th>\n",
       "      <th>heading</th>\n",
       "      <th>crop_number</th>\n",
       "      <th>0_missing</th>\n",
       "      <th>1_null</th>\n",
       "      <th>2_present</th>\n",
       "      <th>count_all</th>\n",
       "      <th>ground_truth</th>\n",
       "      <th>jpg_name</th>\n",
       "      <th>new_folder_path</th>\n",
       "    </tr>\n",
       "  </thead>\n",
       "  <tbody>\n",
       "    <tr>\n",
       "      <th>12742</th>\n",
       "      <td>10228.0</td>\n",
       "      <td>45.0</td>\n",
       "      <td>5.0</td>\n",
       "      <td>1.0</td>\n",
       "      <td>0.0</td>\n",
       "      <td>1.0</td>\n",
       "      <td>2.0</td>\n",
       "      <td>0_missing</td>\n",
       "      <td>10228_45_5.jpg</td>\n",
       "      <td>/home/ec2-user/SageMaker/classify-streetview/roi-images/test/0_missing</td>\n",
       "    </tr>\n",
       "    <tr>\n",
       "      <th>13118</th>\n",
       "      <td>12270.0</td>\n",
       "      <td>225.0</td>\n",
       "      <td>6.0</td>\n",
       "      <td>1.0</td>\n",
       "      <td>0.0</td>\n",
       "      <td>0.0</td>\n",
       "      <td>1.0</td>\n",
       "      <td>0_missing</td>\n",
       "      <td>12270_225_6.jpg</td>\n",
       "      <td>/home/ec2-user/SageMaker/classify-streetview/roi-images/test/0_missing</td>\n",
       "    </tr>\n",
       "    <tr>\n",
       "      <th>13088</th>\n",
       "      <td>14541.0</td>\n",
       "      <td>225.0</td>\n",
       "      <td>6.0</td>\n",
       "      <td>1.0</td>\n",
       "      <td>0.0</td>\n",
       "      <td>1.0</td>\n",
       "      <td>2.0</td>\n",
       "      <td>0_missing</td>\n",
       "      <td>14541_225_6.jpg</td>\n",
       "      <td>/home/ec2-user/SageMaker/classify-streetview/roi-images/test/0_missing</td>\n",
       "    </tr>\n",
       "    <tr>\n",
       "      <th>13399</th>\n",
       "      <td>16078.0</td>\n",
       "      <td>315.0</td>\n",
       "      <td>7.0</td>\n",
       "      <td>1.0</td>\n",
       "      <td>0.0</td>\n",
       "      <td>1.0</td>\n",
       "      <td>2.0</td>\n",
       "      <td>0_missing</td>\n",
       "      <td>16078_315_7.jpg</td>\n",
       "      <td>/home/ec2-user/SageMaker/classify-streetview/roi-images/test/0_missing</td>\n",
       "    </tr>\n",
       "    <tr>\n",
       "      <th>12037</th>\n",
       "      <td>16180.0</td>\n",
       "      <td>135.0</td>\n",
       "      <td>2.0</td>\n",
       "      <td>1.0</td>\n",
       "      <td>0.0</td>\n",
       "      <td>0.0</td>\n",
       "      <td>1.0</td>\n",
       "      <td>0_missing</td>\n",
       "      <td>16180_135_2.jpg</td>\n",
       "      <td>/home/ec2-user/SageMaker/classify-streetview/roi-images/test/0_missing</td>\n",
       "    </tr>\n",
       "  </tbody>\n",
       "</table>\n",
       "</div>"
      ],
      "text/plain": [
       "        img_id  heading  crop_number  0_missing  1_null  2_present  count_all  \\\n",
       "12742  10228.0  45.0     5.0          1.0        0.0     1.0        2.0         \n",
       "13118  12270.0  225.0    6.0          1.0        0.0     0.0        1.0         \n",
       "13088  14541.0  225.0    6.0          1.0        0.0     1.0        2.0         \n",
       "13399  16078.0  315.0    7.0          1.0        0.0     1.0        2.0         \n",
       "12037  16180.0  135.0    2.0          1.0        0.0     0.0        1.0         \n",
       "\n",
       "      ground_truth         jpg_name  \\\n",
       "12742  0_missing    10228_45_5.jpg    \n",
       "13118  0_missing    12270_225_6.jpg   \n",
       "13088  0_missing    14541_225_6.jpg   \n",
       "13399  0_missing    16078_315_7.jpg   \n",
       "12037  0_missing    16180_135_2.jpg   \n",
       "\n",
       "                                                              new_folder_path  \n",
       "12742  /home/ec2-user/SageMaker/classify-streetview/roi-images/test/0_missing  \n",
       "13118  /home/ec2-user/SageMaker/classify-streetview/roi-images/test/0_missing  \n",
       "13088  /home/ec2-user/SageMaker/classify-streetview/roi-images/test/0_missing  \n",
       "13399  /home/ec2-user/SageMaker/classify-streetview/roi-images/test/0_missing  \n",
       "12037  /home/ec2-user/SageMaker/classify-streetview/roi-images/test/0_missing  "
      ]
     },
     "execution_count": 60,
     "metadata": {},
     "output_type": "execute_result"
    }
   ],
   "source": [
    "keep_cols = ['img_id', 'heading', 'crop_number', '0_missing', '1_null', '2_present', 'count_all', 'ground_truth', 'jpg_name', 'new_folder_path']\n",
    "df_test_keep = df_test[keep_cols].copy()\n",
    "df_test_keep = df_test_keep.sort_values(['new_folder_path', 'jpg_name'])\n",
    "df_test_keep.head()"
   ]
  },
  {
   "cell_type": "code",
   "execution_count": 61,
   "metadata": {},
   "outputs": [],
   "source": [
    "df_test_keep.to_csv('test_roi_image_locations_sorted.csv', index = False)"
   ]
  },
  {
   "cell_type": "code",
   "execution_count": null,
   "metadata": {},
   "outputs": [],
   "source": []
  }
 ],
 "metadata": {
  "kernelspec": {
   "display_name": "conda_python3",
   "language": "python",
   "name": "conda_python3"
  },
  "language_info": {
   "codemirror_mode": {
    "name": "ipython",
    "version": 3
   },
   "file_extension": ".py",
   "mimetype": "text/x-python",
   "name": "python",
   "nbconvert_exporter": "python",
   "pygments_lexer": "ipython3",
   "version": "3.6.5"
  }
 },
 "nbformat": 4,
 "nbformat_minor": 4
}
