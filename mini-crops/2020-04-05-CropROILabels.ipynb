{
 "cells": [
  {
   "cell_type": "markdown",
   "metadata": {},
   "source": [
    "# Crop ROI Labels\n",
    "\n",
    "Use the labeling information to split into train/val/test and then assign the relevant label\n",
    "\n",
    "Assume that a label exists in an image if it's at least 10 pixels away from the horizontal edges\n"
   ]
  },
  {
   "cell_type": "code",
   "execution_count": 6,
   "metadata": {},
   "outputs": [],
   "source": [
    "import pandas as pd\n",
    "import numpy as np\n",
    "import os\n",
    "import s3fs # for reading from S3FileSystem\n",
    "import json # for working with JSON files \n",
    "\n",
    "import matplotlib.pyplot as plt\n",
    "\n",
    "\n",
    "pd.set_option('max_colwidth', -1)"
   ]
  },
  {
   "cell_type": "markdown",
   "metadata": {},
   "source": [
    "# Load Reference CSVs"
   ]
  },
  {
   "cell_type": "markdown",
   "metadata": {},
   "source": [
    "## Labels and Crops Info"
   ]
  },
  {
   "cell_type": "code",
   "execution_count": 7,
   "metadata": {},
   "outputs": [],
   "source": [
    "SAGEMAKER_PATH = r'/home/ec2-user/SageMaker'\n",
    "SPLIT_PATH = os.path.join(SAGEMAKER_PATH, 'classify-streetview', 'split-train-test')\n",
    "MINI_PATH = os.path.join(SAGEMAKER_PATH, 'classify-streetview', 'mini-crops')"
   ]
  },
  {
   "cell_type": "code",
   "execution_count": 15,
   "metadata": {},
   "outputs": [
    {
     "name": "stdout",
     "output_type": "stream",
     "text": [
      "(4978, 36)\n",
      "Index(['filename', 'file_size', 'file_attributes', 'region_count', 'region_id',\n",
      "       'region_shape_attributes', 'region_attributes', 'img_id',\n",
      "       'present_ramp', 'missing_ramp', 'obstacle', 'surface_prob',\n",
      "       'no_sidewalk', 'null', 'sv_image_x', 'sv_image_y',\n",
      "       'sv_image_y_bottom_origin', 'label_name', 'crop_num', 'corner_x',\n",
      "       'corner_y', 'size', 'x_crop_left', 'x_crop_right', 'y_crop_top',\n",
      "       'y_crop_bottom', 'margin', 'x_roi_left', 'x_roi_right', 'y_roi_top',\n",
      "       'y_roi_bottom', 'xpt_minus_xleft', 'xright_minus_xpt', 'ypt_minus_ytop',\n",
      "       'ybottom_minus_ypt', 'label_in_crop'],\n",
      "      dtype='object')\n"
     ]
    },
    {
     "data": {
      "text/html": [
       "<div>\n",
       "<style scoped>\n",
       "    .dataframe tbody tr th:only-of-type {\n",
       "        vertical-align: middle;\n",
       "    }\n",
       "\n",
       "    .dataframe tbody tr th {\n",
       "        vertical-align: top;\n",
       "    }\n",
       "\n",
       "    .dataframe thead th {\n",
       "        text-align: right;\n",
       "    }\n",
       "</style>\n",
       "<table border=\"1\" class=\"dataframe\">\n",
       "  <thead>\n",
       "    <tr style=\"text-align: right;\">\n",
       "      <th></th>\n",
       "      <th>filename</th>\n",
       "      <th>file_size</th>\n",
       "      <th>file_attributes</th>\n",
       "      <th>region_count</th>\n",
       "      <th>region_id</th>\n",
       "      <th>region_shape_attributes</th>\n",
       "      <th>region_attributes</th>\n",
       "      <th>img_id</th>\n",
       "      <th>present_ramp</th>\n",
       "      <th>missing_ramp</th>\n",
       "      <th>...</th>\n",
       "      <th>margin</th>\n",
       "      <th>x_roi_left</th>\n",
       "      <th>x_roi_right</th>\n",
       "      <th>y_roi_top</th>\n",
       "      <th>y_roi_bottom</th>\n",
       "      <th>xpt_minus_xleft</th>\n",
       "      <th>xright_minus_xpt</th>\n",
       "      <th>ypt_minus_ytop</th>\n",
       "      <th>ybottom_minus_ypt</th>\n",
       "      <th>label_in_crop</th>\n",
       "    </tr>\n",
       "  </thead>\n",
       "  <tbody>\n",
       "    <tr>\n",
       "      <th>0</th>\n",
       "      <td>680_45.jpg</td>\n",
       "      <td>49558</td>\n",
       "      <td>{}</td>\n",
       "      <td>3</td>\n",
       "      <td>0</td>\n",
       "      <td>{\"name\":\"point\",\"cx\":108,\"cy\":389}</td>\n",
       "      <td>{\"Present Curb Ramp\":\"1\\n\"}</td>\n",
       "      <td>680</td>\n",
       "      <td>True</td>\n",
       "      <td>False</td>\n",
       "      <td>...</td>\n",
       "      <td>10</td>\n",
       "      <td>15</td>\n",
       "      <td>175</td>\n",
       "      <td>330</td>\n",
       "      <td>490</td>\n",
       "      <td>103</td>\n",
       "      <td>77</td>\n",
       "      <td>69</td>\n",
       "      <td>111</td>\n",
       "      <td>True</td>\n",
       "    </tr>\n",
       "    <tr>\n",
       "      <th>1</th>\n",
       "      <td>680_45.jpg</td>\n",
       "      <td>49558</td>\n",
       "      <td>{}</td>\n",
       "      <td>3</td>\n",
       "      <td>1</td>\n",
       "      <td>{\"name\":\"point\",\"cx\":160,\"cy\":389}</td>\n",
       "      <td>{\"Present Curb Ramp\":\"1\"}</td>\n",
       "      <td>680</td>\n",
       "      <td>True</td>\n",
       "      <td>False</td>\n",
       "      <td>...</td>\n",
       "      <td>10</td>\n",
       "      <td>15</td>\n",
       "      <td>175</td>\n",
       "      <td>330</td>\n",
       "      <td>490</td>\n",
       "      <td>155</td>\n",
       "      <td>25</td>\n",
       "      <td>69</td>\n",
       "      <td>111</td>\n",
       "      <td>True</td>\n",
       "    </tr>\n",
       "    <tr>\n",
       "      <th>2</th>\n",
       "      <td>680_135.jpg</td>\n",
       "      <td>51194</td>\n",
       "      <td>{}</td>\n",
       "      <td>6</td>\n",
       "      <td>0</td>\n",
       "      <td>{\"name\":\"point\",\"cx\":18,\"cy\":475}</td>\n",
       "      <td>{\"Present Curb Ramp\":\"1\"}</td>\n",
       "      <td>680</td>\n",
       "      <td>True</td>\n",
       "      <td>False</td>\n",
       "      <td>...</td>\n",
       "      <td>10</td>\n",
       "      <td>15</td>\n",
       "      <td>175</td>\n",
       "      <td>330</td>\n",
       "      <td>490</td>\n",
       "      <td>13</td>\n",
       "      <td>167</td>\n",
       "      <td>155</td>\n",
       "      <td>25</td>\n",
       "      <td>True</td>\n",
       "    </tr>\n",
       "    <tr>\n",
       "      <th>3</th>\n",
       "      <td>680_225.jpg</td>\n",
       "      <td>47450</td>\n",
       "      <td>{}</td>\n",
       "      <td>4</td>\n",
       "      <td>0</td>\n",
       "      <td>{\"name\":\"point\",\"cx\":179,\"cy\":411}</td>\n",
       "      <td>{\"Surface Problem\":\"1\"}</td>\n",
       "      <td>680</td>\n",
       "      <td>False</td>\n",
       "      <td>False</td>\n",
       "      <td>...</td>\n",
       "      <td>10</td>\n",
       "      <td>15</td>\n",
       "      <td>175</td>\n",
       "      <td>330</td>\n",
       "      <td>490</td>\n",
       "      <td>174</td>\n",
       "      <td>6</td>\n",
       "      <td>91</td>\n",
       "      <td>89</td>\n",
       "      <td>True</td>\n",
       "    </tr>\n",
       "    <tr>\n",
       "      <th>4</th>\n",
       "      <td>1042_45.jpg</td>\n",
       "      <td>45436</td>\n",
       "      <td>{}</td>\n",
       "      <td>3</td>\n",
       "      <td>1</td>\n",
       "      <td>{\"name\":\"point\",\"cx\":90,\"cy\":380}</td>\n",
       "      <td>{\"Obstacle\":\"1\"}</td>\n",
       "      <td>1042</td>\n",
       "      <td>False</td>\n",
       "      <td>False</td>\n",
       "      <td>...</td>\n",
       "      <td>10</td>\n",
       "      <td>15</td>\n",
       "      <td>175</td>\n",
       "      <td>330</td>\n",
       "      <td>490</td>\n",
       "      <td>85</td>\n",
       "      <td>95</td>\n",
       "      <td>60</td>\n",
       "      <td>120</td>\n",
       "      <td>True</td>\n",
       "    </tr>\n",
       "  </tbody>\n",
       "</table>\n",
       "<p>5 rows × 36 columns</p>\n",
       "</div>"
      ],
      "text/plain": [
       "      filename  file_size file_attributes  region_count  region_id  \\\n",
       "0  680_45.jpg   49558      {}              3             0           \n",
       "1  680_45.jpg   49558      {}              3             1           \n",
       "2  680_135.jpg  51194      {}              6             0           \n",
       "3  680_225.jpg  47450      {}              4             0           \n",
       "4  1042_45.jpg  45436      {}              3             1           \n",
       "\n",
       "              region_shape_attributes            region_attributes  img_id  \\\n",
       "0  {\"name\":\"point\",\"cx\":108,\"cy\":389}  {\"Present Curb Ramp\":\"1\\n\"}  680      \n",
       "1  {\"name\":\"point\",\"cx\":160,\"cy\":389}  {\"Present Curb Ramp\":\"1\"}    680      \n",
       "2  {\"name\":\"point\",\"cx\":18,\"cy\":475}   {\"Present Curb Ramp\":\"1\"}    680      \n",
       "3  {\"name\":\"point\",\"cx\":179,\"cy\":411}  {\"Surface Problem\":\"1\"}      680      \n",
       "4  {\"name\":\"point\",\"cx\":90,\"cy\":380}   {\"Obstacle\":\"1\"}             1042     \n",
       "\n",
       "   present_ramp  missing_ramp  ...  margin  x_roi_left  x_roi_right  \\\n",
       "0  True          False         ...  10      15          175           \n",
       "1  True          False         ...  10      15          175           \n",
       "2  True          False         ...  10      15          175           \n",
       "3  False         False         ...  10      15          175           \n",
       "4  False         False         ...  10      15          175           \n",
       "\n",
       "   y_roi_top  y_roi_bottom  xpt_minus_xleft  xright_minus_xpt ypt_minus_ytop  \\\n",
       "0  330        490           103              77                69              \n",
       "1  330        490           155              25                69              \n",
       "2  330        490           13               167               155             \n",
       "3  330        490           174              6                 91              \n",
       "4  330        490           85               95                60              \n",
       "\n",
       "  ybottom_minus_ypt  label_in_crop  \n",
       "0  111               True           \n",
       "1  111               True           \n",
       "2  25                True           \n",
       "3  89                True           \n",
       "4  120               True           \n",
       "\n",
       "[5 rows x 36 columns]"
      ]
     },
     "execution_count": 15,
     "metadata": {},
     "output_type": "execute_result"
    }
   ],
   "source": [
    "df_crops = pd.read_csv(os.path.join(MINI_PATH, 'Crops_with_Labels.csv'))\n",
    "print(df_crops.shape)\n",
    "print(df_crops.columns)\n",
    "df_crops.head()"
   ]
  },
  {
   "cell_type": "code",
   "execution_count": 16,
   "metadata": {},
   "outputs": [
    {
     "data": {
      "text/plain": [
       "True    4978\n",
       "Name: label_in_crop, dtype: int64"
      ]
     },
     "execution_count": 16,
     "metadata": {},
     "output_type": "execute_result"
    }
   ],
   "source": [
    "df_crops['label_in_crop'].value_counts()"
   ]
  },
  {
   "cell_type": "code",
   "execution_count": 19,
   "metadata": {},
   "outputs": [],
   "source": [
    "df_crops['heading'] = df_crops['filename'].str.extract('(.*)_(.*).jpg', expand = True)[1]"
   ]
  },
  {
   "cell_type": "code",
   "execution_count": 20,
   "metadata": {},
   "outputs": [
    {
     "data": {
      "text/html": [
       "<div>\n",
       "<style scoped>\n",
       "    .dataframe tbody tr th:only-of-type {\n",
       "        vertical-align: middle;\n",
       "    }\n",
       "\n",
       "    .dataframe tbody tr th {\n",
       "        vertical-align: top;\n",
       "    }\n",
       "\n",
       "    .dataframe thead th {\n",
       "        text-align: right;\n",
       "    }\n",
       "</style>\n",
       "<table border=\"1\" class=\"dataframe\">\n",
       "  <thead>\n",
       "    <tr style=\"text-align: right;\">\n",
       "      <th></th>\n",
       "      <th>img_id</th>\n",
       "      <th>heading</th>\n",
       "      <th>crop_num</th>\n",
       "      <th>present_ramp</th>\n",
       "      <th>missing_ramp</th>\n",
       "      <th>label_name</th>\n",
       "      <th>sv_image_x</th>\n",
       "      <th>sv_image_y</th>\n",
       "      <th>xpt_minus_xleft</th>\n",
       "      <th>xright_minus_xpt</th>\n",
       "      <th>ypt_minus_ytop</th>\n",
       "      <th>ybottom_minus_ypt</th>\n",
       "    </tr>\n",
       "  </thead>\n",
       "  <tbody>\n",
       "    <tr>\n",
       "      <th>0</th>\n",
       "      <td>680</td>\n",
       "      <td>45</td>\n",
       "      <td>A</td>\n",
       "      <td>True</td>\n",
       "      <td>False</td>\n",
       "      <td>Present Curb Ramp</td>\n",
       "      <td>108</td>\n",
       "      <td>389</td>\n",
       "      <td>103</td>\n",
       "      <td>77</td>\n",
       "      <td>69</td>\n",
       "      <td>111</td>\n",
       "    </tr>\n",
       "    <tr>\n",
       "      <th>1</th>\n",
       "      <td>680</td>\n",
       "      <td>45</td>\n",
       "      <td>A</td>\n",
       "      <td>True</td>\n",
       "      <td>False</td>\n",
       "      <td>Present Curb Ramp</td>\n",
       "      <td>160</td>\n",
       "      <td>389</td>\n",
       "      <td>155</td>\n",
       "      <td>25</td>\n",
       "      <td>69</td>\n",
       "      <td>111</td>\n",
       "    </tr>\n",
       "    <tr>\n",
       "      <th>2</th>\n",
       "      <td>680</td>\n",
       "      <td>135</td>\n",
       "      <td>A</td>\n",
       "      <td>True</td>\n",
       "      <td>False</td>\n",
       "      <td>Present Curb Ramp</td>\n",
       "      <td>18</td>\n",
       "      <td>475</td>\n",
       "      <td>13</td>\n",
       "      <td>167</td>\n",
       "      <td>155</td>\n",
       "      <td>25</td>\n",
       "    </tr>\n",
       "    <tr>\n",
       "      <th>3</th>\n",
       "      <td>680</td>\n",
       "      <td>225</td>\n",
       "      <td>A</td>\n",
       "      <td>False</td>\n",
       "      <td>False</td>\n",
       "      <td>Surface Problem</td>\n",
       "      <td>179</td>\n",
       "      <td>411</td>\n",
       "      <td>174</td>\n",
       "      <td>6</td>\n",
       "      <td>91</td>\n",
       "      <td>89</td>\n",
       "    </tr>\n",
       "    <tr>\n",
       "      <th>4</th>\n",
       "      <td>1042</td>\n",
       "      <td>45</td>\n",
       "      <td>A</td>\n",
       "      <td>False</td>\n",
       "      <td>False</td>\n",
       "      <td>Obstacle</td>\n",
       "      <td>90</td>\n",
       "      <td>380</td>\n",
       "      <td>85</td>\n",
       "      <td>95</td>\n",
       "      <td>60</td>\n",
       "      <td>120</td>\n",
       "    </tr>\n",
       "  </tbody>\n",
       "</table>\n",
       "</div>"
      ],
      "text/plain": [
       "   img_id heading crop_num  present_ramp  missing_ramp         label_name  \\\n",
       "0  680     45      A        True          False         Present Curb Ramp   \n",
       "1  680     45      A        True          False         Present Curb Ramp   \n",
       "2  680     135     A        True          False         Present Curb Ramp   \n",
       "3  680     225     A        False         False         Surface Problem     \n",
       "4  1042    45      A        False         False         Obstacle            \n",
       "\n",
       "   sv_image_x  sv_image_y  xpt_minus_xleft  xright_minus_xpt  ypt_minus_ytop  \\\n",
       "0  108         389         103              77                69               \n",
       "1  160         389         155              25                69               \n",
       "2  18          475         13               167               155              \n",
       "3  179         411         174              6                 91               \n",
       "4  90          380         85               95                60               \n",
       "\n",
       "   ybottom_minus_ypt  \n",
       "0  111                \n",
       "1  111                \n",
       "2  25                 \n",
       "3  89                 \n",
       "4  120                "
      ]
     },
     "execution_count": 20,
     "metadata": {},
     "output_type": "execute_result"
    }
   ],
   "source": [
    "crops_cols = ['img_id', 'heading', 'crop_num', 'present_ramp', 'missing_ramp', 'label_name', \n",
    "              'sv_image_x', 'sv_image_y', 'xpt_minus_xleft', 'xright_minus_xpt', 'ypt_minus_ytop', 'ybottom_minus_ypt']\n",
    "df_crops = df_crops[crops_cols]\n",
    "df_crops.head()"
   ]
  },
  {
   "cell_type": "code",
   "execution_count": 29,
   "metadata": {},
   "outputs": [],
   "source": [
    "# Add a column for jpg_name\n",
    "df_crops['jpg_name'] = df_crops['img_id'].astype(str) + '_' + df_crops['heading'].astype(str) + '_' + df_crops['crop_num'].astype(str) + '.jpg'"
   ]
  },
  {
   "cell_type": "code",
   "execution_count": 30,
   "metadata": {},
   "outputs": [
    {
     "data": {
      "text/plain": [
       "Present Curb Ramp    3014\n",
       "Surface Problem      774 \n",
       "No Sidewalk          677 \n",
       "Obstacle             261 \n",
       "Missing Curb Ramp    206 \n",
       "Occlusion            46  \n",
       "Name: label_name, dtype: int64"
      ]
     },
     "execution_count": 30,
     "metadata": {},
     "output_type": "execute_result"
    }
   ],
   "source": [
    "df_crops['label_name'].value_counts()"
   ]
  },
  {
   "cell_type": "markdown",
   "metadata": {},
   "source": [
    "### Determine if within 10px ROI"
   ]
  },
  {
   "cell_type": "code",
   "execution_count": 31,
   "metadata": {},
   "outputs": [
    {
     "data": {
      "text/html": [
       "<div>\n",
       "<style scoped>\n",
       "    .dataframe tbody tr th:only-of-type {\n",
       "        vertical-align: middle;\n",
       "    }\n",
       "\n",
       "    .dataframe tbody tr th {\n",
       "        vertical-align: top;\n",
       "    }\n",
       "\n",
       "    .dataframe thead th {\n",
       "        text-align: right;\n",
       "    }\n",
       "</style>\n",
       "<table border=\"1\" class=\"dataframe\">\n",
       "  <thead>\n",
       "    <tr style=\"text-align: right;\">\n",
       "      <th></th>\n",
       "      <th>crop_num</th>\n",
       "      <th>left_margin</th>\n",
       "      <th>right_margin</th>\n",
       "    </tr>\n",
       "  </thead>\n",
       "  <tbody>\n",
       "    <tr>\n",
       "      <th>0</th>\n",
       "      <td>A</td>\n",
       "      <td>0</td>\n",
       "      <td>10</td>\n",
       "    </tr>\n",
       "    <tr>\n",
       "      <th>1</th>\n",
       "      <td>A</td>\n",
       "      <td>0</td>\n",
       "      <td>10</td>\n",
       "    </tr>\n",
       "    <tr>\n",
       "      <th>2</th>\n",
       "      <td>A</td>\n",
       "      <td>0</td>\n",
       "      <td>10</td>\n",
       "    </tr>\n",
       "    <tr>\n",
       "      <th>3</th>\n",
       "      <td>A</td>\n",
       "      <td>0</td>\n",
       "      <td>10</td>\n",
       "    </tr>\n",
       "    <tr>\n",
       "      <th>4</th>\n",
       "      <td>A</td>\n",
       "      <td>0</td>\n",
       "      <td>10</td>\n",
       "    </tr>\n",
       "  </tbody>\n",
       "</table>\n",
       "</div>"
      ],
      "text/plain": [
       "  crop_num  left_margin  right_margin\n",
       "0  A        0            10          \n",
       "1  A        0            10          \n",
       "2  A        0            10          \n",
       "3  A        0            10          \n",
       "4  A        0            10          "
      ]
     },
     "execution_count": 31,
     "metadata": {},
     "output_type": "execute_result"
    }
   ],
   "source": [
    "df_margin = pd.DataFrame({'crop_num': df_crops['crop_num'], \n",
    "                               'left_margin': np.where(df_crops['crop_num'] == 'A', 0, 10), \n",
    "                               'right_margin' : np.where(df_crops['crop_num'] == 'F', 0, 10)})\n",
    "df_margin.head()"
   ]
  },
  {
   "cell_type": "code",
   "execution_count": 32,
   "metadata": {},
   "outputs": [
    {
     "data": {
      "text/plain": [
       "True     4506\n",
       "False    472 \n",
       "Name: in_10px_roi, dtype: int64"
      ]
     },
     "execution_count": 32,
     "metadata": {},
     "output_type": "execute_result"
    }
   ],
   "source": [
    "df_crops['in_10px_roi'] = (df_margin['left_margin'] <= df_crops['xpt_minus_xleft']) & (df_margin['right_margin'] <= df_crops['xright_minus_xpt'])\n",
    "df_crops['in_10px_roi'].value_counts()"
   ]
  },
  {
   "cell_type": "code",
   "execution_count": 33,
   "metadata": {},
   "outputs": [
    {
     "data": {
      "text/html": [
       "<div>\n",
       "<style scoped>\n",
       "    .dataframe tbody tr th:only-of-type {\n",
       "        vertical-align: middle;\n",
       "    }\n",
       "\n",
       "    .dataframe tbody tr th {\n",
       "        vertical-align: top;\n",
       "    }\n",
       "\n",
       "    .dataframe thead th {\n",
       "        text-align: right;\n",
       "    }\n",
       "</style>\n",
       "<table border=\"1\" class=\"dataframe\">\n",
       "  <thead>\n",
       "    <tr style=\"text-align: right;\">\n",
       "      <th></th>\n",
       "      <th>img_id</th>\n",
       "      <th>heading</th>\n",
       "      <th>crop_num</th>\n",
       "      <th>present_ramp</th>\n",
       "      <th>missing_ramp</th>\n",
       "      <th>label_name</th>\n",
       "      <th>sv_image_x</th>\n",
       "      <th>sv_image_y</th>\n",
       "      <th>xpt_minus_xleft</th>\n",
       "      <th>xright_minus_xpt</th>\n",
       "      <th>ypt_minus_ytop</th>\n",
       "      <th>ybottom_minus_ypt</th>\n",
       "      <th>in_10px_roi</th>\n",
       "      <th>jpg_name</th>\n",
       "    </tr>\n",
       "  </thead>\n",
       "  <tbody>\n",
       "    <tr>\n",
       "      <th>0</th>\n",
       "      <td>680</td>\n",
       "      <td>45</td>\n",
       "      <td>A</td>\n",
       "      <td>True</td>\n",
       "      <td>False</td>\n",
       "      <td>Present Curb Ramp</td>\n",
       "      <td>108</td>\n",
       "      <td>389</td>\n",
       "      <td>103</td>\n",
       "      <td>77</td>\n",
       "      <td>69</td>\n",
       "      <td>111</td>\n",
       "      <td>True</td>\n",
       "      <td>680_45_A.jpg</td>\n",
       "    </tr>\n",
       "    <tr>\n",
       "      <th>1</th>\n",
       "      <td>680</td>\n",
       "      <td>45</td>\n",
       "      <td>A</td>\n",
       "      <td>True</td>\n",
       "      <td>False</td>\n",
       "      <td>Present Curb Ramp</td>\n",
       "      <td>160</td>\n",
       "      <td>389</td>\n",
       "      <td>155</td>\n",
       "      <td>25</td>\n",
       "      <td>69</td>\n",
       "      <td>111</td>\n",
       "      <td>True</td>\n",
       "      <td>680_45_A.jpg</td>\n",
       "    </tr>\n",
       "    <tr>\n",
       "      <th>2</th>\n",
       "      <td>680</td>\n",
       "      <td>135</td>\n",
       "      <td>A</td>\n",
       "      <td>True</td>\n",
       "      <td>False</td>\n",
       "      <td>Present Curb Ramp</td>\n",
       "      <td>18</td>\n",
       "      <td>475</td>\n",
       "      <td>13</td>\n",
       "      <td>167</td>\n",
       "      <td>155</td>\n",
       "      <td>25</td>\n",
       "      <td>True</td>\n",
       "      <td>680_135_A.jpg</td>\n",
       "    </tr>\n",
       "    <tr>\n",
       "      <th>3</th>\n",
       "      <td>680</td>\n",
       "      <td>225</td>\n",
       "      <td>A</td>\n",
       "      <td>False</td>\n",
       "      <td>False</td>\n",
       "      <td>Surface Problem</td>\n",
       "      <td>179</td>\n",
       "      <td>411</td>\n",
       "      <td>174</td>\n",
       "      <td>6</td>\n",
       "      <td>91</td>\n",
       "      <td>89</td>\n",
       "      <td>False</td>\n",
       "      <td>680_225_A.jpg</td>\n",
       "    </tr>\n",
       "    <tr>\n",
       "      <th>4</th>\n",
       "      <td>1042</td>\n",
       "      <td>45</td>\n",
       "      <td>A</td>\n",
       "      <td>False</td>\n",
       "      <td>False</td>\n",
       "      <td>Obstacle</td>\n",
       "      <td>90</td>\n",
       "      <td>380</td>\n",
       "      <td>85</td>\n",
       "      <td>95</td>\n",
       "      <td>60</td>\n",
       "      <td>120</td>\n",
       "      <td>True</td>\n",
       "      <td>1042_45_A.jpg</td>\n",
       "    </tr>\n",
       "  </tbody>\n",
       "</table>\n",
       "</div>"
      ],
      "text/plain": [
       "   img_id heading crop_num  present_ramp  missing_ramp         label_name  \\\n",
       "0  680     45      A        True          False         Present Curb Ramp   \n",
       "1  680     45      A        True          False         Present Curb Ramp   \n",
       "2  680     135     A        True          False         Present Curb Ramp   \n",
       "3  680     225     A        False         False         Surface Problem     \n",
       "4  1042    45      A        False         False         Obstacle            \n",
       "\n",
       "   sv_image_x  sv_image_y  xpt_minus_xleft  xright_minus_xpt  ypt_minus_ytop  \\\n",
       "0  108         389         103              77                69               \n",
       "1  160         389         155              25                69               \n",
       "2  18          475         13               167               155              \n",
       "3  179         411         174              6                 91               \n",
       "4  90          380         85               95                60               \n",
       "\n",
       "   ybottom_minus_ypt  in_10px_roi       jpg_name  \n",
       "0  111                True         680_45_A.jpg   \n",
       "1  111                True         680_45_A.jpg   \n",
       "2  25                 True         680_135_A.jpg  \n",
       "3  89                 False        680_225_A.jpg  \n",
       "4  120                True         1042_45_A.jpg  "
      ]
     },
     "execution_count": 33,
     "metadata": {},
     "output_type": "execute_result"
    }
   ],
   "source": [
    "df_crops.head()"
   ]
  },
  {
   "cell_type": "code",
   "execution_count": 34,
   "metadata": {},
   "outputs": [],
   "source": [
    "df_crops.to_csv('labels_in_10px_roi.csv', index = False)"
   ]
  },
  {
   "cell_type": "markdown",
   "metadata": {},
   "source": [
    "## Flatten to 1 row per jpg_name"
   ]
  },
  {
   "cell_type": "code",
   "execution_count": 46,
   "metadata": {},
   "outputs": [
    {
     "data": {
      "text/html": [
       "<div>\n",
       "<style scoped>\n",
       "    .dataframe tbody tr th:only-of-type {\n",
       "        vertical-align: middle;\n",
       "    }\n",
       "\n",
       "    .dataframe tbody tr th {\n",
       "        vertical-align: top;\n",
       "    }\n",
       "\n",
       "    .dataframe thead th {\n",
       "        text-align: right;\n",
       "    }\n",
       "</style>\n",
       "<table border=\"1\" class=\"dataframe\">\n",
       "  <thead>\n",
       "    <tr style=\"text-align: right;\">\n",
       "      <th></th>\n",
       "      <th>jpg_name</th>\n",
       "      <th>img_id</th>\n",
       "      <th>heading</th>\n",
       "      <th>crop_num</th>\n",
       "      <th>present_ramp</th>\n",
       "      <th>missing_ramp</th>\n",
       "      <th>total_count</th>\n",
       "    </tr>\n",
       "  </thead>\n",
       "  <tbody>\n",
       "    <tr>\n",
       "      <th>0</th>\n",
       "      <td>10007_225_C.jpg</td>\n",
       "      <td>10007</td>\n",
       "      <td>225</td>\n",
       "      <td>C</td>\n",
       "      <td>1.0</td>\n",
       "      <td>0.0</td>\n",
       "      <td>1.0</td>\n",
       "    </tr>\n",
       "    <tr>\n",
       "      <th>1</th>\n",
       "      <td>10007_225_D.jpg</td>\n",
       "      <td>10007</td>\n",
       "      <td>225</td>\n",
       "      <td>D</td>\n",
       "      <td>1.0</td>\n",
       "      <td>0.0</td>\n",
       "      <td>1.0</td>\n",
       "    </tr>\n",
       "    <tr>\n",
       "      <th>2</th>\n",
       "      <td>10007_315_B.jpg</td>\n",
       "      <td>10007</td>\n",
       "      <td>315</td>\n",
       "      <td>B</td>\n",
       "      <td>1.0</td>\n",
       "      <td>0.0</td>\n",
       "      <td>1.0</td>\n",
       "    </tr>\n",
       "    <tr>\n",
       "      <th>3</th>\n",
       "      <td>10007_315_C.jpg</td>\n",
       "      <td>10007</td>\n",
       "      <td>315</td>\n",
       "      <td>C</td>\n",
       "      <td>1.0</td>\n",
       "      <td>0.0</td>\n",
       "      <td>1.0</td>\n",
       "    </tr>\n",
       "    <tr>\n",
       "      <th>4</th>\n",
       "      <td>10007_45_E.jpg</td>\n",
       "      <td>10007</td>\n",
       "      <td>45</td>\n",
       "      <td>E</td>\n",
       "      <td>1.0</td>\n",
       "      <td>0.0</td>\n",
       "      <td>1.0</td>\n",
       "    </tr>\n",
       "  </tbody>\n",
       "</table>\n",
       "</div>"
      ],
      "text/plain": [
       "          jpg_name  img_id heading crop_num  present_ramp  missing_ramp  \\\n",
       "0  10007_225_C.jpg  10007   225     C        1.0           0.0            \n",
       "1  10007_225_D.jpg  10007   225     D        1.0           0.0            \n",
       "2  10007_315_B.jpg  10007   315     B        1.0           0.0            \n",
       "3  10007_315_C.jpg  10007   315     C        1.0           0.0            \n",
       "4  10007_45_E.jpg   10007   45      E        1.0           0.0            \n",
       "\n",
       "   total_count  \n",
       "0  1.0          \n",
       "1  1.0          \n",
       "2  1.0          \n",
       "3  1.0          \n",
       "4  1.0          "
      ]
     },
     "execution_count": 46,
     "metadata": {},
     "output_type": "execute_result"
    }
   ],
   "source": [
    "df_crops_roi = df_crops.loc[df_crops['in_10px_roi']]\n",
    "feature_cols = ['present_ramp', 'missing_ramp']\n",
    "df_crops_roi_group = df_crops_roi.groupby(['jpg_name', 'img_id', 'heading', 'crop_num'])[feature_cols].sum()\n",
    "df_crops_roi_group['total_count'] = df_crops_roi_group[feature_cols].sum(axis = 1)\n",
    "df_crops_roi_group = df_crops_roi_group.reset_index()\n",
    "df_crops_roi_group.head()"
   ]
  },
  {
   "cell_type": "code",
   "execution_count": 47,
   "metadata": {},
   "outputs": [
    {
     "data": {
      "text/plain": [
       "(3641, 7)"
      ]
     },
     "execution_count": 47,
     "metadata": {},
     "output_type": "execute_result"
    }
   ],
   "source": [
    "df_crops_roi_group.shape"
   ]
  },
  {
   "cell_type": "code",
   "execution_count": 48,
   "metadata": {},
   "outputs": [
    {
     "data": {
      "text/plain": [
       "1.0    2474\n",
       "0.0    949 \n",
       "2.0    213 \n",
       "3.0    5   \n",
       "Name: total_count, dtype: int64"
      ]
     },
     "execution_count": 48,
     "metadata": {},
     "output_type": "execute_result"
    }
   ],
   "source": [
    "df_crops_roi_group['total_count'].value_counts()"
   ]
  },
  {
   "cell_type": "code",
   "execution_count": 49,
   "metadata": {},
   "outputs": [
    {
     "data": {
      "text/plain": [
       "False    3600\n",
       "True     41  \n",
       "Name: includes_both, dtype: int64"
      ]
     },
     "execution_count": 49,
     "metadata": {},
     "output_type": "execute_result"
    }
   ],
   "source": [
    "df_crops_roi_group['includes_both'] = (df_crops_roi_group['present_ramp'] > 0) & (df_crops_roi_group['missing_ramp'] > 0)\n",
    "df_crops_roi_group['includes_both'].value_counts()"
   ]
  },
  {
   "cell_type": "code",
   "execution_count": 50,
   "metadata": {},
   "outputs": [
    {
     "data": {
      "text/plain": [
       "1.0    2377\n",
       "0.0    1088\n",
       "2.0    173 \n",
       "3.0    3   \n",
       "Name: present_ramp, dtype: int64"
      ]
     },
     "execution_count": 50,
     "metadata": {},
     "output_type": "execute_result"
    }
   ],
   "source": [
    "df_crops_roi_group['present_ramp'].value_counts()"
   ]
  },
  {
   "cell_type": "code",
   "execution_count": 51,
   "metadata": {},
   "outputs": [
    {
     "data": {
      "text/plain": [
       "0.0    3461\n",
       "1.0    177 \n",
       "2.0    3   \n",
       "Name: missing_ramp, dtype: int64"
      ]
     },
     "execution_count": 51,
     "metadata": {},
     "output_type": "execute_result"
    }
   ],
   "source": [
    "df_crops_roi_group['missing_ramp'].value_counts()"
   ]
  },
  {
   "cell_type": "markdown",
   "metadata": {},
   "source": [
    "## Apply Labels Logic"
   ]
  },
  {
   "cell_type": "code",
   "execution_count": 84,
   "metadata": {},
   "outputs": [
    {
     "data": {
      "text/plain": [
       "present             2377\n",
       "1_null              949 \n",
       "multiple_present    176 \n",
       "only_missing        139 \n",
       "Name: ground_truth, dtype: int64"
      ]
     },
     "execution_count": 84,
     "metadata": {},
     "output_type": "execute_result"
    }
   ],
   "source": [
    "true_missing_mask = (df_crops_roi_group['includes_both'] == False) & (df_crops_roi_group['missing_ramp'] > 0)\n",
    "df_crops_roi_group['ground_truth'] = np.where(df_crops_roi_group['present_ramp'] > 0, 'present', '1_null')\n",
    "df_crops_roi_group['ground_truth'] = np.where(df_crops_roi_group['present_ramp'] > 1, 'multiple_present', df_crops_roi_group['ground_truth'])\n",
    "df_crops_roi_group['ground_truth'] = np.where(true_missing_mask, 'only_missing', df_crops_roi_group['ground_truth'])\n",
    "df_crops_roi_group['ground_truth'].value_counts()"
   ]
  },
  {
   "cell_type": "code",
   "execution_count": 85,
   "metadata": {},
   "outputs": [
    {
     "data": {
      "text/plain": [
       "(506,)"
      ]
     },
     "execution_count": 85,
     "metadata": {},
     "output_type": "execute_result"
    }
   ],
   "source": [
    "df_crops_roi_group['img_id'].unique().shape"
   ]
  },
  {
   "cell_type": "code",
   "execution_count": 86,
   "metadata": {},
   "outputs": [
    {
     "data": {
      "text/plain": [
       "jpg_name         object \n",
       "img_id           int64  \n",
       "heading          object \n",
       "crop_num         object \n",
       "present_ramp     float64\n",
       "missing_ramp     float64\n",
       "total_count      float64\n",
       "includes_both    bool   \n",
       "ground_truth     object \n",
       "dtype: object"
      ]
     },
     "execution_count": 86,
     "metadata": {},
     "output_type": "execute_result"
    }
   ],
   "source": [
    "df_crops_roi_group.dtypes"
   ]
  },
  {
   "cell_type": "code",
   "execution_count": 87,
   "metadata": {},
   "outputs": [
    {
     "data": {
      "text/plain": [
       "Index(['jpg_name', 'img_id', 'heading', 'crop_num', 'present_ramp',\n",
       "       'missing_ramp', 'total_count', 'includes_both', 'ground_truth'],\n",
       "      dtype='object')"
      ]
     },
     "execution_count": 87,
     "metadata": {},
     "output_type": "execute_result"
    }
   ],
   "source": [
    "df_crops_roi_group.columns"
   ]
  },
  {
   "cell_type": "markdown",
   "metadata": {},
   "source": [
    "### Create Null Columns"
   ]
  },
  {
   "cell_type": "code",
   "execution_count": 88,
   "metadata": {},
   "outputs": [
    {
     "name": "stdout",
     "output_type": "stream",
     "text": [
      "12144\n",
      "(12144, 4)\n"
     ]
    },
    {
     "data": {
      "text/html": [
       "<div>\n",
       "<style scoped>\n",
       "    .dataframe tbody tr th:only-of-type {\n",
       "        vertical-align: middle;\n",
       "    }\n",
       "\n",
       "    .dataframe tbody tr th {\n",
       "        vertical-align: top;\n",
       "    }\n",
       "\n",
       "    .dataframe thead th {\n",
       "        text-align: right;\n",
       "    }\n",
       "</style>\n",
       "<table border=\"1\" class=\"dataframe\">\n",
       "  <thead>\n",
       "    <tr style=\"text-align: right;\">\n",
       "      <th></th>\n",
       "      <th>img_id</th>\n",
       "      <th>heading</th>\n",
       "      <th>crop_num</th>\n",
       "      <th>jpg_name</th>\n",
       "    </tr>\n",
       "  </thead>\n",
       "  <tbody>\n",
       "    <tr>\n",
       "      <th>0</th>\n",
       "      <td>10007</td>\n",
       "      <td>225</td>\n",
       "      <td>C</td>\n",
       "      <td>10007_225_C.jpg</td>\n",
       "    </tr>\n",
       "    <tr>\n",
       "      <th>1</th>\n",
       "      <td>10007</td>\n",
       "      <td>315</td>\n",
       "      <td>C</td>\n",
       "      <td>10007_315_C.jpg</td>\n",
       "    </tr>\n",
       "    <tr>\n",
       "      <th>2</th>\n",
       "      <td>10007</td>\n",
       "      <td>45</td>\n",
       "      <td>C</td>\n",
       "      <td>10007_45_C.jpg</td>\n",
       "    </tr>\n",
       "    <tr>\n",
       "      <th>3</th>\n",
       "      <td>10007</td>\n",
       "      <td>135</td>\n",
       "      <td>C</td>\n",
       "      <td>10007_135_C.jpg</td>\n",
       "    </tr>\n",
       "    <tr>\n",
       "      <th>4</th>\n",
       "      <td>10013</td>\n",
       "      <td>225</td>\n",
       "      <td>C</td>\n",
       "      <td>10013_225_C.jpg</td>\n",
       "    </tr>\n",
       "  </tbody>\n",
       "</table>\n",
       "</div>"
      ],
      "text/plain": [
       "   img_id heading crop_num         jpg_name\n",
       "0  10007   225     C        10007_225_C.jpg\n",
       "1  10007   315     C        10007_315_C.jpg\n",
       "2  10007   45      C        10007_45_C.jpg \n",
       "3  10007   135     C        10007_135_C.jpg\n",
       "4  10013   225     C        10013_225_C.jpg"
      ]
     },
     "execution_count": 88,
     "metadata": {},
     "output_type": "execute_result"
    }
   ],
   "source": [
    "img_id_list = list(df_crops_roi_group['img_id'].unique())\n",
    "heading_list = list(df_crops_roi_group['heading'].unique())\n",
    "crop_num_list = list(df_crops_roi_group['crop_num'].unique())\n",
    "df_mesh = pd.DataFrame(np.array(np.meshgrid(img_id_list, heading_list, crop_num_list, )).T.reshape(-1,3))\n",
    "df_mesh.columns = ['img_id', 'heading', 'crop_num']\n",
    "df_mesh['jpg_name'] = df_mesh['img_id'].astype(str) + '_' + df_mesh['heading'].astype(str) + '_' + df_mesh['crop_num'].astype(str) + '.jpg'\n",
    "df_mesh['img_id'] = pd.to_numeric(df_mesh['img_id'], downcast = 'integer')\n",
    "print(len(img_id_list) * len(heading_list) * len(crop_num_list))\n",
    "print(df_mesh.shape)\n",
    "df_mesh.head()"
   ]
  },
  {
   "cell_type": "code",
   "execution_count": 89,
   "metadata": {},
   "outputs": [
    {
     "data": {
      "text/plain": [
       "img_id      int16 \n",
       "heading     object\n",
       "crop_num    object\n",
       "jpg_name    object\n",
       "dtype: object"
      ]
     },
     "execution_count": 89,
     "metadata": {},
     "output_type": "execute_result"
    }
   ],
   "source": [
    "df_mesh.dtypes"
   ]
  },
  {
   "cell_type": "code",
   "execution_count": 90,
   "metadata": {},
   "outputs": [
    {
     "data": {
      "text/html": [
       "<div>\n",
       "<style scoped>\n",
       "    .dataframe tbody tr th:only-of-type {\n",
       "        vertical-align: middle;\n",
       "    }\n",
       "\n",
       "    .dataframe tbody tr th {\n",
       "        vertical-align: top;\n",
       "    }\n",
       "\n",
       "    .dataframe thead th {\n",
       "        text-align: right;\n",
       "    }\n",
       "</style>\n",
       "<table border=\"1\" class=\"dataframe\">\n",
       "  <thead>\n",
       "    <tr style=\"text-align: right;\">\n",
       "      <th></th>\n",
       "      <th>img_id</th>\n",
       "      <th>heading</th>\n",
       "      <th>crop_num</th>\n",
       "      <th>jpg_name</th>\n",
       "      <th>present_ramp</th>\n",
       "      <th>missing_ramp</th>\n",
       "      <th>total_count</th>\n",
       "      <th>includes_both</th>\n",
       "      <th>ground_truth</th>\n",
       "    </tr>\n",
       "  </thead>\n",
       "  <tbody>\n",
       "    <tr>\n",
       "      <th>0</th>\n",
       "      <td>10007</td>\n",
       "      <td>225</td>\n",
       "      <td>C</td>\n",
       "      <td>10007_225_C.jpg</td>\n",
       "      <td>1.0</td>\n",
       "      <td>0.0</td>\n",
       "      <td>1.0</td>\n",
       "      <td>False</td>\n",
       "      <td>present</td>\n",
       "    </tr>\n",
       "    <tr>\n",
       "      <th>1</th>\n",
       "      <td>10007</td>\n",
       "      <td>315</td>\n",
       "      <td>C</td>\n",
       "      <td>10007_315_C.jpg</td>\n",
       "      <td>1.0</td>\n",
       "      <td>0.0</td>\n",
       "      <td>1.0</td>\n",
       "      <td>False</td>\n",
       "      <td>present</td>\n",
       "    </tr>\n",
       "    <tr>\n",
       "      <th>2</th>\n",
       "      <td>10007</td>\n",
       "      <td>45</td>\n",
       "      <td>C</td>\n",
       "      <td>10007_45_C.jpg</td>\n",
       "      <td>0.0</td>\n",
       "      <td>0.0</td>\n",
       "      <td>0.0</td>\n",
       "      <td>False</td>\n",
       "      <td>1_null</td>\n",
       "    </tr>\n",
       "    <tr>\n",
       "      <th>3</th>\n",
       "      <td>10007</td>\n",
       "      <td>135</td>\n",
       "      <td>C</td>\n",
       "      <td>10007_135_C.jpg</td>\n",
       "      <td>0.0</td>\n",
       "      <td>0.0</td>\n",
       "      <td>0.0</td>\n",
       "      <td>False</td>\n",
       "      <td>1_null</td>\n",
       "    </tr>\n",
       "    <tr>\n",
       "      <th>4</th>\n",
       "      <td>10013</td>\n",
       "      <td>225</td>\n",
       "      <td>C</td>\n",
       "      <td>10013_225_C.jpg</td>\n",
       "      <td>0.0</td>\n",
       "      <td>0.0</td>\n",
       "      <td>0.0</td>\n",
       "      <td>False</td>\n",
       "      <td>1_null</td>\n",
       "    </tr>\n",
       "  </tbody>\n",
       "</table>\n",
       "</div>"
      ],
      "text/plain": [
       "   img_id heading crop_num         jpg_name  present_ramp  missing_ramp  \\\n",
       "0  10007   225     C        10007_225_C.jpg  1.0           0.0            \n",
       "1  10007   315     C        10007_315_C.jpg  1.0           0.0            \n",
       "2  10007   45      C        10007_45_C.jpg   0.0           0.0            \n",
       "3  10007   135     C        10007_135_C.jpg  0.0           0.0            \n",
       "4  10013   225     C        10013_225_C.jpg  0.0           0.0            \n",
       "\n",
       "   total_count  includes_both ground_truth  \n",
       "0  1.0          False          present      \n",
       "1  1.0          False          present      \n",
       "2  0.0          False          1_null       \n",
       "3  0.0          False          1_null       \n",
       "4  0.0          False          1_null       "
      ]
     },
     "execution_count": 90,
     "metadata": {},
     "output_type": "execute_result"
    }
   ],
   "source": [
    "on_cols = list(df_mesh.columns)\n",
    "df_all_crops = df_mesh.merge(df_crops_roi_group, how = 'left', left_on = on_cols, right_on = on_cols)\n",
    "# Fill NAs\n",
    "counts_cols = ['present_ramp', 'missing_ramp', 'total_count']\n",
    "df_all_crops[counts_cols] = df_all_crops[counts_cols].fillna(0)\n",
    "df_all_crops['includes_both'] = df_all_crops['includes_both'].fillna(False)\n",
    "df_all_crops['ground_truth'] = df_all_crops['ground_truth'].fillna('1_null')\n",
    "df_all_crops.head()"
   ]
  },
  {
   "cell_type": "code",
   "execution_count": 91,
   "metadata": {},
   "outputs": [
    {
     "data": {
      "text/plain": [
       "1_null              9452\n",
       "present             2377\n",
       "multiple_present    176 \n",
       "only_missing        139 \n",
       "Name: ground_truth, dtype: int64"
      ]
     },
     "execution_count": 91,
     "metadata": {},
     "output_type": "execute_result"
    }
   ],
   "source": [
    "df_all_crops['ground_truth'].value_counts()"
   ]
  },
  {
   "cell_type": "markdown",
   "metadata": {},
   "source": [
    "## Img_id class split"
   ]
  },
  {
   "cell_type": "code",
   "execution_count": 92,
   "metadata": {},
   "outputs": [
    {
     "name": "stdout",
     "output_type": "stream",
     "text": [
      "(480, 2)\n"
     ]
    },
    {
     "data": {
      "text/html": [
       "<div>\n",
       "<style scoped>\n",
       "    .dataframe tbody tr th:only-of-type {\n",
       "        vertical-align: middle;\n",
       "    }\n",
       "\n",
       "    .dataframe tbody tr th {\n",
       "        vertical-align: top;\n",
       "    }\n",
       "\n",
       "    .dataframe thead th {\n",
       "        text-align: right;\n",
       "    }\n",
       "</style>\n",
       "<table border=\"1\" class=\"dataframe\">\n",
       "  <thead>\n",
       "    <tr style=\"text-align: right;\">\n",
       "      <th></th>\n",
       "      <th>img_id</th>\n",
       "      <th>train/val/test</th>\n",
       "    </tr>\n",
       "  </thead>\n",
       "  <tbody>\n",
       "    <tr>\n",
       "      <th>0</th>\n",
       "      <td>8475</td>\n",
       "      <td>validation</td>\n",
       "    </tr>\n",
       "    <tr>\n",
       "      <th>1</th>\n",
       "      <td>8503</td>\n",
       "      <td>test</td>\n",
       "    </tr>\n",
       "    <tr>\n",
       "      <th>2</th>\n",
       "      <td>8540</td>\n",
       "      <td>test</td>\n",
       "    </tr>\n",
       "    <tr>\n",
       "      <th>3</th>\n",
       "      <td>8650</td>\n",
       "      <td>validation</td>\n",
       "    </tr>\n",
       "    <tr>\n",
       "      <th>4</th>\n",
       "      <td>8780</td>\n",
       "      <td>validation</td>\n",
       "    </tr>\n",
       "  </tbody>\n",
       "</table>\n",
       "</div>"
      ],
      "text/plain": [
       "   img_id train/val/test\n",
       "0  8475    validation   \n",
       "1  8503    test         \n",
       "2  8540    test         \n",
       "3  8650    validation   \n",
       "4  8780    validation   "
      ]
     },
     "execution_count": 92,
     "metadata": {},
     "output_type": "execute_result"
    }
   ],
   "source": [
    "# Get class list\n",
    "df_split = pd.read_csv(os.path.join(SPLIT_PATH, 'train-validation-test-imgid-list.csv'))\n",
    "df_split = df_split[['img_id', 'train/val/test']]\n",
    "print(df_split.shape)\n",
    "\n",
    "df_split.head()"
   ]
  },
  {
   "cell_type": "code",
   "execution_count": 93,
   "metadata": {},
   "outputs": [
    {
     "data": {
      "text/plain": [
       "train         356\n",
       "validation    62 \n",
       "test          62 \n",
       "Name: train/val/test, dtype: int64"
      ]
     },
     "execution_count": 93,
     "metadata": {},
     "output_type": "execute_result"
    }
   ],
   "source": [
    "df_split['train/val/test'].value_counts()"
   ]
  },
  {
   "cell_type": "markdown",
   "metadata": {},
   "source": [
    "# Merge Ground Truth with train/val/test"
   ]
  },
  {
   "cell_type": "code",
   "execution_count": 94,
   "metadata": {},
   "outputs": [
    {
     "data": {
      "text/html": [
       "<div>\n",
       "<style scoped>\n",
       "    .dataframe tbody tr th:only-of-type {\n",
       "        vertical-align: middle;\n",
       "    }\n",
       "\n",
       "    .dataframe tbody tr th {\n",
       "        vertical-align: top;\n",
       "    }\n",
       "\n",
       "    .dataframe thead th {\n",
       "        text-align: right;\n",
       "    }\n",
       "</style>\n",
       "<table border=\"1\" class=\"dataframe\">\n",
       "  <thead>\n",
       "    <tr style=\"text-align: right;\">\n",
       "      <th></th>\n",
       "      <th>img_id</th>\n",
       "      <th>heading</th>\n",
       "      <th>crop_num</th>\n",
       "      <th>jpg_name</th>\n",
       "      <th>present_ramp</th>\n",
       "      <th>missing_ramp</th>\n",
       "      <th>total_count</th>\n",
       "      <th>includes_both</th>\n",
       "      <th>ground_truth</th>\n",
       "      <th>train/val/test</th>\n",
       "    </tr>\n",
       "  </thead>\n",
       "  <tbody>\n",
       "    <tr>\n",
       "      <th>0</th>\n",
       "      <td>10007</td>\n",
       "      <td>225</td>\n",
       "      <td>C</td>\n",
       "      <td>10007_225_C.jpg</td>\n",
       "      <td>1.0</td>\n",
       "      <td>0.0</td>\n",
       "      <td>1.0</td>\n",
       "      <td>False</td>\n",
       "      <td>present</td>\n",
       "      <td>train</td>\n",
       "    </tr>\n",
       "    <tr>\n",
       "      <th>1</th>\n",
       "      <td>10007</td>\n",
       "      <td>315</td>\n",
       "      <td>C</td>\n",
       "      <td>10007_315_C.jpg</td>\n",
       "      <td>1.0</td>\n",
       "      <td>0.0</td>\n",
       "      <td>1.0</td>\n",
       "      <td>False</td>\n",
       "      <td>present</td>\n",
       "      <td>train</td>\n",
       "    </tr>\n",
       "    <tr>\n",
       "      <th>2</th>\n",
       "      <td>10007</td>\n",
       "      <td>45</td>\n",
       "      <td>C</td>\n",
       "      <td>10007_45_C.jpg</td>\n",
       "      <td>0.0</td>\n",
       "      <td>0.0</td>\n",
       "      <td>0.0</td>\n",
       "      <td>False</td>\n",
       "      <td>1_null</td>\n",
       "      <td>train</td>\n",
       "    </tr>\n",
       "    <tr>\n",
       "      <th>3</th>\n",
       "      <td>10007</td>\n",
       "      <td>135</td>\n",
       "      <td>C</td>\n",
       "      <td>10007_135_C.jpg</td>\n",
       "      <td>0.0</td>\n",
       "      <td>0.0</td>\n",
       "      <td>0.0</td>\n",
       "      <td>False</td>\n",
       "      <td>1_null</td>\n",
       "      <td>train</td>\n",
       "    </tr>\n",
       "    <tr>\n",
       "      <th>4</th>\n",
       "      <td>10013</td>\n",
       "      <td>225</td>\n",
       "      <td>C</td>\n",
       "      <td>10013_225_C.jpg</td>\n",
       "      <td>0.0</td>\n",
       "      <td>0.0</td>\n",
       "      <td>0.0</td>\n",
       "      <td>False</td>\n",
       "      <td>1_null</td>\n",
       "      <td>validation</td>\n",
       "    </tr>\n",
       "  </tbody>\n",
       "</table>\n",
       "</div>"
      ],
      "text/plain": [
       "   img_id heading crop_num         jpg_name  present_ramp  missing_ramp  \\\n",
       "0  10007   225     C        10007_225_C.jpg  1.0           0.0            \n",
       "1  10007   315     C        10007_315_C.jpg  1.0           0.0            \n",
       "2  10007   45      C        10007_45_C.jpg   0.0           0.0            \n",
       "3  10007   135     C        10007_135_C.jpg  0.0           0.0            \n",
       "4  10013   225     C        10013_225_C.jpg  0.0           0.0            \n",
       "\n",
       "   total_count  includes_both ground_truth train/val/test  \n",
       "0  1.0          False          present      train          \n",
       "1  1.0          False          present      train          \n",
       "2  0.0          False          1_null       train          \n",
       "3  0.0          False          1_null       train          \n",
       "4  0.0          False          1_null       validation     "
      ]
     },
     "execution_count": 94,
     "metadata": {},
     "output_type": "execute_result"
    }
   ],
   "source": [
    "df_merge = df_all_crops.merge(df_split, how = 'left', left_on = 'img_id', right_on = 'img_id')\n",
    "df_merge.head()"
   ]
  },
  {
   "cell_type": "code",
   "execution_count": 95,
   "metadata": {},
   "outputs": [
    {
     "data": {
      "text/plain": [
       "1_null              9452\n",
       "present             2377\n",
       "multiple_present    176 \n",
       "only_missing        139 \n",
       "Name: ground_truth, dtype: int64"
      ]
     },
     "execution_count": 95,
     "metadata": {},
     "output_type": "execute_result"
    }
   ],
   "source": [
    "df_merge['ground_truth'].value_counts()"
   ]
  },
  {
   "cell_type": "code",
   "execution_count": 96,
   "metadata": {},
   "outputs": [
    {
     "data": {
      "text/plain": [
       "train/val/test  ground_truth    \n",
       "test            1_null              1151\n",
       "                multiple_present    21  \n",
       "                only_missing        29  \n",
       "                present             287 \n",
       "train           1_null              6621\n",
       "                multiple_present    136 \n",
       "                only_missing        75  \n",
       "                present             1712\n",
       "validation      1_null              1152\n",
       "                multiple_present    14  \n",
       "                only_missing        25  \n",
       "                present             297 \n",
       "Name: jpg_name, dtype: int64"
      ]
     },
     "execution_count": 96,
     "metadata": {},
     "output_type": "execute_result"
    }
   ],
   "source": [
    "df_merge.groupby(['train/val/test', 'ground_truth'])['jpg_name'].count()"
   ]
  },
  {
   "cell_type": "code",
   "execution_count": 97,
   "metadata": {},
   "outputs": [
    {
     "data": {
      "text/plain": [
       "'/home/ec2-user/SageMaker/classify-streetview/mini-crops'"
      ]
     },
     "execution_count": 97,
     "metadata": {},
     "output_type": "execute_result"
    }
   ],
   "source": [
    "os.getcwd()"
   ]
  },
  {
   "cell_type": "code",
   "execution_count": 98,
   "metadata": {},
   "outputs": [],
   "source": [
    "df_merge.to_csv('imgid_groundtruth_trainvaltest.csv', index = False)"
   ]
  },
  {
   "cell_type": "code",
   "execution_count": null,
   "metadata": {},
   "outputs": [],
   "source": []
  }
 ],
 "metadata": {
  "kernelspec": {
   "display_name": "conda_python3",
   "language": "python",
   "name": "conda_python3"
  },
  "language_info": {
   "codemirror_mode": {
    "name": "ipython",
    "version": 3
   },
   "file_extension": ".py",
   "mimetype": "text/x-python",
   "name": "python",
   "nbconvert_exporter": "python",
   "pygments_lexer": "ipython3",
   "version": "3.6.5"
  }
 },
 "nbformat": 4,
 "nbformat_minor": 4
}
