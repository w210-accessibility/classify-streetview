{
 "cells": [
  {
   "cell_type": "markdown",
   "metadata": {},
   "source": [
    "# Sample for a relatively balanced Data Set\n",
    "\n",
    "* Keep all Test Images\n",
    "* About 35 per class for validation\n",
    "* About 100 per class for training"
   ]
  },
  {
   "cell_type": "code",
   "execution_count": 35,
   "metadata": {},
   "outputs": [],
   "source": [
    "import pandas as pd\n",
    "import numpy as np\n",
    "import os\n",
    "import boto3\n",
    "import s3fs # for reading from S3FileSystem\n",
    "import json # for working with JSON files \n",
    "from datetime import datetime\n",
    "\n",
    "import matplotlib.pyplot as plt\n",
    "\n",
    "\n",
    "pd.set_option('max_colwidth', -1)"
   ]
  },
  {
   "cell_type": "markdown",
   "metadata": {},
   "source": [
    "# Load Image CSV Info "
   ]
  },
  {
   "cell_type": "code",
   "execution_count": 4,
   "metadata": {},
   "outputs": [
    {
     "data": {
      "text/html": [
       "<div>\n",
       "<style scoped>\n",
       "    .dataframe tbody tr th:only-of-type {\n",
       "        vertical-align: middle;\n",
       "    }\n",
       "\n",
       "    .dataframe tbody tr th {\n",
       "        vertical-align: top;\n",
       "    }\n",
       "\n",
       "    .dataframe thead th {\n",
       "        text-align: right;\n",
       "    }\n",
       "</style>\n",
       "<table border=\"1\" class=\"dataframe\">\n",
       "  <thead>\n",
       "    <tr style=\"text-align: right;\">\n",
       "      <th></th>\n",
       "      <th>img_id</th>\n",
       "      <th>heading</th>\n",
       "      <th>crop_num</th>\n",
       "      <th>jpg_name</th>\n",
       "      <th>present_ramp</th>\n",
       "      <th>missing_ramp</th>\n",
       "      <th>total_count</th>\n",
       "      <th>includes_both</th>\n",
       "      <th>ground_truth</th>\n",
       "      <th>train/val/test</th>\n",
       "    </tr>\n",
       "  </thead>\n",
       "  <tbody>\n",
       "    <tr>\n",
       "      <th>0</th>\n",
       "      <td>10007</td>\n",
       "      <td>225</td>\n",
       "      <td>C</td>\n",
       "      <td>10007_225_C.jpg</td>\n",
       "      <td>1.0</td>\n",
       "      <td>0.0</td>\n",
       "      <td>1.0</td>\n",
       "      <td>False</td>\n",
       "      <td>present</td>\n",
       "      <td>train</td>\n",
       "    </tr>\n",
       "    <tr>\n",
       "      <th>1</th>\n",
       "      <td>10007</td>\n",
       "      <td>315</td>\n",
       "      <td>C</td>\n",
       "      <td>10007_315_C.jpg</td>\n",
       "      <td>1.0</td>\n",
       "      <td>0.0</td>\n",
       "      <td>1.0</td>\n",
       "      <td>False</td>\n",
       "      <td>present</td>\n",
       "      <td>train</td>\n",
       "    </tr>\n",
       "    <tr>\n",
       "      <th>2</th>\n",
       "      <td>10007</td>\n",
       "      <td>45</td>\n",
       "      <td>C</td>\n",
       "      <td>10007_45_C.jpg</td>\n",
       "      <td>0.0</td>\n",
       "      <td>0.0</td>\n",
       "      <td>0.0</td>\n",
       "      <td>False</td>\n",
       "      <td>1_null</td>\n",
       "      <td>train</td>\n",
       "    </tr>\n",
       "    <tr>\n",
       "      <th>3</th>\n",
       "      <td>10007</td>\n",
       "      <td>135</td>\n",
       "      <td>C</td>\n",
       "      <td>10007_135_C.jpg</td>\n",
       "      <td>0.0</td>\n",
       "      <td>0.0</td>\n",
       "      <td>0.0</td>\n",
       "      <td>False</td>\n",
       "      <td>1_null</td>\n",
       "      <td>train</td>\n",
       "    </tr>\n",
       "    <tr>\n",
       "      <th>4</th>\n",
       "      <td>10013</td>\n",
       "      <td>225</td>\n",
       "      <td>C</td>\n",
       "      <td>10013_225_C.jpg</td>\n",
       "      <td>0.0</td>\n",
       "      <td>0.0</td>\n",
       "      <td>0.0</td>\n",
       "      <td>False</td>\n",
       "      <td>1_null</td>\n",
       "      <td>validation</td>\n",
       "    </tr>\n",
       "  </tbody>\n",
       "</table>\n",
       "</div>"
      ],
      "text/plain": [
       "   img_id  heading crop_num         jpg_name  present_ramp  missing_ramp  \\\n",
       "0  10007   225      C        10007_225_C.jpg  1.0           0.0            \n",
       "1  10007   315      C        10007_315_C.jpg  1.0           0.0            \n",
       "2  10007   45       C        10007_45_C.jpg   0.0           0.0            \n",
       "3  10007   135      C        10007_135_C.jpg  0.0           0.0            \n",
       "4  10013   225      C        10013_225_C.jpg  0.0           0.0            \n",
       "\n",
       "   total_count  includes_both ground_truth train/val/test  \n",
       "0  1.0          False          present      train          \n",
       "1  1.0          False          present      train          \n",
       "2  0.0          False          1_null       train          \n",
       "3  0.0          False          1_null       train          \n",
       "4  0.0          False          1_null       validation     "
      ]
     },
     "execution_count": 4,
     "metadata": {},
     "output_type": "execute_result"
    }
   ],
   "source": [
    "df_all = pd.read_csv('imgid_groundtruth_trainvaltest.csv')\n",
    "df_all.head()"
   ]
  },
  {
   "cell_type": "code",
   "execution_count": 23,
   "metadata": {},
   "outputs": [],
   "source": [
    "ground_truth_dict = {'0_missing' : ['only_missing'],\n",
    "    '1_null' : ['1_null'],\n",
    "    '2_present' : ['present', 'multiple_present']  \n",
    "}\n",
    "\n",
    "def sample_rows(df_split_set, num_examples, ground_truth_dict):\n",
    "    dfs_list = []\n",
    "    for key, gt_list in ground_truth_dict.items():\n",
    "        print(f'{key} -> {gt_list}')\n",
    "        df_part = df_split_set.loc[df_split_set['ground_truth'].isin(gt_list)]\n",
    "        if num_examples > df_part.shape[0]:\n",
    "            df_keep_part = df_part.copy()\n",
    "        else:\n",
    "            df_keep_part = df_part.sample(n = num_examples).copy()\n",
    "\n",
    "        df_keep_part['folder_label'] = key\n",
    "        dfs_list.append(df_keep_part)\n",
    "    df_sample = pd.concat(dfs_list)\n",
    "    return df_sample"
   ]
  },
  {
   "cell_type": "markdown",
   "metadata": {},
   "source": [
    "# List for Training"
   ]
  },
  {
   "cell_type": "code",
   "execution_count": 24,
   "metadata": {},
   "outputs": [
    {
     "name": "stdout",
     "output_type": "stream",
     "text": [
      "0_missing -> ['only_missing']\n",
      "1_null -> ['1_null']\n",
      "2_present -> ['present', 'multiple_present']\n"
     ]
    },
    {
     "data": {
      "text/plain": [
       "2_present    100\n",
       "1_null       100\n",
       "0_missing    75 \n",
       "Name: folder_label, dtype: int64"
      ]
     },
     "execution_count": 24,
     "metadata": {},
     "output_type": "execute_result"
    }
   ],
   "source": [
    "df_train = df_all.loc[df_all['train/val/test'] == 'train']\n",
    "df_train_sample = sample_rows(df_train, 100, ground_truth_dict)\n",
    "df_train_sample['folder_label'].value_counts()"
   ]
  },
  {
   "cell_type": "code",
   "execution_count": 25,
   "metadata": {},
   "outputs": [
    {
     "name": "stdout",
     "output_type": "stream",
     "text": [
      "0_missing -> ['only_missing']\n",
      "1_null -> ['1_null']\n",
      "2_present -> ['present', 'multiple_present']\n"
     ]
    },
    {
     "data": {
      "text/plain": [
       "2_present    30\n",
       "1_null       30\n",
       "0_missing    25\n",
       "Name: folder_label, dtype: int64"
      ]
     },
     "execution_count": 25,
     "metadata": {},
     "output_type": "execute_result"
    }
   ],
   "source": [
    "df_val = df_all.loc[df_all['train/val/test'] == 'validation']\n",
    "df_val_sample = sample_rows(df_val, 30, ground_truth_dict)\n",
    "df_val_sample['folder_label'].value_counts()"
   ]
  },
  {
   "cell_type": "code",
   "execution_count": 26,
   "metadata": {},
   "outputs": [
    {
     "name": "stdout",
     "output_type": "stream",
     "text": [
      "0_missing -> ['only_missing']\n",
      "1_null -> ['1_null']\n",
      "2_present -> ['present', 'multiple_present']\n"
     ]
    },
    {
     "data": {
      "text/plain": [
       "1_null       500\n",
       "2_present    308\n",
       "0_missing    29 \n",
       "Name: folder_label, dtype: int64"
      ]
     },
     "execution_count": 26,
     "metadata": {},
     "output_type": "execute_result"
    }
   ],
   "source": [
    "df_test = df_all.loc[df_all['train/val/test'] == 'test']\n",
    "df_test_sample = sample_rows(df_test, 500, ground_truth_dict)\n",
    "df_test_sample['folder_label'].value_counts()"
   ]
  },
  {
   "cell_type": "code",
   "execution_count": 29,
   "metadata": {},
   "outputs": [
    {
     "name": "stdout",
     "output_type": "stream",
     "text": [
      "(1197, 11)\n"
     ]
    },
    {
     "data": {
      "text/html": [
       "<div>\n",
       "<style scoped>\n",
       "    .dataframe tbody tr th:only-of-type {\n",
       "        vertical-align: middle;\n",
       "    }\n",
       "\n",
       "    .dataframe tbody tr th {\n",
       "        vertical-align: top;\n",
       "    }\n",
       "\n",
       "    .dataframe thead th {\n",
       "        text-align: right;\n",
       "    }\n",
       "</style>\n",
       "<table border=\"1\" class=\"dataframe\">\n",
       "  <thead>\n",
       "    <tr style=\"text-align: right;\">\n",
       "      <th></th>\n",
       "      <th>img_id</th>\n",
       "      <th>heading</th>\n",
       "      <th>crop_num</th>\n",
       "      <th>jpg_name</th>\n",
       "      <th>present_ramp</th>\n",
       "      <th>missing_ramp</th>\n",
       "      <th>total_count</th>\n",
       "      <th>includes_both</th>\n",
       "      <th>ground_truth</th>\n",
       "      <th>train/val/test</th>\n",
       "      <th>folder_label</th>\n",
       "    </tr>\n",
       "  </thead>\n",
       "  <tbody>\n",
       "    <tr>\n",
       "      <th>209</th>\n",
       "      <td>12578</td>\n",
       "      <td>315</td>\n",
       "      <td>C</td>\n",
       "      <td>12578_315_C.jpg</td>\n",
       "      <td>0.0</td>\n",
       "      <td>1.0</td>\n",
       "      <td>1.0</td>\n",
       "      <td>False</td>\n",
       "      <td>only_missing</td>\n",
       "      <td>train</td>\n",
       "      <td>0_missing</td>\n",
       "    </tr>\n",
       "    <tr>\n",
       "      <th>211</th>\n",
       "      <td>12578</td>\n",
       "      <td>135</td>\n",
       "      <td>C</td>\n",
       "      <td>12578_135_C.jpg</td>\n",
       "      <td>0.0</td>\n",
       "      <td>1.0</td>\n",
       "      <td>1.0</td>\n",
       "      <td>False</td>\n",
       "      <td>only_missing</td>\n",
       "      <td>train</td>\n",
       "      <td>0_missing</td>\n",
       "    </tr>\n",
       "    <tr>\n",
       "      <th>479</th>\n",
       "      <td>16258</td>\n",
       "      <td>135</td>\n",
       "      <td>C</td>\n",
       "      <td>16258_135_C.jpg</td>\n",
       "      <td>0.0</td>\n",
       "      <td>1.0</td>\n",
       "      <td>1.0</td>\n",
       "      <td>False</td>\n",
       "      <td>only_missing</td>\n",
       "      <td>train</td>\n",
       "      <td>0_missing</td>\n",
       "    </tr>\n",
       "    <tr>\n",
       "      <th>503</th>\n",
       "      <td>1663</td>\n",
       "      <td>135</td>\n",
       "      <td>C</td>\n",
       "      <td>1663_135_C.jpg</td>\n",
       "      <td>0.0</td>\n",
       "      <td>1.0</td>\n",
       "      <td>1.0</td>\n",
       "      <td>False</td>\n",
       "      <td>only_missing</td>\n",
       "      <td>train</td>\n",
       "      <td>0_missing</td>\n",
       "    </tr>\n",
       "    <tr>\n",
       "      <th>808</th>\n",
       "      <td>18158</td>\n",
       "      <td>225</td>\n",
       "      <td>C</td>\n",
       "      <td>18158_225_C.jpg</td>\n",
       "      <td>0.0</td>\n",
       "      <td>1.0</td>\n",
       "      <td>1.0</td>\n",
       "      <td>False</td>\n",
       "      <td>only_missing</td>\n",
       "      <td>train</td>\n",
       "      <td>0_missing</td>\n",
       "    </tr>\n",
       "  </tbody>\n",
       "</table>\n",
       "</div>"
      ],
      "text/plain": [
       "     img_id  heading crop_num         jpg_name  present_ramp  missing_ramp  \\\n",
       "209  12578   315      C        12578_315_C.jpg  0.0           1.0            \n",
       "211  12578   135      C        12578_135_C.jpg  0.0           1.0            \n",
       "479  16258   135      C        16258_135_C.jpg  0.0           1.0            \n",
       "503  1663    135      C        1663_135_C.jpg   0.0           1.0            \n",
       "808  18158   225      C        18158_225_C.jpg  0.0           1.0            \n",
       "\n",
       "     total_count  includes_both  ground_truth train/val/test folder_label  \n",
       "209  1.0          False          only_missing  train          0_missing    \n",
       "211  1.0          False          only_missing  train          0_missing    \n",
       "479  1.0          False          only_missing  train          0_missing    \n",
       "503  1.0          False          only_missing  train          0_missing    \n",
       "808  1.0          False          only_missing  train          0_missing    "
      ]
     },
     "execution_count": 29,
     "metadata": {},
     "output_type": "execute_result"
    }
   ],
   "source": [
    "df_transfer = pd.concat([df_train_sample, df_val_sample, df_test_sample])\n",
    "print(df_transfer.shape)\n",
    "df_transfer.head()"
   ]
  },
  {
   "cell_type": "code",
   "execution_count": 30,
   "metadata": {},
   "outputs": [],
   "source": [
    "df_transfer.to_csv('balanced-split-img-details.csv', index = False)"
   ]
  },
  {
   "cell_type": "markdown",
   "metadata": {},
   "source": [
    "# Specify the destination Path\n",
    "* jpg_name\n",
    "* train/val/test\n",
    "* folder_label"
   ]
  },
  {
   "cell_type": "code",
   "execution_count": 42,
   "metadata": {},
   "outputs": [
    {
     "data": {
      "text/html": [
       "<div>\n",
       "<style scoped>\n",
       "    .dataframe tbody tr th:only-of-type {\n",
       "        vertical-align: middle;\n",
       "    }\n",
       "\n",
       "    .dataframe tbody tr th {\n",
       "        vertical-align: top;\n",
       "    }\n",
       "\n",
       "    .dataframe thead th {\n",
       "        text-align: right;\n",
       "    }\n",
       "</style>\n",
       "<table border=\"1\" class=\"dataframe\">\n",
       "  <thead>\n",
       "    <tr style=\"text-align: right;\">\n",
       "      <th></th>\n",
       "      <th>jpg_name</th>\n",
       "      <th>train/val/test</th>\n",
       "      <th>folder_label</th>\n",
       "      <th>original_image_path</th>\n",
       "      <th>new_image_path</th>\n",
       "    </tr>\n",
       "  </thead>\n",
       "  <tbody>\n",
       "    <tr>\n",
       "      <th>209</th>\n",
       "      <td>12578_315_C.jpg</td>\n",
       "      <td>train</td>\n",
       "      <td>0_missing</td>\n",
       "      <td>mini-crops/12578_315_C.jpg</td>\n",
       "      <td>mini-crops-labeled/balanced/train/0_missing/12578_315_C.jpg</td>\n",
       "    </tr>\n",
       "    <tr>\n",
       "      <th>211</th>\n",
       "      <td>12578_135_C.jpg</td>\n",
       "      <td>train</td>\n",
       "      <td>0_missing</td>\n",
       "      <td>mini-crops/12578_135_C.jpg</td>\n",
       "      <td>mini-crops-labeled/balanced/train/0_missing/12578_135_C.jpg</td>\n",
       "    </tr>\n",
       "    <tr>\n",
       "      <th>479</th>\n",
       "      <td>16258_135_C.jpg</td>\n",
       "      <td>train</td>\n",
       "      <td>0_missing</td>\n",
       "      <td>mini-crops/16258_135_C.jpg</td>\n",
       "      <td>mini-crops-labeled/balanced/train/0_missing/16258_135_C.jpg</td>\n",
       "    </tr>\n",
       "    <tr>\n",
       "      <th>503</th>\n",
       "      <td>1663_135_C.jpg</td>\n",
       "      <td>train</td>\n",
       "      <td>0_missing</td>\n",
       "      <td>mini-crops/1663_135_C.jpg</td>\n",
       "      <td>mini-crops-labeled/balanced/train/0_missing/1663_135_C.jpg</td>\n",
       "    </tr>\n",
       "    <tr>\n",
       "      <th>808</th>\n",
       "      <td>18158_225_C.jpg</td>\n",
       "      <td>train</td>\n",
       "      <td>0_missing</td>\n",
       "      <td>mini-crops/18158_225_C.jpg</td>\n",
       "      <td>mini-crops-labeled/balanced/train/0_missing/18158_225_C.jpg</td>\n",
       "    </tr>\n",
       "  </tbody>\n",
       "</table>\n",
       "</div>"
      ],
      "text/plain": [
       "            jpg_name train/val/test folder_label         original_image_path  \\\n",
       "209  12578_315_C.jpg  train          0_missing    mini-crops/12578_315_C.jpg   \n",
       "211  12578_135_C.jpg  train          0_missing    mini-crops/12578_135_C.jpg   \n",
       "479  16258_135_C.jpg  train          0_missing    mini-crops/16258_135_C.jpg   \n",
       "503  1663_135_C.jpg   train          0_missing    mini-crops/1663_135_C.jpg    \n",
       "808  18158_225_C.jpg  train          0_missing    mini-crops/18158_225_C.jpg   \n",
       "\n",
       "                                                  new_image_path  \n",
       "209  mini-crops-labeled/balanced/train/0_missing/12578_315_C.jpg  \n",
       "211  mini-crops-labeled/balanced/train/0_missing/12578_135_C.jpg  \n",
       "479  mini-crops-labeled/balanced/train/0_missing/16258_135_C.jpg  \n",
       "503  mini-crops-labeled/balanced/train/0_missing/1663_135_C.jpg   \n",
       "808  mini-crops-labeled/balanced/train/0_missing/18158_225_C.jpg  "
      ]
     },
     "execution_count": 42,
     "metadata": {},
     "output_type": "execute_result"
    }
   ],
   "source": [
    "df_transfer['original_image_path'] = 'mini-crops/' + df_transfer['jpg_name']\n",
    "df_transfer['new_image_path'] = 'mini-crops-labeled/balanced/' + df_transfer['train/val/test'] + '/' + df_transfer['folder_label'] + '/' + df_transfer['jpg_name']\n",
    "show_transfer_cols = ['jpg_name', 'train/val/test', 'folder_label', 'original_image_path', 'new_image_path']\n",
    "df_transfer[show_transfer_cols].head()"
   ]
  },
  {
   "cell_type": "code",
   "execution_count": 43,
   "metadata": {},
   "outputs": [
    {
     "data": {
      "text/plain": [
       "(1197, 13)"
      ]
     },
     "execution_count": 43,
     "metadata": {},
     "output_type": "execute_result"
    }
   ],
   "source": [
    "df_transfer.shape"
   ]
  },
  {
   "cell_type": "code",
   "execution_count": null,
   "metadata": {},
   "outputs": [
    {
     "name": "stdout",
     "output_type": "stream",
     "text": [
      "2020-04-06 00:31:47.457935\n",
      "Could not move mini-crops/1205_225_F.jpg at 2020-04-06 00:31:54.759166\n",
      "Could not move mini-crops/945_45_B.jpg at 2020-04-06 00:31:54.898525\n",
      "Could not move mini-crops/15629_45_F.jpg at 2020-04-06 00:31:55.665150\n",
      "Could not move mini-crops/15976_315_F.jpg at 2020-04-06 00:31:56.185182\n",
      "Could not move mini-crops/15629_225_F.jpg at 2020-04-06 00:32:02.610340\n",
      "Could not move mini-crops/680_135_B.jpg at 2020-04-06 00:32:03.263815\n",
      "Could not move mini-crops/15629_315_D.jpg at 2020-04-06 00:32:06.206032\n",
      "Through 8000 images at 2020-04-06 00:32:09.000005\n",
      "Through 2000 images at 2020-04-06 00:32:36.985590\n"
     ]
    }
   ],
   "source": [
    "# Move files from outer folder to gsv folder\n",
    "bucket_name = 'gsv-crops2'\n",
    "s3 = boto3.resource('s3')\n",
    "\n",
    "start = datetime.now()\n",
    "print(start)\n",
    "cannot_move_paths = []\n",
    "for index, row in df_transfer.iterrows():\n",
    "    if index % 500 == 0:\n",
    "        print(f'Through {index} images at {datetime.now()}')\n",
    "    # Copy to gsv folder\n",
    "    old_name = str(row['original_image_path'])\n",
    "    new_name = str(row['new_image_path'])\n",
    "    copy_source = {\n",
    "        'Bucket': bucket_name,\n",
    "        'Key': old_name\n",
    "    }\n",
    "    try:\n",
    "        s3.meta.client.copy(copy_source, bucket_name, new_name)\n",
    "    except:\n",
    "        print(f'Could not move {old_name} at {datetime.now()}')\n",
    "        cannot_move_paths.append(old_name)\n",
    "end = datetime.now()\n",
    "print(end)"
   ]
  },
  {
   "cell_type": "code",
   "execution_count": null,
   "metadata": {},
   "outputs": [],
   "source": [
    "cannot_move_paths"
   ]
  },
  {
   "cell_type": "code",
   "execution_count": null,
   "metadata": {},
   "outputs": [],
   "source": [
    "df_cannot_move = df_transfer.loc[df_transfer['original_image_path'].isin(cannot_move_paths)]\n",
    "df_cannot_move"
   ]
  },
  {
   "cell_type": "code",
   "execution_count": null,
   "metadata": {},
   "outputs": [],
   "source": [
    "df_can_move = df_transfer.loc[~df_transfer['original_image_path'].isin(cannot_move_paths)]\n",
    "df_can_move.to_csv('balanced-crops-successful-move.csv', index = False)"
   ]
  },
  {
   "cell_type": "code",
   "execution_count": null,
   "metadata": {},
   "outputs": [],
   "source": []
  }
 ],
 "metadata": {
  "kernelspec": {
   "display_name": "conda_python3",
   "language": "python",
   "name": "conda_python3"
  },
  "language_info": {
   "codemirror_mode": {
    "name": "ipython",
    "version": 3
   },
   "file_extension": ".py",
   "mimetype": "text/x-python",
   "name": "python",
   "nbconvert_exporter": "python",
   "pygments_lexer": "ipython3",
   "version": "3.6.5"
  }
 },
 "nbformat": 4,
 "nbformat_minor": 4
}
