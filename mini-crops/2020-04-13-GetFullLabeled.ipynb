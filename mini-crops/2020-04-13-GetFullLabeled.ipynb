{
 "cells": [
  {
   "cell_type": "markdown",
   "metadata": {},
   "source": [
    "# Determine which files we've excluded\n",
    "\n",
    "We have 480 panos/intersections that we're working with \n",
    "\n",
    "We labeled 559 panos/intersections\n",
    "\n",
    "some may have been removed as \"highways\" \n",
    "\n",
    "Which images are fully null that we're missing?"
   ]
  },
  {
   "cell_type": "code",
   "execution_count": 1,
   "metadata": {},
   "outputs": [],
   "source": [
    "import pandas as pd\n",
    "import numpy as np\n",
    "import os\n",
    "import boto3\n",
    "import s3fs # for reading from S3FileSystem\n",
    "import json # for working with JSON files \n",
    "import mini_utils\n",
    "from datetime import datetime\n",
    "\n",
    "import matplotlib.pyplot as plt\n",
    "\n",
    "\n",
    "pd.set_option('max_colwidth', -1)"
   ]
  },
  {
   "cell_type": "markdown",
   "metadata": {},
   "source": [
    "# Get All Labeled Filenames"
   ]
  },
  {
   "cell_type": "code",
   "execution_count": 4,
   "metadata": {},
   "outputs": [
    {
     "name": "stdout",
     "output_type": "stream",
     "text": [
      "(2233, 3)\n"
     ]
    },
    {
     "data": {
      "text/html": [
       "<div>\n",
       "<style scoped>\n",
       "    .dataframe tbody tr th:only-of-type {\n",
       "        vertical-align: middle;\n",
       "    }\n",
       "\n",
       "    .dataframe tbody tr th {\n",
       "        vertical-align: top;\n",
       "    }\n",
       "\n",
       "    .dataframe thead th {\n",
       "        text-align: right;\n",
       "    }\n",
       "</style>\n",
       "<table border=\"1\" class=\"dataframe\">\n",
       "  <thead>\n",
       "    <tr style=\"text-align: right;\">\n",
       "      <th></th>\n",
       "      <th>filenames</th>\n",
       "      <th>img_id</th>\n",
       "      <th>heading</th>\n",
       "    </tr>\n",
       "  </thead>\n",
       "  <tbody>\n",
       "    <tr>\n",
       "      <th>0</th>\n",
       "      <td>10076_135.jpg</td>\n",
       "      <td>10076.0</td>\n",
       "      <td>135.0</td>\n",
       "    </tr>\n",
       "    <tr>\n",
       "      <th>1</th>\n",
       "      <td>10076_225.jpg</td>\n",
       "      <td>10076.0</td>\n",
       "      <td>225.0</td>\n",
       "    </tr>\n",
       "    <tr>\n",
       "      <th>2</th>\n",
       "      <td>10076_315.jpg</td>\n",
       "      <td>10076.0</td>\n",
       "      <td>315.0</td>\n",
       "    </tr>\n",
       "    <tr>\n",
       "      <th>3</th>\n",
       "      <td>10076_45.jpg</td>\n",
       "      <td>10076.0</td>\n",
       "      <td>45.0</td>\n",
       "    </tr>\n",
       "    <tr>\n",
       "      <th>4</th>\n",
       "      <td>1042_135.jpg</td>\n",
       "      <td>1042.0</td>\n",
       "      <td>135.0</td>\n",
       "    </tr>\n",
       "  </tbody>\n",
       "</table>\n",
       "</div>"
      ],
      "text/plain": [
       "       filenames   img_id  heading\n",
       "0  10076_135.jpg  10076.0  135.0  \n",
       "1  10076_225.jpg  10076.0  225.0  \n",
       "2  10076_315.jpg  10076.0  315.0  \n",
       "3  10076_45.jpg   10076.0  45.0   \n",
       "4  1042_135.jpg   1042.0   135.0  "
      ]
     },
     "execution_count": 4,
     "metadata": {},
     "output_type": "execute_result"
    }
   ],
   "source": [
    "df_filenames = pd.read_csv('labeled-filenames.csv')\n",
    "print(df_filenames.shape)\n",
    "df_filenames.head()"
   ]
  },
  {
   "cell_type": "markdown",
   "metadata": {},
   "source": [
    "# Get List of Files in S3"
   ]
  },
  {
   "cell_type": "code",
   "execution_count": 3,
   "metadata": {},
   "outputs": [
    {
     "data": {
      "text/plain": [
       "91457"
      ]
     },
     "execution_count": 3,
     "metadata": {},
     "output_type": "execute_result"
    }
   ],
   "source": [
    "fs = s3fs.S3FileSystem()\n",
    "\n",
    "\n",
    "s3_image_bucket = 's3://streetview-w210'\n",
    "sample_images_dir = os.path.join(s3_image_bucket, 'gsv')\n",
    "\n",
    "# See what is in the folder\n",
    "s3_images_list = fs.ls(sample_images_dir)\n",
    "# Includes json info\n",
    "len(s3_images_list)"
   ]
  },
  {
   "cell_type": "code",
   "execution_count": 10,
   "metadata": {},
   "outputs": [
    {
     "data": {
      "text/plain": [
       "['10000_135.jpg',\n",
       " '10000_225.jpg',\n",
       " '10000_315.jpg',\n",
       " '10000_45.jpg',\n",
       " '10001_135.jpg',\n",
       " '10001_225.jpg',\n",
       " '10001_315.jpg',\n",
       " '10001_45.jpg',\n",
       " '10002_135.jpg',\n",
       " '10002_225.jpg']"
      ]
     },
     "execution_count": 10,
     "metadata": {},
     "output_type": "execute_result"
    }
   ],
   "source": [
    "s3_image_filenames = [os.path.basename(filename) for filename in s3_images_list if 'jpg' in filename]\n",
    "s3_image_filenames[0:10]"
   ]
  },
  {
   "cell_type": "code",
   "execution_count": 14,
   "metadata": {},
   "outputs": [
    {
     "name": "stdout",
     "output_type": "stream",
     "text": [
      "2233\n"
     ]
    },
    {
     "data": {
      "text/plain": [
       "2036"
      ]
     },
     "execution_count": 14,
     "metadata": {},
     "output_type": "execute_result"
    }
   ],
   "source": [
    "labeled_filenames = set(df_filenames['filenames'])\n",
    "print(len(labeled_filenames))\n",
    "new_set = labeled_filenames & set(s3_image_filenames)\n",
    "len(new_set)"
   ]
  },
  {
   "cell_type": "code",
   "execution_count": 23,
   "metadata": {},
   "outputs": [
    {
     "name": "stdout",
     "output_type": "stream",
     "text": [
      "(2036, 3)\n"
     ]
    },
    {
     "data": {
      "text/html": [
       "<div>\n",
       "<style scoped>\n",
       "    .dataframe tbody tr th:only-of-type {\n",
       "        vertical-align: middle;\n",
       "    }\n",
       "\n",
       "    .dataframe tbody tr th {\n",
       "        vertical-align: top;\n",
       "    }\n",
       "\n",
       "    .dataframe thead th {\n",
       "        text-align: right;\n",
       "    }\n",
       "</style>\n",
       "<table border=\"1\" class=\"dataframe\">\n",
       "  <thead>\n",
       "    <tr style=\"text-align: right;\">\n",
       "      <th></th>\n",
       "      <th>filenames</th>\n",
       "      <th>img_id</th>\n",
       "      <th>heading</th>\n",
       "    </tr>\n",
       "  </thead>\n",
       "  <tbody>\n",
       "    <tr>\n",
       "      <th>0</th>\n",
       "      <td>10076_135.jpg</td>\n",
       "      <td>10076.0</td>\n",
       "      <td>135.0</td>\n",
       "    </tr>\n",
       "    <tr>\n",
       "      <th>1</th>\n",
       "      <td>10076_225.jpg</td>\n",
       "      <td>10076.0</td>\n",
       "      <td>225.0</td>\n",
       "    </tr>\n",
       "    <tr>\n",
       "      <th>2</th>\n",
       "      <td>10076_315.jpg</td>\n",
       "      <td>10076.0</td>\n",
       "      <td>315.0</td>\n",
       "    </tr>\n",
       "    <tr>\n",
       "      <th>3</th>\n",
       "      <td>10076_45.jpg</td>\n",
       "      <td>10076.0</td>\n",
       "      <td>45.0</td>\n",
       "    </tr>\n",
       "    <tr>\n",
       "      <th>12</th>\n",
       "      <td>12578_135.jpg</td>\n",
       "      <td>12578.0</td>\n",
       "      <td>135.0</td>\n",
       "    </tr>\n",
       "  </tbody>\n",
       "</table>\n",
       "</div>"
      ],
      "text/plain": [
       "        filenames   img_id  heading\n",
       "0   10076_135.jpg  10076.0  135.0  \n",
       "1   10076_225.jpg  10076.0  225.0  \n",
       "2   10076_315.jpg  10076.0  315.0  \n",
       "3   10076_45.jpg   10076.0  45.0   \n",
       "12  12578_135.jpg  12578.0  135.0  "
      ]
     },
     "execution_count": 23,
     "metadata": {},
     "output_type": "execute_result"
    }
   ],
   "source": [
    "df_file_filter = df_filenames.loc[df_filenames['filenames'].isin(list(new_set))]\n",
    "print(df_file_filter.shape)\n",
    "df_file_filter.head()"
   ]
  },
  {
   "cell_type": "code",
   "execution_count": 28,
   "metadata": {},
   "outputs": [
    {
     "name": "stdout",
     "output_type": "stream",
     "text": [
      "(12216, 4)\n"
     ]
    },
    {
     "data": {
      "text/html": [
       "<div>\n",
       "<style scoped>\n",
       "    .dataframe tbody tr th:only-of-type {\n",
       "        vertical-align: middle;\n",
       "    }\n",
       "\n",
       "    .dataframe tbody tr th {\n",
       "        vertical-align: top;\n",
       "    }\n",
       "\n",
       "    .dataframe thead th {\n",
       "        text-align: right;\n",
       "    }\n",
       "</style>\n",
       "<table border=\"1\" class=\"dataframe\">\n",
       "  <thead>\n",
       "    <tr style=\"text-align: right;\">\n",
       "      <th></th>\n",
       "      <th>img_id</th>\n",
       "      <th>heading</th>\n",
       "      <th>crop_num</th>\n",
       "      <th>jpg_name</th>\n",
       "    </tr>\n",
       "  </thead>\n",
       "  <tbody>\n",
       "    <tr>\n",
       "      <th>0</th>\n",
       "      <td>10076</td>\n",
       "      <td>135</td>\n",
       "      <td>A</td>\n",
       "      <td>10076_135_A.jpg</td>\n",
       "    </tr>\n",
       "    <tr>\n",
       "      <th>1</th>\n",
       "      <td>10076</td>\n",
       "      <td>225</td>\n",
       "      <td>A</td>\n",
       "      <td>10076_225_A.jpg</td>\n",
       "    </tr>\n",
       "    <tr>\n",
       "      <th>2</th>\n",
       "      <td>10076</td>\n",
       "      <td>315</td>\n",
       "      <td>A</td>\n",
       "      <td>10076_315_A.jpg</td>\n",
       "    </tr>\n",
       "    <tr>\n",
       "      <th>3</th>\n",
       "      <td>10076</td>\n",
       "      <td>45</td>\n",
       "      <td>A</td>\n",
       "      <td>10076_45_A.jpg</td>\n",
       "    </tr>\n",
       "    <tr>\n",
       "      <th>4</th>\n",
       "      <td>12578</td>\n",
       "      <td>135</td>\n",
       "      <td>A</td>\n",
       "      <td>12578_135_A.jpg</td>\n",
       "    </tr>\n",
       "  </tbody>\n",
       "</table>\n",
       "</div>"
      ],
      "text/plain": [
       "   img_id  heading crop_num         jpg_name\n",
       "0  10076   135      A        10076_135_A.jpg\n",
       "1  10076   225      A        10076_225_A.jpg\n",
       "2  10076   315      A        10076_315_A.jpg\n",
       "3  10076   45       A        10076_45_A.jpg \n",
       "4  12578   135      A        12578_135_A.jpg"
      ]
     },
     "execution_count": 28,
     "metadata": {},
     "output_type": "execute_result"
    }
   ],
   "source": [
    "img_id_list = list(df_file_filter['img_id'].unique())\n",
    "heading_list = list(df_file_filter['heading'].unique())\n",
    "crop_num_list = ['A', 'B', 'C', 'D', 'E', 'F']\n",
    "df_mesh = pd.DataFrame(np.array(np.meshgrid(img_id_list, heading_list, crop_num_list, )).T.reshape(-1,3))\n",
    "df_mesh.columns = ['img_id', 'heading', 'crop_num']\n",
    "df_mesh['img_id'] = pd.to_numeric(df_mesh['img_id'], downcast = 'integer')\n",
    "df_mesh['heading'] = pd.to_numeric(df_mesh['heading'], downcast = 'integer')\n",
    "df_mesh['jpg_name'] = df_mesh['img_id'].astype(str) + '_' + df_mesh['heading'].astype(str) + '_' + df_mesh['crop_num'].astype(str) + '.jpg'\n",
    "print(df_mesh.shape)\n",
    "df_mesh.head()"
   ]
  },
  {
   "cell_type": "markdown",
   "metadata": {},
   "source": [
    "# Load in Dataset of Labels in Images"
   ]
  },
  {
   "cell_type": "code",
   "execution_count": 68,
   "metadata": {},
   "outputs": [
    {
     "name": "stdout",
     "output_type": "stream",
     "text": [
      "(12144, 10)\n"
     ]
    },
    {
     "data": {
      "text/html": [
       "<div>\n",
       "<style scoped>\n",
       "    .dataframe tbody tr th:only-of-type {\n",
       "        vertical-align: middle;\n",
       "    }\n",
       "\n",
       "    .dataframe tbody tr th {\n",
       "        vertical-align: top;\n",
       "    }\n",
       "\n",
       "    .dataframe thead th {\n",
       "        text-align: right;\n",
       "    }\n",
       "</style>\n",
       "<table border=\"1\" class=\"dataframe\">\n",
       "  <thead>\n",
       "    <tr style=\"text-align: right;\">\n",
       "      <th></th>\n",
       "      <th>img_id</th>\n",
       "      <th>heading</th>\n",
       "      <th>crop_num</th>\n",
       "      <th>jpg_name</th>\n",
       "      <th>present_ramp</th>\n",
       "      <th>missing_ramp</th>\n",
       "      <th>total_count</th>\n",
       "      <th>includes_both</th>\n",
       "      <th>ground_truth</th>\n",
       "      <th>train/val/test</th>\n",
       "      <th>imgid_heading</th>\n",
       "    </tr>\n",
       "  </thead>\n",
       "  <tbody>\n",
       "    <tr>\n",
       "      <th>0</th>\n",
       "      <td>10007</td>\n",
       "      <td>225</td>\n",
       "      <td>C</td>\n",
       "      <td>10007_225_C.jpg</td>\n",
       "      <td>1.0</td>\n",
       "      <td>0.0</td>\n",
       "      <td>1.0</td>\n",
       "      <td>False</td>\n",
       "      <td>present</td>\n",
       "      <td>train</td>\n",
       "      <td>10007_225</td>\n",
       "    </tr>\n",
       "    <tr>\n",
       "      <th>1</th>\n",
       "      <td>10007</td>\n",
       "      <td>315</td>\n",
       "      <td>C</td>\n",
       "      <td>10007_315_C.jpg</td>\n",
       "      <td>1.0</td>\n",
       "      <td>0.0</td>\n",
       "      <td>1.0</td>\n",
       "      <td>False</td>\n",
       "      <td>present</td>\n",
       "      <td>train</td>\n",
       "      <td>10007_315</td>\n",
       "    </tr>\n",
       "    <tr>\n",
       "      <th>2</th>\n",
       "      <td>10007</td>\n",
       "      <td>45</td>\n",
       "      <td>C</td>\n",
       "      <td>10007_45_C.jpg</td>\n",
       "      <td>0.0</td>\n",
       "      <td>0.0</td>\n",
       "      <td>0.0</td>\n",
       "      <td>False</td>\n",
       "      <td>1_null</td>\n",
       "      <td>train</td>\n",
       "      <td>10007_45</td>\n",
       "    </tr>\n",
       "    <tr>\n",
       "      <th>3</th>\n",
       "      <td>10007</td>\n",
       "      <td>135</td>\n",
       "      <td>C</td>\n",
       "      <td>10007_135_C.jpg</td>\n",
       "      <td>0.0</td>\n",
       "      <td>0.0</td>\n",
       "      <td>0.0</td>\n",
       "      <td>False</td>\n",
       "      <td>1_null</td>\n",
       "      <td>train</td>\n",
       "      <td>10007_135</td>\n",
       "    </tr>\n",
       "    <tr>\n",
       "      <th>4</th>\n",
       "      <td>10013</td>\n",
       "      <td>225</td>\n",
       "      <td>C</td>\n",
       "      <td>10013_225_C.jpg</td>\n",
       "      <td>0.0</td>\n",
       "      <td>0.0</td>\n",
       "      <td>0.0</td>\n",
       "      <td>False</td>\n",
       "      <td>1_null</td>\n",
       "      <td>validation</td>\n",
       "      <td>10013_225</td>\n",
       "    </tr>\n",
       "  </tbody>\n",
       "</table>\n",
       "</div>"
      ],
      "text/plain": [
       "   img_id  heading crop_num         jpg_name  present_ramp  missing_ramp  \\\n",
       "0  10007   225      C        10007_225_C.jpg  1.0           0.0            \n",
       "1  10007   315      C        10007_315_C.jpg  1.0           0.0            \n",
       "2  10007   45       C        10007_45_C.jpg   0.0           0.0            \n",
       "3  10007   135      C        10007_135_C.jpg  0.0           0.0            \n",
       "4  10013   225      C        10013_225_C.jpg  0.0           0.0            \n",
       "\n",
       "   total_count  includes_both ground_truth train/val/test imgid_heading  \n",
       "0  1.0          False          present      train          10007_225     \n",
       "1  1.0          False          present      train          10007_315     \n",
       "2  0.0          False          1_null       train          10007_45      \n",
       "3  0.0          False          1_null       train          10007_135     \n",
       "4  0.0          False          1_null       validation     10013_225     "
      ]
     },
     "execution_count": 68,
     "metadata": {},
     "output_type": "execute_result"
    }
   ],
   "source": [
    "df_crops = pd.read_csv('imgid_groundtruth_trainvaltest.csv')\n",
    "print(df_crops.shape)\n",
    "df_crops['imgid_heading'] = df_crops['img_id'].astype(str) + '_' + df_crops['heading'].astype(str)\n",
    "df_crops.head()"
   ]
  },
  {
   "cell_type": "code",
   "execution_count": 69,
   "metadata": {},
   "outputs": [
    {
     "data": {
      "text/plain": [
       "(506,)"
      ]
     },
     "execution_count": 69,
     "metadata": {},
     "output_type": "execute_result"
    }
   ],
   "source": [
    "df_crops['img_id'].unique().shape"
   ]
  },
  {
   "cell_type": "code",
   "execution_count": 70,
   "metadata": {},
   "outputs": [
    {
     "data": {
      "text/plain": [
       "train         8544\n",
       "validation    1488\n",
       "test          1488\n",
       "NaN           624 \n",
       "Name: train/val/test, dtype: int64"
      ]
     },
     "execution_count": 70,
     "metadata": {},
     "output_type": "execute_result"
    }
   ],
   "source": [
    "df_crops['train/val/test'].value_counts(dropna = False)"
   ]
  },
  {
   "cell_type": "code",
   "execution_count": 71,
   "metadata": {},
   "outputs": [
    {
     "name": "stdout",
     "output_type": "stream",
     "text": [
      "26\n",
      "141\n",
      "15377\n",
      "15775\n",
      "16005\n",
      "317\n",
      "352\n",
      "5171\n",
      "5238\n",
      "5356\n",
      "5601\n",
      "5623\n",
      "5698\n",
      "5832\n",
      "583\n",
      "5893\n",
      "6052\n",
      "6099\n",
      "6349\n",
      "6353\n",
      "6461\n",
      "6524\n",
      "6653\n",
      "6713\n",
      "6744\n",
      "877\n",
      "944\n"
     ]
    }
   ],
   "source": [
    "df_crop_nulls = df_crops.loc[df_crops['train/val/test'].isna()]\n",
    "no_split = df_crop_nulls['img_id'].unique()\n",
    "print(len(no_split))\n",
    "for img_id in no_split:\n",
    "    print(img_id)"
   ]
  },
  {
   "cell_type": "markdown",
   "metadata": {},
   "source": [
    "# Get Full List"
   ]
  },
  {
   "cell_type": "code",
   "execution_count": 72,
   "metadata": {},
   "outputs": [
    {
     "name": "stdout",
     "output_type": "stream",
     "text": [
      "(12216, 11)\n"
     ]
    },
    {
     "data": {
      "text/html": [
       "<div>\n",
       "<style scoped>\n",
       "    .dataframe tbody tr th:only-of-type {\n",
       "        vertical-align: middle;\n",
       "    }\n",
       "\n",
       "    .dataframe tbody tr th {\n",
       "        vertical-align: top;\n",
       "    }\n",
       "\n",
       "    .dataframe thead th {\n",
       "        text-align: right;\n",
       "    }\n",
       "</style>\n",
       "<table border=\"1\" class=\"dataframe\">\n",
       "  <thead>\n",
       "    <tr style=\"text-align: right;\">\n",
       "      <th></th>\n",
       "      <th>img_id</th>\n",
       "      <th>heading</th>\n",
       "      <th>crop_num</th>\n",
       "      <th>jpg_name</th>\n",
       "      <th>present_ramp</th>\n",
       "      <th>missing_ramp</th>\n",
       "      <th>total_count</th>\n",
       "      <th>includes_both</th>\n",
       "      <th>ground_truth</th>\n",
       "      <th>train/val/test</th>\n",
       "      <th>imgid_heading</th>\n",
       "    </tr>\n",
       "  </thead>\n",
       "  <tbody>\n",
       "    <tr>\n",
       "      <th>0</th>\n",
       "      <td>10076</td>\n",
       "      <td>135</td>\n",
       "      <td>A</td>\n",
       "      <td>10076_135_A.jpg</td>\n",
       "      <td>0.0</td>\n",
       "      <td>0.0</td>\n",
       "      <td>0.0</td>\n",
       "      <td>False</td>\n",
       "      <td>1_null</td>\n",
       "      <td>train</td>\n",
       "      <td>10076_135</td>\n",
       "    </tr>\n",
       "    <tr>\n",
       "      <th>1</th>\n",
       "      <td>10076</td>\n",
       "      <td>225</td>\n",
       "      <td>A</td>\n",
       "      <td>10076_225_A.jpg</td>\n",
       "      <td>1.0</td>\n",
       "      <td>0.0</td>\n",
       "      <td>1.0</td>\n",
       "      <td>False</td>\n",
       "      <td>present</td>\n",
       "      <td>train</td>\n",
       "      <td>10076_225</td>\n",
       "    </tr>\n",
       "    <tr>\n",
       "      <th>2</th>\n",
       "      <td>10076</td>\n",
       "      <td>315</td>\n",
       "      <td>A</td>\n",
       "      <td>10076_315_A.jpg</td>\n",
       "      <td>0.0</td>\n",
       "      <td>1.0</td>\n",
       "      <td>1.0</td>\n",
       "      <td>False</td>\n",
       "      <td>only_missing</td>\n",
       "      <td>train</td>\n",
       "      <td>10076_315</td>\n",
       "    </tr>\n",
       "    <tr>\n",
       "      <th>3</th>\n",
       "      <td>10076</td>\n",
       "      <td>45</td>\n",
       "      <td>A</td>\n",
       "      <td>10076_45_A.jpg</td>\n",
       "      <td>0.0</td>\n",
       "      <td>0.0</td>\n",
       "      <td>0.0</td>\n",
       "      <td>False</td>\n",
       "      <td>1_null</td>\n",
       "      <td>train</td>\n",
       "      <td>10076_45</td>\n",
       "    </tr>\n",
       "    <tr>\n",
       "      <th>4</th>\n",
       "      <td>12578</td>\n",
       "      <td>135</td>\n",
       "      <td>A</td>\n",
       "      <td>12578_135_A.jpg</td>\n",
       "      <td>0.0</td>\n",
       "      <td>0.0</td>\n",
       "      <td>0.0</td>\n",
       "      <td>False</td>\n",
       "      <td>1_null</td>\n",
       "      <td>train</td>\n",
       "      <td>12578_135</td>\n",
       "    </tr>\n",
       "  </tbody>\n",
       "</table>\n",
       "</div>"
      ],
      "text/plain": [
       "   img_id  heading crop_num         jpg_name  present_ramp  missing_ramp  \\\n",
       "0  10076   135      A        10076_135_A.jpg  0.0           0.0            \n",
       "1  10076   225      A        10076_225_A.jpg  1.0           0.0            \n",
       "2  10076   315      A        10076_315_A.jpg  0.0           1.0            \n",
       "3  10076   45       A        10076_45_A.jpg   0.0           0.0            \n",
       "4  12578   135      A        12578_135_A.jpg  0.0           0.0            \n",
       "\n",
       "   total_count includes_both  ground_truth train/val/test imgid_heading  \n",
       "0  0.0          False         1_null        train          10076_135     \n",
       "1  1.0          False         present       train          10076_225     \n",
       "2  1.0          False         only_missing  train          10076_315     \n",
       "3  0.0          False         1_null        train          10076_45      \n",
       "4  0.0          False         1_null        train          12578_135     "
      ]
     },
     "execution_count": 72,
     "metadata": {},
     "output_type": "execute_result"
    }
   ],
   "source": [
    "merge_cols = ['jpg_name', 'img_id', 'heading', 'crop_num']\n",
    "df_combine = df_mesh.merge(df_crops, how = 'left', left_on = merge_cols, right_on = merge_cols)\n",
    "print(df_combine.shape)\n",
    "df_combine.head()"
   ]
  },
  {
   "cell_type": "code",
   "execution_count": 73,
   "metadata": {},
   "outputs": [
    {
     "data": {
      "text/plain": [
       "1_null              9007\n",
       "present             2327\n",
       "NaN                 576 \n",
       "multiple_present    168 \n",
       "only_missing        138 \n",
       "Name: ground_truth, dtype: int64"
      ]
     },
     "execution_count": 73,
     "metadata": {},
     "output_type": "execute_result"
    }
   ],
   "source": [
    "df_combine['ground_truth'].value_counts(dropna = False)"
   ]
  },
  {
   "cell_type": "code",
   "execution_count": 74,
   "metadata": {},
   "outputs": [
    {
     "data": {
      "text/plain": [
       "11640"
      ]
     },
     "execution_count": 74,
     "metadata": {},
     "output_type": "execute_result"
    }
   ],
   "source": [
    "df_combine['ground_truth'].value_counts().sum()"
   ]
  },
  {
   "cell_type": "code",
   "execution_count": 75,
   "metadata": {},
   "outputs": [
    {
     "data": {
      "text/plain": [
       "train         8256\n",
       "validation    1488\n",
       "test          1488\n",
       "NaN           984 \n",
       "Name: train/val/test, dtype: int64"
      ]
     },
     "execution_count": 75,
     "metadata": {},
     "output_type": "execute_result"
    }
   ],
   "source": [
    "df_combine['train/val/test'].value_counts(dropna = False)"
   ]
  },
  {
   "cell_type": "code",
   "execution_count": 76,
   "metadata": {},
   "outputs": [
    {
     "data": {
      "text/plain": [
       "11232"
      ]
     },
     "execution_count": 76,
     "metadata": {},
     "output_type": "execute_result"
    }
   ],
   "source": [
    "df_combine['train/val/test'].value_counts().sum()"
   ]
  },
  {
   "cell_type": "markdown",
   "metadata": {},
   "source": [
    "# Fill in Split details for fully Null Images"
   ]
  },
  {
   "cell_type": "code",
   "execution_count": 77,
   "metadata": {},
   "outputs": [
    {
     "name": "stdout",
     "output_type": "stream",
     "text": [
      "24\n",
      "14902\n",
      "17014\n",
      "17073\n",
      "11245\n",
      "11317\n",
      "11354\n",
      "14748\n",
      "14836\n",
      "18846\n",
      "92\n",
      "13564\n",
      "13699\n",
      "16628\n",
      "16695\n",
      "16759\n",
      "17366\n",
      "19251\n",
      "19256\n",
      "5293\n",
      "18042\n",
      "18324\n",
      "4719\n",
      "5606\n",
      "8447\n"
     ]
    }
   ],
   "source": [
    "df_nulls = df_combine.loc[df_combine['ground_truth'].isna()]\n",
    "no_split = df_nulls['img_id'].unique()\n",
    "print(len(no_split))\n",
    "for img_id in no_split:\n",
    "    print(img_id)"
   ]
  },
  {
   "cell_type": "code",
   "execution_count": 82,
   "metadata": {},
   "outputs": [
    {
     "name": "stdout",
     "output_type": "stream",
     "text": [
      "(41, 2)\n"
     ]
    },
    {
     "data": {
      "text/html": [
       "<div>\n",
       "<style scoped>\n",
       "    .dataframe tbody tr th:only-of-type {\n",
       "        vertical-align: middle;\n",
       "    }\n",
       "\n",
       "    .dataframe tbody tr th {\n",
       "        vertical-align: top;\n",
       "    }\n",
       "\n",
       "    .dataframe thead th {\n",
       "        text-align: right;\n",
       "    }\n",
       "</style>\n",
       "<table border=\"1\" class=\"dataframe\">\n",
       "  <thead>\n",
       "    <tr style=\"text-align: right;\">\n",
       "      <th></th>\n",
       "      <th>img_id</th>\n",
       "      <th>fillnull_train/val/test</th>\n",
       "    </tr>\n",
       "  </thead>\n",
       "  <tbody>\n",
       "    <tr>\n",
       "      <th>0</th>\n",
       "      <td>14902</td>\n",
       "      <td>validation</td>\n",
       "    </tr>\n",
       "    <tr>\n",
       "      <th>1</th>\n",
       "      <td>17014</td>\n",
       "      <td>test</td>\n",
       "    </tr>\n",
       "    <tr>\n",
       "      <th>2</th>\n",
       "      <td>17073</td>\n",
       "      <td>train</td>\n",
       "    </tr>\n",
       "    <tr>\n",
       "      <th>3</th>\n",
       "      <td>11245</td>\n",
       "      <td>train</td>\n",
       "    </tr>\n",
       "    <tr>\n",
       "      <th>4</th>\n",
       "      <td>11317</td>\n",
       "      <td>train</td>\n",
       "    </tr>\n",
       "  </tbody>\n",
       "</table>\n",
       "</div>"
      ],
      "text/plain": [
       "   img_id fillnull_train/val/test\n",
       "0  14902   validation            \n",
       "1  17014   test                  \n",
       "2  17073   train                 \n",
       "3  11245   train                 \n",
       "4  11317   train                 "
      ]
     },
     "execution_count": 82,
     "metadata": {},
     "output_type": "execute_result"
    }
   ],
   "source": [
    "df_tvt_null = pd.read_csv('only_null_imgidheading_split.csv', sep = '\\t')\n",
    "print(df_tvt_null.shape)\n",
    "df_tvt_null.head()"
   ]
  },
  {
   "cell_type": "code",
   "execution_count": 83,
   "metadata": {},
   "outputs": [
    {
     "data": {
      "text/html": [
       "<div>\n",
       "<style scoped>\n",
       "    .dataframe tbody tr th:only-of-type {\n",
       "        vertical-align: middle;\n",
       "    }\n",
       "\n",
       "    .dataframe tbody tr th {\n",
       "        vertical-align: top;\n",
       "    }\n",
       "\n",
       "    .dataframe thead th {\n",
       "        text-align: right;\n",
       "    }\n",
       "</style>\n",
       "<table border=\"1\" class=\"dataframe\">\n",
       "  <thead>\n",
       "    <tr style=\"text-align: right;\">\n",
       "      <th></th>\n",
       "      <th>img_id</th>\n",
       "      <th>heading</th>\n",
       "      <th>crop_num</th>\n",
       "      <th>jpg_name</th>\n",
       "      <th>present_ramp</th>\n",
       "      <th>missing_ramp</th>\n",
       "      <th>total_count</th>\n",
       "      <th>includes_both</th>\n",
       "      <th>ground_truth</th>\n",
       "      <th>train/val/test</th>\n",
       "      <th>imgid_heading</th>\n",
       "      <th>fillnull_train/val/test</th>\n",
       "    </tr>\n",
       "  </thead>\n",
       "  <tbody>\n",
       "    <tr>\n",
       "      <th>0</th>\n",
       "      <td>10076</td>\n",
       "      <td>135</td>\n",
       "      <td>A</td>\n",
       "      <td>10076_135_A.jpg</td>\n",
       "      <td>0.0</td>\n",
       "      <td>0.0</td>\n",
       "      <td>0.0</td>\n",
       "      <td>False</td>\n",
       "      <td>1_null</td>\n",
       "      <td>train</td>\n",
       "      <td>10076_135</td>\n",
       "      <td>NaN</td>\n",
       "    </tr>\n",
       "    <tr>\n",
       "      <th>1</th>\n",
       "      <td>10076</td>\n",
       "      <td>225</td>\n",
       "      <td>A</td>\n",
       "      <td>10076_225_A.jpg</td>\n",
       "      <td>1.0</td>\n",
       "      <td>0.0</td>\n",
       "      <td>1.0</td>\n",
       "      <td>False</td>\n",
       "      <td>present</td>\n",
       "      <td>train</td>\n",
       "      <td>10076_225</td>\n",
       "      <td>NaN</td>\n",
       "    </tr>\n",
       "    <tr>\n",
       "      <th>2</th>\n",
       "      <td>10076</td>\n",
       "      <td>315</td>\n",
       "      <td>A</td>\n",
       "      <td>10076_315_A.jpg</td>\n",
       "      <td>0.0</td>\n",
       "      <td>1.0</td>\n",
       "      <td>1.0</td>\n",
       "      <td>False</td>\n",
       "      <td>only_missing</td>\n",
       "      <td>train</td>\n",
       "      <td>10076_315</td>\n",
       "      <td>NaN</td>\n",
       "    </tr>\n",
       "    <tr>\n",
       "      <th>3</th>\n",
       "      <td>10076</td>\n",
       "      <td>45</td>\n",
       "      <td>A</td>\n",
       "      <td>10076_45_A.jpg</td>\n",
       "      <td>0.0</td>\n",
       "      <td>0.0</td>\n",
       "      <td>0.0</td>\n",
       "      <td>False</td>\n",
       "      <td>1_null</td>\n",
       "      <td>train</td>\n",
       "      <td>10076_45</td>\n",
       "      <td>NaN</td>\n",
       "    </tr>\n",
       "    <tr>\n",
       "      <th>4</th>\n",
       "      <td>10076</td>\n",
       "      <td>135</td>\n",
       "      <td>B</td>\n",
       "      <td>10076_135_B.jpg</td>\n",
       "      <td>0.0</td>\n",
       "      <td>0.0</td>\n",
       "      <td>0.0</td>\n",
       "      <td>False</td>\n",
       "      <td>1_null</td>\n",
       "      <td>train</td>\n",
       "      <td>10076_135</td>\n",
       "      <td>NaN</td>\n",
       "    </tr>\n",
       "  </tbody>\n",
       "</table>\n",
       "</div>"
      ],
      "text/plain": [
       "   img_id  heading crop_num         jpg_name  present_ramp  missing_ramp  \\\n",
       "0  10076   135      A        10076_135_A.jpg  0.0           0.0            \n",
       "1  10076   225      A        10076_225_A.jpg  1.0           0.0            \n",
       "2  10076   315      A        10076_315_A.jpg  0.0           1.0            \n",
       "3  10076   45       A        10076_45_A.jpg   0.0           0.0            \n",
       "4  10076   135      B        10076_135_B.jpg  0.0           0.0            \n",
       "\n",
       "   total_count includes_both  ground_truth train/val/test imgid_heading  \\\n",
       "0  0.0          False         1_null        train          10076_135      \n",
       "1  1.0          False         present       train          10076_225      \n",
       "2  1.0          False         only_missing  train          10076_315      \n",
       "3  0.0          False         1_null        train          10076_45       \n",
       "4  0.0          False         1_null        train          10076_135      \n",
       "\n",
       "  fillnull_train/val/test  \n",
       "0  NaN                     \n",
       "1  NaN                     \n",
       "2  NaN                     \n",
       "3  NaN                     \n",
       "4  NaN                     "
      ]
     },
     "execution_count": 83,
     "metadata": {},
     "output_type": "execute_result"
    }
   ],
   "source": [
    "df_combine_filling = df_combine.merge(df_tvt_null, how = 'outer', left_on = 'img_id', right_on = 'img_id')\n",
    "df_combine_filling.head()"
   ]
  },
  {
   "cell_type": "code",
   "execution_count": 84,
   "metadata": {},
   "outputs": [
    {
     "data": {
      "text/plain": [
       "NaN           11232\n",
       "train         648  \n",
       "validation    168  \n",
       "test          168  \n",
       "Name: fillnull_train/val/test, dtype: int64"
      ]
     },
     "execution_count": 84,
     "metadata": {},
     "output_type": "execute_result"
    }
   ],
   "source": [
    "df_combine_filling['fillnull_train/val/test'].value_counts(dropna = False)"
   ]
  },
  {
   "cell_type": "code",
   "execution_count": 85,
   "metadata": {},
   "outputs": [
    {
     "data": {
      "text/plain": [
       "(12216, 12)"
      ]
     },
     "execution_count": 85,
     "metadata": {},
     "output_type": "execute_result"
    }
   ],
   "source": [
    "df_combine_filling.shape"
   ]
  },
  {
   "cell_type": "code",
   "execution_count": 86,
   "metadata": {},
   "outputs": [
    {
     "data": {
      "text/plain": [
       "train         8904\n",
       "validation    1656\n",
       "test          1656\n",
       "Name: train/val/test, dtype: int64"
      ]
     },
     "execution_count": 86,
     "metadata": {},
     "output_type": "execute_result"
    }
   ],
   "source": [
    "df_combine_filling['train/val/test'] = df_combine_filling['train/val/test'].fillna(df_combine_filling['fillnull_train/val/test'])\n",
    "df_combine_filling['present_ramp'] = df_combine_filling['present_ramp'].fillna(0)\n",
    "df_combine_filling['missing_ramp'] = df_combine_filling['missing_ramp'].fillna(0)\n",
    "df_combine_filling['total_count'] = df_combine_filling['total_count'].fillna(0)\n",
    "df_combine_filling['includes_both'] = df_combine_filling['includes_both'].fillna(False)\n",
    "df_combine_filling['ground_truth'] = df_combine_filling['ground_truth'].fillna('1_null')\n",
    "df_combine_filling['train/val/test'].value_counts(dropna = False)"
   ]
  },
  {
   "cell_type": "code",
   "execution_count": 87,
   "metadata": {},
   "outputs": [
    {
     "data": {
      "text/html": [
       "<div>\n",
       "<style scoped>\n",
       "    .dataframe tbody tr th:only-of-type {\n",
       "        vertical-align: middle;\n",
       "    }\n",
       "\n",
       "    .dataframe tbody tr th {\n",
       "        vertical-align: top;\n",
       "    }\n",
       "\n",
       "    .dataframe thead th {\n",
       "        text-align: right;\n",
       "    }\n",
       "</style>\n",
       "<table border=\"1\" class=\"dataframe\">\n",
       "  <thead>\n",
       "    <tr style=\"text-align: right;\">\n",
       "      <th></th>\n",
       "      <th>img_id</th>\n",
       "      <th>heading</th>\n",
       "      <th>crop_num</th>\n",
       "      <th>jpg_name</th>\n",
       "      <th>present_ramp</th>\n",
       "      <th>missing_ramp</th>\n",
       "      <th>total_count</th>\n",
       "      <th>includes_both</th>\n",
       "      <th>ground_truth</th>\n",
       "      <th>train/val/test</th>\n",
       "      <th>imgid_heading</th>\n",
       "      <th>fillnull_train/val/test</th>\n",
       "    </tr>\n",
       "  </thead>\n",
       "  <tbody>\n",
       "    <tr>\n",
       "      <th>0</th>\n",
       "      <td>10076</td>\n",
       "      <td>135</td>\n",
       "      <td>A</td>\n",
       "      <td>10076_135_A.jpg</td>\n",
       "      <td>0.0</td>\n",
       "      <td>0.0</td>\n",
       "      <td>0.0</td>\n",
       "      <td>False</td>\n",
       "      <td>1_null</td>\n",
       "      <td>train</td>\n",
       "      <td>10076_135</td>\n",
       "      <td>NaN</td>\n",
       "    </tr>\n",
       "    <tr>\n",
       "      <th>1</th>\n",
       "      <td>10076</td>\n",
       "      <td>225</td>\n",
       "      <td>A</td>\n",
       "      <td>10076_225_A.jpg</td>\n",
       "      <td>1.0</td>\n",
       "      <td>0.0</td>\n",
       "      <td>1.0</td>\n",
       "      <td>False</td>\n",
       "      <td>present</td>\n",
       "      <td>train</td>\n",
       "      <td>10076_225</td>\n",
       "      <td>NaN</td>\n",
       "    </tr>\n",
       "    <tr>\n",
       "      <th>2</th>\n",
       "      <td>10076</td>\n",
       "      <td>315</td>\n",
       "      <td>A</td>\n",
       "      <td>10076_315_A.jpg</td>\n",
       "      <td>0.0</td>\n",
       "      <td>1.0</td>\n",
       "      <td>1.0</td>\n",
       "      <td>False</td>\n",
       "      <td>only_missing</td>\n",
       "      <td>train</td>\n",
       "      <td>10076_315</td>\n",
       "      <td>NaN</td>\n",
       "    </tr>\n",
       "    <tr>\n",
       "      <th>3</th>\n",
       "      <td>10076</td>\n",
       "      <td>45</td>\n",
       "      <td>A</td>\n",
       "      <td>10076_45_A.jpg</td>\n",
       "      <td>0.0</td>\n",
       "      <td>0.0</td>\n",
       "      <td>0.0</td>\n",
       "      <td>False</td>\n",
       "      <td>1_null</td>\n",
       "      <td>train</td>\n",
       "      <td>10076_45</td>\n",
       "      <td>NaN</td>\n",
       "    </tr>\n",
       "    <tr>\n",
       "      <th>4</th>\n",
       "      <td>10076</td>\n",
       "      <td>135</td>\n",
       "      <td>B</td>\n",
       "      <td>10076_135_B.jpg</td>\n",
       "      <td>0.0</td>\n",
       "      <td>0.0</td>\n",
       "      <td>0.0</td>\n",
       "      <td>False</td>\n",
       "      <td>1_null</td>\n",
       "      <td>train</td>\n",
       "      <td>10076_135</td>\n",
       "      <td>NaN</td>\n",
       "    </tr>\n",
       "  </tbody>\n",
       "</table>\n",
       "</div>"
      ],
      "text/plain": [
       "   img_id  heading crop_num         jpg_name  present_ramp  missing_ramp  \\\n",
       "0  10076   135      A        10076_135_A.jpg  0.0           0.0            \n",
       "1  10076   225      A        10076_225_A.jpg  1.0           0.0            \n",
       "2  10076   315      A        10076_315_A.jpg  0.0           1.0            \n",
       "3  10076   45       A        10076_45_A.jpg   0.0           0.0            \n",
       "4  10076   135      B        10076_135_B.jpg  0.0           0.0            \n",
       "\n",
       "   total_count  includes_both  ground_truth train/val/test imgid_heading  \\\n",
       "0  0.0          False          1_null        train          10076_135      \n",
       "1  1.0          False          present       train          10076_225      \n",
       "2  1.0          False          only_missing  train          10076_315      \n",
       "3  0.0          False          1_null        train          10076_45       \n",
       "4  0.0          False          1_null        train          10076_135      \n",
       "\n",
       "  fillnull_train/val/test  \n",
       "0  NaN                     \n",
       "1  NaN                     \n",
       "2  NaN                     \n",
       "3  NaN                     \n",
       "4  NaN                     "
      ]
     },
     "execution_count": 87,
     "metadata": {},
     "output_type": "execute_result"
    }
   ],
   "source": [
    "df_combine_filling.head()"
   ]
  },
  {
   "cell_type": "code",
   "execution_count": 88,
   "metadata": {},
   "outputs": [
    {
     "data": {
      "text/plain": [
       "1_null              9583\n",
       "present             2327\n",
       "multiple_present    168 \n",
       "only_missing        138 \n",
       "Name: ground_truth, dtype: int64"
      ]
     },
     "execution_count": 88,
     "metadata": {},
     "output_type": "execute_result"
    }
   ],
   "source": [
    "df_combine_filling['ground_truth'].value_counts()"
   ]
  },
  {
   "cell_type": "code",
   "execution_count": 89,
   "metadata": {},
   "outputs": [
    {
     "name": "stdout",
     "output_type": "stream",
     "text": [
      "(12216, 10)\n"
     ]
    },
    {
     "data": {
      "text/html": [
       "<div>\n",
       "<style scoped>\n",
       "    .dataframe tbody tr th:only-of-type {\n",
       "        vertical-align: middle;\n",
       "    }\n",
       "\n",
       "    .dataframe tbody tr th {\n",
       "        vertical-align: top;\n",
       "    }\n",
       "\n",
       "    .dataframe thead th {\n",
       "        text-align: right;\n",
       "    }\n",
       "</style>\n",
       "<table border=\"1\" class=\"dataframe\">\n",
       "  <thead>\n",
       "    <tr style=\"text-align: right;\">\n",
       "      <th></th>\n",
       "      <th>img_id</th>\n",
       "      <th>heading</th>\n",
       "      <th>crop_num</th>\n",
       "      <th>jpg_name</th>\n",
       "      <th>present_ramp</th>\n",
       "      <th>missing_ramp</th>\n",
       "      <th>total_count</th>\n",
       "      <th>includes_both</th>\n",
       "      <th>ground_truth</th>\n",
       "      <th>train/val/test</th>\n",
       "    </tr>\n",
       "  </thead>\n",
       "  <tbody>\n",
       "    <tr>\n",
       "      <th>0</th>\n",
       "      <td>10076</td>\n",
       "      <td>135</td>\n",
       "      <td>A</td>\n",
       "      <td>10076_135_A.jpg</td>\n",
       "      <td>0</td>\n",
       "      <td>0</td>\n",
       "      <td>0</td>\n",
       "      <td>False</td>\n",
       "      <td>1_null</td>\n",
       "      <td>train</td>\n",
       "    </tr>\n",
       "    <tr>\n",
       "      <th>1</th>\n",
       "      <td>10076</td>\n",
       "      <td>225</td>\n",
       "      <td>A</td>\n",
       "      <td>10076_225_A.jpg</td>\n",
       "      <td>1</td>\n",
       "      <td>0</td>\n",
       "      <td>1</td>\n",
       "      <td>False</td>\n",
       "      <td>present</td>\n",
       "      <td>train</td>\n",
       "    </tr>\n",
       "    <tr>\n",
       "      <th>2</th>\n",
       "      <td>10076</td>\n",
       "      <td>315</td>\n",
       "      <td>A</td>\n",
       "      <td>10076_315_A.jpg</td>\n",
       "      <td>0</td>\n",
       "      <td>1</td>\n",
       "      <td>1</td>\n",
       "      <td>False</td>\n",
       "      <td>only_missing</td>\n",
       "      <td>train</td>\n",
       "    </tr>\n",
       "    <tr>\n",
       "      <th>3</th>\n",
       "      <td>10076</td>\n",
       "      <td>45</td>\n",
       "      <td>A</td>\n",
       "      <td>10076_45_A.jpg</td>\n",
       "      <td>0</td>\n",
       "      <td>0</td>\n",
       "      <td>0</td>\n",
       "      <td>False</td>\n",
       "      <td>1_null</td>\n",
       "      <td>train</td>\n",
       "    </tr>\n",
       "    <tr>\n",
       "      <th>4</th>\n",
       "      <td>10076</td>\n",
       "      <td>135</td>\n",
       "      <td>B</td>\n",
       "      <td>10076_135_B.jpg</td>\n",
       "      <td>0</td>\n",
       "      <td>0</td>\n",
       "      <td>0</td>\n",
       "      <td>False</td>\n",
       "      <td>1_null</td>\n",
       "      <td>train</td>\n",
       "    </tr>\n",
       "  </tbody>\n",
       "</table>\n",
       "</div>"
      ],
      "text/plain": [
       "   img_id  heading crop_num         jpg_name  present_ramp  missing_ramp  \\\n",
       "0  10076   135      A        10076_135_A.jpg  0             0              \n",
       "1  10076   225      A        10076_225_A.jpg  1             0              \n",
       "2  10076   315      A        10076_315_A.jpg  0             1              \n",
       "3  10076   45       A        10076_45_A.jpg   0             0              \n",
       "4  10076   135      B        10076_135_B.jpg  0             0              \n",
       "\n",
       "   total_count  includes_both  ground_truth train/val/test  \n",
       "0  0            False          1_null        train          \n",
       "1  1            False          present       train          \n",
       "2  1            False          only_missing  train          \n",
       "3  0            False          1_null        train          \n",
       "4  0            False          1_null        train          "
      ]
     },
     "execution_count": 89,
     "metadata": {},
     "output_type": "execute_result"
    }
   ],
   "source": [
    "final_columns = ['img_id', 'heading', 'crop_num', 'jpg_name', 'present_ramp', 'missing_ramp', 'total_count', 'includes_both', 'ground_truth', 'train/val/test']\n",
    "df_final = df_combine_filling[final_columns].dropna(subset = ['train/val/test']).copy()\n",
    "df_final['present_ramp'] = pd.to_numeric(df_final['present_ramp'], downcast = 'integer')\n",
    "df_final['missing_ramp'] = pd.to_numeric(df_final['missing_ramp'], downcast = 'integer')\n",
    "df_final['total_count'] = pd.to_numeric(df_final['total_count'], downcast = 'integer')\n",
    "\n",
    "print(df_final.shape)\n",
    "df_final.head()"
   ]
  },
  {
   "cell_type": "code",
   "execution_count": 90,
   "metadata": {},
   "outputs": [
    {
     "data": {
      "text/plain": [
       "train/val/test  ground_truth    \n",
       "test            1_null              1311\n",
       "                multiple_present    21  \n",
       "                only_missing        31  \n",
       "                present             293 \n",
       "train           1_null              6961\n",
       "                multiple_present    133 \n",
       "                only_missing        78  \n",
       "                present             1732\n",
       "validation      1_null              1311\n",
       "                multiple_present    14  \n",
       "                only_missing        29  \n",
       "                present             302 \n",
       "Name: jpg_name, dtype: int64"
      ]
     },
     "execution_count": 90,
     "metadata": {},
     "output_type": "execute_result"
    }
   ],
   "source": [
    "df_final.groupby(['train/val/test', 'ground_truth'])['jpg_name'].count()"
   ]
  },
  {
   "cell_type": "code",
   "execution_count": 91,
   "metadata": {},
   "outputs": [
    {
     "data": {
      "text/plain": [
       "(509,)"
      ]
     },
     "execution_count": 91,
     "metadata": {},
     "output_type": "execute_result"
    }
   ],
   "source": [
    "df_final['img_id'].unique().shape"
   ]
  },
  {
   "cell_type": "code",
   "execution_count": 92,
   "metadata": {},
   "outputs": [],
   "source": [
    "df_final.to_csv('20200413-groundtruth-images-split.csv', index = False)"
   ]
  },
  {
   "cell_type": "code",
   "execution_count": null,
   "metadata": {},
   "outputs": [],
   "source": []
  }
 ],
 "metadata": {
  "kernelspec": {
   "display_name": "conda_python3",
   "language": "python",
   "name": "conda_python3"
  },
  "language_info": {
   "codemirror_mode": {
    "name": "ipython",
    "version": 3
   },
   "file_extension": ".py",
   "mimetype": "text/x-python",
   "name": "python",
   "nbconvert_exporter": "python",
   "pygments_lexer": "ipython3",
   "version": "3.6.5"
  }
 },
 "nbformat": 4,
 "nbformat_minor": 4
}
